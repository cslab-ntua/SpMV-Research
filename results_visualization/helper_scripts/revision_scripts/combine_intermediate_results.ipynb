{
 "cells": [
  {
   "cell_type": "code",
   "execution_count": 2,
   "id": "63f3ce4f",
   "metadata": {},
   "outputs": [],
   "source": [
    "import os\n",
    "\n",
    "def do_it(folder_id, impl, impl2, features, prefix, is_gpu=False):\n",
    "    if(is_gpu==False):\n",
    "        filename= prefix+'/'+'synthetic'+str(folder_id)+'/'+impl+'_d.csv'\n",
    "    else:\n",
    "        filename= prefix+'/'+'synthetic'+str(folder_id)+'/'+impl+'.csv'\n",
    "    if(os.path.exists(filename)):\n",
    "        with open(filename) as f:\n",
    "            results = f.readlines()\n",
    "\n",
    "        if(is_gpu==False):\n",
    "            filename_new = prefix+'/'+'synthetic_new'+str(folder_id)+'/'+impl+'_d.csv'\n",
    "        else:\n",
    "            filename_new = prefix+'/'+'synthetic_new'+str(folder_id)+'/'+impl+'.csv'\n",
    "        f = open(filename_new,'w')\n",
    "        if(len(features) == len(results)):\n",
    "            for i,j in zip(features, results):\n",
    "                j_stripped = j.split(','+impl2)[1]\n",
    "                new_line = i.strip('\\n') + ',' + impl2 + j_stripped\n",
    "                f.write(new_line)\n",
    "        else:\n",
    "            print(filename, 'has different length than features', '( features =', len(features) , 'vs results =', len(results), ')')\n",
    "            print('working on it ...')\n",
    "            cnt = 0\n",
    "            for j in results:\n",
    "                j_spl = j.split(',')\n",
    "                j_spl_new = ','.join(j_spl[0:5])\n",
    "                \n",
    "                i = features[cnt]\n",
    "                i_spl = i.split(',')\n",
    "                i_spl_new = ','.join(i_spl[0:5])\n",
    "                \n",
    "                while(i_spl_new != j_spl_new):\n",
    "                    cnt+=1\n",
    "                    i = features[cnt]\n",
    "                    i_spl = i.split(',')\n",
    "                    i_spl_new = ','.join(i_spl[0:5])\n",
    "\n",
    "                if(i_spl_new == j_spl_new):\n",
    "                    j_stripped = j.split(','+impl2)[1]\n",
    "                    new_line = i.strip('\\n') + ',' + impl2 + j_stripped\n",
    "                    f.write(new_line)\n",
    "                cnt+=1\n",
    "        f.close()\n",
    "        # print('\\t',filename_new, 'done!')\n",
    "    else:\n",
    "        print(filename, 'does not exist')\n"
   ]
  },
  {
   "cell_type": "code",
   "execution_count": 3,
   "id": "6f3d80be",
   "metadata": {},
   "outputs": [],
   "source": [
    "def concat_it(folder_ids, impl_list, impl_list2, prefix, is_gpu=False):\n",
    "    if(is_gpu==False):\n",
    "        filenames=[ prefix+'/'+'synthetic_new'+str(folder_id)+'/'+impl+'_d.csv' for folder_id in folder_ids for impl in impl_list]\n",
    "    else:\n",
    "        filenames=[ prefix+'/'+'synthetic_new'+str(folder_id)+'/'+impl+'.csv' for folder_id in folder_ids for impl in impl_list]\n",
    "    filenames = [filename if(os.path.exists(filename)) else '' for filename in filenames]\n",
    "    filenames = [i for i in filenames if i]\n",
    "    \n",
    "    extended_results = prefix + 'results.csv'\n",
    "    with open(extended_results, 'w') as outfile:\n",
    "        for fname in filenames:\n",
    "            with open(fname) as infile:\n",
    "                for line in infile:\n",
    "                    outfile.write(line)"
   ]
  },
  {
   "cell_type": "code",
   "execution_count": 4,
   "id": "a2a5277a",
   "metadata": {},
   "outputs": [],
   "source": [
    "features_filename = 'features.txt'\n",
    "with open(features_filename) as f:\n",
    "    features = f.readlines()\n",
    "\n",
    "features_small = []\n",
    "fw = open('features_small.csv','w')\n",
    "for i in features:\n",
    "    i_spl = i.split(',')\n",
    "    new_i = \",\".join(i_spl[0:12]+i_spl[14:16]+i_spl[18:20]+i_spl[22:24]+i_spl[26:28]+i_spl[30:32]+[i_spl[35]])\n",
    "    features_small.append(new_i)\n",
    "    fw.write(new_i+'\\n')\n",
    "fw.close()"
   ]
  },
  {
   "cell_type": "markdown",
   "id": "0b0522ed",
   "metadata": {},
   "source": [
    "---"
   ]
  },
  {
   "cell_type": "code",
   "execution_count": null,
   "id": "c8e5a017",
   "metadata": {},
   "outputs": [],
   "source": [
    "# with open('features_friends_gold2.csv') as f:\n",
    "#     features_small2 = f.readlines()\n",
    "# for i in range(len(features_small2)):\n",
    "#     features_small2[i] = features_small2[i].strip('\\n')\n",
    "# # print(features_small[0])\n",
    "# # print(features_small2[0])\n",
    "\n",
    "# prefix = 'intel-gold2'\n",
    "\n",
    "# impl_list         = ['csr5', 'csr_naive',     'merge', 'mkl_ie', 'sparsex', 'sell_C_s' ]\n",
    "# impl_list2        = ['CSR5', 'Naive_CSR_CPU', 'MERGE', 'MKL_IE', 'SparseX', 'SELL-32-1']\n",
    "# folder_ids        = [1,2,3,4,5]\n",
    "\n",
    "# for folder_id in folder_ids:\n",
    "#     for impl,impl2 in zip(impl_list, impl_list2):\n",
    "#         do_it(folder_id, impl, impl2, features_small2, prefix)\n",
    "\n",
    "# concat_it(folder_ids, impl_list, impl_list2, prefix)"
   ]
  },
  {
   "cell_type": "markdown",
   "id": "42f272b4",
   "metadata": {},
   "source": [
    "---"
   ]
  },
  {
   "cell_type": "markdown",
   "id": "54ed9fae",
   "metadata": {},
   "source": [
    "---"
   ]
  },
  {
   "cell_type": "code",
   "execution_count": null,
   "id": "bb95668d",
   "metadata": {},
   "outputs": [],
   "source": [
    "prefix = 'amd_epyc1'\n",
    "\n",
    "impl_list         = ['aocl_optmv', 'csr5', 'csr_naive',     'merge', 'mkl_ie', 'sparsex', 'sell_C_s' ]\n",
    "impl_list2        = ['AOCL_OPTMV', 'CSR5', 'Naive_CSR_CPU', 'MERGE', 'MKL_IE', 'SparseX', 'SELL-32-1']\n",
    "folder_ids        = [1,2,3,4,5]\n",
    "\n",
    "for folder_id in folder_ids:\n",
    "    for impl,impl2 in zip(impl_list, impl_list2):\n",
    "        do_it(folder_id, impl, impl2, features, prefix)\n",
    "\n",
    "concat_it(folder_ids, impl_list, impl_list2, prefix)"
   ]
  },
  {
   "cell_type": "code",
   "execution_count": null,
   "id": "cfb4f093",
   "metadata": {},
   "outputs": [],
   "source": [
    "with open('features_validation_friends2.csv') as f:\n",
    "    features_small2 = f.readlines()\n",
    "for i in range(len(features_small2)):\n",
    "    features_small2[i] = features_small2[i].strip('\\n')\n",
    "# print(features_small[0])\n",
    "# print(features_small2[0])\n",
    "\n",
    "prefix = 'power9'\n",
    "\n",
    "impl_list         = ['xlc_csr_naive', 'xlc_csr',      'merge', 'sparsex']\n",
    "impl_list2        = ['Naive_CSR_CPU', 'Custom_CSR_B', 'MERGE', 'SparseX']\n",
    "folder_ids        = [1]\n",
    "\n",
    "for folder_id in folder_ids:\n",
    "    for impl,impl2 in zip(impl_list, impl_list2):\n",
    "        do_it(folder_id, impl, impl2, features_small2, prefix)\n",
    "\n",
    "concat_it(folder_ids, impl_list, impl_list2, prefix)"
   ]
  },
  {
   "cell_type": "code",
   "execution_count": null,
   "id": "aa63b3f2",
   "metadata": {},
   "outputs": [],
   "source": [
    "def convert_it(file_old):\n",
    "    file_good = file_old.replace('.csv', '_GOOD.csv')\n",
    "    file_new = file_old.replace('.csv', '_NEW.csv')\n",
    "    fw = open(file_new,'w')\n",
    "    with open(file_old) as f1:\n",
    "        with open(file_good) as f2:\n",
    "            for line1,line2 in zip(f1,f2):\n",
    "                line1_spl = line1.split(',')\n",
    "                line2_spl = line2.split(',')\n",
    "                time = line1_spl[24]\n",
    "                watt = line2_spl[26]\n",
    "                line1_spl[26] = line2_spl[26]\n",
    "                line1_spl[27] = str(round(float(time)*float(watt),5))+'\\n'\n",
    "                line_new = \",\".join(line1_spl)\n",
    "                fw.write(line_new)\n",
    "    fw.close()\n",
    "\n",
    "# convert_it('amd_epyc1/synthetic1/mkl_ie_d.csv')\n",
    "# convert_it('amd_epyc1/synthetic1/csr5_d.csv')\n",
    "# convert_it('amd_epyc1/synthetic1/merge_d.csv')\n",
    "# convert_it('amd_epyc1/synthetic1/aocl_optmv_d.csv')\n",
    "# convert_it('amd_epyc1/syntbhetic1/csr_naive_d.csv')\n",
    "# convert_it('amd_epyc1/synthetic1/sparsex_d.csv')\n",
    "# convert_it('amd_epyc1/synthetic1/sell_C_s_d.csv')"
   ]
  },
  {
   "cell_type": "markdown",
   "id": "c884989b",
   "metadata": {},
   "source": [
    "---"
   ]
  },
  {
   "cell_type": "code",
   "execution_count": null,
   "id": "4d715394",
   "metadata": {},
   "outputs": [],
   "source": [
    "with open('features_small2.csv') as f:\n",
    "    features_small2 = f.readlines()\n",
    "for i in range(len(features_small2)):\n",
    "    features_small2[i] = features_small2[i].strip('\\n')\n",
    "# print(features_small[0])\n",
    "# print(features_small2[0])\n",
    "\n",
    "prefix = 'amd_hawk'\n",
    "\n",
    "impl_list         = ['csr_naive',     'csr5',  'mkl_ie']\n",
    "impl_list2        = ['Naive_CSR_CPU', 'CSR5', 'MKL_IE']\n",
    "folder_ids        = [1]\n",
    "\n",
    "for folder_id in folder_ids:\n",
    "    for impl,impl2 in zip(impl_list, impl_list2):\n",
    "        do_it(folder_id, impl, impl2, features_small2, prefix)\n",
    "\n",
    "concat_it(folder_ids, impl_list, impl_list2, prefix)"
   ]
  },
  {
   "cell_type": "code",
   "execution_count": null,
   "id": "84bfb1b7",
   "metadata": {},
   "outputs": [],
   "source": [
    "prefix = 'amd_epyc1_old'\n",
    "\n",
    "impl_list         = ['aocl_optmv', 'csr5', 'csr_naive',     'csr_x86_vector',    'csr_x86_vector_perfect_nnz_balance', 'merge', 'mkl_ie', 'sparsex', 'sell_C_s' ]\n",
    "impl_list2        = ['AOCL_OPTMV', 'CSR5', 'Naive_CSR_CPU', 'Custom_CSR_BV_x86', 'Custom_CSR_PBV_x86',                 'MERGE', 'MKL_IE', 'SparseX', 'SELL-32-1']\n",
    "folder_ids        = [1,2,3,4,5]\n",
    "\n",
    "for folder_id in folder_ids:\n",
    "    for impl,impl2 in zip(impl_list, impl_list2):\n",
    "        # do_it(folder_id, impl, impl2, features, prefix)\n",
    "        do_it(folder_id, impl, impl2, features_small, prefix)\n",
    "\n",
    "concat_it(folder_ids, impl_list, impl_list2, prefix)"
   ]
  },
  {
   "cell_type": "code",
   "execution_count": null,
   "id": "f0492624",
   "metadata": {},
   "outputs": [],
   "source": [
    "prefix = 'arm'\n",
    "\n",
    "impl_list         = ['armpl', 'csr_naive',     'merge', 'sparsex', 'sell_C_s' ]\n",
    "impl_list2        = ['ARMPL', 'Naive_CSR_CPU', 'MERGE', 'SparseX', 'SELL-32-1']\n",
    "folder_ids        = [1,2,3,4,5]\n",
    "\n",
    "for folder_id in folder_ids:\n",
    "    for impl,impl2 in zip(impl_list, impl_list2):\n",
    "        # do_it(folder_id, impl, impl2, features, prefix)\n",
    "        do_it(folder_id, impl, impl2, features_small, prefix)\n",
    "\n",
    "concat_it(folder_ids, impl_list, impl_list2, prefix)"
   ]
  },
  {
   "cell_type": "code",
   "execution_count": 7,
   "id": "34c4f1f2",
   "metadata": {},
   "outputs": [
    {
     "name": "stdout",
     "output_type": "stream",
     "text": [
      "epyc5-A100/synthetic1/coo_d.csv does not exist\n",
      "epyc5-A100/synthetic1/csr_d.csv does not exist\n",
      "epyc5-A100/synthetic1/merge_d.csv does not exist\n",
      "epyc5-A100/synthetic1/sell_d.csv does not exist\n",
      "epyc5-A100/synthetic2/coo_d.csv does not exist\n",
      "epyc5-A100/synthetic2/csr_d.csv does not exist\n",
      "epyc5-A100/synthetic2/merge_d.csv does not exist\n",
      "epyc5-A100/synthetic2/sell_d.csv does not exist\n",
      "epyc5-A100/synthetic3/coo_d.csv does not exist\n",
      "epyc5-A100/synthetic3/csr_d.csv does not exist\n",
      "epyc5-A100/synthetic3/merge_d.csv does not exist\n",
      "epyc5-A100/synthetic3/sell_d.csv does not exist\n",
      "epyc5-A100/synthetic4/coo_d.csv does not exist\n",
      "epyc5-A100/synthetic4/csr_d.csv does not exist\n",
      "epyc5-A100/synthetic4/merge_d.csv does not exist\n",
      "epyc5-A100/synthetic4/sell_d.csv does not exist\n",
      "epyc5-A100/synthetic5/coo_d.csv does not exist\n",
      "epyc5-A100/synthetic5/csr_d.csv does not exist\n",
      "epyc5-A100/synthetic5/merge_d.csv does not exist\n",
      "epyc5-A100/synthetic5/sell_d.csv does not exist\n"
     ]
    }
   ],
   "source": [
    "prefix = 'epyc5-A100'\n",
    "\n",
    "impl_list         = ['coo', 'csr',     'merge', 'sell']\n",
    "impl_list2        = ['cuSPARSE_coo11', 'cuSPARSE_csr11', 'Merge_11', 'SELL-32-1']\n",
    "folder_ids        = [1,2,3,4,5]\n",
    "\n",
    "for folder_id in folder_ids:\n",
    "    for impl,impl2 in zip(impl_list, impl_list2):\n",
    "        do_it(folder_id, impl, impl2, features, prefix)\n",
    "        # do_it(folder_id, impl, impl2, features_small, prefix, is_gpu=True)\n",
    "\n",
    "concat_it(folder_ids, impl_list, impl_list2, prefix, is_gpu=True)"
   ]
  },
  {
   "cell_type": "code",
   "execution_count": null,
   "id": "9d88360c",
   "metadata": {},
   "outputs": [],
   "source": []
  }
 ],
 "metadata": {
  "kernelspec": {
   "display_name": "Python 3 (ipykernel)",
   "language": "python",
   "name": "python3"
  },
  "language_info": {
   "codemirror_mode": {
    "name": "ipython",
    "version": 3
   },
   "file_extension": ".py",
   "mimetype": "text/x-python",
   "name": "python",
   "nbconvert_exporter": "python",
   "pygments_lexer": "ipython3",
   "version": "3.8.10"
  }
 },
 "nbformat": 4,
 "nbformat_minor": 5
}
