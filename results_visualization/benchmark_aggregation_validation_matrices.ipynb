{
 "cells": [
  {
   "cell_type": "code",
   "execution_count": 1,
   "id": "41f47670",
   "metadata": {},
   "outputs": [],
   "source": [
    "import numpy as np\n",
    "import pandas as pd\n",
    "pd.options.mode.chained_assignment = None  # default='warn'\n",
    "\n",
    "header_names = ['matrix_name','distribution','placement','seed',\n",
    "                'nr_rows','nr_cols','nr_nzeros','density','mem_footprint','mem_range',\n",
    "                'avg_nnz_per_row','std_nnz_per_row',\n",
    "                'avg_bw','std_bw','avg_bw_scaled','std_bw_scaled',\n",
    "                'avg_sc','std_sc','avg_sc_scaled','std_sc_scaled',\n",
    "                'skew','avg_num_neighbours','cross_row_similarity',\n",
    "                'format_name','time','gflops','W_avg','J_estimated', 'System', 'Arch']\n",
    "\n",
    "def find_class(mem_footprint):\n",
    "    low_mb_list =   [4,8, 16,32,64, 128,256,512, 1024,2048, 4096] # removed largest mem range (2048-4096)\n",
    "    high_mb_list =  [8,16,32,64,128,256,512,1024,2048,4096, 8192]\n",
    "    for i in range(len(low_mb_list)):\n",
    "        if(mem_footprint>=low_mb_list[i] and mem_footprint<=high_mb_list[i]):\n",
    "            pos = i\n",
    "            mem_range = '['+str(low_mb_list[pos])+'-'+str(high_mb_list[pos])+']'\n",
    "            return mem_range\n",
    "    return str(-1)"
   ]
  },
  {
   "cell_type": "markdown",
   "id": "93ff4a4f",
   "metadata": {},
   "source": [
    "# first of all, we will generate some 'modified_features' csv files, that take as input the existing validation matrix benchmark results"
   ]
  },
  {
   "cell_type": "markdown",
   "id": "b4d9200f",
   "metadata": {},
   "source": [
    "# GPU data"
   ]
  },
  {
   "cell_type": "code",
   "execution_count": 2,
   "id": "cb97de01",
   "metadata": {},
   "outputs": [],
   "source": [
    "def modify_footprint(v):\n",
    "    if(v['format_name']=='CSR5_9'):\n",
    "        return (v['mem_footprint'] - 4*(v['nr_rows']+v['nr_cols']))/(1024*1024.0)\n",
    "    else:\n",
    "        return v['mem_footprint']\n",
    "\n",
    "def create_complete_gpu_csv(gpu_dataframe, system, arch):\n",
    "    gpu_dataframe['matrix_name'] = gpu_dataframe['matrix_name'].apply(lambda x: x.split('/')[-1].split('.')[0])\n",
    "    vm_features = pd.read_csv('../benchmark_results/validation_matrices_features.csv', sep='\\t')\n",
    "    matrix_names = list(vm_features['matrix']) # same as : list(set(inputdata_GPU['matrix_name']))\n",
    "\n",
    "    inputvaldata_GPU = pd.DataFrame(columns=header_names)\n",
    "\n",
    "    for matrix_name in matrix_names:\n",
    "        for index, curr in gpu_dataframe[gpu_dataframe['matrix_name'] == matrix_name].iterrows():\n",
    "            matrix_name = matrix_name\n",
    "            distribution = 'unused'\n",
    "            placement = 'unused'\n",
    "            seed = curr['seed']\n",
    "            m = curr['nr_rows']\n",
    "            n = curr['nr_cols']\n",
    "            nz = curr['nr_nzeros']\n",
    "            density = nz/(m*n)*100.0\n",
    "            mem_footprint = curr['mem_footprint']\n",
    "            mem_range = find_class((nz*(64+32)+32*(m+1))/(8*1024*1024))\n",
    "            avg_nnz_per_row = list(vm_features[vm_features['matrix']==matrix_name]['nnz-r-avg'])[0]\n",
    "            std_nnz_per_row = list(vm_features[vm_features['matrix']==matrix_name]['nnz-r-std'])[0]\n",
    "            avg_bw = list(vm_features[vm_features['matrix']==matrix_name]['bw-scaled-avg'])[0]*n\n",
    "            std_bw = list(vm_features[vm_features['matrix']==matrix_name]['bw-scaled-std'])[0]*n\n",
    "            avg_bw_scaled = avg_bw/n\n",
    "            std_bw_scaled = std_bw/n\n",
    "            # avg_sc = list(vm_features[vm_features['matrix']==matrix_name]['sc-avg'])[0]\n",
    "            # std_sc = list(vm_features[vm_features['matrix']==matrix_name]['sc-std'])[0]\n",
    "            # avg_sc_scaled = avg_sc*n\n",
    "            # std_sc_scaled = std_sc*n\n",
    "            # skew = (list(vm_features[vm_features['matrix']==matrix_name]['nnz-r-max'])[0] - avg_nnz_per_row)/avg_nnz_per_row\n",
    "            skew = list(vm_features[vm_features['matrix']==matrix_name]['skew_coeff'])[0]\n",
    "            avg_num_neighbours = list(vm_features[vm_features['matrix']==matrix_name]['num-neigh-avg'])[0]\n",
    "            cross_row_similarity = list(vm_features[vm_features['matrix']==matrix_name]['cross_row_sim-avg'])[0]\n",
    "\n",
    "            format_name = curr['format_name']\n",
    "            time = curr['time']\n",
    "            gflops = curr['gflops']\n",
    "            W_avg = curr['W_avg']\n",
    "            J_estimated = curr['J_estimated']\n",
    "\n",
    "            new_row = {'matrix_name' : matrix_name, 'distribution' : distribution, 'placement' : placement, 'seed' : seed, \n",
    "                       'nr_rows' : m, 'nr_cols' : n, 'nr_nzeros' : nz, 'density' : density, 'mem_footprint' : mem_footprint, 'mem_range' : mem_range, \n",
    "                       'avg_nnz_per_row' : avg_nnz_per_row, 'std_nnz_per_row' : std_nnz_per_row, \n",
    "                       'avg_bw' : avg_bw, 'std_bw' : std_bw, 'avg_bw_scaled' : avg_bw_scaled, 'std_bw_scaled' : std_bw_scaled,\n",
    "                       'skew' : skew, 'avg_num_neighbours' : avg_num_neighbours, 'cross_row_similarity' : cross_row_similarity,\n",
    "                       'format_name' : format_name, 'time' : time, 'gflops' : gflops, 'W_avg' : W_avg, 'J_estimated' : J_estimated}\n",
    "            inputvaldata_GPU = pd.concat([inputvaldata_GPU, pd.DataFrame([new_row])], ignore_index=True)\n",
    "    inputvaldata_GPU['System'] = system\n",
    "    inputvaldata_GPU['Arch'] = arch\n",
    "    if(system=='Tesla-V100'):\n",
    "        inputvaldata_GPU['mem_footprint'] = inputvaldata_GPU.apply(lambda x: modify_footprint(x), axis=1)\n",
    "    return inputvaldata_GPU"
   ]
  },
  {
   "cell_type": "markdown",
   "id": "7ae8bf91",
   "metadata": {},
   "source": [
    "# read P100 data"
   ]
  },
  {
   "cell_type": "code",
   "execution_count": 3,
   "id": "28c71da3",
   "metadata": {},
   "outputs": [
    {
     "name": "stderr",
     "output_type": "stream",
     "text": [
      "/tmp/ipykernel_162089/2941655464.py:53: FutureWarning: The behavior of DataFrame concatenation with empty or all-NA entries is deprecated. In a future version, this will no longer exclude empty or all-NA columns when determining the result dtypes. To retain the old behavior, exclude the relevant entries before the concat operation.\n",
      "  inputvaldata_GPU = pd.concat([inputvaldata_GPU, pd.DataFrame([new_row])], ignore_index=True)\n"
     ]
    }
   ],
   "source": [
    "arch, system = 'GPU', 'NVIDIA-P100'\n",
    "\n",
    "fname = 'vulcan-P100/vulcan-P100_dtype-D_run_validation_matrices.csv' \n",
    "# it has different data layout @@@ panastas @@@\n",
    "gpu_data = pd.read_csv('../benchmark_results/%s' % fname, names = ['matrix_name','distribution','placement','seed',\n",
    "                                                            'nr_rows','nr_cols','nr_nzeros','density','mem_footprint','mem_range',\n",
    "                                                            'avg_nnz_per_row','std_nnz_per_row',\n",
    "                                                            'avg_bw','std_bw','avg_sc','std_sc',\n",
    "                                                            '1','2','3','4','5','6','7',\n",
    "                                                            'format_name','time','gflops','W_avg', 'J_estimated'])\n",
    "\n",
    "gpu_data = create_complete_gpu_csv(gpu_data, system, arch)\n",
    "fname2 = fname.replace('.csv', '_modified_features.csv')\n",
    "gpu_data.to_csv('../benchmark_results/%s' % fname2, header=False, index=False)\n"
   ]
  },
  {
   "cell_type": "markdown",
   "id": "139bcae7",
   "metadata": {},
   "source": [
    "# read V100 data"
   ]
  },
  {
   "cell_type": "code",
   "execution_count": 4,
   "id": "8d259b6b",
   "metadata": {},
   "outputs": [
    {
     "name": "stderr",
     "output_type": "stream",
     "text": [
      "/tmp/ipykernel_162089/2941655464.py:53: FutureWarning: The behavior of DataFrame concatenation with empty or all-NA entries is deprecated. In a future version, this will no longer exclude empty or all-NA columns when determining the result dtypes. To retain the old behavior, exclude the relevant entries before the concat operation.\n",
      "  inputvaldata_GPU = pd.concat([inputvaldata_GPU, pd.DataFrame([new_row])], ignore_index=True)\n"
     ]
    }
   ],
   "source": [
    "arch, system = 'GPU', 'NVIDIA-V100'\n",
    "\n",
    "# fname = 'silver1-TeslaV100_dtype-D_run_validation_matrices.csv'\n",
    "fname = 'vulcan-V100/vulcan-V100_dtype-D_run_validation_matrices.csv'\n",
    "gpu_data = pd.read_csv('../benchmark_results/%s' % fname, names = ['matrix_name','distribution','placement','diagonal_factor','seed',\n",
    "                                                            'nr_rows','nr_cols','nr_nzeros','density','mem_footprint','mem_range',\n",
    "                                                            'avg_nnz_per_row','std_nnz_per_row',\n",
    "                                                            'avg_bw','std_bw','avg_sc','std_sc',\n",
    "                                                            'format_name','time','gflops','W_avg', 'J_estimated'])\n",
    "\n",
    "gpu_data = create_complete_gpu_csv(gpu_data, system, arch)\n",
    "fname2 = fname.replace('.csv', '_modified_features.csv')\n",
    "gpu_data.to_csv('../benchmark_results/%s' % fname2, header=False, index=False)\n"
   ]
  },
  {
   "cell_type": "markdown",
   "id": "0c2dac04",
   "metadata": {},
   "source": [
    "# read A100 data"
   ]
  },
  {
   "cell_type": "code",
   "execution_count": 5,
   "id": "f45b95dc",
   "metadata": {},
   "outputs": [
    {
     "name": "stderr",
     "output_type": "stream",
     "text": [
      "/tmp/ipykernel_162089/2941655464.py:53: FutureWarning: The behavior of DataFrame concatenation with empty or all-NA entries is deprecated. In a future version, this will no longer exclude empty or all-NA columns when determining the result dtypes. To retain the old behavior, exclude the relevant entries before the concat operation.\n",
      "  inputvaldata_GPU = pd.concat([inputvaldata_GPU, pd.DataFrame([new_row])], ignore_index=True)\n"
     ]
    }
   ],
   "source": [
    "arch, system = 'GPU', 'NVIDIA-A100'\n",
    "\n",
    "fname = 'epyc5-A100/epyc5-A100_dtype-D_run_validation_matrices.csv'\n",
    "# it has different data layout @@@ panastas @@@\n",
    "gpu_data = pd.read_csv('../benchmark_results/%s' % fname, names = ['matrix_name','distribution','placement','seed',\n",
    "                                                            'nr_rows','nr_cols','nr_nzeros','density','mem_footprint','mem_range',\n",
    "                                                            'avg_nnz_per_row','std_nnz_per_row',\n",
    "                                                            'avg_bw','std_bw','avg_sc','std_sc',\n",
    "                                                            '1','2','3','4','5','6','7',\n",
    "                                                            'format_name','time','gflops','W_avg', 'J_estimated'])\n",
    "\n",
    "gpu_data = create_complete_gpu_csv(gpu_data, system, arch)\n",
    "fname2 = fname.replace('.csv', '_modified_features.csv')\n",
    "gpu_data.to_csv('../benchmark_results/%s' % fname2, header=False, index=False)\n"
   ]
  },
  {
   "cell_type": "markdown",
   "id": "776749b9",
   "metadata": {},
   "source": [
    "# read H100 data"
   ]
  },
  {
   "cell_type": "code",
   "execution_count": 6,
   "id": "e4d3ddba",
   "metadata": {},
   "outputs": [
    {
     "name": "stderr",
     "output_type": "stream",
     "text": [
      "/tmp/ipykernel_162089/2941655464.py:53: FutureWarning: The behavior of DataFrame concatenation with empty or all-NA entries is deprecated. In a future version, this will no longer exclude empty or all-NA columns when determining the result dtypes. To retain the old behavior, exclude the relevant entries before the concat operation.\n",
      "  inputvaldata_GPU = pd.concat([inputvaldata_GPU, pd.DataFrame([new_row])], ignore_index=True)\n"
     ]
    }
   ],
   "source": [
    "arch, system = 'GPU', 'NVIDIA-H100'\n",
    "\n",
    "fname = 'grace1-H100/grace1-H100_validation_matrices_d.csv'\n",
    "\n",
    "gpu_data = pd.read_csv('../benchmark_results/%s' % fname, names = ['matrix_name','distribution','placement','seed',\n",
    "                                'nr_rows','nr_cols','nr_nzeros','density','mem_footprint','mem_range',\n",
    "                                'avg_nnz_per_row','std_nnz_per_row',\n",
    "                                'avg_bw','std_bw','avg_bw_scaled','std_bw_scaled',\n",
    "                                'avg_sc','std_sc','avg_sc_scaled','std_sc_scaled',\n",
    "                                'skew', 'avg_num_neighbours', 'cross_row_similarity',\n",
    "                                'format_name','time','gflops','W_avg','J_estimated', 'System'])\n",
    "gpu_data = create_complete_gpu_csv(gpu_data, system, arch)\n",
    "fname2 = fname.replace('.csv', '_modified_features.csv')\n",
    "gpu_data.to_csv('../benchmark_results/%s' % fname2, header=False, index=False)\n"
   ]
  },
  {
   "cell_type": "markdown",
   "id": "dec63679",
   "metadata": {},
   "source": [
    "# read MI250 data"
   ]
  },
  {
   "cell_type": "code",
   "execution_count": 7,
   "id": "a407af5b",
   "metadata": {},
   "outputs": [
    {
     "name": "stderr",
     "output_type": "stream",
     "text": [
      "/tmp/ipykernel_162089/2941655464.py:53: FutureWarning: The behavior of DataFrame concatenation with empty or all-NA entries is deprecated. In a future version, this will no longer exclude empty or all-NA columns when determining the result dtypes. To retain the old behavior, exclude the relevant entries before the concat operation.\n",
      "  inputvaldata_GPU = pd.concat([inputvaldata_GPU, pd.DataFrame([new_row])], ignore_index=True)\n"
     ]
    }
   ],
   "source": [
    "arch, system = 'GPU', 'AMD-MI250'\n",
    "\n",
    "fname = 'amd-mi250/amd-mi250_validation_matrices_d.csv'\n",
    "\n",
    "gpu_data = pd.read_csv('../benchmark_results/%s' % fname, names = ['matrix_name','distribution','placement','seed',\n",
    "                                'nr_rows','nr_cols','nr_nzeros','density','mem_footprint','mem_range',\n",
    "                                'avg_nnz_per_row','std_nnz_per_row',\n",
    "                                'avg_bw','std_bw','avg_bw_scaled','std_bw_scaled',\n",
    "                                'avg_sc','std_sc','avg_sc_scaled','std_sc_scaled',\n",
    "                                'skew', 'avg_num_neighbours', 'cross_row_similarity',\n",
    "                                'format_name','time','gflops','W_avg','J_estimated', 'System'])\n",
    "\n",
    "gpu_data = create_complete_gpu_csv(gpu_data, system, arch)\n",
    "fname2 = fname.replace('.csv', '_modified_features.csv')\n",
    "gpu_data.to_csv('../benchmark_results/%s' % fname2, header=False, index=False)\n"
   ]
  },
  {
   "cell_type": "markdown",
   "id": "5965c3ab",
   "metadata": {},
   "source": [
    "# read CPU data"
   ]
  },
  {
   "cell_type": "code",
   "execution_count": 8,
   "id": "91e83d33",
   "metadata": {},
   "outputs": [],
   "source": [
    "Hawk_threads     = 64\n",
    "Epyc_threads     = 24\n",
    "Xeon_threads     = 14\n",
    "Icy_threads      = 16\n",
    "Sapphire_threads = 56\n",
    "Arm_threads      = 80\n",
    "Grace_threads    = 72\n",
    "Power9_threads   = 32"
   ]
  },
  {
   "cell_type": "code",
   "execution_count": 9,
   "id": "5f04be16",
   "metadata": {},
   "outputs": [],
   "source": [
    "def create_complete_cpu_csv(cpu_dataframe, system, arch):\n",
    "    vm_features = pd.read_csv('../benchmark_results/validation_matrices_features.csv', sep='\\t')\n",
    "    matrix_names = list(vm_features['matrix']) # same as : list(set(inputdata_GPU['matrix_name']))\n",
    "\n",
    "    inputvaldata_CPU = pd.DataFrame(columns=header_names)\n",
    "\n",
    "    for matrix_name in matrix_names:\n",
    "        for index, curr in cpu_dataframe[cpu_dataframe['matrix_name'] == matrix_name].iterrows():\n",
    "            matrix_name = matrix_name\n",
    "            distribution = 'unused'\n",
    "            placement = 'unused'\n",
    "            diagonal_factor = 0\n",
    "            seed = 0\n",
    "            m = curr['nr_rows']\n",
    "            n = curr['nr_cols']\n",
    "            nz = curr['nr_nzeros']\n",
    "            density = nz/(m*n)*100.0\n",
    "            mem_footprint = curr['mem_footprint']\n",
    "            mem_range = find_class((nz*(64+32)+32*(m+1))/(8*1024*1024))\n",
    "            avg_nnz_per_row = list(vm_features[vm_features['matrix']==matrix_name]['nnz-r-avg'])[0]\n",
    "            std_nnz_per_row = list(vm_features[vm_features['matrix']==matrix_name]['nnz-r-std'])[0]\n",
    "            avg_bw = list(vm_features[vm_features['matrix']==matrix_name]['bw-scaled-avg'])[0]*n\n",
    "            std_bw = list(vm_features[vm_features['matrix']==matrix_name]['bw-scaled-std'])[0]*n\n",
    "            avg_bw_scaled = avg_bw/n\n",
    "            std_bw_scaled = std_bw/n\n",
    "            # avg_sc = list(vm_features[vm_features['matrix']==matrix_name]['sc-avg'])[0]\n",
    "            # std_sc = list(vm_features[vm_features['matrix']==matrix_name]['sc-std'])[0]\n",
    "            # avg_sc_scaled = avg_sc*n\n",
    "            # std_sc_scaled = std_sc*n\n",
    "            # skew = (list(vm_features[vm_features['matrix']==matrix_name]['nnz-r-max'])[0] - avg_nnz_per_row)/avg_nnz_per_row\n",
    "            skew = list(vm_features[vm_features['matrix']==matrix_name]['skew_coeff'])[0]\n",
    "            avg_num_neighbours = list(vm_features[vm_features['matrix']==matrix_name]['num-neigh-avg'])[0]\n",
    "            cross_row_similarity = list(vm_features[vm_features['matrix']==matrix_name]['cross_row_sim-avg'])[0]\n",
    "\n",
    "            format_name = curr['format_name']\n",
    "            time = curr['time']\n",
    "            gflops = curr['gflops']\n",
    "            W_avg = curr['W_avg']\n",
    "            J_estimated = curr['J_estimated']\n",
    "            \n",
    "            new_row = {'matrix_name' : matrix_name, 'distribution' : distribution, 'placement' : placement, 'seed' : seed,  'nr_rows' : m, 'nr_cols' : n, 'nr_nzeros' : nz, 'density' : density, 'mem_footprint' : mem_footprint, 'mem_range' : mem_range, \n",
    "                       'avg_nnz_per_row' : avg_nnz_per_row, 'std_nnz_per_row' : std_nnz_per_row, \n",
    "                       'avg_bw' : avg_bw, 'std_bw' : std_bw, 'avg_bw_scaled' : avg_bw_scaled, 'std_bw_scaled' : std_bw_scaled,\n",
    "                       #'avg_sc' : avg_sc, 'std_sc' : std_sc, 'avg_sc_scaled' : avg_sc_scaled, 'std_sc_scaled' : std_sc_scaled,\n",
    "                       'skew' : skew, 'avg_num_neighbours' : avg_num_neighbours, 'cross_row_similarity' : cross_row_similarity,\n",
    "                       'format_name' : format_name, 'time' : time, 'gflops' : gflops, 'W_avg' : W_avg, 'J_estimated' : J_estimated}\n",
    "            inputvaldata_CPU = pd.concat([inputvaldata_CPU, pd.DataFrame([new_row])], ignore_index=True)\n",
    "    inputvaldata_CPU['System'] = system\n",
    "    inputvaldata_CPU['Arch'] = arch\n",
    "    return inputvaldata_CPU"
   ]
  },
  {
   "cell_type": "markdown",
   "id": "a0a0b035",
   "metadata": {},
   "source": [
    "# read HAWK data (DEPRECATED, skip)"
   ]
  },
  {
   "cell_type": "code",
   "execution_count": 10,
   "id": "09de7c6d",
   "metadata": {},
   "outputs": [],
   "source": [
    "# arch, system = 'CPU', 'AMD-EPYC-64'\n",
    "# fname = 'amd-hawk/amd-hawk_validation_matrices_t%d_d.csv' % Hawk_threads\n",
    "\n",
    "# cpu_data = pd.read_csv('../benchmark_results/%s' % fname, names = ['matrix_name','distribution','placement','seed',\n",
    "#             'nr_rows','nr_cols','nr_nzeros','density','mem_footprint','mem_range',\n",
    "#             'avg_nnz_per_row','std_nnz_per_row',\n",
    "#             'avg_bw','std_bw','avg_bw_scaled','std_bw_scaled',\n",
    "#             'avg_sc','std_sc','avg_sc_scaled','std_sc_scaled',\n",
    "#             'skew', 'avg_num_neighbours', 'cross_row_similarity',\n",
    "#             'format_name','time','gflops','W_avg','J_estimated', 'System'])\n",
    "\n",
    "# cpu_data = create_complete_cpu_csv(cpu_data, system, arch)\n",
    "# fname2 = fname.replace('.csv', '_modified_features.csv')\n",
    "\n",
    "# if(fname == 'amd-hawk/amd-hawk_validation_matrices_t128_d.csv'):\n",
    "#     formats_to_discard = ['MKL_IE_no_optimize', 'Custom_CSR_BV_CPU', 'Custom_CSR_B_CPU']\n",
    "    \n",
    "# cpu_data.to_csv('../benchmark_results/%s' % fname2, header=False, index=False)\n"
   ]
  },
  {
   "cell_type": "markdown",
   "id": "f744a6a9",
   "metadata": {},
   "source": [
    "# read AMD-EPYC-24 data"
   ]
  },
  {
   "cell_type": "code",
   "execution_count": 11,
   "id": "ac916b21",
   "metadata": {},
   "outputs": [
    {
     "name": "stderr",
     "output_type": "stream",
     "text": [
      "/tmp/ipykernel_162089/935656204.py:47: FutureWarning: The behavior of DataFrame concatenation with empty or all-NA entries is deprecated. In a future version, this will no longer exclude empty or all-NA columns when determining the result dtypes. To retain the old behavior, exclude the relevant entries before the concat operation.\n",
      "  inputvaldata_CPU = pd.concat([inputvaldata_CPU, pd.DataFrame([new_row])], ignore_index=True)\n"
     ]
    }
   ],
   "source": [
    "arch, system = 'CPU', 'AMD-EPYC-24'\n",
    "fname = 'amd-epyc1/amd-epyc1_validation_matrices_t%d_d.csv' % Epyc_threads\n",
    "\n",
    "cpu_data = pd.read_csv('../benchmark_results/%s' % fname, names = ['matrix_name','distribution','placement','seed',\n",
    "            'nr_rows','nr_cols','nr_nzeros','density','mem_footprint','mem_range',\n",
    "            'avg_nnz_per_row','std_nnz_per_row',\n",
    "            'avg_bw','std_bw','avg_bw_scaled','std_bw_scaled',\n",
    "            'avg_sc','std_sc','avg_sc_scaled','std_sc_scaled',\n",
    "            'skew', 'avg_num_neighbours', 'cross_row_similarity',\n",
    "            'format_name','time','gflops','W_avg','J_estimated', 'System'])\n",
    "\n",
    "cpu_data = create_complete_cpu_csv(cpu_data, system, arch)\n",
    "fname2 = fname.replace('.csv', '_modified_features.csv')\n",
    "\n",
    "cpu_data.to_csv('../benchmark_results/%s' % fname2, header=False, index=False)\n"
   ]
  },
  {
   "cell_type": "markdown",
   "id": "6f5856be",
   "metadata": {},
   "source": [
    "# read AMD-EPYC-64 data"
   ]
  },
  {
   "cell_type": "code",
   "execution_count": 12,
   "id": "392b714c",
   "metadata": {},
   "outputs": [
    {
     "name": "stderr",
     "output_type": "stream",
     "text": [
      "/tmp/ipykernel_162089/935656204.py:47: FutureWarning: The behavior of DataFrame concatenation with empty or all-NA entries is deprecated. In a future version, this will no longer exclude empty or all-NA columns when determining the result dtypes. To retain the old behavior, exclude the relevant entries before the concat operation.\n",
      "  inputvaldata_CPU = pd.concat([inputvaldata_CPU, pd.DataFrame([new_row])], ignore_index=True)\n"
     ]
    }
   ],
   "source": [
    "arch, system = 'CPU', 'AMD-EPYC-64'\n",
    "fname = 'amd-epyc7763/amd-epyc7763_validation_matrices_t%d_d.csv' % Hawk_threads\n",
    "\n",
    "cpu_data = pd.read_csv('../benchmark_results/%s' % fname, names = ['matrix_name','distribution','placement','seed',\n",
    "            'nr_rows','nr_cols','nr_nzeros','density','mem_footprint','mem_range',\n",
    "            'avg_nnz_per_row','std_nnz_per_row',\n",
    "            'avg_bw','std_bw','avg_bw_scaled','std_bw_scaled',\n",
    "            'avg_sc','std_sc','avg_sc_scaled','std_sc_scaled',\n",
    "            'skew', 'avg_num_neighbours', 'cross_row_similarity',\n",
    "            'format_name','time','gflops','W_avg','J_estimated', 'System'])\n",
    "\n",
    "cpu_data = create_complete_cpu_csv(cpu_data, system, arch)\n",
    "fname2 = fname.replace('.csv', '_modified_features.csv')\n",
    "\n",
    "cpu_data.to_csv('../benchmark_results/%s' % fname2, header=False, index=False)\n"
   ]
  },
  {
   "cell_type": "markdown",
   "id": "a1601483",
   "metadata": {},
   "source": [
    "# read INTEL-XEON-14 data"
   ]
  },
  {
   "cell_type": "code",
   "execution_count": 13,
   "id": "dd37ce43",
   "metadata": {},
   "outputs": [
    {
     "name": "stderr",
     "output_type": "stream",
     "text": [
      "/tmp/ipykernel_162089/935656204.py:47: FutureWarning: The behavior of DataFrame concatenation with empty or all-NA entries is deprecated. In a future version, this will no longer exclude empty or all-NA columns when determining the result dtypes. To retain the old behavior, exclude the relevant entries before the concat operation.\n",
      "  inputvaldata_CPU = pd.concat([inputvaldata_CPU, pd.DataFrame([new_row])], ignore_index=True)\n"
     ]
    }
   ],
   "source": [
    "arch, system = 'CPU', 'INTEL-XEON-14'\n",
    "fname = 'intel-gold2/intel-gold2_validation_matrices_t%d_d.csv' % Xeon_threads\n",
    "\n",
    "cpu_data = pd.read_csv('../benchmark_results/%s' % fname, names = ['matrix_name','distribution','placement','seed',\n",
    "            'nr_rows','nr_cols','nr_nzeros','density','mem_footprint','mem_range',\n",
    "            'avg_nnz_per_row','std_nnz_per_row',\n",
    "            'avg_bw','std_bw','avg_bw_scaled','std_bw_scaled',\n",
    "            'avg_sc','std_sc','avg_sc_scaled','std_sc_scaled',\n",
    "            'skew', 'avg_num_neighbours', 'cross_row_similarity',\n",
    "            'format_name','time','gflops','W_avg','J_estimated', 'System'])\n",
    "\n",
    "cpu_data = create_complete_cpu_csv(cpu_data, system, arch)\n",
    "fname2 = fname.replace('.csv', '_modified_features.csv')\n",
    "\n",
    "cpu_data.to_csv('../benchmark_results/%s' % fname2, header=False, index=False)\n"
   ]
  },
  {
   "cell_type": "markdown",
   "id": "64b66e8f",
   "metadata": {},
   "source": [
    "# read INTEL-ICY-16 data"
   ]
  },
  {
   "cell_type": "code",
   "execution_count": 14,
   "id": "999abd09",
   "metadata": {},
   "outputs": [
    {
     "name": "stderr",
     "output_type": "stream",
     "text": [
      "/tmp/ipykernel_162089/935656204.py:47: FutureWarning: The behavior of DataFrame concatenation with empty or all-NA entries is deprecated. In a future version, this will no longer exclude empty or all-NA columns when determining the result dtypes. To retain the old behavior, exclude the relevant entries before the concat operation.\n",
      "  inputvaldata_CPU = pd.concat([inputvaldata_CPU, pd.DataFrame([new_row])], ignore_index=True)\n"
     ]
    }
   ],
   "source": [
    "arch, system = 'CPU', 'INTEL-ICY-16'\n",
    "fname = 'intel-icy3/intel-icy3_validation_matrices_t%d_d.csv' % Icy_threads\n",
    "\n",
    "cpu_data = pd.read_csv('../benchmark_results/%s' % fname, names = ['matrix_name','distribution','placement','seed',\n",
    "            'nr_rows','nr_cols','nr_nzeros','density','mem_footprint','mem_range',\n",
    "            'avg_nnz_per_row','std_nnz_per_row',\n",
    "            'avg_bw','std_bw','avg_bw_scaled','std_bw_scaled',\n",
    "            'avg_sc','std_sc','avg_sc_scaled','std_sc_scaled',\n",
    "            'skew', 'avg_num_neighbours', 'cross_row_similarity',\n",
    "            'format_name','time','gflops','W_avg','J_estimated', 'System'])\n",
    "\n",
    "cpu_data = create_complete_cpu_csv(cpu_data, system, arch)\n",
    "fname2 = fname.replace('.csv', '_modified_features.csv')\n",
    "\n",
    "cpu_data.to_csv('../benchmark_results/%s' % fname2, header=False, index=False)\n"
   ]
  },
  {
   "cell_type": "markdown",
   "id": "cd177f9d",
   "metadata": {},
   "source": [
    "# read INTEL-SAPPHIRE-56 data"
   ]
  },
  {
   "cell_type": "code",
   "execution_count": 15,
   "id": "1e99714f",
   "metadata": {},
   "outputs": [
    {
     "name": "stderr",
     "output_type": "stream",
     "text": [
      "/tmp/ipykernel_162089/935656204.py:47: FutureWarning: The behavior of DataFrame concatenation with empty or all-NA entries is deprecated. In a future version, this will no longer exclude empty or all-NA columns when determining the result dtypes. To retain the old behavior, exclude the relevant entries before the concat operation.\n",
      "  inputvaldata_CPU = pd.concat([inputvaldata_CPU, pd.DataFrame([new_row])], ignore_index=True)\n"
     ]
    }
   ],
   "source": [
    "arch, system = 'CPU', 'INTEL-SAPPHIRE-56'\n",
    "fname = 'intel-sapphire/intel-sapphire_validation_matrices_t%d_d.csv' % Sapphire_threads\n",
    "\n",
    "cpu_data = pd.read_csv('../benchmark_results/%s' % fname, names = ['matrix_name','distribution','placement','seed',\n",
    "            'nr_rows','nr_cols','nr_nzeros','density','mem_footprint','mem_range',\n",
    "            'avg_nnz_per_row','std_nnz_per_row',\n",
    "            'avg_bw','std_bw','avg_bw_scaled','std_bw_scaled',\n",
    "            'avg_sc','std_sc','avg_sc_scaled','std_sc_scaled',\n",
    "            'skew', 'avg_num_neighbours', 'cross_row_similarity',\n",
    "            'format_name','time','gflops','W_avg','J_estimated', 'System'])\n",
    "\n",
    "cpu_data = create_complete_cpu_csv(cpu_data, system, arch)\n",
    "fname2 = fname.replace('.csv', '_modified_features.csv')\n",
    "\n",
    "cpu_data.to_csv('../benchmark_results/%s' % fname2, header=False, index=False)\n"
   ]
  },
  {
   "cell_type": "markdown",
   "id": "b6678243",
   "metadata": {},
   "source": [
    "# read ARM-NEON-80 data"
   ]
  },
  {
   "cell_type": "code",
   "execution_count": 16,
   "id": "3665b488",
   "metadata": {},
   "outputs": [
    {
     "name": "stderr",
     "output_type": "stream",
     "text": [
      "/tmp/ipykernel_162089/935656204.py:47: FutureWarning: The behavior of DataFrame concatenation with empty or all-NA entries is deprecated. In a future version, this will no longer exclude empty or all-NA columns when determining the result dtypes. To retain the old behavior, exclude the relevant entries before the concat operation.\n",
      "  inputvaldata_CPU = pd.concat([inputvaldata_CPU, pd.DataFrame([new_row])], ignore_index=True)\n"
     ]
    }
   ],
   "source": [
    "arch, system = 'CPU', 'ARM-NEON-80'\n",
    "fname = 'arm/arm_validation_matrices_t%d_d.csv' % Arm_threads\n",
    "\n",
    "cpu_data_arm = pd.read_csv('../benchmark_results/%s' % fname, names = ['matrix_name','distribution','placement','seed',\n",
    "            'nr_rows','nr_cols','nr_nzeros','density','mem_footprint','mem_range',\n",
    "            'avg_nnz_per_row','std_nnz_per_row',\n",
    "            'avg_bw','std_bw','avg_bw_scaled','std_bw_scaled',\n",
    "            'avg_sc','std_sc','avg_sc_scaled','std_sc_scaled',\n",
    "            'skew', 'avg_num_neighbours', 'cross_row_similarity',\n",
    "            'format_name','time','gflops','W_avg','J_estimated', 'System'])\n",
    "\n",
    "cpu_data_arm = create_complete_cpu_csv(cpu_data_arm, system, arch)\n",
    "fname2 = fname.replace('.csv', '_modified_features.csv')\n",
    "\n",
    "cpu_data_arm.to_csv('../benchmark_results/%s' % fname2, header=False, index=False)\n"
   ]
  },
  {
   "cell_type": "markdown",
   "id": "e34c4cff",
   "metadata": {},
   "source": [
    "# read ARM-GRACE-72 data"
   ]
  },
  {
   "cell_type": "code",
   "execution_count": 17,
   "id": "f662626d",
   "metadata": {},
   "outputs": [
    {
     "name": "stderr",
     "output_type": "stream",
     "text": [
      "/tmp/ipykernel_162089/935656204.py:47: FutureWarning: The behavior of DataFrame concatenation with empty or all-NA entries is deprecated. In a future version, this will no longer exclude empty or all-NA columns when determining the result dtypes. To retain the old behavior, exclude the relevant entries before the concat operation.\n",
      "  inputvaldata_CPU = pd.concat([inputvaldata_CPU, pd.DataFrame([new_row])], ignore_index=True)\n"
     ]
    }
   ],
   "source": [
    "arch, system = 'CPU', 'ARM-GRACE-72'\n",
    "fname = 'grace1-arm/grace1-arm_validation_matrices_t%d_d.csv' % Grace_threads\n",
    "\n",
    "cpu_data_arm = pd.read_csv('../benchmark_results/%s' % fname, names = ['matrix_name','distribution','placement','seed',\n",
    "            'nr_rows','nr_cols','nr_nzeros','density','mem_footprint','mem_range',\n",
    "            'avg_nnz_per_row','std_nnz_per_row',\n",
    "            'avg_bw','std_bw','avg_bw_scaled','std_bw_scaled',\n",
    "            'avg_sc','std_sc','avg_sc_scaled','std_sc_scaled',\n",
    "            'skew', 'avg_num_neighbours', 'cross_row_similarity',\n",
    "            'format_name','time','gflops','W_avg','J_estimated', 'System'])\n",
    "\n",
    "cpu_data_arm = create_complete_cpu_csv(cpu_data_arm, system, arch)\n",
    "fname2 = fname.replace('.csv', '_modified_features.csv')\n",
    "\n",
    "cpu_data_arm.to_csv('../benchmark_results/%s' % fname2, header=False, index=False)\n"
   ]
  },
  {
   "cell_type": "markdown",
   "id": "8e5250e2",
   "metadata": {},
   "source": [
    "# read IBM-POWER9-32 data"
   ]
  },
  {
   "cell_type": "code",
   "execution_count": 18,
   "id": "351e927b",
   "metadata": {},
   "outputs": [
    {
     "name": "stderr",
     "output_type": "stream",
     "text": [
      "/tmp/ipykernel_162089/935656204.py:47: FutureWarning: The behavior of DataFrame concatenation with empty or all-NA entries is deprecated. In a future version, this will no longer exclude empty or all-NA columns when determining the result dtypes. To retain the old behavior, exclude the relevant entries before the concat operation.\n",
      "  inputvaldata_CPU = pd.concat([inputvaldata_CPU, pd.DataFrame([new_row])], ignore_index=True)\n"
     ]
    }
   ],
   "source": [
    "arch, system = 'CPU', 'IBM-POWER9-32'\n",
    "fname = 'power9-m100/power9-m100_validation_matrices_t%d_d.csv' % Power9_threads\n",
    "\n",
    "cpu_data_power9 = pd.read_csv('../benchmark_results/%s' % fname, names = ['matrix_name','distribution','placement','seed',\n",
    "            'nr_rows','nr_cols','nr_nzeros','density','mem_footprint','mem_range',\n",
    "            'avg_nnz_per_row','std_nnz_per_row',\n",
    "            'avg_bw','std_bw','avg_bw_scaled','std_bw_scaled',\n",
    "            'avg_sc','std_sc','avg_sc_scaled','std_sc_scaled',\n",
    "            'skew', 'avg_num_neighbours', 'cross_row_similarity',\n",
    "            'format_name','time','gflops','W_avg','J_estimated', 'System'])\n",
    "\n",
    "cpu_data_power9 = create_complete_cpu_csv(cpu_data_power9, system, arch)\n",
    "fname2 = fname.replace('.csv', '_modified_features.csv')\n",
    "\n",
    "cpu_data_power9.to_csv('../benchmark_results/%s' % fname2, header=False, index=False)\n"
   ]
  },
  {
   "cell_type": "markdown",
   "id": "0e3eb1d4",
   "metadata": {},
   "source": [
    "# read FPGA Data (SKIP FOR NOW...)"
   ]
  },
  {
   "cell_type": "code",
   "execution_count": 19,
   "id": "b6fbd37d",
   "metadata": {},
   "outputs": [],
   "source": [
    "def create_complete_fpga_csv(fpga_dataframe, system, arch):\n",
    "    vm_features = pd.read_csv('../benchmark_results/validation_matrices_features.csv', sep='\\t')\n",
    "    matrix_names = list(vm_features['matrix']) # same as : list(set(inputdata_GPU['matrix_name']))\n",
    "\n",
    "    inputvaldata_FPGA = pd.DataFrame(columns=header_names)\n",
    "\n",
    "    for matrix_name in matrix_names:\n",
    "        pin_df = fpga_dataframe[fpga_dataframe['matrix'] == matrix_name]\n",
    "        if(pin_df.empty):\n",
    "            m = list(vm_features[vm_features['matrix']==matrix_name]['nr_rows'])[0]\n",
    "            n = list(vm_features[vm_features['matrix']==matrix_name]['nr_cols'])[0]\n",
    "            nz = list(vm_features[vm_features['matrix']==matrix_name]['nr_nzeros'])[0]\n",
    "            mem_footprint = (nz*(64+32)+32*(m+1))/(8*1024*1024)\n",
    "            \n",
    "            new_row = {'matrix_name' : matrix_name, 'distribution' : 'unused', 'placement' : 'unused', 'seed' : 0, 'nr_rows' : m, 'nr_cols' : n, 'nr_nzeros' : nz, 'density' : nz/(m*n)*100.0, 'mem_footprint' : mem_footprint, 'mem_range' : find_class((nz*(64+32)+32*(m+1))/(8*1024*1024)),'avg_nnz_per_row' : list(vm_features[vm_features['matrix']==matrix_name]['nnz-r-avg'])[0],'std_nnz_per_row' : list(vm_features[vm_features['matrix']==matrix_name]['nnz-r-std'])[0], 'avg_bw' : list(vm_features[vm_features['matrix']==matrix_name]['bw-scaled-avg'])[0]*n,'std_bw' : list(vm_features[vm_features['matrix']==matrix_name]['bw-std'])[0]*n,'avg_bw_scaled' : list(vm_features[vm_features['matrix']==matrix_name]['bw-scaled-avg'])[0],'std_bw_scaled' : list(vm_features[vm_features['matrix']==matrix_name]['bw-std'])[0],'skew' : list(vm_features[vm_features['matrix']==matrix_name]['skew'])[0],'avg_num_neighbours' : list(vm_features[vm_features['matrix']==matrix_name]['num-neigh-avg'])[0],'cross_row_similarity' : list(vm_features[vm_features['matrix']==matrix_name]['cross_row_sim-avg'])[0],'format_name' : 'unused','time' : -1,'gflops' : -1,'W_avg' : -1,'J_estimated' : -1}\n",
    "            inputvaldata_FPGA = pd.concat([inputvaldata_FPGA, pd.DataFrame([new_row])], ignore_index=True)\n",
    "            \n",
    "        for index, curr in pin_df.iterrows():\n",
    "            matrix_name = matrix_name\n",
    "            distribution = 'unused'\n",
    "            placement = 'unused'\n",
    "            diagonal_factor = 0\n",
    "            seed = 0\n",
    "            m = curr['nr_rows']\n",
    "            n = curr['nr_cols']\n",
    "            nz = curr['nr_nnz']\n",
    "            density = nz/(m*n)*100.0\n",
    "            # mem_footprint = curr['mem_footprint']\n",
    "            mem_footprint = (nz*(64+32)+32*(m+1))/(8*1024*1024)\n",
    "\n",
    "            mem_range = find_class((nz*(64+32)+32*(m+1))/(8*1024*1024))\n",
    "            avg_nnz_per_row = list(vm_features[vm_features['matrix']==matrix_name]['nnz-r-avg'])[0]\n",
    "            std_nnz_per_row = list(vm_features[vm_features['matrix']==matrix_name]['nnz-r-std'])[0]\n",
    "            avg_bw = list(vm_features[vm_features['matrix']==matrix_name]['bw-scaled-avg'])[0]*n\n",
    "            std_bw = list(vm_features[vm_features['matrix']==matrix_name]['bw-scaled-std'])[0]*n\n",
    "            avg_bw_scaled = avg_bw/n\n",
    "            std_bw_scaled = std_bw/n\n",
    "            # avg_sc = list(vm_features[vm_features['matrix']==matrix_name]['sc-avg'])[0]\n",
    "            # std_sc = list(vm_features[vm_features['matrix']==matrix_name]['sc-std'])[0]\n",
    "            # avg_sc_scaled = avg_sc*n\n",
    "            # std_sc_scaled = std_sc*n\n",
    "            # skew = (list(vm_features[vm_features['matrix']==matrix_name]['nnz-r-max'])[0] - avg_nnz_per_row)/avg_nnz_per_row\n",
    "            skew = list(vm_features[vm_features['matrix']==matrix_name]['skew_coeff'])[0]\n",
    "            avg_num_neighbours = list(vm_features[vm_features['matrix']==matrix_name]['num-neigh-avg'])[0]\n",
    "            cross_row_similarity = list(vm_features[vm_features['matrix']==matrix_name]['cross_row_sim-avg'])[0]\n",
    "\n",
    "            format_name = curr['format_name']\n",
    "            time = curr['runtime_iter']\n",
    "            gflops = curr['gflops']\n",
    "            W_avg = curr['W_avg']\n",
    "            J_estimated = curr['J_estimated']\n",
    "\n",
    "            new_row = {'matrix_name' : matrix_name, 'distribution' : distribution, 'placement' : placement, 'seed' : seed, \n",
    "                       'nr_rows' : m, 'nr_cols' : n, 'nr_nzeros' : nz, 'density' : density, 'mem_footprint' : mem_footprint, 'mem_range' : mem_range, \n",
    "                       'avg_nnz_per_row' : avg_nnz_per_row, 'std_nnz_per_row' : std_nnz_per_row, \n",
    "                       'avg_bw' : avg_bw, 'std_bw' : std_bw, 'avg_bw_scaled' : avg_bw_scaled, 'std_bw_scaled' : std_bw_scaled,\n",
    "                       #'avg_sc' : avg_sc, 'std_sc' : std_sc, 'avg_sc_scaled' : avg_sc_scaled, 'std_sc_scaled' : std_sc_scaled,\n",
    "                       'skew' : skew, 'avg_num_neighbours' : avg_num_neighbours, 'cross_row_similarity' : cross_row_similarity,\n",
    "                       'format_name' : format_name, 'time' : time, 'gflops' : gflops, 'W_avg' : W_avg, 'J_estimated' : J_estimated}\n",
    "            inputvaldata_FPGA = pd.concat([inputvaldata_FPGA, pd.DataFrame([new_row])], ignore_index=True)\n",
    "\n",
    "    inputvaldata_FPGA['System'] = system\n",
    "    inputvaldata_FPGA['Arch'] = arch\n",
    "    return inputvaldata_FPGA"
   ]
  },
  {
   "cell_type": "code",
   "execution_count": 20,
   "id": "5a082a9e",
   "metadata": {},
   "outputs": [],
   "source": [
    "# arch, system = 'FPGA', 'Alveo-U280'\n",
    "\n",
    "# fname = 'alveo-u280/alveo-u280_spmv_validation_matrices_dtype-D.csv'\n",
    "# fpga_data = pd.read_csv('../benchmark_results/%s' % fname, names = ['matrix','nr_rows','nr_cols','nr_nnz','density',\n",
    "#                                                              'mem_footprint','format_name','runtime_iter',\n",
    "#                                                              'gflops','W_avg','J_estimated'])\n",
    "\n",
    "# fpga_data = create_complete_fpga_csv(fpga_data, system, arch)\n",
    "# fname2 = fname.replace('.csv', '_modified_features.csv')\n",
    "# fpga_data.to_csv('../benchmark_results/%s' % fname2, header=False, index=False)\n"
   ]
  },
  {
   "cell_type": "markdown",
   "id": "4a9b93f6",
   "metadata": {},
   "source": [
    "---\n",
    "# Now, read validation matrices complete dataset!"
   ]
  },
  {
   "cell_type": "code",
   "execution_count": 21,
   "id": "b46ed621",
   "metadata": {},
   "outputs": [],
   "source": [
    "#Unified read\n",
    "fname = 'vulcan-P100/vulcan-P100_dtype-D_run_validation_matrices_modified_features.csv'\n",
    "inputvaldata_GPU_P100 = pd.read_csv('../benchmark_results/%s' % fname, names = header_names,index_col=False)\n",
    "\n",
    "# fname = 'silver1-TeslaV100_dtype-D_run_validation_matrices_modified_features.csv' % dtype\n",
    "fname = 'vulcan-V100/vulcan-V100_dtype-D_run_validation_matrices_modified_features.csv'\n",
    "inputvaldata_GPU_V100 = pd.read_csv('../benchmark_results/%s' % fname, names = header_names,index_col=False)\n",
    "\n",
    "# fname = 'epyc5TeslaA100_dtype-D_run_validation_matrices_modified_features.csv'\n",
    "fname = 'epyc5-A100/epyc5-A100_dtype-D_run_validation_matrices_modified_features.csv'\n",
    "inputvaldata_GPU_A100 = pd.read_csv('../benchmark_results/%s' % fname, names = header_names,index_col=False)\n",
    "\n",
    "fname = 'grace1-H100/grace1-H100_validation_matrices_d_modified_features.csv'\n",
    "inputvaldata_GPU_H100 = pd.read_csv('../benchmark_results/%s' % fname, names = header_names,index_col=False)\n",
    "\n",
    "fname = 'amd-mi250/amd-mi250_validation_matrices_d_modified_features.csv'\n",
    "inputvaldata_GPU_MI250 = pd.read_csv('../benchmark_results/%s' % fname, names = header_names,index_col=False)\n",
    "\n",
    "#Device P100 V100 A100 H100 MI250\n",
    "#specification 720 980.99 1555.00\n",
    "#copy 720 825.47 1329.58\n",
    "#scale 720 826.52 1327.59\n",
    "#add 720 873.63 1376.84\n",
    "#triadd 720 872.37 1377.21\n",
    "\n",
    "inputvaldata_GPU_P100['mem_bw_gbytes_s'] = 464\n",
    "inputvaldata_GPU_P100['cache_bw_gbytes_s'] = 464\n",
    "\n",
    "inputvaldata_GPU_V100['mem_bw_gbytes_s'] = 760\n",
    "inputvaldata_GPU_V100['cache_bw_gbytes_s'] = 760\n",
    "\n",
    "inputvaldata_GPU_A100['mem_bw_gbytes_s'] = 1350\n",
    "inputvaldata_GPU_A100['cache_bw_gbytes_s'] = 1350\n",
    "\n",
    "inputvaldata_GPU_H100['mem_bw_gbytes_s'] = 3300\n",
    "inputvaldata_GPU_H100['cache_bw_gbytes_s'] = 3300\n",
    "\n",
    "inputvaldata_GPU_MI250['mem_bw_gbytes_s'] = 1313\n",
    "inputvaldata_GPU_MI250['cache_bw_gbytes_s'] = 1313\n"
   ]
  },
  {
   "cell_type": "code",
   "execution_count": 22,
   "id": "1994931f",
   "metadata": {},
   "outputs": [],
   "source": [
    "# fname = 'amd-hawk/amd-hawk_validation_matrices_t%d_d_modified_features.csv' % Hawk_threads\n",
    "# inputvaldata_CPU_Hawk = pd.read_csv('../benchmark_results/%s' % fname, names = header_names,index_col=False)\n",
    "\n",
    "fname = 'amd-epyc1/amd-epyc1_validation_matrices_t%d_d_modified_features.csv' % Epyc_threads\n",
    "inputvaldata_CPU_Epyc1 = pd.read_csv('../benchmark_results/%s' % fname, names = header_names,index_col=False)\n",
    "\n",
    "fname = 'amd-epyc7763/amd-epyc7763_validation_matrices_t%d_d_modified_features.csv' % Hawk_threads\n",
    "inputvaldata_CPU_Epyc64 = pd.read_csv('../benchmark_results/%s' % fname, names = header_names,index_col=False)\n",
    "\n",
    "fname = 'intel-gold2/intel-gold2_validation_matrices_t%d_d_modified_features.csv' % Xeon_threads\n",
    "inputvaldata_CPU_Gold2 = pd.read_csv('../benchmark_results/%s' % fname, names = header_names,index_col=False)\n",
    "\n",
    "fname = 'intel-icy3/intel-icy3_validation_matrices_t%d_d_modified_features.csv' % Icy_threads\n",
    "inputvaldata_CPU_Icy3 = pd.read_csv('../benchmark_results/%s' % fname, names = header_names,index_col=False)\n",
    "\n",
    "fname = 'intel-sapphire/intel-sapphire_validation_matrices_t%d_d_modified_features.csv' % Sapphire_threads\n",
    "inputvaldata_CPU_Sapphire = pd.read_csv('../benchmark_results/%s' % fname, names = header_names,index_col=False)\n",
    "\n",
    "fname = 'arm/arm_validation_matrices_t%d_d_modified_features.csv' % Arm_threads\n",
    "inputvaldata_CPU_Arm = pd.read_csv('../benchmark_results/%s' % fname, names = header_names,index_col=False)\n",
    "\n",
    "fname = 'grace1-arm/grace1-arm_validation_matrices_t%d_d_modified_features.csv' % Grace_threads\n",
    "inputvaldata_CPU_Arm_Grace = pd.read_csv('../benchmark_results/%s' % fname, names = header_names,index_col=False)\n",
    "\n",
    "fname = 'power9-m100/power9-m100_validation_matrices_t%d_d_modified_features.csv' % Power9_threads\n",
    "inputvaldata_CPU_Power9 = pd.read_csv('../benchmark_results/%s' % fname, names = header_names,index_col=False)\n",
    "\n",
    "# inputvaldata_CPU_Hawk['mem_bw_gbytes_s'] = 105\n",
    "# inputvaldata_CPU_Hawk['cache_bw_gbytes_s'] = 878\n",
    "\n",
    "inputvaldata_CPU_Epyc1['mem_bw_gbytes_s'] = 50\n",
    "inputvaldata_CPU_Epyc1['cache_bw_gbytes_s'] = 700\n",
    "\n",
    "inputvaldata_CPU_Epyc64['mem_bw_gbytes_s'] = 120\n",
    "inputvaldata_CPU_Epyc64['cache_bw_gbytes_s'] = 900 # needs to be verified\n",
    "\n",
    "inputvaldata_CPU_Gold2['mem_bw_gbytes_s'] = 55\n",
    "inputvaldata_CPU_Gold2['cache_bw_gbytes_s'] = 300\n",
    "\n",
    "inputvaldata_CPU_Icy3['mem_bw_gbytes_s'] = 75\n",
    "inputvaldata_CPU_Icy3['cache_bw_gbytes_s'] = 350\n",
    "\n",
    "inputvaldata_CPU_Sapphire['mem_bw_gbytes_s'] = 250\n",
    "inputvaldata_CPU_Sapphire['cache_bw_gbytes_s'] = 1200\n",
    "\n",
    "# inputvaldata_CPU_Arm['mem_bw_gbytes_s'] = 102\n",
    "inputvaldata_CPU_Arm['mem_bw_gbytes_s'] = 122\n",
    "inputvaldata_CPU_Arm['cache_bw_gbytes_s'] = 820\n",
    "\n",
    "inputvaldata_CPU_Arm_Grace['mem_bw_gbytes_s'] = 450\n",
    "inputvaldata_CPU_Arm_Grace['cache_bw_gbytes_s'] = 1500\n",
    "\n",
    "inputvaldata_CPU_Power9['mem_bw_gbytes_s'] = 100 # needs to be fixed!!!! 109\n",
    "inputvaldata_CPU_Power9['cache_bw_gbytes_s'] = 600 # needs to be fixed!!!! 612\n",
    "\n",
    "# fname = 'alveo-u280/PADDED-alveo-u280_spmv_validation_matrices_dtype-D_modified_features.csv'\n",
    "# inputvaldata_FPGA = pd.read_csv('../benchmark_results/%s' % fname, names = header_names, index_col=False)\n",
    "# inputvaldata_FPGA['mem_bw_gbytes_s'] = 287.5 #  20/32 * 460 = 287.5 GB/s (\n",
    "# inputvaldata_FPGA['cache_bw_gbytes_s'] = 287.5"
   ]
  },
  {
   "cell_type": "markdown",
   "id": "73c5a1fd",
   "metadata": {},
   "source": [
    "---\n",
    "# Merge the results"
   ]
  },
  {
   "cell_type": "code",
   "execution_count": 23,
   "id": "1ae547cd",
   "metadata": {},
   "outputs": [
    {
     "name": "stdout",
     "output_type": "stream",
     "text": [
      "(18824, 32)\n",
      "CPU times: user 16.8 ms, sys: 7.99 ms, total: 24.8 ms\n",
      "Wall time: 23.8 ms\n"
     ]
    }
   ],
   "source": [
    "%%time\n",
    "inputvaldata = pd.concat([inputvaldata_GPU_P100, inputvaldata_GPU_V100, inputvaldata_GPU_A100,\n",
    "                          inputvaldata_GPU_H100, inputvaldata_GPU_MI250,\n",
    "                          inputvaldata_CPU_Epyc1, inputvaldata_CPU_Epyc64,\n",
    "                          inputvaldata_CPU_Arm, inputvaldata_CPU_Arm_Grace,\n",
    "                          inputvaldata_CPU_Gold2, inputvaldata_CPU_Icy3, inputvaldata_CPU_Sapphire,\n",
    "                          inputvaldata_CPU_Power9,\n",
    "                          #inputvaldata_FPGA\n",
    "                         ])\n",
    "print(inputvaldata.shape)\n",
    "\n",
    "header_names.append('mem_bw_gbytes_s')\n",
    "header_names.append('cache_bw_gbytes_s')\n",
    "\n",
    "# Group per reps, take mean\n",
    "# header_names without 'time','gflops','W_avg','J_estimated'\n",
    "groupvalreps = inputvaldata.groupby( ['matrix_name','distribution','placement','seed',\n",
    "                                      'nr_rows','nr_cols','nr_nzeros','density','mem_footprint','mem_range',\n",
    "                                      'avg_nnz_per_row','std_nnz_per_row',\n",
    "                                      'avg_bw','std_bw','avg_bw_scaled','std_bw_scaled',\n",
    "                                      'skew','avg_num_neighbours','cross_row_similarity',\n",
    "                                      'format_name','System', 'Arch', 'mem_bw_gbytes_s','cache_bw_gbytes_s']).mean().reset_index().reindex(columns=header_names)\n",
    "\n",
    "group_val_system_best = groupvalreps"
   ]
  },
  {
   "cell_type": "markdown",
   "id": "7f76417d",
   "metadata": {},
   "source": [
    "---\n",
    "# Group by 'best-of' format_name for each device\n",
    "# skip this step if you want to plot per-format validation plots"
   ]
  },
  {
   "cell_type": "code",
   "execution_count": 24,
   "id": "aff7e050",
   "metadata": {},
   "outputs": [
    {
     "name": "stdout",
     "output_type": "stream",
     "text": [
      "(674, 32)\n",
      "CPU times: user 590 ms, sys: 3 ms, total: 593 ms\n",
      "Wall time: 592 ms\n"
     ]
    }
   ],
   "source": [
    "%%time \n",
    "# Group per system, take best\n",
    "# header_names without 'time','gflops','W_avg','J_estimated', 'format_name'\n",
    "# Curiously, I have to also remove 'mem_footprint', because for CSR5 it reports different mem_footprint\n",
    "# for the same matrix, leading to a different representation in groupby\n",
    "groupval_system = groupvalreps.groupby(['matrix_name','distribution','placement','seed',\n",
    "                                        'nr_rows','nr_cols','nr_nzeros','density','mem_range',\n",
    "                                        'avg_nnz_per_row','std_nnz_per_row',\n",
    "                                        'avg_bw','std_bw','avg_bw_scaled','std_bw_scaled',\n",
    "                                        'skew','avg_num_neighbours','cross_row_similarity',\n",
    "                                        'System','Arch', 'mem_bw_gbytes_s','cache_bw_gbytes_s'], as_index = False)\n",
    "reslist = []\n",
    "\n",
    "for desc, experiment in groupval_system:\n",
    "    best_format = experiment['format_name'].iloc[experiment['gflops'].argmax()]\n",
    "    outrow = experiment[experiment['format_name'] == best_format]\n",
    "    outrow = outrow[header_names] # reorder column because they are mixed by group-by\n",
    "    reslist.append(outrow.values.tolist()[0])\n",
    "\n",
    "group_val_system_best = pd.DataFrame(reslist, columns = header_names)\n",
    "print(group_val_system_best.shape)"
   ]
  },
  {
   "cell_type": "markdown",
   "id": "dcec85d9",
   "metadata": {},
   "source": [
    "# Some fixes that have to be done by hand"
   ]
  },
  {
   "cell_type": "code",
   "execution_count": 25,
   "id": "4751c734",
   "metadata": {},
   "outputs": [],
   "source": [
    "# group_val_system_best.loc[(group_val_system_best['System'] == 'Alveo-U280') &(group_val_system_best['matrix_name'] == 'scircuit') , ['mem_footprint']] =  11.626\n",
    "# group_val_system_best.loc[(group_val_system_best['System'] == 'Alveo-U280') &(group_val_system_best['matrix_name'] == 'mac_econ_fwd500') , ['mem_footprint']] =  15.361\n",
    "# group_val_system_best.loc[(group_val_system_best['System'] == 'Alveo-U280') &(group_val_system_best['matrix_name'] == 'raefsky3') , ['mem_footprint']] =  17.118\n",
    "# group_val_system_best.loc[(group_val_system_best['System'] == 'Alveo-U280') &(group_val_system_best['matrix_name'] == 'rgg_n_2_17_s0') , ['mem_footprint']] =  17.18\n",
    "# group_val_system_best.loc[(group_val_system_best['System'] == 'Alveo-U280') &(group_val_system_best['matrix_name'] == 'bbmat') , ['mem_footprint']] =  20.424\n",
    "# group_val_system_best.loc[(group_val_system_best['System'] == 'Alveo-U280') &(group_val_system_best['matrix_name'] == 'appu') , ['mem_footprint']] =  21.261\n",
    "# group_val_system_best.loc[(group_val_system_best['System'] == 'Alveo-U280') &(group_val_system_best['matrix_name'] == 'conf5_4-8x8-15') , ['mem_footprint']] =  22.125\n",
    "# group_val_system_best.loc[(group_val_system_best['System'] == 'Alveo-U280') &(group_val_system_best['matrix_name'] == 'mc2depi') , ['mem_footprint']] =  26.041\n",
    "# group_val_system_best.loc[(group_val_system_best['System'] == 'Alveo-U280') &(group_val_system_best['matrix_name'] == 'rma10') , ['mem_footprint']] =  27.347\n",
    "# group_val_system_best.loc[(group_val_system_best['System'] == 'Alveo-U280') &(group_val_system_best['matrix_name'] == 'cop20k_A') , ['mem_footprint']] =  30.495\n",
    "# group_val_system_best.loc[(group_val_system_best['System'] == 'Alveo-U280') &(group_val_system_best['matrix_name'] == 'thermomech_dK') , ['mem_footprint']] =  33.352\n",
    "# group_val_system_best.loc[(group_val_system_best['System'] == 'Alveo-U280') &(group_val_system_best['matrix_name'] == 'webbase-1M') , ['mem_footprint']] =  39.355\n",
    "# group_val_system_best.loc[(group_val_system_best['System'] == 'Alveo-U280') &(group_val_system_best['matrix_name'] == 'cant') , ['mem_footprint']] =  46.099\n",
    "# group_val_system_best.loc[(group_val_system_best['System'] == 'Alveo-U280') &(group_val_system_best['matrix_name'] == 'ASIC_680k') , ['mem_footprint']] =  46.914\n",
    "# group_val_system_best.loc[(group_val_system_best['System'] == 'Alveo-U280') &(group_val_system_best['matrix_name'] == 'roadNet-TX') , ['mem_footprint']] =  49.299\n",
    "# group_val_system_best.loc[(group_val_system_best['System'] == 'Alveo-U280') &(group_val_system_best['matrix_name'] == 'pdb1HYS') , ['mem_footprint']] =  49.861\n",
    "# group_val_system_best.loc[(group_val_system_best['System'] == 'Alveo-U280') &(group_val_system_best['matrix_name'] == 'TSOPF_RS_b300_c3') , ['mem_footprint']] =  50.669\n",
    "# group_val_system_best.loc[(group_val_system_best['System'] == 'Alveo-U280') &(group_val_system_best['matrix_name'] == 'Chebyshev4') , ['mem_footprint']] =  61.803\n",
    "# group_val_system_best.loc[(group_val_system_best['System'] == 'Alveo-U280') &(group_val_system_best['matrix_name'] == 'consph') , ['mem_footprint']] =  69.102\n",
    "# group_val_system_best.loc[(group_val_system_best['System'] == 'Alveo-U280') &(group_val_system_best['matrix_name'] == 'com-Youtube') , ['mem_footprint']] =  72.711\n",
    "# group_val_system_best.loc[(group_val_system_best['System'] == 'Alveo-U280') &(group_val_system_best['matrix_name'] == 'rajat30') , ['mem_footprint']] =  73.128\n",
    "# group_val_system_best.loc[(group_val_system_best['System'] == 'Alveo-U280') &(group_val_system_best['matrix_name'] == 'radiation') , ['mem_footprint']] =  88.257\n",
    "# group_val_system_best.loc[(group_val_system_best['System'] == 'Alveo-U280') &(group_val_system_best['matrix_name'] == 'Stanford_Berkeley') , ['mem_footprint']] =  89.392\n",
    "# group_val_system_best.loc[(group_val_system_best['System'] == 'Alveo-U280') &(group_val_system_best['matrix_name'] == 'shipsec1') , ['mem_footprint']] =  89.955\n",
    "# group_val_system_best.loc[(group_val_system_best['System'] == 'Alveo-U280') &(group_val_system_best['matrix_name'] == 'PR02R') , ['mem_footprint']] =  94.286\n",
    "# group_val_system_best.loc[(group_val_system_best['System'] == 'Alveo-U280') &(group_val_system_best['matrix_name'] == 'CurlCurl_2') , ['mem_footprint']] =  105.178\n",
    "# group_val_system_best.loc[(group_val_system_best['System'] == 'Alveo-U280') &(group_val_system_best['matrix_name'] == 'gupta3') , ['mem_footprint']] =  106.762\n",
    "# group_val_system_best.loc[(group_val_system_best['System'] == 'Alveo-U280') &(group_val_system_best['matrix_name'] == 'mip1') , ['mem_footprint']] =  118.732\n",
    "# group_val_system_best.loc[(group_val_system_best['System'] == 'Alveo-U280') &(group_val_system_best['matrix_name'] == 'rail4284') , ['mem_footprint']] =  129.152\n",
    "# group_val_system_best.loc[(group_val_system_best['System'] == 'Alveo-U280') &(group_val_system_best['matrix_name'] == 'pwtk') , ['mem_footprint']] =  133.977\n",
    "# group_val_system_best.loc[(group_val_system_best['System'] == 'Alveo-U280') &(group_val_system_best['matrix_name'] == 'crankseg_2') , ['mem_footprint']] =  162.164\n",
    "# group_val_system_best.loc[(group_val_system_best['System'] == 'Alveo-U280') &(group_val_system_best['matrix_name'] == 'Si41Ge41H72') , ['mem_footprint']] =  172.498\n",
    "# group_val_system_best.loc[(group_val_system_best['System'] == 'Alveo-U280') &(group_val_system_best['matrix_name'] == 'TSOPF_RS_b2383') , ['mem_footprint']] =  185.21\n",
    "# group_val_system_best.loc[(group_val_system_best['System'] == 'Alveo-U280') &(group_val_system_best['matrix_name'] == 'in-2004') , ['mem_footprint']] =  198.876\n",
    "# group_val_system_best.loc[(group_val_system_best['System'] == 'Alveo-U280') &(group_val_system_best['matrix_name'] == 'Ga41As41H72') , ['mem_footprint']] =  212.607\n",
    "# group_val_system_best.loc[(group_val_system_best['System'] == 'Alveo-U280') &(group_val_system_best['matrix_name'] == 'eu-2005') , ['mem_footprint']] =  223.42\n",
    "# group_val_system_best.loc[(group_val_system_best['System'] == 'Alveo-U280') &(group_val_system_best['matrix_name'] == 'wikipedia-20051105') , ['mem_footprint']] =  232.293\n",
    "# group_val_system_best.loc[(group_val_system_best['System'] == 'Alveo-U280') &(group_val_system_best['matrix_name'] == 'kron_g500-logn18') , ['mem_footprint']] =  243.225\n",
    "# group_val_system_best.loc[(group_val_system_best['System'] == 'Alveo-U280') &(group_val_system_best['matrix_name'] == 'human_gene1') , ['mem_footprint']] =  282.407\n",
    "# group_val_system_best.loc[(group_val_system_best['System'] == 'Alveo-U280') &(group_val_system_best['matrix_name'] == 'delaunay_n22') , ['mem_footprint']] =  303.999\n",
    "# group_val_system_best.loc[(group_val_system_best['System'] == 'Alveo-U280') &(group_val_system_best['matrix_name'] == 'GL7d20') , ['mem_footprint']] =  347.583\n",
    "# group_val_system_best.loc[(group_val_system_best['System'] == 'Alveo-U280') &(group_val_system_best['matrix_name'] == 'sx-stackoverflow') , ['mem_footprint']] =  424.585\n",
    "# group_val_system_best.loc[(group_val_system_best['System'] == 'Alveo-U280') &(group_val_system_best['matrix_name'] == 'dgreen') , ['mem_footprint']] =  442.43\n",
    "# group_val_system_best.loc[(group_val_system_best['System'] == 'Alveo-U280') &(group_val_system_best['matrix_name'] == 'mawi_201512012345') , ['mem_footprint']] =  506.18\n",
    "# group_val_system_best.loc[(group_val_system_best['System'] == 'Alveo-U280') &(group_val_system_best['matrix_name'] == 'ldoor') , ['mem_footprint']] =  536.04\n",
    "# group_val_system_best.loc[(group_val_system_best['System'] == 'Alveo-U280') &(group_val_system_best['matrix_name'] == 'dielFilterV2real') , ['mem_footprint']] =  559.9\n",
    "# group_val_system_best.loc[(group_val_system_best['System'] == 'Alveo-U280') &(group_val_system_best['matrix_name'] == 'circuit5M') , ['mem_footprint']] =  702.405\n",
    "# group_val_system_best.loc[(group_val_system_best['System'] == 'Alveo-U280') &(group_val_system_best['matrix_name'] == 'soc-LiveJournal1') , ['mem_footprint']] =  808.063\n",
    "# group_val_system_best.loc[(group_val_system_best['System'] == 'Alveo-U280') &(group_val_system_best['matrix_name'] == 'bone010') , ['mem_footprint']] =  823.92\n",
    "# group_val_system_best.loc[(group_val_system_best['System'] == 'Alveo-U280') &(group_val_system_best['matrix_name'] == 'audikw_1') , ['mem_footprint']] =  892.255\n",
    "# group_val_system_best.loc[(group_val_system_best['System'] == 'Alveo-U280') &(group_val_system_best['matrix_name'] == 'cage15') , ['mem_footprint']] =  1154.913\n",
    "# group_val_system_best.loc[(group_val_system_best['System'] == 'Alveo-U280') &(group_val_system_best['matrix_name'] == 'kmer_V2a') , ['mem_footprint']] =  1551.419\n",
    "\n",
    "group_val_system_best.loc[(group_val_system_best['System'] == 'NVIDIA-V100') &(group_val_system_best['matrix_name'] == 'scircuit') , ['mem_footprint']] =  11.63\n",
    "group_val_system_best.loc[(group_val_system_best['System'] == 'NVIDIA-V100') &(group_val_system_best['matrix_name'] == 'mac_econ_fwd500') , ['mem_footprint']] =  15.36\n",
    "group_val_system_best.loc[(group_val_system_best['System'] == 'NVIDIA-V100') &(group_val_system_best['matrix_name'] == 'raefsky3') , ['mem_footprint']] =  17.12\n",
    "group_val_system_best.loc[(group_val_system_best['System'] == 'NVIDIA-V100') &(group_val_system_best['matrix_name'] == 'rgg_n_2_17_s0') , ['mem_footprint']] =  17.18\n",
    "group_val_system_best.loc[(group_val_system_best['System'] == 'NVIDIA-V100') &(group_val_system_best['matrix_name'] == 'bbmat') , ['mem_footprint']] =  20.42\n",
    "group_val_system_best.loc[(group_val_system_best['System'] == 'NVIDIA-V100') &(group_val_system_best['matrix_name'] == 'appu') , ['mem_footprint']] =  21.26\n",
    "group_val_system_best.loc[(group_val_system_best['System'] == 'NVIDIA-V100') &(group_val_system_best['matrix_name'] == 'conf5_4-8x8-15') , ['mem_footprint']] =  22.13\n",
    "group_val_system_best.loc[(group_val_system_best['System'] == 'NVIDIA-V100') &(group_val_system_best['matrix_name'] == 'mc2depi') , ['mem_footprint']] =  26.04\n",
    "group_val_system_best.loc[(group_val_system_best['System'] == 'NVIDIA-V100') &(group_val_system_best['matrix_name'] == 'rma10') , ['mem_footprint']] =  27.35\n",
    "group_val_system_best.loc[(group_val_system_best['System'] == 'NVIDIA-V100') &(group_val_system_best['matrix_name'] == 'cop20k_A') , ['mem_footprint']] =  30.5\n",
    "group_val_system_best.loc[(group_val_system_best['System'] == 'NVIDIA-V100') &(group_val_system_best['matrix_name'] == 'thermomech_dK') , ['mem_footprint']] =  33.35\n",
    "group_val_system_best.loc[(group_val_system_best['System'] == 'NVIDIA-V100') &(group_val_system_best['matrix_name'] == 'webbase-1M') , ['mem_footprint']] =  39.35\n",
    "group_val_system_best.loc[(group_val_system_best['System'] == 'NVIDIA-V100') &(group_val_system_best['matrix_name'] == 'cant') , ['mem_footprint']] =  46.1\n",
    "group_val_system_best.loc[(group_val_system_best['System'] == 'NVIDIA-V100') &(group_val_system_best['matrix_name'] == 'ASIC_680k') , ['mem_footprint']] =  46.91\n",
    "group_val_system_best.loc[(group_val_system_best['System'] == 'NVIDIA-V100') &(group_val_system_best['matrix_name'] == 'roadNet-TX') , ['mem_footprint']] =  49.3\n",
    "group_val_system_best.loc[(group_val_system_best['System'] == 'NVIDIA-V100') &(group_val_system_best['matrix_name'] == 'pdb1HYS') , ['mem_footprint']] =  49.86\n",
    "group_val_system_best.loc[(group_val_system_best['System'] == 'NVIDIA-V100') &(group_val_system_best['matrix_name'] == 'TSOPF_RS_b300_c3') , ['mem_footprint']] =  50.67\n",
    "group_val_system_best.loc[(group_val_system_best['System'] == 'NVIDIA-V100') &(group_val_system_best['matrix_name'] == 'Chebyshev4') , ['mem_footprint']] =  61.8\n",
    "group_val_system_best.loc[(group_val_system_best['System'] == 'NVIDIA-V100') &(group_val_system_best['matrix_name'] == 'consph') , ['mem_footprint']] =  69.1\n",
    "group_val_system_best.loc[(group_val_system_best['System'] == 'NVIDIA-V100') &(group_val_system_best['matrix_name'] == 'com-Youtube') , ['mem_footprint']] =  72.71\n",
    "group_val_system_best.loc[(group_val_system_best['System'] == 'NVIDIA-V100') &(group_val_system_best['matrix_name'] == 'rajat30') , ['mem_footprint']] =  73.13\n",
    "group_val_system_best.loc[(group_val_system_best['System'] == 'NVIDIA-V100') &(group_val_system_best['matrix_name'] == 'radiation') , ['mem_footprint']] =  88.26\n",
    "group_val_system_best.loc[(group_val_system_best['System'] == 'NVIDIA-V100') &(group_val_system_best['matrix_name'] == 'Stanford_Berkeley') , ['mem_footprint']] =  89.39\n",
    "group_val_system_best.loc[(group_val_system_best['System'] == 'NVIDIA-V100') &(group_val_system_best['matrix_name'] == 'shipsec1') , ['mem_footprint']] =  89.95\n",
    "group_val_system_best.loc[(group_val_system_best['System'] == 'NVIDIA-V100') &(group_val_system_best['matrix_name'] == 'PR02R') , ['mem_footprint']] =  94.29\n",
    "group_val_system_best.loc[(group_val_system_best['System'] == 'NVIDIA-V100') &(group_val_system_best['matrix_name'] == 'CurlCurl_2') , ['mem_footprint']] =  105.18\n",
    "group_val_system_best.loc[(group_val_system_best['System'] == 'NVIDIA-V100') &(group_val_system_best['matrix_name'] == 'gupta3') , ['mem_footprint']] =  106.76\n",
    "group_val_system_best.loc[(group_val_system_best['System'] == 'NVIDIA-V100') &(group_val_system_best['matrix_name'] == 'mip1') , ['mem_footprint']] =  118.73\n",
    "group_val_system_best.loc[(group_val_system_best['System'] == 'NVIDIA-V100') &(group_val_system_best['matrix_name'] == 'rail4284') , ['mem_footprint']] =  129.15\n",
    "group_val_system_best.loc[(group_val_system_best['System'] == 'NVIDIA-V100') &(group_val_system_best['matrix_name'] == 'pwtk') , ['mem_footprint']] =  133.98\n",
    "group_val_system_best.loc[(group_val_system_best['System'] == 'NVIDIA-V100') &(group_val_system_best['matrix_name'] == 'crankseg_2') , ['mem_footprint']] =  162.16\n",
    "group_val_system_best.loc[(group_val_system_best['System'] == 'NVIDIA-V100') &(group_val_system_best['matrix_name'] == 'Si41Ge41H72') , ['mem_footprint']] =  172.5\n",
    "group_val_system_best.loc[(group_val_system_best['System'] == 'NVIDIA-V100') &(group_val_system_best['matrix_name'] == 'TSOPF_RS_b2383') , ['mem_footprint']] =  185.21\n",
    "group_val_system_best.loc[(group_val_system_best['System'] == 'NVIDIA-V100') &(group_val_system_best['matrix_name'] == 'in-2004') , ['mem_footprint']] =  198.88\n",
    "group_val_system_best.loc[(group_val_system_best['System'] == 'NVIDIA-V100') &(group_val_system_best['matrix_name'] == 'Ga41As41H72') , ['mem_footprint']] =  212.61\n",
    "group_val_system_best.loc[(group_val_system_best['System'] == 'NVIDIA-V100') &(group_val_system_best['matrix_name'] == 'eu-2005') , ['mem_footprint']] =  223.42\n",
    "group_val_system_best.loc[(group_val_system_best['System'] == 'NVIDIA-V100') &(group_val_system_best['matrix_name'] == 'wikipedia-20051105') , ['mem_footprint']] =  232.29\n",
    "group_val_system_best.loc[(group_val_system_best['System'] == 'NVIDIA-V100') &(group_val_system_best['matrix_name'] == 'kron_g500-logn18') , ['mem_footprint']] =  243.22\n",
    "group_val_system_best.loc[(group_val_system_best['System'] == 'NVIDIA-V100') &(group_val_system_best['matrix_name'] == 'human_gene1') , ['mem_footprint']] =  282.41\n",
    "group_val_system_best.loc[(group_val_system_best['System'] == 'NVIDIA-V100') &(group_val_system_best['matrix_name'] == 'delaunay_n22') , ['mem_footprint']] =  304\n",
    "group_val_system_best.loc[(group_val_system_best['System'] == 'NVIDIA-V100') &(group_val_system_best['matrix_name'] == 'GL7d20') , ['mem_footprint']] =  347.58\n",
    "group_val_system_best.loc[(group_val_system_best['System'] == 'NVIDIA-V100') &(group_val_system_best['matrix_name'] == 'sx-stackoverflow') , ['mem_footprint']] =  424.58\n",
    "group_val_system_best.loc[(group_val_system_best['System'] == 'NVIDIA-V100') &(group_val_system_best['matrix_name'] == 'dgreen') , ['mem_footprint']] =  442.43\n",
    "group_val_system_best.loc[(group_val_system_best['System'] == 'NVIDIA-V100') &(group_val_system_best['matrix_name'] == 'mawi_201512012345') , ['mem_footprint']] =  506.18\n",
    "group_val_system_best.loc[(group_val_system_best['System'] == 'NVIDIA-V100') &(group_val_system_best['matrix_name'] == 'ldoor') , ['mem_footprint']] =  536.04\n",
    "group_val_system_best.loc[(group_val_system_best['System'] == 'NVIDIA-V100') &(group_val_system_best['matrix_name'] == 'dielFilterV2real') , ['mem_footprint']] =  559.9\n",
    "group_val_system_best.loc[(group_val_system_best['System'] == 'NVIDIA-V100') &(group_val_system_best['matrix_name'] == 'circuit5M') , ['mem_footprint']] =  702.4\n",
    "group_val_system_best.loc[(group_val_system_best['System'] == 'NVIDIA-V100') &(group_val_system_best['matrix_name'] == 'soc-LiveJournal1') , ['mem_footprint']] =  808.06\n",
    "group_val_system_best.loc[(group_val_system_best['System'] == 'NVIDIA-V100') &(group_val_system_best['matrix_name'] == 'bone010') , ['mem_footprint']] =  823.92\n",
    "group_val_system_best.loc[(group_val_system_best['System'] == 'NVIDIA-V100') &(group_val_system_best['matrix_name'] == 'audikw_1') , ['mem_footprint']] =  892.25\n",
    "group_val_system_best.loc[(group_val_system_best['System'] == 'NVIDIA-V100') &(group_val_system_best['matrix_name'] == 'cage15') , ['mem_footprint']] =  1154.91\n",
    "group_val_system_best.loc[(group_val_system_best['System'] == 'NVIDIA-V100') &(group_val_system_best['matrix_name'] == 'kmer_V2a') , ['mem_footprint']] =  1551.42\n"
   ]
  },
  {
   "cell_type": "code",
   "execution_count": 26,
   "id": "2f8bf621",
   "metadata": {},
   "outputs": [],
   "source": [
    "groupvalreps.to_csv('validation_real_benchmarks_all-devices_all.csv', sep=',', header=True, index=False)\n",
    "group_val_system_best.to_csv('validation_real_all-devices_best-of.csv', sep=',', header=True, index=False)"
   ]
  }
 ],
 "metadata": {
  "kernelspec": {
   "display_name": "Python 3 (ipykernel)",
   "language": "python",
   "name": "python3"
  },
  "language_info": {
   "codemirror_mode": {
    "name": "ipython",
    "version": 3
   },
   "file_extension": ".py",
   "mimetype": "text/x-python",
   "name": "python",
   "nbconvert_exporter": "python",
   "pygments_lexer": "ipython3",
   "version": "3.12.7"
  }
 },
 "nbformat": 4,
 "nbformat_minor": 5
}
