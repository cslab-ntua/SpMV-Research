{
 "cells": [
  {
   "cell_type": "code",
   "execution_count": 2,
   "id": "7fedc775",
   "metadata": {},
   "outputs": [],
   "source": [
    "import dill as pickle  # Use dill instead of pickle\n",
    "\n",
    "import pandas as pd\n",
    "import numpy as np\n",
    "\n",
    "from sklearn.model_selection import train_test_split\n",
    "from sklearn import tree\n",
    "from sklearn.tree import DecisionTreeClassifier\n",
    "from sklearn.tree import DecisionTreeRegressor\n",
    "from sklearn.metrics import accuracy_score\n",
    "from sklearn.metrics import mean_squared_error\n",
    "from sklearn.metrics import r2_score\n",
    "from sklearn.tree import export_graphviz\n",
    "import graphviz\n",
    "import matplotlib.pyplot as plt"
   ]
  },
  {
   "cell_type": "code",
   "execution_count": 9,
   "id": "19456053",
   "metadata": {},
   "outputs": [],
   "source": [
    "# Load the objects from the file\n",
    "with open('objects.pkl', 'rb') as f:\n",
    "    objects_to_load = pickle.load(f)\n",
    "\n",
    "ranges_dev = objects_to_load['ranges_dev']\n",
    "ranges_dev_backup = objects_to_load['ranges_dev_backup']\n",
    "y_limit_dictionary = objects_to_load['y_limit_dictionary']\n",
    "ranges_impl_arch = objects_to_load['ranges_impl_arch']\n",
    "ranges_impl_arch_backup = objects_to_load['ranges_impl_arch_backup']\n",
    "ranges_memr = objects_to_load['ranges_memr']\n",
    "ranges_anr = objects_to_load['ranges_anr']\n",
    "ranges_skew = objects_to_load['ranges_skew']\n",
    "ranges_ann = objects_to_load['ranges_ann']\n",
    "ranges_crs = objects_to_load['ranges_crs']\n",
    "ranges_size = objects_to_load['ranges_size']\n",
    "ranges_regularity = objects_to_load['ranges_regularity']\n",
    "cat_list = objects_to_load['cat_list']\n",
    "ranges_list = objects_to_load['ranges_list']\n",
    "\n",
    "# functions\n",
    "set_category = objects_to_load['set_category']\n",
    "set_category2 = objects_to_load['set_category2']\n",
    "filter_ranges_impl_arch = objects_to_load['filter_ranges_impl_arch']\n",
    "calculate_format_wins = objects_to_load['calculate_format_wins']"
   ]
  },
  {
   "cell_type": "markdown",
   "id": "3a0ac530",
   "metadata": {},
   "source": [
    "---\n",
    "# Load benchmark dataframes"
   ]
  },
  {
   "cell_type": "code",
   "execution_count": 5,
   "id": "afecece7",
   "metadata": {},
   "outputs": [
    {
     "name": "stdout",
     "output_type": "stream",
     "text": [
      "groupreps: (1222089, 38)\n",
      "group_system_best: (190519, 38)\n",
      "\n",
      "After discarding specific devices\n",
      "groupreps: (1222089, 38)\n",
      "group_system_best: (190519, 38)\n",
      "CPU times: user 5.16 s, sys: 702 ms, total: 5.86 s\n",
      "Wall time: 6.01 s\n"
     ]
    }
   ],
   "source": [
    "%%time\n",
    "groupreps = pd.read_csv('synthetic_benchmarks_all-devices_all.csv')\n",
    "print('groupreps:', groupreps.shape)\n",
    "group_system_best = pd.read_csv('synthetic_benchmarks_all-devices_best-of.csv')\n",
    "print('group_system_best:', group_system_best.shape)\n",
    "\n",
    "def remove_devices(df, devices_to_discard):\n",
    "    for dtd in devices_to_discard:\n",
    "        df = df[df['System'] != dtd]\n",
    "    return df\n",
    "\n",
    "devices_to_discard = []\n",
    "\n",
    "groupreps = remove_devices(groupreps, devices_to_discard)\n",
    "group_system_best = remove_devices(group_system_best, devices_to_discard)\n",
    "\n",
    "print('\\nAfter discarding specific devices')\n",
    "print('groupreps:', groupreps.shape)\n",
    "print('group_system_best:', group_system_best.shape)"
   ]
  },
  {
   "cell_type": "markdown",
   "id": "75ee6d4d",
   "metadata": {},
   "source": [
    "# Decision tree classifier (format_name)"
   ]
  },
  {
   "cell_type": "code",
   "execution_count": 12,
   "id": "7d88f781",
   "metadata": {},
   "outputs": [
    {
     "name": "stdout",
     "output_type": "stream",
     "text": [
      "Max performance per System\n",
      "NVIDIA-P100 \t 0.8806451612903226\n",
      "NVIDIA-V100 \t 0.8729908603844941\n",
      "NVIDIA-A100 \t 0.9096589429835981\n",
      "NVIDIA-H100 \t 0.8932599003409389\n",
      "AMD-MI250 \t 0.8418568056648308\n",
      "AMD-EPYC-24 \t 0.8100104821802935\n",
      "AMD-EPYC-64 \t 0.7789142407553108\n",
      "INTEL-XEON-14 \t 0.8071278825995807\n",
      "INTEL-ICY-16 \t 0.8397587201678468\n",
      "INTEL-SAPPHIRE-56 \t 0.8502491476527668\n",
      "ARM-NEON-80 \t 0.7455450733752621\n",
      "ARM-GRACE-72 \t 0.7435090479937058\n",
      "IBM-POWER9-32 \t 0.835167714884696\n"
     ]
    }
   ],
   "source": [
    "ranges_dev = ranges_dev_backup\n",
    "# ranges_dev = ['AMD-EPYC-64']\n",
    "# ranges_dev = ['Grace-H100']\n",
    "\n",
    "features_list = ['mem_footprint', 'avg_nnz_per_row', 'skew', 'avg_num_neighbours', 'cross_row_similarity']\n",
    "groupdata = group_system_best\n",
    "print('Max performance per System')\n",
    "for system in ranges_dev:\n",
    "    tmp = groupdata[groupdata['System']==system]\n",
    "    # tmp = tmp[tmp['format_name'].isin(['cu-CSR', 'Ada-CSR', 'cu-COO', 'DASP'])]\n",
    "    # tmp = tmp[tmp['format_name'].isin(['Ada-CSR', 'cu-COO', 'DASP'])]\n",
    "    X_train, X_test, y_train, y_test = train_test_split(tmp[features_list], tmp['format_name'], random_state=0)\n",
    "    clf = DecisionTreeClassifier(random_state=0)\n",
    "    clf.fit(X_train, y_train)\n",
    "    y_pred = clf.predict(X_test)\n",
    "    print(system, '\\t', accuracy_score(y_test, y_pred))\n",
    "\n",
    "#     fig = plt.figure(figsize=(15,10))\n",
    "#     _ = tree.plot_tree(clf, \n",
    "#                        feature_names=features_list,  \n",
    "#                        class_names='format_name',\n",
    "#                        filled=True)\n",
    "\n",
    "#     dot_data = export_graphviz(clf, out_file=None, \n",
    "#                                feature_names=features_list,  \n",
    "#                                class_names=clf.classes_,  \n",
    "#                                filled=True, rounded=True,  \n",
    "#                                special_characters=True)  \n",
    "#     graph = graphviz.Source(dot_data)  \n",
    "#     graph.render(\"decision_tree\")\n",
    "#     graph.view()"
   ]
  },
  {
   "cell_type": "markdown",
   "id": "a1019516",
   "metadata": {},
   "source": [
    "# Decision tree regressor (gflops)"
   ]
  },
  {
   "cell_type": "code",
   "execution_count": 15,
   "id": "44d22b0b",
   "metadata": {
    "scrolled": false
   },
   "outputs": [
    {
     "name": "stdout",
     "output_type": "stream",
     "text": [
      "Max performance per System\n",
      "NVIDIA-P100 0.920778334485196\n",
      "NVIDIA-V100 0.88202719893277\n",
      "NVIDIA-A100 0.8998111282109865\n",
      "NVIDIA-H100 0.9488798138422984\n",
      "AMD-MI250 0.892949671353204\n",
      "AMD-EPYC-24 0.9822253313125049\n",
      "AMD-EPYC-64 0.957222001297772\n",
      "INTEL-XEON-14 0.9543999427971586\n",
      "INTEL-ICY-16 0.968659750284039\n",
      "INTEL-SAPPHIRE-56 0.9698380506420259\n",
      "ARM-NEON-80 0.9646741625867808\n",
      "ARM-GRACE-72 0.9612445482899971\n",
      "IBM-POWER9-32 0.949290902597442\n"
     ]
    }
   ],
   "source": [
    "features_list = ['mem_footprint', 'avg_nnz_per_row', 'skew', 'avg_num_neighbours', 'cross_row_similarity']\n",
    "groupdata = group_system_best\n",
    "\n",
    "validation_features_df = pd.read_csv('../benchmark_results/validation_matrices_features.csv', sep='\\t')\n",
    "validation_features_df = validation_features_df[['matrix', 'mem_footprint', 'nnz-r-avg', 'skew_coeff', 'num-neigh-avg', 'cross_row_sim-avg']]\n",
    "validation_features_df.rename(columns={'nnz-r-avg':'avg_nnz_per_row', \n",
    "                                       'skew_coeff':'skew', \n",
    "                                       'num-neigh-avg':'avg_num_neighbours', \n",
    "                                       'cross_row_sim-avg':'cross_row_similarity'}, \n",
    "                              inplace=True)\n",
    "# print(validation_features_df)\n",
    "\n",
    "print('Max performance per System')\n",
    "for system in ranges_dev:\n",
    "    tmp = groupdata[groupdata['System']==system]  \n",
    "    X_train, X_test, y_train, y_test = train_test_split(tmp[features_list], tmp['gflops'], random_state=0)\n",
    "    clf = DecisionTreeRegressor(random_state=0)\n",
    "    clf.fit(X_train, y_train)\n",
    "    y_pred = clf.predict(X_test)\n",
    "    y_pred2 = clf.predict(validation_features_df[features_list])\n",
    "    # print(X_test)\n",
    "    np.set_printoptions(precision=2)\n",
    "    # print(y_pred)\n",
    "    # print(np.asarray(y_test))\n",
    "    r2 = r2_score(y_pred, y_test)\n",
    "    print(system, r2)\n",
    "#     mse = mean_squared_error(y_test, y_pred)\n",
    "#     rmse = np.sqrt(mse)\n",
    "#     tmp_max = tmp['gflops'].max()\n",
    "#     print(f'RMSE: {rmse:.2f} (while max perf for {system} is {tmp_max:.2f})')\n",
    "\n",
    "#     fig = plt.figure(figsize=(15,10))\n",
    "#     _ = tree.plot_tree(clf, \n",
    "#                        feature_names=features_list,  \n",
    "#                        class_names='format_name',\n",
    "#                        filled=True)\n",
    "\n",
    "#     dot_data = export_graphviz(clf, out_file=None, \n",
    "#                                feature_names=features_list,  \n",
    "#                                filled=True, rounded=True,  \n",
    "#                                special_characters=True)  \n",
    "#     graph = graphviz.Source(dot_data)  \n",
    "#     graph.render(\"decision_tree\")\n",
    "#     graph.view()"
   ]
  },
  {
   "cell_type": "code",
   "execution_count": null,
   "id": "a3485fc3",
   "metadata": {},
   "outputs": [],
   "source": [
    "for index, row in validation_features_df.iterrows():\n",
    "    print(round(y_pred2[index],2), '\\t', row['matrix'])"
   ]
  }
 ],
 "metadata": {
  "kernelspec": {
   "display_name": "Python 3 (ipykernel)",
   "language": "python",
   "name": "python3"
  },
  "language_info": {
   "codemirror_mode": {
    "name": "ipython",
    "version": 3
   },
   "file_extension": ".py",
   "mimetype": "text/x-python",
   "name": "python",
   "nbconvert_exporter": "python",
   "pygments_lexer": "ipython3",
   "version": "3.8.10"
  }
 },
 "nbformat": 4,
 "nbformat_minor": 5
}
