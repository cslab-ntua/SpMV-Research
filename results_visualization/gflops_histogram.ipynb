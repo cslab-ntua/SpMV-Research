{
 "cells": [
  {
   "cell_type": "code",
   "execution_count": null,
   "id": "e3468d55",
   "metadata": {},
   "outputs": [],
   "source": [
    "import pandas as pd\n",
    "import matplotlib.pyplot as plt\n",
    "\n",
    "font=8\n",
    "#plt.rc('text', usetex=True)  \n",
    "plt.rc('xtick', labelsize=font)\n",
    "plt.rc('ytick', labelsize=font)\n",
    "plt.rc('axes', labelsize=font)\n",
    "\n",
    "\n",
    "# width - column as measured in inkscape\n",
    "width = 20\n",
    "height = width / 1.618\n",
    "\n",
    "plt.rcParams[\"figure.figsize\"] = (width,height)\n",
    "\n",
    "def histogram_it(filename):\n",
    "    header_names = ['mtx_name','distribution','placement','seed',\n",
    "                    'm','n','nz','density','A_mem_footprint','mem_range',\n",
    "                    'avg_nz_row','std_nz_row',\n",
    "                    'avg_bandwidth','std_bandwidth','avg_bandwidth_scaled','std_bandwidth_scaled',\n",
    "                    'avg_scattering','std_scattering','avg_scattering_scaled','std_scattering_scaled',\n",
    "                    'skew_coeff','avg_num_neighbours','cross_row_similarity',\n",
    "                    'implementation','time','gflops','W_avg','J_estimated', 'System']\n",
    "\n",
    "    df = pd.read_csv(filename, names = header_names)\n",
    "    if(len(filename.split('/'))>5):\n",
    "        system = filename.split('/')[5]\n",
    "        impl = filename.split('/')[-1].replace('_d.csv','')\n",
    "        print(system, '->', impl)\n",
    "    \n",
    "    print(df.gflops.max())\n",
    "    # hist = df[df['gflops']<230].hist(column=\"gflops\", bins=100)\n",
    "    hist = df[df['gflops']<230].hist(column=\"gflops\", bins=100)\n",
    "    bad_df=df[df['gflops']>230]\n",
    "    if(bad_df.shape[0]>0):\n",
    "        print(bad_df.shape, set(bad_df['implementation']))\n",
    "        # print(bad_df)"
   ]
  },
  {
   "cell_type": "code",
   "execution_count": null,
   "id": "9b4ed1c7",
   "metadata": {},
   "outputs": [],
   "source": [
    "# filename = '/mnt/various/SpMV-Research/benchmark_results/power9-m100/intermediate/rep1/synthetic/xlc_csr_d.csv'\n",
    "filename = '/home/pmpakos/SpMV-Research/benchmark_results/power9-m100/intermediate/rep1/synthetic/csr_d.csv'\n",
    "\n",
    "# /home/pmpakos/SpMV-Research/benchmark_results/power9-m100/intermediate/rep1/synthetic/csr_vector_perfect_nnz_balance_d.csv\n",
    "# /home/pmpakos/SpMV-Research/benchmark_results/power9-m100/intermediate/rep1/synthetic/merge_d.csv\n",
    "# /home/pmpakos/SpMV-Research/benchmark_results/power9-m100/intermediate/rep1/synthetic/xlc_csr_d.csv\n",
    "# /home/pmpakos/SpMV-Research/benchmark_results/power9-m100/intermediate/rep1/synthetic/xlc_csr_naive_d.csv\n",
    "\n",
    "histogram_it(filename)"
   ]
  },
  {
   "cell_type": "code",
   "execution_count": null,
   "id": "e90e1392",
   "metadata": {},
   "outputs": [],
   "source": [
    "filename = '/home/pmpakos/SpMV-Research/benchmark_results/power9-m100/intermediate/rep1/synthetic/csr_vector_d.csv'\n",
    "histogram_it(filename)"
   ]
  },
  {
   "cell_type": "code",
   "execution_count": null,
   "id": "093b5e1e",
   "metadata": {},
   "outputs": [],
   "source": [
    "filename = '/home/pmpakos/SpMV-Research/benchmark_results/power9-m100/intermediate/rep1/synthetic/csr_vector_perfect_nnz_balance_d.csv'\n",
    "histogram_it(filename)"
   ]
  },
  {
   "cell_type": "code",
   "execution_count": null,
   "id": "4779e42f",
   "metadata": {},
   "outputs": [],
   "source": [
    "filename = '/home/pmpakos/SpMV-Research/benchmark_results/power9-m100/intermediate/rep1/synthetic/merge_d.csv'\n",
    "histogram_it(filename)"
   ]
  },
  {
   "cell_type": "code",
   "execution_count": null,
   "id": "87bcd683",
   "metadata": {},
   "outputs": [],
   "source": [
    "filename = '/home/pmpakos/SpMV-Research/benchmark_results/power9-m100/intermediate/rep1/synthetic/xlc_csr_d.csv'\n",
    "histogram_it(filename)"
   ]
  },
  {
   "cell_type": "code",
   "execution_count": null,
   "id": "9f9566c3",
   "metadata": {},
   "outputs": [],
   "source": [
    "filename = '/home/pmpakos/SpMV-Research/benchmark_results/power9-m100/intermediate/rep1/synthetic/xlc_csr_naive_d.csv'\n",
    "histogram_it(filename)"
   ]
  },
  {
   "cell_type": "code",
   "execution_count": null,
   "id": "5aebb324",
   "metadata": {},
   "outputs": [],
   "source": []
  }
 ],
 "metadata": {
  "kernelspec": {
   "display_name": "Python 3 (ipykernel)",
   "language": "python",
   "name": "python3"
  },
  "language_info": {
   "codemirror_mode": {
    "name": "ipython",
    "version": 3
   },
   "file_extension": ".py",
   "mimetype": "text/x-python",
   "name": "python",
   "nbconvert_exporter": "python",
   "pygments_lexer": "ipython3",
   "version": "3.8.10"
  }
 },
 "nbformat": 4,
 "nbformat_minor": 5
}
