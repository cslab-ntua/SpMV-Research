{
 "cells": [
  {
   "cell_type": "code",
   "execution_count": 116,
   "metadata": {},
   "outputs": [],
   "source": [
    "import pandas as pd\n",
    "import math\n",
    "import matplotlib as mpl\n",
    "#mpl.use('pdf')\n",
    "import matplotlib.pyplot as plt\n",
    "import matplotlib.font_manager\n",
    "import numpy as np\n",
    "from collections import OrderedDict\n",
    "import matplotlib\n",
    "import seaborn as sns\n",
    "#Red\n",
    "red1= sns.color_palette(\"Reds_d\",1)\n",
    "red2= sns.color_palette(\"Reds_d\",2)\n",
    "red3= sns.color_palette(\"Reds_d\",3)\n",
    "red4= sns.color_palette(\"Reds_d\",4)\n",
    "red5= sns.color_palette(\"Reds_d\",5)\n",
    "red6= sns.color_palette(\"Reds_d\",6)\n",
    "red7= sns.color_palette(\"Reds_d\",7)\n",
    "red8= sns.color_palette(\"Reds_d\",8)\n",
    "\n",
    "#YellowGreen\n",
    "yg1= sns.color_palette(\"YlGn_d\",1)\n",
    "yg2= sns.color_palette(\"YlGn_d\",2)\n",
    "yg3= sns.color_palette(\"YlGn_d\",3)\n",
    "yg4= sns.color_palette(\"YlGn_d\",4)\n",
    "yg5= sns.color_palette(\"YlGn_d\",5)\n",
    "yg7= sns.color_palette(\"YlGn_d\",7)\n",
    "\n",
    "#GreenBlue\n",
    "gb1= sns.color_palette(\"GnBu_d\",1)\n",
    "gb2= sns.color_palette(\"GnBu_d\",2)\n",
    "gb3= sns.color_palette(\"GnBu_d\",3)\n",
    "gb4= sns.color_palette(\"GnBu_d\",4)\n",
    "gb5= sns.color_palette(\"GnBu_d\",5)\n",
    "gb6= sns.color_palette(\"GnBu_d\",6)\n",
    "gb7= sns.color_palette(\"GnBu_d\",7)\n",
    "gb8= sns.color_palette(\"GnBu_d\",8)\n",
    "\n",
    "cp2 = list(map(lambda x: sns.desaturate(x,0.9),[red7[2],gb7[4]]))\n",
    "cp2v1 = list(map(lambda x: sns.desaturate(x,0.9),[red7[2],yg7[0]]))\n",
    "cp3 = list(map(lambda x: sns.desaturate(x,0.9),[yg7[0],gb7[4],red7[2]]))\n",
    "#cp4 = list(map(lambda x: sns.desaturate(x,0.9),red1+gb2+yg1))\n",
    "cp2_2 = list(map(lambda x: sns.desaturate(x,0.9),[red7[0],red7[3],gb7[4],gb7[6]]))\n",
    "cp_total_spectrum = list(map(lambda x: sns.desaturate(x,0.9),gb7 + yg7 + red7))"
   ]
  },
  {
   "cell_type": "code",
   "execution_count": 117,
   "metadata": {},
   "outputs": [
    {
     "data": {
      "text/html": [
       "<svg  width=\"110\" height=\"55\"><rect x=\"0\" y=\"0\" width=\"55\" height=\"55\" style=\"fill:#e15246;stroke-width:2;stroke:rgb(255,255,255)\"/><rect x=\"55\" y=\"0\" width=\"55\" height=\"55\" style=\"fill:#4486a0;stroke-width:2;stroke:rgb(255,255,255)\"/></svg>"
      ],
      "text/plain": [
       "[(0.8807358708189157, 0.32277047289504046, 0.2744659746251443),\n",
       " (0.2649160579264386, 0.5270152505446624, 0.6269460463924131)]"
      ]
     },
     "execution_count": 117,
     "metadata": {},
     "output_type": "execute_result"
    }
   ],
   "source": [
    "sns.set_palette(cp2)\n",
    "sns.color_palette()"
   ]
  },
  {
   "cell_type": "code",
   "execution_count": 118,
   "metadata": {},
   "outputs": [
    {
     "data": {
      "text/html": [
       "<svg  width=\"110\" height=\"55\"><rect x=\"0\" y=\"0\" width=\"55\" height=\"55\" style=\"fill:#e15246;stroke-width:2;stroke:rgb(255,255,255)\"/><rect x=\"55\" y=\"0\" width=\"55\" height=\"55\" style=\"fill:#9cce89;stroke-width:2;stroke:rgb(255,255,255)\"/></svg>"
      ],
      "text/plain": [
       "[(0.8807358708189157, 0.32277047289504046, 0.2744659746251443),\n",
       " (0.6120315263360248, 0.8081330257593234, 0.5357962322183777)]"
      ]
     },
     "execution_count": 118,
     "metadata": {},
     "output_type": "execute_result"
    }
   ],
   "source": [
    "sns.set_palette(cp2v1)\n",
    "sns.color_palette()"
   ]
  },
  {
   "cell_type": "code",
   "execution_count": 119,
   "metadata": {},
   "outputs": [
    {
     "data": {
      "text/html": [
       "<svg  width=\"165\" height=\"55\"><rect x=\"0\" y=\"0\" width=\"55\" height=\"55\" style=\"fill:#9cce89;stroke-width:2;stroke:rgb(255,255,255)\"/><rect x=\"55\" y=\"0\" width=\"55\" height=\"55\" style=\"fill:#4486a0;stroke-width:2;stroke:rgb(255,255,255)\"/><rect x=\"110\" y=\"0\" width=\"55\" height=\"55\" style=\"fill:#e15246;stroke-width:2;stroke:rgb(255,255,255)\"/></svg>"
      ],
      "text/plain": [
       "[(0.6120315263360248, 0.8081330257593234, 0.5357962322183777),\n",
       " (0.2649160579264386, 0.5270152505446624, 0.6269460463924131),\n",
       " (0.8807358708189157, 0.32277047289504046, 0.2744659746251443)]"
      ]
     },
     "execution_count": 119,
     "metadata": {},
     "output_type": "execute_result"
    }
   ],
   "source": [
    "sns.set_palette(cp3)\n",
    "sns.color_palette()"
   ]
  },
  {
   "cell_type": "code",
   "execution_count": 120,
   "metadata": {},
   "outputs": [
    {
     "data": {
      "text/html": [
       "<svg  width=\"275\" height=\"55\"><rect x=\"0\" y=\"0\" width=\"55\" height=\"55\" style=\"fill:#067906;stroke-width:2;stroke:rgb(255,255,255)\"/><rect x=\"55\" y=\"0\" width=\"55\" height=\"55\" style=\"fill:#f20d0d;stroke-width:2;stroke:rgb(255,255,255)\"/><rect x=\"110\" y=\"0\" width=\"55\" height=\"55\" style=\"fill:#0d0df2;stroke-width:2;stroke:rgb(255,255,255)\"/><rect x=\"165\" y=\"0\" width=\"55\" height=\"55\" style=\"fill:#f2a10d;stroke-width:2;stroke:rgb(255,255,255)\"/><rect x=\"220\" y=\"0\" width=\"55\" height=\"55\" style=\"fill:#808080;stroke-width:2;stroke:rgb(255,255,255)\"/></svg>"
      ],
      "text/plain": [
       "[(0.025000000000000022, 0.475, 0.025000000000000022),\n",
       " (0.95, 0.050000000000000044, 0.050000000000000044),\n",
       " (0.050000000000000044, 0.050000000000000044, 0.95),\n",
       " (0.95, 0.6323529411764707, 0.050000000000000044),\n",
       " (0.5019607843137255, 0.5019607843137255, 0.5019607843137255)]"
      ]
     },
     "execution_count": 120,
     "metadata": {},
     "output_type": "execute_result"
    }
   ],
   "source": [
    "cpbasic = list(map(lambda x: sns.desaturate(x,0.9),['g','r','b','orange','grey']))\n",
    "sns.set_palette(cpbasic)\n",
    "sns.color_palette()"
   ]
  },
  {
   "cell_type": "code",
   "execution_count": 121,
   "metadata": {},
   "outputs": [
    {
     "data": {
      "image/png": "[encoded data removed]",
      "text/plain": [
       "<Figure size 432x288 with 1 Axes>"
      ]
     },
     "metadata": {
      "needs_background": "light"
     },
     "output_type": "display_data"
    }
   ],
   "source": [
    "font=8\n",
    "plt.rc('font', family='serif', serif='Times')\n",
    "#plt.rc('text', usetex=True)\n",
    "plt.rc('xtick', labelsize=font-1)\n",
    "plt.rc('ytick', labelsize=font-1)\n",
    "plt.rc('axes', labelsize=font)\n",
    "\n",
    "\n",
    "# width as measured in inkscape\n",
    "width = 3.487\n",
    "height = width / 1.618*3/2\n",
    "\n",
    "fig, axs = plt.subplots()\n",
    "#fig.subplots_adjust(left=.15, bottom=.16, right=.99, top=.97)\n",
    "fig.subplots_adjust(left=.15, bottom=.08, right=.99, top=.94)\n",
    "\n",
    "#import seaborn as sns\n",
    "#sns.set(style=\"whitegrid\", palette=cpbasic,font_scale=0.2, rc={\"lines.linewidth\": 1})"
   ]
  },
  {
   "cell_type": "markdown",
   "metadata": {},
   "source": [
    "# Read GPU Data (panastas)"
   ]
  },
  {
   "cell_type": "code",
   "execution_count": 122,
   "metadata": {},
   "outputs": [],
   "source": [
    "# import string as str\n",
    "reps = 1\n",
    "implementations = ['cuSPARSE_csr11', 'cuSPARSE_coo11', 'CSR5_9', 'cuSPARSE_csr9-2', 'cuSPARSE_hyb9-2']\n",
    "#['OMP_csr-40', 'cuSPARSE_csr', 'cuSPARSE_hyb', 'cuSPARSE_bsr-2', 'cuSPARSE_bsr-4', 'cuSPARSE_bsr-16', 'cuSPARSE_bsr-64', 'cuCSR5']\n",
    "dtypes=['D']\n",
    "for dtype in dtypes:\n",
    "    #Unified read\n",
    "    fname = \"silver1-TeslaV100_dtype-%s_run_dataset.csv\" % dtype\n",
    "    inputdata_GPU = pd.read_csv('../Benchmarks/%s' % fname, names = \n",
    "                            ['mtx_name','distribution','placement','diagonal_factor', 'seed','m','n','nz',\n",
    "                             'density','A_mem_footprint','mem_range','avg_nz_row','std_nz_row','avg_bandwidth',\n",
    "                            'std_bandwidth','avg_scattering','std_scattering','implementation','time','gflops','W_avg', 'J_estimated'])\n",
    "    inputdata_GPU['System'] = 'TeslaV100'\n",
    "   # print(inputdata_GPU.head(2))"
   ]
  },
  {
   "cell_type": "markdown",
   "metadata": {},
   "source": [
    "# Read CPU Data (dgal)"
   ]
  },
  {
   "cell_type": "code",
   "execution_count": 123,
   "metadata": {},
   "outputs": [],
   "source": [
    "\n",
    "names = ['mtx_name','distribution','placement','diagonal_factor', 'seed','m','n','nz',\n",
    "        'density','A_mem_footprint','mem_range','avg_nz_row','std_nz_row','avg_bandwidth',\n",
    "        'std_bandwidth','avg_scattering','std_scattering','implementation','time','gflops','W_avg', 'J_estimated']\n",
    "\n",
    "\n",
    "fname = \"hawk_csr_naive_normal_4-2048_t64_d.out\" \n",
    "inputdata_csrnaive_64 = pd.read_csv('../Benchmarks/%s' % fname, names=names)\n",
    "inputdata_csrnaive_64['System'] = 'HawkAmdRome'\n",
    "inputdata_csrnaive_64['implementation'] = 'Naive_CSR_CPU_64'\n",
    "\n",
    "fname = \"hawk_csr_naive_normal_4-2048_t128_d.out\" \n",
    "inputdata_csrnaive_128 = pd.read_csv('../Benchmarks/%s' % fname, names=names)\n",
    "inputdata_csrnaive_128['System'] = 'HawkAmdRome'\n",
    "inputdata_csrnaive_128['implementation'] = 'Naive_CSR_CPU_128'\n",
    "\n",
    "\n",
    "fname = \"hawk_csr5_normal_4-2048_t64_d.out\"\n",
    "inputdata_csr5cpu_64 = pd.read_csv('../Benchmarks/%s' % fname, names=names)\n",
    "inputdata_csr5cpu_64['System'] = 'HawkAmdRome'\n",
    "inputdata_csr5cpu_64['implementation'] = 'CSR5_CPU_64'\n",
    "\n",
    "fname = \"hawk_csr5_normal_4-2048_t128_d.out\"\n",
    "inputdata_csr5cpu_128 = pd.read_csv('../Benchmarks/%s' % fname, names=names)\n",
    "inputdata_csr5cpu_128['System'] = 'HawkAmdRome'\n",
    "inputdata_csr5cpu_128['implementation'] = 'CSR5_CPU_128'\n",
    "\n",
    "\n",
    "fname = \"hawk_mkl_ie_normal_4-2048_t64_d.out\"\n",
    "inputdata_mkl_64 = pd.read_csv('../Benchmarks/%s' % fname, names=names)\n",
    "inputdata_mkl_64['System'] = 'HawkAmdRome'\n",
    "inputdata_mkl_64['implementation'] = 'MKL_IE_64'\n",
    "\n",
    "fname = \"hawk_mkl_ie_normal_4-2048_t128_d.out\"\n",
    "inputdata_mkl_128 = pd.read_csv('../Benchmarks/%s' % fname, names=names)\n",
    "inputdata_mkl_128['System'] = 'HawkAmdRome'\n",
    "inputdata_mkl_128['implementation'] = 'MKL_IE_128'\n",
    "\n",
    "inputdata_CPU = pd.concat([\n",
    "    inputdata_csrnaive_64, inputdata_csrnaive_128,\n",
    "    inputdata_csr5cpu_64, inputdata_csr5cpu_128,\n",
    "    inputdata_mkl_64, inputdata_mkl_128\n",
    "    ])\n"
   ]
  },
  {
   "cell_type": "markdown",
   "metadata": {},
   "source": [
    "# Read FPGA Data (pmpakos)"
   ]
  },
  {
   "cell_type": "code",
   "execution_count": 124,
   "metadata": {},
   "outputs": [],
   "source": [
    "    fname = \"xilinx_spmv_4-2048_small_normal_dataset_dtype-%s.csv\" % dtype\n",
    "    inputdata_FPGA = pd.read_csv('../Benchmarks/%s' % fname, names = \n",
    "                    ['mtx_name','distribution','placement','diagonal_factor', 'seed','m','n','nz',\n",
    "                     'density','A_mem_footprint','mem_range','avg_nz_row','std_nz_row','avg_bandwidth',\n",
    "                    'std_bandwidth','avg_scattering','std_scattering','implementation','time','gflops','W_avg', 'J_estimated'])\n",
    "    inputdata_FPGA['System'] = 'FPGA'\n",
    "    #print(inputdata_FPGA.head(2))"
   ]
  },
  {
   "cell_type": "markdown",
   "metadata": {},
   "source": [
    "# Fix problem with scattering (being calculated before dividing with nr_cols) \n",
    "\n",
    "# <font color='red'>FIXME</font> \n",
    "(Don't know if this issue occurs any more with dgal generator)\n"
   ]
  },
  {
   "cell_type": "code",
   "execution_count": 125,
   "metadata": {},
   "outputs": [],
   "source": [
    "    # MPAKOS fix columns div\n",
    "    inputdata_GPU['avg_scattering'] = inputdata_GPU['avg_scattering']/inputdata_GPU['n']\n",
    "    inputdata_GPU['std_scattering'] = inputdata_GPU['std_scattering']/inputdata_GPU['n']\n",
    "    "
   ]
  },
  {
   "cell_type": "markdown",
   "metadata": {},
   "source": [
    "# Concatenate all data, place in *inputdata* dataframe"
   ]
  },
  {
   "cell_type": "code",
   "execution_count": 126,
   "metadata": {},
   "outputs": [],
   "source": [
    "    # Merge the results\n",
    "    inputdata = pd.concat([inputdata_GPU,inputdata_CPU])\n",
    "    inputdata = pd.concat([inputdata,inputdata_FPGA])"
   ]
  },
  {
   "cell_type": "code",
   "execution_count": 127,
   "metadata": {},
   "outputs": [],
   "source": [
    "    # Group per reps, take mean\n",
    "    groupreps = inputdata.groupby(['mtx_name','distribution','placement','diagonal_factor', 'seed','m','n', \n",
    "                             'density','A_mem_footprint','mem_range','nz','avg_nz_row','std_nz_row','avg_bandwidth',\n",
    "                            'std_bandwidth','avg_scattering','std_scattering', 'implementation','System']).mean().reset_index()"
   ]
  },
  {
   "cell_type": "markdown",
   "metadata": {},
   "source": [
    "---\n",
    "# Initiate plotting phase"
   ]
  },
  {
   "cell_type": "code",
   "execution_count": 128,
   "metadata": {},
   "outputs": [],
   "source": [
    "    plot_x_axis = ['mem_range']\n",
    "    select_criterion = (groupreps['avg_nz_row'] > 19) & ( groupreps['std_nz_row'] > 1 ) & ( groupreps['std_nz_row'] < 8.03) & ( groupreps['implementation'] == 'Xilinx_SpMV') # & (groupreps['nz'] > 100000)\n",
    "    select_str = 'avg_nz_row > 19, std_nz_row > 1 , std_nz_row < 8.03\\nImplementation = Xilinx_SpMV'\n",
    "    select_str_id = select_str.replace('=', 'eq').replace('<', 'l').replace('>', 'g').replace(', ', '_').replace(',', '_').replace('\\n', '_').replace(' ', '-')\n",
    "    groupreps_select = groupreps[select_criterion]\n",
    "    #groupbench = groupreps_select.groupby(['mtx_name','distribution','placement','diagonal_factor', 'seed','m','n', 'density','A_mem_footprint','mem_range','nz','avg_nz_row','std_nz_row','avg_bandwidth', 'std_bandwidth','avg_scattering','std_scattering'], as_index =False)\n",
    "    \n",
    "    plot_x_axis = [] # remove this line, if you want to plot Xilinx_SpMV results\n",
    "    if ('mem_range' in plot_x_axis):\n",
    "        #groupreps_select_sorted = groupreps_select.assign(sorter_col = groupreps_select['mem_range'].split('-').split('[')[1]).sort_values('sorter_col').drop('sorter_col', axis=1)\n",
    "        groupreps_select_sorted = groupreps_select.sort_values('A_mem_footprint')\n",
    "        fig, axs = plt.subplots()\n",
    "        sns_plot = sns.boxplot(data=groupreps_select_sorted, x=\"mem_range\", y=\"gflops\", ax=axs)\n",
    "        axs.set_title('Dataset %s' %(select_str))\n",
    "        fig.subplots_adjust(left=.1, bottom=.2, right=.99, top=.88)\n",
    "        plt.xticks(rotation=30)\n",
    "        fig.savefig('./Plot_tries/Select_%s_plot_per_memrange.pdf' % (select_str_id) )\n",
    "        plt.close()"
   ]
  },
  {
   "cell_type": "code",
   "execution_count": 129,
   "metadata": {},
   "outputs": [],
   "source": [
    "    if ('implementation' in plot_x_axis):\n",
    "        fig, axs = plt.subplots()\n",
    "        sns_plot = sns.boxplot(data=groupreps_select, x=\"implementation\", y=\"gflops\", ax=axs)\n",
    "        axs.set_title('Dataset %s' %(select_str))\n",
    "        fig.subplots_adjust(left=.1, bottom=.2, right=.99, top=.94)\n",
    "        plt.xticks(rotation=30)\n",
    "        fig.savefig('./Plot_tries/Select_%s_plot_per_format.pdf' % (select_str_id) )\n",
    "        plt.close()"
   ]
  },
  {
   "cell_type": "code",
   "execution_count": 130,
   "metadata": {},
   "outputs": [],
   "source": [
    "    if ('distribution' in plot_x_axis):\n",
    "        fig, axs = plt.subplots() \n",
    "        sns_plot = sns.boxplot(data=groupreps_select, x=\"distribution\", y=\"gflops\", ax=axs)\n",
    "        axs.set_title('Dataset %s' %(select_str))\n",
    "        fig.subplots_adjust(left=.1, bottom=.2, right=.99, top=.94)\n",
    "        plt.xticks(rotation=30)\n",
    "        fig.savefig('./Plot_tries/Select_%s_plot_per_dist.pdf' % (select_str_id) )\n",
    "        plt.close()"
   ]
  },
  {
   "cell_type": "code",
   "execution_count": 131,
   "metadata": {},
   "outputs": [],
   "source": [
    "    if ('density' in plot_x_axis):\n",
    "        fig, axs = plt.subplots() \n",
    "        sns_plot = sns.scatterplot(data=groupreps_select, x=\"density\", y=\"gflops\", ax=axs)\n",
    "        axs.set_title('Dataset %s' %(select_str))\n",
    "        fig.subplots_adjust(left=.1, bottom=.2, right=.99, top=.94)\n",
    "        plt.xticks(rotation=30)\n",
    "        fig.savefig('./Plot_tries/Select_%s_plot_per_density.pdf' % (select_str_id) )\n",
    "        plt.close()"
   ]
  },
  {
   "cell_type": "code",
   "execution_count": 132,
   "metadata": {},
   "outputs": [],
   "source": [
    "    if ('A_mem_footprint' in plot_x_axis):\n",
    "        fig, axs = plt.subplots() \n",
    "        sns_plot = sns.scatterplot(data=groupreps_select, x=\"A_mem_footprint\", y=\"gflops\", ax=axs)\n",
    "        axs.set_title('Dataset %s' %(select_str))\n",
    "        fig.subplots_adjust(left=.1, bottom=.2, right=.99, top=.94)\n",
    "        plt.xticks(rotation=30)\n",
    "        fig.savefig('./Plot_tries/Select_%s_plot_per_memfoot.pdf' % (select_str_id) )\n",
    "        plt.close()"
   ]
  },
  {
   "cell_type": "code",
   "execution_count": 133,
   "metadata": {},
   "outputs": [],
   "source": [
    "    if ('m' in plot_x_axis):\n",
    "        fig, axs = plt.subplots() \n",
    "        sns_plot = sns.boxplot(data=groupreps_select, x=\"m\", y=\"gflops\", ax=axs)\n",
    "        axs.set_title('Dataset %s' %(select_str))\n",
    "        fig.subplots_adjust(left=.1, bottom=.2, right=.99, top=.94)\n",
    "        plt.xticks(rotation=30)\n",
    "        fig.savefig('./Plot_tries/Select_%s_plot_per_m.pdf' % (select_str_id) )\n",
    "        plt.close()\n",
    "        #fig, axs = plt.subplots() \n",
    "        #sns_plot = sns.boxplot(data=groupreps_select, x=\"n\", y=\"gflops\", ax=axs)\n",
    "        #axs.set_title('Dataset %s' %(select_str))\n",
    "        #fig.savefig('./Plot_tries/Select_%s_plot_per_n.pdf' % (select_str_id) )\n",
    "        #plt.close()"
   ]
  },
  {
   "cell_type": "code",
   "execution_count": 134,
   "metadata": {},
   "outputs": [],
   "source": [
    "    if ('nz' in plot_x_axis):\n",
    "        fig, axs = plt.subplots() \n",
    "        sns_plot = sns.scatterplot(data=groupreps_select, x=\"nz\", y=\"gflops\", ax=axs)\n",
    "        axs.set_title('Dataset %s' %(select_str))\n",
    "        fig.subplots_adjust(left=.1, bottom=.2, right=.99, top=.94)\n",
    "        plt.xticks(rotation=30)\n",
    "        fig.savefig('./Plot_tries/Select_%s_plot_per_nz.pdf' % (select_str_id) )\n",
    "        plt.close()"
   ]
  },
  {
   "cell_type": "code",
   "execution_count": 135,
   "metadata": {},
   "outputs": [],
   "source": [
    "    if ('avg_nz_row' in plot_x_axis):\n",
    "        fig, axs = plt.subplots() \n",
    "        sns_plot = sns.scatterplot(data=groupreps_select, x=\"avg_nz_row\", y=\"gflops\", ax=axs)\n",
    "        axs.set_title('Dataset %s' %(select_str))\n",
    "        fig.subplots_adjust(left=.1, bottom=.2, right=.99, top=.94)\n",
    "        plt.xticks(rotation=30)\n",
    "        fig.savefig('./Plot_tries/Select_%s_plot_per_avg_nz_row.pdf' % (select_str_id) )\n",
    "        plt.close()"
   ]
  },
  {
   "cell_type": "code",
   "execution_count": 136,
   "metadata": {},
   "outputs": [],
   "source": [
    "    # Group per system, take best\n",
    "    group_system = inputdata.groupby(['mtx_name','distribution','placement','diagonal_factor', 'seed','m','n', \n",
    "                             'density','A_mem_footprint','mem_range','nz','avg_nz_row','std_nz_row','avg_bandwidth',\n",
    "                            'std_bandwidth','avg_scattering','std_scattering', 'System'], as_index = False)\n",
    "    reslist = []\n",
    "    for desc, experiment in group_system:\n",
    "        best_format = experiment['implementation'].iloc[experiment['gflops'].argmax()]\n",
    "        outrow = experiment[experiment['implementation'] == best_format]\n",
    "        reslist.append(outrow.values.tolist()[0])\n",
    "        #print(outrow.values.tolist()[0])\n",
    "    group_system_best = pd.DataFrame(reslist, columns =['mtx_name','distribution','placement','diagonal_factor', 'seed','m','n','nz',\n",
    "                     'density','A_mem_footprint','mem_range','avg_nz_row','std_nz_row','avg_bandwidth',\n",
    "                    'std_bandwidth','avg_scattering','std_scattering','implementation','time','gflops','W_avg', 'J_estimated', 'System'])\n",
    "    "
   ]
  },
  {
   "cell_type": "markdown",
   "metadata": {},
   "source": [
    "---\n",
    "# Q1"
   ]
  },
  {
   "cell_type": "code",
   "execution_count": 137,
   "metadata": {},
   "outputs": [],
   "source": [
    "    # Q1 : Impact of memory footprint, all other features are “good”\n",
    "    # device = GPU\n",
    "    # average nnz/row > 20\n",
    "    # Stdev nnz/row in  [1, 8.03]\n",
    "    # Bandwidth = “~nnz/row” (κατά προτίμηση μαζεμένα γύρω από τη διαγώνιο τα nnz)\n",
    "    # X axis : memory footprint ranges (boxplot)\n",
    "\n",
    "    plot_x_axis_best = ['mem_range']\n",
    "    select_criterion = ( group_system_best['std_nz_row'] > 1 ) \\\n",
    "    & ( group_system_best['avg_nz_row'] > 19) \\\n",
    "    & ( group_system_best['std_nz_row'] < 8.03) \\\n",
    "    & ((group_system_best['diagonal_factor'] == 0.5) | (group_system_best['diagonal_factor'] == 0.05)) \\\n",
    "    & ( group_system_best['System'] == 'TeslaV100')  # & (groupreps['nz'] > 100000)\n",
    "    \n",
    "    select_str = 'avg_nz_row > 19, std_nz_row > 1, std_nz_row < 8.03\\ndf = 0.5,0.05, Best of System = TeslaV100'\n",
    "    \n",
    "    select_str_id = select_str.replace('=', 'eq').replace('<', 'l').replace('>', 'g').replace(', ', '_').replace(',', '_').replace('\\n', '_').replace(' ', '-')\n",
    "    groupreps_select_best = group_system_best[select_criterion]\n",
    "    \n",
    "    # Plot best per system with x mem ranges\n",
    "    if ('mem_range' in plot_x_axis_best):\n",
    "        #groupreps_select_sorted = groupreps_select.assign(sorter_col = groupreps_select['mem_range'].split('-').split('[')[1]).sort_values('sorter_col').drop('sorter_col', axis=1)\n",
    "        groupreps_select_sorted = groupreps_select_best.sort_values('A_mem_footprint')\n",
    "        fig, axs = plt.subplots()\n",
    "        sns_plot = sns.boxplot(data=groupreps_select_sorted, x=\"mem_range\", y=\"gflops\", ax=axs)\n",
    "        axs.set_title('Dataset %s' %(select_str))\n",
    "        fig.subplots_adjust(left=.1, bottom=.2, right=.99, top=.88)\n",
    "        plt.xticks(rotation=30)\n",
    "        fig.savefig('./Plot_tries/Q1_Select_%s_plot_per_memrange.pdf' % (select_str_id) )\n",
    "        plt.close()\n"
   ]
  },
  {
   "cell_type": "code",
   "execution_count": 138,
   "metadata": {},
   "outputs": [],
   "source": [
    "    # Q1 : Impact of memory footprint, all other features are “good”\n",
    "    # device = GPU\n",
    "    # average nnz/row > 20\n",
    "    # Stdev nnz/row in  [1, 8.03]\n",
    "    # Bandwidth = “~nnz/row” (κατά προτίμηση μαζεμένα γύρω από τη διαγώνιο τα nnz)\n",
    "    # X axis : avg_nz_row\n",
    "\n",
    "    plot_x_axis_best = ['avg_nz_row']\n",
    "    select_criterion = ( group_system_best['std_nz_row'] > 1 ) \\\n",
    "    & ( group_system_best['avg_nz_row'] > 19) \\\n",
    "    & ( group_system_best['std_nz_row'] < 8.03) \\\n",
    "    & ((group_system_best['diagonal_factor'] == 0.5) | (group_system_best['diagonal_factor'] == 0.05)) \\\n",
    "    & ( group_system_best['System'] == 'TeslaV100')  # & (groupreps['nz'] > 100000)\n",
    "    \n",
    "    select_str = 'avg_nz_row > 19, std_nz_row > 1, std_nz_row < 8.03\\ndf = 0.5,0.05, Best of System = TeslaV100'\n",
    "    \n",
    "    select_str_id = select_str.replace('=', 'eq').replace('<', 'l').replace('>', 'g').replace(', ', '_').replace(',', '_').replace('\\n', '_').replace(' ', '-')\n",
    "    groupreps_select_best = group_system_best[select_criterion]\n",
    "    groupreps_select_best = groupreps_select_best.round({\"avg_nz_row\":2})\n",
    "    \n",
    "    # Plot best per system with x m\n",
    "    if ('avg_nz_row' in plot_x_axis_best):\n",
    "        #groupreps_select_sorted = groupreps_select.assign(sorter_col = groupreps_select['mem_range'].split('-').split('[')[1]).sort_values('sorter_col').drop('sorter_col', axis=1)\n",
    "        groupreps_select_sorted = groupreps_select_best.sort_values('avg_nz_row')\n",
    "        fig, axs = plt.subplots()\n",
    "        sns_plot = sns.boxplot(data=groupreps_select_sorted, x=\"avg_nz_row\", y=\"gflops\", ax=axs)\n",
    "        axs.set_title('Dataset %s' %(select_str))\n",
    "        fig.subplots_adjust(left=.1, bottom=.2, right=.99, top=.88)\n",
    "        plt.xticks(rotation=30)\n",
    "        fig.savefig('./Plot_tries/Q1_extra_Select_%s_plot_per_avg_nz_row.pdf' % (select_str_id) )\n",
    "        plt.close()"
   ]
  },
  {
   "cell_type": "markdown",
   "metadata": {},
   "source": [
    "# Q2"
   ]
  },
  {
   "cell_type": "code",
   "execution_count": 139,
   "metadata": {},
   "outputs": [],
   "source": [
    "    # Q2 : Impact of memory footprint, all other features are “good”\n",
    "    # device = CPU\n",
    "    # average nnz/row > 20\n",
    "    # Stdev nnz/row in  [1, 8.03]\n",
    "    # Bandwidth = “~nnz/row” (κατά προτίμηση μαζεμένα γύρω από τη διαγώνιο τα nnz)\n",
    "    # X axis : memory footprint ranges (boxplot)\n",
    "    \n",
    "    plot_x_axis_best = ['mem_range']\n",
    "    select_criterion = ( group_system_best['std_nz_row'] > 1 ) \\\n",
    "    & ( group_system_best['avg_nz_row'] > 19) \\\n",
    "    & ( group_system_best['std_nz_row'] < 8.03) \\\n",
    "    & ((group_system_best['diagonal_factor'] == 0.5) | (group_system_best['diagonal_factor'] == 0.05)) \\\n",
    "    & ( group_system_best['System'] == 'HawkAmdRome')  # & (groupreps['nz'] > 100000)\n",
    "    \n",
    "    select_str = 'avg_nz_row > 19, std_nz_row > 1, std_nz_row < 8.03\\ndf = 0.5,0.05, Best of System = HawkAmdRome'\n",
    "    \n",
    "    select_str_id = select_str.replace('=', 'eq').replace('<', 'l').replace('>', 'g').replace(', ', '_').replace(',', '_').replace('\\n', '_').replace(' ', '-')\n",
    "    groupreps_select_best = group_system_best[select_criterion]\n",
    "    \n",
    "    \n",
    "    # Plot best per system with x mem ranges\n",
    "    if ('mem_range' in plot_x_axis_best):\n",
    "        #groupreps_select_sorted = groupreps_select.assign(sorter_col = groupreps_select['mem_range'].split('-').split('[')[1]).sort_values('sorter_col').drop('sorter_col', axis=1)\n",
    "        groupreps_select_sorted = groupreps_select_best.sort_values('A_mem_footprint')\n",
    "        fig, axs = plt.subplots()\n",
    "        sns_plot = sns.boxplot(data=groupreps_select_sorted, x=\"mem_range\", y=\"gflops\", ax=axs)\n",
    "        axs.set_title('Dataset %s' %(select_str))\n",
    "        fig.subplots_adjust(left=.1, bottom=.2, right=.99, top=.88)\n",
    "        plt.xticks(rotation=30)\n",
    "        fig.savefig('./Plot_tries/Q2_Select_%s_plot_per_memrange.pdf' % (select_str_id) )\n",
    "        plt.close()\n"
   ]
  },
  {
   "cell_type": "markdown",
   "metadata": {},
   "source": [
    "# Q1 + Q2"
   ]
  },
  {
   "cell_type": "code",
   "execution_count": 140,
   "metadata": {},
   "outputs": [],
   "source": [
    "    # Q1 + Q2 : Plot best per system in the same boxplot\n",
    "    if True:\n",
    "        select_criterion = ( group_system_best['std_nz_row'] > 1 ) \\\n",
    "        & ( group_system_best['avg_nz_row'] > 19) \\\n",
    "        & ( group_system_best['std_nz_row'] < 8.03) \\\n",
    "        & ((group_system_best['diagonal_factor'] == 0.5) | (group_system_best['diagonal_factor'] == 0.05)) \\\n",
    "        & ( group_system_best['System'] != 'FPGA') # & (groupreps['nz'] > 100000)\n",
    "        \n",
    "        select_str = 'avg_nz_row > 19, std_nz_row > 1, std_nz_row < 8.03\\ndf = 0.5,0.05, Best per System'\n",
    "        \n",
    "        select_str_id = select_str.replace('=', 'eq').replace('<', 'l').replace('>', 'g').replace(', ', '_').replace(',', '_').replace('\\n', '_').replace(' ', '-')\n",
    "        groupreps_select_best = group_system_best[select_criterion]\n",
    "\n",
    "        #groupreps_select_sorted = groupreps_select.assign(sorter_col = groupreps_select['mem_range'].split('-').split('[')[1]).sort_values('sorter_col').drop('sorter_col', axis=1)\n",
    "        groupreps_select_sorted = groupreps_select_best.sort_values('A_mem_footprint')\n",
    "        fig, axs = plt.subplots()\n",
    "        sns_plot = sns.boxplot(data=groupreps_select_sorted, x=\"mem_range\", y=\"gflops\", hue = \"System\", ax=axs)\n",
    "        axs.set_title('Dataset %s' %(select_str))\n",
    "        fig.subplots_adjust(left=.1, bottom=.2, right=.99, top=.88)\n",
    "        plt.xticks(rotation=30)\n",
    "        fig.savefig('./Plot_tries/Q1_plus_Q2_CPU-GPU_Select_%s_plot_per_memrange.pdf' % (select_str_id) )\n",
    "        plt.close()\n",
    "    "
   ]
  },
  {
   "cell_type": "markdown",
   "metadata": {},
   "source": [
    "# Q2 extra"
   ]
  },
  {
   "cell_type": "code",
   "execution_count": 141,
   "metadata": {},
   "outputs": [],
   "source": [
    "    # break down Q2 memory range [256-512], due to its high variance of performance.\n",
    "    # plot with x axis avg_nz_row, std_nz_row, m, A_mem_footprint    \n",
    "    plot_x_axis_best = ['avg_nz_row', 'std_nz_row', 'm', 'A_mem_footprint']\n",
    "    select_criterion = ( group_system_best['std_nz_row'] > 1 ) \\\n",
    "    & ( group_system_best['avg_nz_row'] > 19) \\\n",
    "    & ((group_system_best['mem_range'] == \"[256-512]\")) \\\n",
    "    & ( group_system_best['std_nz_row'] < 8.03) \\\n",
    "    & ((group_system_best['diagonal_factor'] == 0.5) | (group_system_best['diagonal_factor'] == 0.05)) \\\n",
    "    & ( group_system_best['System'] == 'HawkAmdRome')  # & (groupreps['nz'] > 100000)\n",
    "    \n",
    "    select_str = 'mem_range = [256-512], avg_nz_row > 19, std_nz_row > 1, std_nz_row < 8.03\\ndf = 0.5,0.05,\\nBest of System = HawkAmdRome'\n",
    "    \n",
    "    select_str_id = select_str.replace('=', 'eq').replace('<', 'l').replace('>', 'g').replace(', ', '_').replace(',', '_').replace('\\n', '_').replace(' ', '-')\n",
    "    groupreps_select_best = group_system_best[select_criterion]\n",
    "    groupreps_select_best = groupreps_select_best.round({\"avg_nz_row\":1})\n",
    "    groupreps_select_best = groupreps_select_best.round({\"std_nz_row\":2})\n",
    "    groupreps_select_best = groupreps_select_best.round({\"A_mem_footprint\":0})\n",
    "    \n",
    "    # Plot best per system with x avg_nz_row\n",
    "    for plot_x_axis in plot_x_axis_best:\n",
    "        #groupreps_select_sorted = groupreps_select.assign(sorter_col = groupreps_select['mem_range'].split('-').split('[')[1]).sort_values('sorter_col').drop('sorter_col', axis=1)\n",
    "        groupreps_select_sorted = groupreps_select_best.sort_values(plot_x_axis)\n",
    "        fig, axs = plt.subplots()\n",
    "        sns_plot = sns.boxplot(data=groupreps_select_sorted, x=plot_x_axis, y=\"gflops\", ax=axs)\n",
    "        axs.set_title('Dataset %s' %(select_str))\n",
    "        fig.subplots_adjust(left=.1, bottom=.2, right=.99, top=.88)\n",
    "        plt.xticks(rotation=30)\n",
    "        fig.savefig('./Plot_tries/Q2_extra_Select_%s_plot_per_%s.pdf' % (select_str_id, plot_x_axis) )\n",
    "        plt.close()"
   ]
  },
  {
   "cell_type": "markdown",
   "metadata": {},
   "source": [
    "# Q3"
   ]
  },
  {
   "cell_type": "code",
   "execution_count": 142,
   "metadata": {},
   "outputs": [],
   "source": [
    "    # Q3 : Impact of row size, all other features are “good”\n",
    "    # device = GPU\n",
    "    # Mem_range: > 128\n",
    "    # Stdev nnz/row in  [1, 8.03]\n",
    "    # Bandwidth = “~nnz/row” (κατά προτίμηση μαζεμένα γύρω από τη διαγώνιο τα nnz)\n",
    "    # X axis : nnz per row\n",
    "    \n",
    "    plot_x_axis_best = ['avg_nz_row']\n",
    "    select_criterion = ( group_system_best['std_nz_row'] > 1 ) \\\n",
    "    & ((group_system_best['mem_range'] == \"[128-256]\") | (group_system_best['mem_range'] == \"[256-512]\") | (group_system_best['mem_range'] == \"[512-1024]\") | (group_system_best['mem_range'] == \"[1024-2048]\")) \\\n",
    "    & ( group_system_best['std_nz_row'] < 8.03) \\\n",
    "    & ((group_system_best['diagonal_factor'] == 0.5) | (group_system_best['diagonal_factor'] == 0.05)) \\\n",
    "    & ( group_system_best['System'] == 'TeslaV100')  # & (groupreps['nz'] > 100000)\n",
    "    \n",
    "    select_str = 'mem_range > 128, std_nz_row > 1, std_nz_row < 8.03\\ndf = 0.5,0.05,\\nBest of System = TeslaV100'\n",
    "    \n",
    "    select_str_id = select_str.replace('=', 'eq').replace('<', 'l').replace('>', 'g').replace(', ', '_').replace(',', '_').replace('\\n', '_').replace(' ', '-')\n",
    "    groupreps_select_best = group_system_best[select_criterion]\n",
    "    groupreps_select_best = groupreps_select_best.round({\"avg_nz_row\":1})\n",
    "    \n",
    "    # Plot best per system with x avg_nz_row\n",
    "    if ('avg_nz_row' in plot_x_axis_best):\n",
    "        #groupreps_select_sorted = groupreps_select.assign(sorter_col = groupreps_select['mem_range'].split('-').split('[')[1]).sort_values('sorter_col').drop('sorter_col', axis=1)\n",
    "        groupreps_select_sorted = groupreps_select_best.sort_values('avg_nz_row')\n",
    "        fig, axs = plt.subplots()\n",
    "        sns_plot = sns.boxplot(data=groupreps_select_sorted, x=\"avg_nz_row\", y=\"gflops\", ax=axs)\n",
    "        axs.set_title('Dataset %s' %(select_str))\n",
    "        fig.subplots_adjust(left=.1, bottom=.2, right=.99, top=.88)\n",
    "        plt.xticks(rotation=30)\n",
    "        fig.savefig('./Plot_tries/Q3_Select_%s_plot_per_avg_nz_row.pdf' % (select_str_id) )\n",
    "        plt.close()"
   ]
  },
  {
   "cell_type": "markdown",
   "metadata": {},
   "source": [
    "# Q4"
   ]
  },
  {
   "cell_type": "code",
   "execution_count": 143,
   "metadata": {},
   "outputs": [],
   "source": [
    "    # Q4 : Impact of row size, all other features are “good”\n",
    "    # device = CPU\n",
    "    # 128 < Mem_range < 256\n",
    "    # Stdev nnz/row in  [1, 8.03]\n",
    "    # Bandwidth = “~nnz/row” (κατά προτίμηση μαζεμένα γύρω από τη διαγώνιο τα nnz)\n",
    "    # X axis : nnz per row\n",
    "\n",
    "    plot_x_axis_best = ['avg_nz_row']\n",
    "    select_criterion = ( group_system_best['std_nz_row'] > 1 ) \\\n",
    "    & ( group_system_best['mem_range'] == \"[128-256]\" ) \\\n",
    "    & ( group_system_best['std_nz_row'] < 8.03) \\\n",
    "    & ((group_system_best['diagonal_factor'] == 0.5) | (group_system_best['diagonal_factor'] == 0.05)) \\\n",
    "    & ( group_system_best['System'] == 'HawkAmdRome') \n",
    "    \n",
    "    select_str = 'mem_range > 128, mem_range < 256, std_nz_row > 1\\nstd_nz_row < 8.03, df = 0.5,0.05, Best of System = HawkAmdRome'\n",
    "    \n",
    "    select_str_id = select_str.replace('=', 'eq').replace('<', 'l').replace('>', 'g').replace(', ', '_').replace(',', '_').replace('\\n', '_').replace(' ', '-')\n",
    "    groupreps_select_best = group_system_best[select_criterion]\n",
    "    groupreps_select_best = groupreps_select_best.round({\"avg_nz_row\":1})\n",
    "    \n",
    "    # Plot best per system with x avg_nz_row\n",
    "    if ('avg_nz_row' in plot_x_axis_best):\n",
    "        #groupreps_select_sorted = groupreps_select.assign(sorter_col = groupreps_select['mem_range'].split('-').split('[')[1]).sort_values('sorter_col').drop('sorter_col', axis=1)\n",
    "        groupreps_select_sorted = groupreps_select_best.sort_values('avg_nz_row')\n",
    "        fig, axs = plt.subplots()\n",
    "        sns_plot = sns.boxplot(data=groupreps_select_sorted, x=\"avg_nz_row\", y=\"gflops\", ax=axs)\n",
    "        axs.set_title('Dataset %s' %(select_str))\n",
    "        fig.subplots_adjust(left=.1, bottom=.2, right=.99, top=.88)\n",
    "        plt.xticks(rotation=30)\n",
    "        fig.savefig('./Plot_tries/Q4_Select_%s_plot_per_avg_nz_row.pdf' % (select_str_id) )\n",
    "        plt.close()"
   ]
  },
  {
   "cell_type": "markdown",
   "metadata": {},
   "source": [
    "# Q5"
   ]
  },
  {
   "cell_type": "code",
   "execution_count": 144,
   "metadata": {},
   "outputs": [],
   "source": [
    "    # Q5: Impact of imbalance, all other features are “good”\n",
    "    # device = GPU\n",
    "    # Mem_range: > 128\n",
    "    # average nnz/row > 40\n",
    "    # Bandwidth = “~nnz/row” (κατά προτίμηση μαζεμένα γύρω από τη διαγώνιο τα nnz)\n",
    "    # X axis : stdev nnz/row\n",
    "    plot_x_axis_best = ['std_nz_row']\n",
    "    select_criterion = ( group_system_best['A_mem_footprint'] > 127.9 ) \\\n",
    "    & ( group_system_best['avg_nz_row'] > 40) \\\n",
    "    & ((group_system_best['diagonal_factor'] == 0.5) | (group_system_best['diagonal_factor'] == 0.05)) \\\n",
    "    & ( group_system_best['System'] == 'TeslaV100')  # & (groupreps['nz'] > 100000)\n",
    "    \n",
    "    select_str = 'A_mem_footprint > 127.9, avg_nz_row > 40\\ndf = 0.5,0.05, Best of System = TeslaV100'\n",
    "    \n",
    "    select_str_id = select_str.replace('=', 'eq').replace('<', 'l').replace('>', 'g').replace(', ', '_').replace(',', '_').replace('\\n', '_').replace(' ', '-')\n",
    "    groupreps_select_best = group_system_best[select_criterion]\n",
    "    groupreps_select_best = groupreps_select_best.round({\"std_nz_row\":1})\n",
    "    if ('std_nz_row' in plot_x_axis_best):\n",
    "        #groupreps_select_sorted = groupreps_select.assign(sorter_col = groupreps_select['mem_range'].split('-').split('[')[1]).sort_values('sorter_col').drop('sorter_col', axis=1)\n",
    "        groupreps_select_sorted = groupreps_select_best.sort_values('std_nz_row')\n",
    "        fig, axs = plt.subplots()\n",
    "        sns_plot = sns.boxplot(data=groupreps_select_sorted, x=\"std_nz_row\", y=\"gflops\", ax=axs)\n",
    "        axs.set_title('Dataset %s' %(select_str))\n",
    "        fig.subplots_adjust(left=.1, bottom=.2, right=.99, top=.88)\n",
    "        plt.xticks(rotation=30)\n",
    "        fig.savefig('./Plot_tries/Q5_Select_%s_plot_per_std_nz_row.pdf' % (select_str_id) )\n",
    "        plt.close()\n",
    "    \n",
    "    # All formats instead of best\n",
    "    select_criterion = ( groupreps['A_mem_footprint'] > 127.9 ) \\\n",
    "    & ( groupreps['avg_nz_row'] > 40) \\\n",
    "    & ((groupreps['diagonal_factor'] == 0.5) | (groupreps['diagonal_factor'] == 0.05)) \\\n",
    "    & ( groupreps['System'] == 'TeslaV100')  # & (groupreps['nz'] > 100000)\n",
    "    \n",
    "    select_str = 'A_mem_footprint > 127.9, avg_nz_row > 40\\ndf = 0.5,0.05, System = TeslaV100'\n",
    "    \n",
    "    select_str_id = select_str.replace('=', 'eq').replace('<', 'l').replace('>', 'g').replace(', ', '_').replace(',', '_').replace('\\n', '_').replace(' ', '-')\n",
    "    groupreps_select = groupreps[select_criterion]\n",
    "    groupreps_select = groupreps_select.round({\"std_nz_row\":0})\n",
    "    \n",
    "    if ('std_nz_row' in plot_x_axis_best):\n",
    "        #groupreps_select_sorted = groupreps_select.assign(sorter_col = groupreps_select['mem_range'].split('-').split('[')[1]).sort_values('sorter_col').drop('sorter_col', axis=1)\n",
    "        groupreps_select_sorted = groupreps_select.sort_values('std_nz_row')\n",
    "        fig, axs = plt.subplots()\n",
    "        sns_plot = sns.boxplot(data=groupreps_select_sorted, x=\"std_nz_row\", y=\"gflops\", hue = \"implementation\", ax=axs)\n",
    "        axs.set_title('Dataset %s' %(select_str))\n",
    "        fig.subplots_adjust(left=.1, bottom=.2, right=.99, top=.88)\n",
    "        plt.xticks(rotation=30)\n",
    "        fig.savefig('./Plot_tries/Q5_Select_%s_plot_per_std_nz_row.pdf' % (select_str_id) )\n",
    "        plt.close()"
   ]
  },
  {
   "cell_type": "markdown",
   "metadata": {},
   "source": [
    "# Q6"
   ]
  },
  {
   "cell_type": "code",
   "execution_count": 145,
   "metadata": {},
   "outputs": [],
   "source": [
    "    # Q6: Impact of imbalance, all other features are “good”\n",
    "    # device = CPU\n",
    "    # 128 < Mem_range < 256\n",
    "    # average nnz/row > 20\n",
    "    # Bandwidth = “~nnz/row” (κατά προτίμηση μαζεμένα γύρω από τη διαγώνιο τα nnz)\n",
    "    # X axis : stdev nnz/row\n",
    "    plot_x_axis_best = ['std_nz_row']\n",
    "    select_criterion = ( group_system_best['A_mem_footprint'] > 127.9 ) \\\n",
    "    & ( group_system_best['A_mem_footprint'] < 257) \\\n",
    "    & ( group_system_best['avg_nz_row'] > 20) \\\n",
    "    & ((group_system_best['diagonal_factor'] == 0.5) | (group_system_best['diagonal_factor'] == 0.05)) \\\n",
    "    & ( group_system_best['System'] == 'HawkAmdRome')  # & (groupreps['nz'] > 100000)\n",
    "    \n",
    "    select_str = '127.9 < A_mem_footprint < 257, avg_nz_row > 20\\ndf = 0.5,0.05, Best of System = HawkAmdRome'\n",
    "    \n",
    "    select_str_id = select_str.replace('=', 'eq').replace('<', 'l').replace('>', 'g').replace(', ', '_').replace(',', '_').replace('\\n', '_').replace(' ', '-')\n",
    "    groupreps_select_best = group_system_best[select_criterion]\n",
    "    groupreps_select_best = groupreps_select_best.round({\"std_nz_row\":0})\n",
    "    if ('std_nz_row' in plot_x_axis_best):\n",
    "        #groupreps_select_sorted = groupreps_select.assign(sorter_col = groupreps_select['mem_range'].split('-').split('[')[1]).sort_values('sorter_col').drop('sorter_col', axis=1)\n",
    "        groupreps_select_sorted = groupreps_select_best.sort_values('std_nz_row')\n",
    "        fig, axs = plt.subplots()\n",
    "        sns_plot = sns.boxplot(data=groupreps_select_sorted, x=\"std_nz_row\", y=\"gflops\", ax=axs)\n",
    "        axs.set_title('Dataset %s' %(select_str))\n",
    "        fig.subplots_adjust(left=.1, bottom=.2, right=.99, top=.88)\n",
    "        plt.xticks(rotation=30)\n",
    "        fig.savefig('./Plot_tries/Q6_Select_%s_plot_per_std_nz_row.pdf' % (select_str_id) )\n",
    "        plt.close()\n",
    "        \n",
    "    # All formats instead of best\n",
    "    select_criterion = ( groupreps['A_mem_footprint'] > 127.9 ) \\\n",
    "    & ( groupreps['A_mem_footprint'] < 257) \\\n",
    "    & ( groupreps['avg_nz_row'] > 20) \\\n",
    "    & ((groupreps['diagonal_factor'] == 0.5) | (groupreps['diagonal_factor'] == 0.05)) \\\n",
    "    & ( groupreps['System'] == 'HawkAmdRome')  # & (groupreps['nz'] > 100000)\n",
    "    \n",
    "    select_str = '127.9 < A_mem_footprint < 257, avg_nz_row > 20\\ndf = 0.5,0.05, System = HawkAmdRome'\n",
    "    \n",
    "    select_str_id = select_str.replace('=', 'eq').replace('<', 'l').replace('>', 'g').replace(', ', '_').replace(',', '_').replace('\\n', '_').replace(' ', '-')\n",
    "    groupreps_select = groupreps[select_criterion]\n",
    "    groupreps_select = groupreps_select.round({\"std_nz_row\":0})\n",
    "    \n",
    "    if ('std_nz_row' in plot_x_axis_best):\n",
    "        #groupreps_select_sorted = groupreps_select.assign(sorter_col = groupreps_select['mem_range'].split('-').split('[')[1]).sort_values('sorter_col').drop('sorter_col', axis=1)\n",
    "        groupreps_select_sorted = groupreps_select.sort_values('std_nz_row')\n",
    "        fig, axs = plt.subplots()\n",
    "        sns_plot = sns.boxplot(data=groupreps_select_sorted, x=\"std_nz_row\", y=\"gflops\", hue = \"implementation\", ax=axs)\n",
    "        axs.set_title('Dataset %s' %(select_str))\n",
    "        fig.subplots_adjust(left=.1, bottom=.2, right=.99, top=.88)\n",
    "        plt.xticks(rotation=30)\n",
    "        fig.savefig('./Plot_tries/Q6_Select_%s_plot_per_std_nz_row.pdf' % (select_str_id) )\n",
    "        plt.close()"
   ]
  },
  {
   "cell_type": "markdown",
   "metadata": {},
   "source": [
    "# Q7"
   ]
  },
  {
   "cell_type": "code",
   "execution_count": 146,
   "metadata": {},
   "outputs": [],
   "source": [
    "    # Q7: Impact of irregularity, all other features are “good”\n",
    "    # device = GPU\n",
    "    # Mem_range: > 128\n",
    "    # average nnz/row > 40\n",
    "    # Stdev nnz/row in  [1, 8.03]\n",
    "    # X axis : bandwidth \n",
    "    plot_x_axis_best = ['avg_bandwidth']\n",
    "    select_criterion = ( group_system_best['A_mem_footprint'] > 127.9 ) \\\n",
    "    & ( group_system_best['avg_nz_row'] > 40) \\\n",
    "    & ( group_system_best['std_nz_row'] >= 1) \\\n",
    "    & ( group_system_best['std_nz_row'] <= 8.03) \\\n",
    "    & ( group_system_best['System'] == 'TeslaV100')  # & (groupreps['nz'] > 100000)\n",
    "    \n",
    "    select_str = '127.9 < A_mem_footprint, avg_nz_row > 40\\nstd_nz_row > 1, std_nz_row < 8.03, Best of System = TeslaV100'\n",
    "    \n",
    "    select_str_id = select_str.replace('=', 'eq').replace('<', 'l').replace('>', 'g').replace(', ', '_').replace(',', '_').replace('\\n', '_').replace(' ', '-')\n",
    "    groupreps_select_best = group_system_best[select_criterion]\n",
    "    groupreps_select_best = groupreps_select_best.round({\"avg_bandwidth\":1})\n",
    "    if ('avg_bandwidth' in plot_x_axis_best):\n",
    "        #groupreps_select_sorted = groupreps_select.assign(sorter_col = groupreps_select['mem_range'].split('-').split('[')[1]).sort_values('sorter_col').drop('sorter_col', axis=1)\n",
    "        groupreps_select_sorted = groupreps_select_best.sort_values('avg_bandwidth')\n",
    "        fig, axs = plt.subplots()\n",
    "        sns_plot = sns.boxplot(data=groupreps_select_sorted, x=\"avg_bandwidth\", y=\"gflops\", ax=axs)\n",
    "        axs.set_title('Dataset %s' %(select_str))\n",
    "        fig.subplots_adjust(left=.1, bottom=.2, right=.99, top=.88)\n",
    "        plt.xticks(rotation=30)\n",
    "        fig.savefig('./Plot_tries/Q7_Select_%s_plot_per_avg_bandwidth.pdf' % (select_str_id) )\n",
    "        plt.close()"
   ]
  },
  {
   "cell_type": "markdown",
   "metadata": {},
   "source": [
    "# Q8"
   ]
  },
  {
   "cell_type": "code",
   "execution_count": 147,
   "metadata": {},
   "outputs": [],
   "source": [
    "    # Q8: Impact of irregularity, all other features are “good”\n",
    "    # device = CPU\n",
    "    # Mem_range: > 128,2< 256\n",
    "    # average nnz/row > 40\n",
    "    # Stdev nnz/row in  [1, 8.03]\n",
    "    # X axis : bandwidth \n",
    "    plot_x_axis_best = ['avg_bandwidth']\n",
    "    select_criterion = ( group_system_best['A_mem_footprint'] > 127.9 ) \\\n",
    "    & ( group_system_best['A_mem_footprint'] < 257) \\\n",
    "    & ( group_system_best['avg_nz_row'] > 20) \\\n",
    "    & ( group_system_best['std_nz_row'] >= 1) \\\n",
    "    & ( group_system_best['std_nz_row'] <= 8.03) \\\n",
    "    & ( group_system_best['System'] == 'HawkAmdRome')  # & (groupreps['nz'] > 100000)\n",
    "    \n",
    "    select_str = '127.9 < A_mem_footprint < 257, avg_nz_row > 20\\nstd_nz_row > 1, std_nz_row < 8.03, Best of System = HawkAmdRome'\n",
    "    \n",
    "    select_str_id = select_str.replace('=', 'eq').replace('<', 'l').replace('>', 'g').replace(', ', '_').replace(',', '_').replace('\\n', '_').replace(' ', '-')\n",
    "    groupreps_select_best = group_system_best[select_criterion]\n",
    "    groupreps_select_best = groupreps_select_best.round({\"avg_bandwidth\":1})\n",
    "    if ('avg_bandwidth' in plot_x_axis_best):\n",
    "        #groupreps_select_sorted = groupreps_select.assign(sorter_col = groupreps_select['mem_range'].split('-').split('[')[1]).sort_values('sorter_col').drop('sorter_col', axis=1)\n",
    "        groupreps_select_sorted = groupreps_select_best.sort_values('avg_bandwidth')\n",
    "        fig, axs = plt.subplots()\n",
    "        sns_plot = sns.boxplot(data=groupreps_select_sorted, x=\"avg_bandwidth\", y=\"gflops\", ax=axs)\n",
    "        axs.set_title('Dataset %s' %(select_str))\n",
    "        fig.subplots_adjust(left=.1, bottom=.2, right=.99, top=.88)\n",
    "        plt.xticks(rotation=30)\n",
    "        fig.savefig('./Plot_tries/Q8_Select_%s_plot_per_avg_bandwidth.pdf' % (select_str_id) )\n",
    "        plt.close()"
   ]
  },
  {
   "cell_type": "markdown",
   "metadata": {},
   "source": [
    "---\n",
    "# Validation matrices \n",
    "# Read GPU Data (panastas)"
   ]
  },
  {
   "cell_type": "code",
   "execution_count": 148,
   "metadata": {},
   "outputs": [],
   "source": [
    "def find_class(mem_footprint):\n",
    "    low_mb_list = [4,8,16,32,64,128,256,512,1024,2048,4096] # removed largest mem range (2048-4096)\n",
    "    high_mb_list =  [8,16,32,64,128,256,512,1024,2048,4096, 8192]\n",
    "    for i in range(len(low_mb_list)):\n",
    "        if(mem_footprint>=low_mb_list[i] and mem_footprint<=high_mb_list[i]):\n",
    "            pos = i\n",
    "            mem_range = '['+str(low_mb_list[pos])+'-'+str(high_mb_list[pos])+']'\n",
    "            return mem_range\n",
    "    return str(-1)"
   ]
  },
  {
   "cell_type": "code",
   "execution_count": 149,
   "metadata": {},
   "outputs": [],
   "source": [
    "def modify_footprint(v):\n",
    "    if(v[\"implementation\"]==\"CSR5_9\"):\n",
    "        return (v[\"A_mem_footprint\"] - 4*(v[\"m\"]+v[\"n\"]))/(1024*1024.0)\n",
    "    else:\n",
    "        return v[\"A_mem_footprint\"]\n",
    "\n",
    "dtypes=['D']\n",
    "for dtype in dtypes:\n",
    "    #Unified read\n",
    "    fname = \"silver1-TeslaV100_dtype-%s_run_validation_matrices_modified.csv\" % dtype\n",
    "    inputdata_GPU = pd.read_csv('../Benchmarks/%s' % fname, names = \n",
    "                            ['mtx_name','distribution','placement','diagonal_factor', 'seed','m','n','nz',\n",
    "                             'density','A_mem_footprint','mem_range','avg_nz_row','std_nz_row','avg_bandwidth',\n",
    "                            'std_bandwidth','avg_scattering','std_scattering','implementation','time','gflops','W_avg', 'J_estimated'])\n",
    "    inputdata_GPU[\"mtx_name\"] = inputdata_GPU[\"mtx_name\"].apply(lambda x: x.split(\"/\")[-1].split(\".\")[0])\n",
    "    inputdata_GPU[\"density\"] = inputdata_GPU.apply(lambda x: x[\"nz\"]/(x[\"m\"]*x[\"n\"])*100.0, axis=1)\n",
    "#     inputdata_GPU[\"A_mem_footprint\"] = inputdata_GPU.apply(lambda x: modify_footprint(x), axis=1)\n",
    "    inputdata_GPU['System'] = 'TeslaV100'\n",
    "    \n",
    "    vm_features = pd.read_csv(\"../Benchmarks/validation_matrices_features.csv\")\n",
    "    mtx_names = list(vm_features[\"matrix\"]) # same as : list(set(inputdata_GPU[\"mtx_name\"]))\n",
    "\n",
    "    for mtx_name in mtx_names:\n",
    "        inputdata_GPU.loc[inputdata_GPU[\"mtx_name\"] == mtx_name, \"avg_nz_row\"] = list(vm_features[vm_features[\"matrix\"]==mtx_name][\"nnz-r-avg\"])[0]\n",
    "        inputdata_GPU.loc[inputdata_GPU[\"mtx_name\"] == mtx_name, \"std_nz_row\"] = list(vm_features[vm_features[\"matrix\"]==mtx_name][\"nnz-r-std\"])[0]\n",
    "        inputdata_GPU.loc[inputdata_GPU[\"mtx_name\"] == mtx_name, \"avg_bandwidth\"] = list(vm_features[vm_features[\"matrix\"]==mtx_name][\"bw-avg\"])[0]\n",
    "        inputdata_GPU.loc[inputdata_GPU[\"mtx_name\"] == mtx_name, \"std_bandwidth\"] = list(vm_features[vm_features[\"matrix\"]==mtx_name][\"bw-std\"])[0]\n",
    "        inputdata_GPU.loc[inputdata_GPU[\"mtx_name\"] == mtx_name, \"avg_scattering\"] = list(vm_features[vm_features[\"matrix\"]==mtx_name][\"sc-avg\"])[0]\n",
    "        inputdata_GPU.loc[inputdata_GPU[\"mtx_name\"] == mtx_name, \"std_scattering\"] = list(vm_features[vm_features[\"matrix\"]==mtx_name][\"sc-std\"])[0]\n",
    "        mem_footprint = list(inputdata_GPU[inputdata_GPU[\"mtx_name\"] == mtx_name][\"A_mem_footprint\"])[0]\n",
    "        mem_range = find_class(mem_footprint)\n",
    "        inputdata_GPU.loc[inputdata_GPU[\"mtx_name\"] == mtx_name, \"mem_range\"] = mem_range\n",
    "    fname2 = \"silver1-TeslaV100_dtype-%s_run_validation_matrices_modified_features.csv\" % dtype\n",
    "    inputdata_GPU.to_csv('../Benchmarks/%s' % fname2, header=False, index=False)\n",
    "    "
   ]
  },
  {
   "cell_type": "markdown",
   "metadata": {},
   "source": [
    "# Read CPU Data (dgal)"
   ]
  },
  {
   "cell_type": "code",
   "execution_count": 150,
   "metadata": {},
   "outputs": [],
   "source": [
    "    fname = \"hawk_validation_matrices_d.csv\"\n",
    "    hawk_data = pd.read_csv('../Benchmarks/%s' % fname, names = [\"Matrix\",\"rows\",\"columns\",\"nnz\",\"mem (MB)\",\"1\",\"2\",\"4\",\"8\",\"16\",\"32\",\"64\",\"128\",\"Implementation\"])\n",
    "\n",
    "    def create_complete_cpu_csv(threads_dataframe):\n",
    "        vm_features = pd.read_csv(\"../Benchmarks/validation_matrices_features.csv\")\n",
    "        mtx_names = list(vm_features[\"matrix\"]) # same as : list(set(inputdata_GPU[\"mtx_name\"]))\n",
    "\n",
    "        inputdata_CPU = pd.DataFrame(columns=['mtx_name','distribution','placement','diagonal_factor', 'seed','m','n','nz',\n",
    "                                              'density','A_mem_footprint','mem_range','avg_nz_row','std_nz_row','avg_bandwidth',\n",
    "                                              'std_bandwidth','avg_scattering','std_scattering','implementation','time','gflops','W_avg', 'J_estimated'])\n",
    "        for mtx_name in mtx_names:\n",
    "            for index, curr in threads_dataframe[threads_dataframe[\"Matrix\"] == mtx_name].iterrows():\n",
    "                mtx_name = mtx_name\n",
    "                distribution = \"unused\"\n",
    "                placement = \"unused\"\n",
    "                diagonal_factor = 0\n",
    "                seed = 0\n",
    "                m = curr[\"rows\"]\n",
    "                n = curr[\"columns\"]\n",
    "                nz = curr[\"nnz\"]\n",
    "                density = nz/(m*n)*100.0\n",
    "                A_mem_footprint = curr[\"mem (MB)\"]\n",
    "                mem_range = find_class(A_mem_footprint)\n",
    "                avg_nz_row = list(vm_features[vm_features[\"matrix\"]==mtx_name][\"nnz-r-avg\"])[0]\n",
    "                std_nz_row = list(vm_features[vm_features[\"matrix\"]==mtx_name][\"nnz-r-std\"])[0]\n",
    "                avg_bandwidth = list(vm_features[vm_features[\"matrix\"]==mtx_name][\"bw-avg\"])[0]\n",
    "                std_bandwidth = list(vm_features[vm_features[\"matrix\"]==mtx_name][\"bw-std\"])[0]\n",
    "                avg_scattering = list(vm_features[vm_features[\"matrix\"]==mtx_name][\"sc-avg\"])[0]\n",
    "                std_scattering = list(vm_features[vm_features[\"matrix\"]==mtx_name][\"sc-std\"])[0]\n",
    "                implementation = curr[\"Implementation\"]\n",
    "                time = curr[\"time\"]\n",
    "                gflops = curr[\"gflops\"]\n",
    "                W_avg = 0\n",
    "                J_estimated = 0\n",
    "                inputdata_CPU = inputdata_CPU.append({'mtx_name' : mtx_name, 'distribution' : distribution, 'placement' : placement, 'diagonal_factor' : diagonal_factor, 'seed' : seed, 'm' : m, 'n' : n, 'nz' : nz, 'density' : density, 'A_mem_footprint' : A_mem_footprint, 'mem_range' : mem_range, 'avg_nz_row' : avg_nz_row, 'std_nz_row' : std_nz_row, 'avg_bandwidth' : avg_bandwidth, 'std_bandwidth' : std_bandwidth, 'avg_scattering' : avg_scattering, 'std_scattering' : std_scattering, 'implementation' : implementation, 'time' : time, 'gflops' : gflops, 'W_avg' : W_avg, 'J_estimated' : J_estimated}, ignore_index=True)\n",
    "        inputdata_CPU['System'] = 'HawkAmdRome'\n",
    "        return inputdata_CPU\n",
    "    \n",
    "    hawk_data[\"time64\"] = hawk_data.apply(lambda x: (2*x[\"nnz\"]*10**(-9))/x[\"64\"], axis=1)\n",
    "    hawk_data64  = hawk_data[[\"Matrix\",\"rows\",\"columns\",\"nnz\",\"mem (MB)\",\"64\",\"time64\",\"Implementation\"]]\n",
    "    hawk_data64 = hawk_data64.rename(columns={\"64\": \"gflops\", \"time64\": \"time\"})\n",
    "    hawk_data64 = create_complete_cpu_csv(hawk_data64)\n",
    "    fname2 = \"hawk_validation_matrices_t64_d.csv\"\n",
    "    hawk_data64.to_csv('../Benchmarks/%s' % fname2, header=False, index=False)\n",
    "    \n",
    "    hawk_data[\"time128\"] = hawk_data.apply(lambda x: (2*x[\"nnz\"]*10**(-9))/x[\"128\"], axis=1)\n",
    "    hawk_data128  = hawk_data[[\"Matrix\",\"rows\",\"columns\",\"nnz\",\"mem (MB)\",\"128\",\"time128\",\"Implementation\"]]\n",
    "    hawk_data128 = hawk_data128.rename(columns={\"128\": \"gflops\", \"time128\": \"time\"})\n",
    "    hawk_data128 = create_complete_cpu_csv(hawk_data128)\n",
    "    fname2 = \"hawk_validation_matrices_t128_d.csv\"\n",
    "    hawk_data128.to_csv('../Benchmarks/%s' % fname2, header=False, index=False)"
   ]
  },
  {
   "cell_type": "markdown",
   "metadata": {},
   "source": [
    "# Read FPGA Data (pmpakos)"
   ]
  },
  {
   "cell_type": "code",
   "execution_count": null,
   "metadata": {},
   "outputs": [],
   "source": []
  },
  {
   "cell_type": "markdown",
   "metadata": {},
   "source": [
    "---"
   ]
  },
  {
   "cell_type": "code",
   "execution_count": 151,
   "metadata": {},
   "outputs": [],
   "source": [
    "dtypes=['D']\n",
    "for dtype in dtypes:\n",
    "    #Unified read\n",
    "    fname = \"silver1-TeslaV100_dtype-%s_run_validation_matrices_modified_features.csv\" % dtype\n",
    "    inputdata_GPU = pd.read_csv('../Benchmarks/%s' % fname, names = \n",
    "                            ['mtx_name','distribution','placement','diagonal_factor', 'seed','m','n','nz',\n",
    "                             'density','A_mem_footprint','mem_range','avg_nz_row','std_nz_row','avg_bandwidth',\n",
    "                            'std_bandwidth','avg_scattering','std_scattering','implementation','time','gflops','W_avg', 'J_estimated',\"System\"],index_col=False)"
   ]
  },
  {
   "cell_type": "code",
   "execution_count": 152,
   "metadata": {},
   "outputs": [],
   "source": [
    "    fname = \"hawk_validation_matrices_t64_d.csv\"\n",
    "    inputdata_CPU64 = pd.read_csv('../Benchmarks/%s' % fname, names =\n",
    "                        ['mtx_name','distribution','placement','diagonal_factor', 'seed','m','n','nz',\n",
    "                         'density','A_mem_footprint','mem_range','avg_nz_row','std_nz_row','avg_bandwidth',\n",
    "                        'std_bandwidth','avg_scattering','std_scattering','implementation','time','gflops','W_avg', 'J_estimated','System'],index_col=False)"
   ]
  },
  {
   "cell_type": "code",
   "execution_count": 153,
   "metadata": {},
   "outputs": [],
   "source": [
    "    fname = \"hawk_validation_matrices_t128_d.csv\"\n",
    "    inputdata_CPU128 = pd.read_csv('../Benchmarks/%s' % fname, names =\n",
    "                        ['mtx_name','distribution','placement','diagonal_factor', 'seed','m','n','nz',\n",
    "                         'density','A_mem_footprint','mem_range','avg_nz_row','std_nz_row','avg_bandwidth',\n",
    "                        'std_bandwidth','avg_scattering','std_scattering','implementation','time','gflops','W_avg', 'J_estimated','System'],index_col=False)"
   ]
  },
  {
   "cell_type": "code",
   "execution_count": 154,
   "metadata": {},
   "outputs": [],
   "source": [
    "    # Merge the results\n",
    "    validation_inputdata64 = pd.concat([inputdata_GPU,inputdata_CPU64]) # Group per reps, take mean\n",
    "\n",
    "    validation_groupreps64 = validation_inputdata64.groupby(['mtx_name','distribution','placement','diagonal_factor', 'seed','m','n', \n",
    "                                                             'density','A_mem_footprint','mem_range','nz','avg_nz_row','std_nz_row','avg_bandwidth',\n",
    "                                                             'std_bandwidth','avg_scattering','std_scattering', 'implementation','System']).mean().reset_index()"
   ]
  },
  {
   "cell_type": "code",
   "execution_count": 155,
   "metadata": {},
   "outputs": [],
   "source": [
    "    # Merge the results\n",
    "    validation_inputdata = pd.concat([inputdata_GPU,inputdata_CPU128]) # Group per reps, take mean\n",
    "\n",
    "    validation_groupreps = validation_inputdata.groupby(['mtx_name','distribution','placement','diagonal_factor', 'seed','m','n', \n",
    "                                                         'density','A_mem_footprint','mem_range','nz','avg_nz_row','std_nz_row','avg_bandwidth',\n",
    "                                                         'std_bandwidth','avg_scattering','std_scattering', 'implementation','System']).mean().reset_index()"
   ]
  },
  {
   "cell_type": "code",
   "execution_count": 156,
   "metadata": {},
   "outputs": [],
   "source": [
    "    # Group per system, take best\n",
    "    validation_group_system = validation_inputdata.groupby(['mtx_name','distribution','placement','diagonal_factor', 'seed','m','n', \n",
    "                             'density','A_mem_footprint','mem_range','nz','avg_nz_row','std_nz_row','avg_bandwidth',\n",
    "                            'std_bandwidth','avg_scattering','std_scattering', 'System'], as_index = False)\n",
    "    reslist = []\n",
    "    for desc, experiment in validation_group_system:\n",
    "        best_format = experiment['implementation'].iloc[experiment['gflops'].argmax()]\n",
    "        outrow = experiment[experiment['implementation'] == best_format]\n",
    "        reslist.append(outrow.values.tolist()[0])\n",
    "        # print(outrow.values.tolist()[0])\n",
    "    validation_group_system_best = pd.DataFrame(reslist, columns =['mtx_name','distribution','placement','diagonal_factor', 'seed','m','n','nz',\n",
    "                                                                   'density','A_mem_footprint','mem_range','avg_nz_row','std_nz_row','avg_bandwidth',\n",
    "                                                                   'std_bandwidth','avg_scattering','std_scattering','implementation','time','gflops','W_avg', 'J_estimated', 'System'])\n",
    "    "
   ]
  },
  {
   "cell_type": "markdown",
   "metadata": {},
   "source": [
    "# some indicative plots"
   ]
  },
  {
   "cell_type": "code",
   "execution_count": 157,
   "metadata": {},
   "outputs": [],
   "source": [
    "    # Plot TeslaV100 only\n",
    "    select_criterion = ( validation_group_system_best['System'] == 'TeslaV100' )\n",
    "\n",
    "    select_str = 'Validation matrices, TeslaV100'\n",
    "\n",
    "    select_str_id = select_str.replace('=', 'eq').replace('<', 'l').replace('>', 'g').replace(', ', '_').replace(',', '_').replace('\\n', '_').replace(' ', '-')\n",
    "    validation_groupreps_select_best = validation_group_system_best[select_criterion]\n",
    "\n",
    "    validation_groupreps_select_best = validation_groupreps_select_best.round({\"avg_bandwidth\":1})\n",
    "    validation_groupreps_select_best = validation_groupreps_select_best.round({\"avg_nz_row\":-1})\n",
    "    validation_groupreps_select_best = validation_groupreps_select_best.round({\"std_nz_row\":-1})\n",
    "\n",
    "    x_axis_list = [\"mem_range\", \"avg_bandwidth\", \"avg_nz_row\", \"std_nz_row\", ]\n",
    "\n",
    "    for x_axis in x_axis_list:\n",
    "        #groupreps_select_sorted = groupreps_select.assign(sorter_col = groupreps_select['mem_range'].split('-').split('[')[1]).sort_values('sorter_col').drop('sorter_col', axis=1)\n",
    "        validation_groupreps_select_sorted = validation_groupreps_select_best.sort_values('A_mem_footprint')\n",
    "        fig, axs = plt.subplots()\n",
    "        sns_plot = sns.boxplot(data=validation_groupreps_select_sorted, x=x_axis, y=\"gflops\", hue = \"System\", ax=axs)\n",
    "        axs.set_title('Dataset %s' %(select_str))\n",
    "        fig.subplots_adjust(left=.1, bottom=.2, right=.99, top=.88)\n",
    "        plt.xticks(rotation=30)\n",
    "        fig.savefig('./Plot_tries/validation_matrices_CPU-GPU_Select_%s_plot_per_%s.pdf' % (select_str_id, x_axis) )\n",
    "        plt.close()\n"
   ]
  },
  {
   "cell_type": "code",
   "execution_count": 158,
   "metadata": {},
   "outputs": [],
   "source": [
    "    # Plot TeslaV100 only\n",
    "    select_criterion = ( validation_group_system_best['System'] == 'HawkAmdRome' )\n",
    "\n",
    "    select_str = 'Validation matrices, HawkAmdRome'\n",
    "\n",
    "    select_str_id = select_str.replace('=', 'eq').replace('<', 'l').replace('>', 'g').replace(', ', '_').replace(',', '_').replace('\\n', '_').replace(' ', '-')\n",
    "    validation_groupreps_select_best = validation_group_system_best[select_criterion]\n",
    "\n",
    "    validation_groupreps_select_best = validation_groupreps_select_best.round({\"avg_bandwidth\":1})\n",
    "    validation_groupreps_select_best = validation_groupreps_select_best.round({\"avg_nz_row\":-1})\n",
    "    validation_groupreps_select_best = validation_groupreps_select_best.round({\"std_nz_row\":-1})\n",
    "\n",
    "    x_axis_list = [\"mem_range\", \"avg_bandwidth\", \"avg_nz_row\", \"std_nz_row\", ]\n",
    "\n",
    "    for x_axis in x_axis_list:\n",
    "        #groupreps_select_sorted = groupreps_select.assign(sorter_col = groupreps_select['mem_range'].split('-').split('[')[1]).sort_values('sorter_col').drop('sorter_col', axis=1)\n",
    "        validation_groupreps_select_sorted = validation_groupreps_select_best.sort_values('A_mem_footprint')\n",
    "        fig, axs = plt.subplots()\n",
    "        sns_plot = sns.boxplot(data=validation_groupreps_select_sorted, x=x_axis, y=\"gflops\", hue = \"System\", ax=axs)\n",
    "        axs.set_title('Dataset %s' %(select_str))\n",
    "        fig.subplots_adjust(left=.1, bottom=.2, right=.99, top=.88)\n",
    "        plt.xticks(rotation=30)\n",
    "        fig.savefig('./Plot_tries/validation_matrices_CPU-GPU_Select_%s_plot_per_%s.pdf' % (select_str_id, x_axis) )\n",
    "        plt.close()\n"
   ]
  },
  {
   "cell_type": "code",
   "execution_count": 159,
   "metadata": {},
   "outputs": [],
   "source": [
    "    # Plot best per system in the same boxplot\n",
    "    select_criterion = ( validation_group_system_best['System'] != 'FPGA' ) # & (groupreps['nz'] > 100000)\n",
    "\n",
    "    select_str = 'Validation matrices, Best per System'\n",
    "\n",
    "    select_str_id = select_str.replace('=', 'eq').replace('<', 'l').replace('>', 'g').replace(', ', '_').replace(',', '_').replace('\\n', '_').replace(' ', '-')\n",
    "    validation_groupreps_select_best = validation_group_system_best[select_criterion]\n",
    "\n",
    "    validation_groupreps_select_best = validation_groupreps_select_best.round({\"avg_bandwidth\":1})\n",
    "    validation_groupreps_select_best = validation_groupreps_select_best.round({\"avg_nz_row\":-1})\n",
    "    validation_groupreps_select_best = validation_groupreps_select_best.round({\"std_nz_row\":-1})\n",
    "\n",
    "    x_axis_list = [\"mem_range\", \"avg_bandwidth\", \"avg_nz_row\", \"std_nz_row\"]\n",
    "\n",
    "    for x_axis in x_axis_list:\n",
    "        #groupreps_select_sorted = groupreps_select.assign(sorter_col = groupreps_select['mem_range'].split('-').split('[')[1]).sort_values('sorter_col').drop('sorter_col', axis=1)\n",
    "        validation_groupreps_select_sorted = validation_groupreps_select_best.sort_values('A_mem_footprint')\n",
    "        fig, axs = plt.subplots()\n",
    "        sns_plot = sns.boxplot(data=validation_groupreps_select_sorted, x=x_axis, y=\"gflops\", hue = \"System\", ax=axs)\n",
    "        axs.set_title('Dataset %s' %(select_str))\n",
    "        fig.subplots_adjust(left=.1, bottom=.2, right=.99, top=.88)\n",
    "        plt.xticks(rotation=30)\n",
    "        fig.savefig('./Plot_tries/validation_matrices_CPU-GPU_Select_%s_plot_per_%s.pdf' % (select_str_id, x_axis) )\n",
    "        plt.close()"
   ]
  },
  {
   "cell_type": "markdown",
   "metadata": {},
   "source": [
    "---\n",
    "# @panastas tsekare apo edw kai katw!"
   ]
  },
  {
   "cell_type": "code",
   "execution_count": 160,
   "metadata": {},
   "outputs": [
    {
     "name": "stderr",
     "output_type": "stream",
     "text": [
      "/usr/lib/python3/dist-packages/pandas/core/indexing.py:1596: SettingWithCopyWarning: \n",
      "A value is trying to be set on a copy of a slice from a DataFrame.\n",
      "Try using .loc[row_indexer,col_indexer] = value instead\n",
      "\n",
      "See the caveats in the documentation: https://pandas.pydata.org/pandas-docs/stable/user_guide/indexing.html#returning-a-view-versus-a-copy\n",
      "  self.obj[key] = _infer_fill_value(value)\n",
      "/usr/lib/python3/dist-packages/pandas/core/indexing.py:1763: SettingWithCopyWarning: \n",
      "A value is trying to be set on a copy of a slice from a DataFrame.\n",
      "Try using .loc[row_indexer,col_indexer] = value instead\n",
      "\n",
      "See the caveats in the documentation: https://pandas.pydata.org/pandas-docs/stable/user_guide/indexing.html#returning-a-view-versus-a-copy\n",
      "  isetter(loc, value)\n"
     ]
    }
   ],
   "source": [
    "    select_criterion = ( validation_group_system_best['System'] == 'TeslaV100' )\n",
    "\n",
    "    select_str = 'Validation matrices, TeslaV100'\n",
    "\n",
    "    select_str_id = select_str.replace('=', 'eq').replace('<', 'l').replace('>', 'g').replace(', ', '_').replace(',', '_').replace('\\n', '_').replace(' ', '-')\n",
    "    validation_groupreps_select = validation_group_system_best[select_criterion]\n",
    "    \n",
    "    select_criterion = ( group_system_best['System'] == 'HawkAmdRome' ) # & (groupreps['nz'] > 100000)\n",
    "    groupreps_select = group_system_best[select_criterion]\n",
    "    \n",
    "    validation_groupreps_select.loc[:,\"kind\"] = \"Real\"\n",
    "    groupreps_select.loc[:,\"kind\"] = \"Synthetic\"\n",
    "    \n",
    "#     concat_df = pd.concat([groupreps_select, validation_groupreps_select])\n",
    "    concat_df = groupreps_select.append(validation_groupreps_select, ignore_index=True)\n",
    "\n",
    "    plot_x_axis = \"A_mem_footprint\"\n",
    "    if ('A_mem_footprint' in plot_x_axis):\n",
    "        fig, axs = plt.subplots() \n",
    "        sns_plot = sns.scatterplot(data=concat_df, x=\"A_mem_footprint\", y=\"gflops\", ax=axs, hue=\"kind\")\n",
    "        axs.set_title('Dataset %s' %(select_str))\n",
    "        fig.subplots_adjust(left=.1, bottom=.2, right=.99, top=.94)\n",
    "        plt.xticks(rotation=30)\n",
    "        fig.savefig('./Plot_tries/Select_%s_plot_per_memfoot.pdf' % (select_str_id) )\n",
    "        plt.close()"
   ]
  },
  {
   "cell_type": "code",
   "execution_count": 161,
   "metadata": {},
   "outputs": [
    {
     "name": "stderr",
     "output_type": "stream",
     "text": [
      "/usr/lib/python3/dist-packages/pandas/core/indexing.py:1596: SettingWithCopyWarning: \n",
      "A value is trying to be set on a copy of a slice from a DataFrame.\n",
      "Try using .loc[row_indexer,col_indexer] = value instead\n",
      "\n",
      "See the caveats in the documentation: https://pandas.pydata.org/pandas-docs/stable/user_guide/indexing.html#returning-a-view-versus-a-copy\n",
      "  self.obj[key] = _infer_fill_value(value)\n",
      "/usr/lib/python3/dist-packages/pandas/core/indexing.py:1763: SettingWithCopyWarning: \n",
      "A value is trying to be set on a copy of a slice from a DataFrame.\n",
      "Try using .loc[row_indexer,col_indexer] = value instead\n",
      "\n",
      "See the caveats in the documentation: https://pandas.pydata.org/pandas-docs/stable/user_guide/indexing.html#returning-a-view-versus-a-copy\n",
      "  isetter(loc, value)\n"
     ]
    }
   ],
   "source": [
    "    select_criterion = ( validation_group_system_best['System'] == 'HawkAmdRome' ) # & (groupreps['nz'] > 100000)\n",
    "\n",
    "    select_str = 'Validation matrices, HawkAmdRome'\n",
    "\n",
    "    select_str_id = select_str.replace('=', 'eq').replace('<', 'l').replace('>', 'g').replace(', ', '_').replace(',', '_').replace('\\n', '_').replace(' ', '-')\n",
    "    validation_groupreps_select = validation_group_system_best[select_criterion]\n",
    "    \n",
    "    select_criterion = ( group_system_best['System'] == 'HawkAmdRome' ) # & (groupreps['nz'] > 100000)\n",
    "    groupreps_select = group_system_best[select_criterion]\n",
    "    \n",
    "    validation_groupreps_select.loc[:,\"kind\"] = \"Real\"\n",
    "    groupreps_select.loc[:,\"kind\"] = \"Synthetic\"\n",
    "    \n",
    "#     concat_df = pd.concat([groupreps_select, validation_groupreps_select])\n",
    "    concat_df = groupreps_select.append(validation_groupreps_select, ignore_index=True)\n",
    "\n",
    "    plot_x_axis = \"A_mem_footprint\"\n",
    "    if ('A_mem_footprint' in plot_x_axis):\n",
    "        fig, axs = plt.subplots() \n",
    "        sns_plot = sns.scatterplot(data=concat_df, x=\"A_mem_footprint\", y=\"gflops\", ax=axs, hue=\"kind\")\n",
    "        axs.set_title('Dataset %s' %(select_str))\n",
    "        fig.subplots_adjust(left=.1, bottom=.2, right=.99, top=.94)\n",
    "        plt.xticks(rotation=30)\n",
    "        fig.savefig('./Plot_tries/Select_%s_plot_per_memfoot.pdf' % (select_str_id) )\n",
    "        plt.close()"
   ]
  },
  {
   "cell_type": "code",
   "execution_count": null,
   "metadata": {},
   "outputs": [],
   "source": []
  }
 ],
 "metadata": {
  "kernelspec": {
   "display_name": "Python 3",
   "language": "python",
   "name": "python3"
  },
  "language_info": {
   "codemirror_mode": {
    "name": "ipython",
    "version": 3
   },
   "file_extension": ".py",
   "mimetype": "text/x-python",
   "name": "python",
   "nbconvert_exporter": "python",
   "pygments_lexer": "ipython3",
   "version": "3.7.4"
  }
 },
 "nbformat": 4,
 "nbformat_minor": 4
}
