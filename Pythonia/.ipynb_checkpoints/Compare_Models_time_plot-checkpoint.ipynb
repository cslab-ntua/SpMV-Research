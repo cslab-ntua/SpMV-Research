{
 "cells": [
  {
   "cell_type": "code",
   "execution_count": 1,
   "metadata": {},
   "outputs": [
    {
     "name": "stdout",
     "output_type": "stream",
     "text": [
      "['9bd0be', '7fc0c0', '64b2c3', '49a3c5', '4386a0', '3e6a7b', '384e56', '9cce89', '7cbd78', '5cab67', '3c9956', '3a7f4d', '376544', '354c3b', 'ef8872', 'e86d5c', 'e15246', 'd93830', 'af3631', '853531', '5b3432']\n"
     ]
    }
   ],
   "source": [
    "import pandas as pd\n",
    "import matplotlib as mpl\n",
    "mpl.use('pdf')\n",
    "import matplotlib.pyplot as plt\n",
    "from pylab import cm\n",
    "import numpy as np\n",
    "\n",
    "import input_parsing as parse\n",
    "import plot_stuff as mplt  \n",
    "\n",
    "def GigaVal_per_s(val, time):\n",
    "\treturn val * 1e-9 / time\n",
    "\n",
    "def dgemm_flops(M,N,K):\n",
    "\treturn M*N*(2*K+1)\n",
    "\n",
    "machine_names= ['testbed-I_Tesla-K40'] #,'testbed-II_Tesla-V100']\n",
    "funcs=['Sgemm']#'Dgemm', \n",
    "version='final'"
   ]
  },
  {
   "cell_type": "code",
   "execution_count": 2,
   "metadata": {},
   "outputs": [],
   "source": [
    "font=8\n",
    "plt.rc('font', family='serif', serif='Times')\n",
    "#plt.rc('text', usetex=True)\n",
    "plt.rc('xtick', labelsize=font)\n",
    "plt.rc('ytick', labelsize=font)\n",
    "plt.rc('axes', labelsize=font)\n",
    "\n",
    "# width as measured in inkscape\n",
    "width = 3.487\n",
    "height = width / 1.618"
   ]
  },
  {
   "cell_type": "code",
   "execution_count": 3,
   "metadata": {},
   "outputs": [
    {
     "name": "stdout",
     "output_type": "stream",
     "text": [
      "read_validation_values : Read 1165 values from \"../Results/testbed-I_Tesla-K40/validation/CoCopeLia_Sgemm_0_vfinal.log\"...\n",
      "read_validation_values : Read 2205 values from \"../Results/testbed-I_Tesla-K40/validation/cuBLASXt_Sgemm_0.log\"..\n"
     ]
    },
    {
     "name": "stderr",
     "output_type": "stream",
     "text": [
      "findfont: Font family ['serif'] not found. Falling back to DejaVu Sans.\n"
     ]
    },
    {
     "name": "stdout",
     "output_type": "stream",
     "text": [
      "create_validation_set : Combined 1097 prediction/validation pairs\n",
      "create_validation_set: 972 pairs kept in the combined validation set\n",
      "validation_set_split_BLAS3: 30 pairs in the clean validation set\n",
      "create_validation_set : Combined 894 prediction/validation pairs\n",
      "create_validation_set: 786 pairs kept in the combined validation set\n",
      "validation_set_split_BLAS3: 22 pairs in the clean validation set\n",
      "create_validation_set : Combined 894 prediction/validation pairs\n",
      "create_validation_set: 786 pairs kept in the combined validation set\n",
      "validation_set_split_BLAS3: 22 pairs in the clean validation set\n",
      "create_validation_set : Combined 894 prediction/validation pairs\n",
      "create_validation_set: 786 pairs kept in the combined validation set\n",
      "validation_set_split_BLAS3: 22 pairs in the clean validation set\n"
     ]
    }
   ],
   "source": [
    "exchept_T_list = [512,768,666]\n",
    "modelist_names = ['WERKHOVEN', 'WERKHOVEN_LOOKUP_EXEC_TILES', 'COCOPELIA_BIDIRECTIONAL', 'COCOPELIA_REUSE']\n",
    "for func in funcs:\n",
    "    for machine in machine_names:\n",
    "        validation_data = parse.read_validation_values(\"..\",machine,func,version)\n",
    "        fig, ax = plt.subplots()\n",
    "        fig.subplots_adjust(left=.15, bottom=.08, right=.99, top=.86)\n",
    "        total_set = pd.DataFrame()\n",
    "        for model in modelist_names:\n",
    "            validation_pred = parse.read_validation_single_prediction(\"..\",machine,func,version,model)\n",
    "            #print(validation_pred)\n",
    "            validation_mixed = parse.create_validation_set(validation_data, validation_pred, func)\n",
    "\n",
    "            #Square set\n",
    "            locs= [[1,1,1]]\n",
    "            mid_sizes= [12288]\n",
    "            ctrs_fat = [2]\n",
    "            ctrs_thin = []\n",
    "            square_validation_set = parse.validation_set_split_BLAS3(\"Square\",locs,mid_sizes,ctrs_fat,ctrs_thin,validation_mixed)\n",
    "            square_validation_set = parse.cleanT(square_validation_set,exchept_T_list)\n",
    "            #print(square_validation_set)\n",
    "\n",
    "            square_validation_set = square_validation_set[square_validation_set['Noreuse_t'] < 3*square_validation_set['CoCopeLia_t']].sort_values('T', axis=0)\n",
    "\n",
    "            if total_set.empty:\n",
    "                total_set = square_validation_set\n",
    "                plt.plot(square_validation_set['T'], square_validation_set['Noreuse_t'],\n",
    "                    '^', markersize=3, color='gray', label='cuBLASXtSgemm')\n",
    "                plt.plot(square_validation_set['T'], square_validation_set['CoCopeLia_t'],\n",
    "                    'o', markersize=3, color='k', label='CoCopeLiaSgemm')\n",
    "            else:\n",
    "                total_set = pd.concat([total_set.copy(), square_validation_set.copy()])      \n",
    "                \n",
    "            plt.plot(square_validation_set['T'], square_validation_set['pred_t'], linewidth=1, label=model)\n",
    "\n",
    "\n",
    "        merged_uni = total_set[total_set['Noreuse_t'] < 3*total_set['CoCopeLia_t']]\n",
    "        merged_uni['func'] = func\n",
    "\n",
    "        fig.legend(fontsize=font, loc='upper left', fancybox = False, ncol=3)\n",
    "        ax.set_ylabel('Time (s)')\n",
    "        plt.yscale('log')\n",
    "        ax.set_xlabel('Tile Dim (T)')\n",
    "\n",
    "        #ax.set_ylim(1,10)\n",
    "\n",
    "        #fig.set_size_inches(width, height)\n",
    "        fig.savefig('Plots/validation_plot_Model_time_sys-%s_func-%s_dim_%d-%d-%d_loc-%d-%d-%d.pdf' % (machine, func, mid_sizes[0], mid_sizes[0], mid_sizes[0], locs[0][0], locs[0][1], locs[0][2]))\n",
    "        plt.close()"
   ]
  }
 ],
 "metadata": {
  "kernelspec": {
   "display_name": "Python 3",
   "language": "python",
   "name": "python3"
  },
  "language_info": {
   "codemirror_mode": {
    "name": "ipython",
    "version": 3
   },
   "file_extension": ".py",
   "mimetype": "text/x-python",
   "name": "python",
   "nbconvert_exporter": "python",
   "pygments_lexer": "ipython3",
   "version": "3.7.4"
  }
 },
 "nbformat": 4,
 "nbformat_minor": 4
}
