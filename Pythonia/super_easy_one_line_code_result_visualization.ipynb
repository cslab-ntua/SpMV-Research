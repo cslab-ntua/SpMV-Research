{
 "cells": [
  {
   "cell_type": "code",
   "execution_count": 1,
   "metadata": {},
   "outputs": [
    {
     "name": "stderr",
     "output_type": "stream",
     "text": [
      "In /home/petyros/.local/lib/python3.6/site-packages/matplotlib/mpl-data/stylelib/_classic_test.mplstyle: \n",
      "The text.latex.preview rcparam was deprecated in Matplotlib 3.3 and will be removed two minor releases later.\n",
      "In /home/petyros/.local/lib/python3.6/site-packages/matplotlib/mpl-data/stylelib/_classic_test.mplstyle: \n",
      "The mathtext.fallback_to_cm rcparam was deprecated in Matplotlib 3.3 and will be removed two minor releases later.\n",
      "In /home/petyros/.local/lib/python3.6/site-packages/matplotlib/mpl-data/stylelib/_classic_test.mplstyle: Support for setting the 'mathtext.fallback_to_cm' rcParam is deprecated since 3.3 and will be removed two minor releases later; use 'mathtext.fallback : 'cm' instead.\n",
      "In /home/petyros/.local/lib/python3.6/site-packages/matplotlib/mpl-data/stylelib/_classic_test.mplstyle: \n",
      "The validate_bool_maybe_none function was deprecated in Matplotlib 3.3 and will be removed two minor releases later.\n",
      "In /home/petyros/.local/lib/python3.6/site-packages/matplotlib/mpl-data/stylelib/_classic_test.mplstyle: \n",
      "The savefig.jpeg_quality rcparam was deprecated in Matplotlib 3.3 and will be removed two minor releases later.\n",
      "In /home/petyros/.local/lib/python3.6/site-packages/matplotlib/mpl-data/stylelib/_classic_test.mplstyle: \n",
      "The keymap.all_axes rcparam was deprecated in Matplotlib 3.3 and will be removed two minor releases later.\n",
      "In /home/petyros/.local/lib/python3.6/site-packages/matplotlib/mpl-data/stylelib/_classic_test.mplstyle: \n",
      "The animation.avconv_path rcparam was deprecated in Matplotlib 3.3 and will be removed two minor releases later.\n",
      "In /home/petyros/.local/lib/python3.6/site-packages/matplotlib/mpl-data/stylelib/_classic_test.mplstyle: \n",
      "The animation.avconv_args rcparam was deprecated in Matplotlib 3.3 and will be removed two minor releases later.\n"
     ]
    }
   ],
   "source": [
    "import pandas as pd\n",
    "import math\n",
    "import matplotlib as mpl\n",
    "#mpl.use('pdf')\n",
    "import matplotlib.pyplot as plt\n",
    "import numpy as np\n",
    "from collections import OrderedDict\n",
    "import matplotlib\n",
    "import seaborn as sns\n",
    "#Red\n",
    "red1= sns.color_palette(\"Reds_d\",1)\n",
    "red2= sns.color_palette(\"Reds_d\",2)\n",
    "red3= sns.color_palette(\"Reds_d\",3)\n",
    "red4= sns.color_palette(\"Reds_d\",4)\n",
    "red5= sns.color_palette(\"Reds_d\",5)\n",
    "red6= sns.color_palette(\"Reds_d\",6)\n",
    "red7= sns.color_palette(\"Reds_d\",7)\n",
    "red8= sns.color_palette(\"Reds_d\",8)\n",
    "\n",
    "#YellowGreen\n",
    "yg1= sns.color_palette(\"YlGn_d\",1)\n",
    "yg2= sns.color_palette(\"YlGn_d\",2)\n",
    "yg3= sns.color_palette(\"YlGn_d\",3)\n",
    "yg4= sns.color_palette(\"YlGn_d\",4)\n",
    "yg5= sns.color_palette(\"YlGn_d\",5)\n",
    "yg7= sns.color_palette(\"YlGn_d\",7)\n",
    "\n",
    "#GreenBlue\n",
    "gb1= sns.color_palette(\"GnBu_d\",1)\n",
    "gb2= sns.color_palette(\"GnBu_d\",2)\n",
    "gb3= sns.color_palette(\"GnBu_d\",3)\n",
    "gb4= sns.color_palette(\"GnBu_d\",4)\n",
    "gb5= sns.color_palette(\"GnBu_d\",5)\n",
    "gb6= sns.color_palette(\"GnBu_d\",6)\n",
    "gb7= sns.color_palette(\"GnBu_d\",7)\n",
    "gb8= sns.color_palette(\"GnBu_d\",8)\n",
    "\n",
    "cp2 = list(map(lambda x: sns.desaturate(x,0.9),[red7[2],gb7[4]]))\n",
    "cp2v1 = list(map(lambda x: sns.desaturate(x,0.9),[red7[2],yg7[0]]))\n",
    "cp3 = list(map(lambda x: sns.desaturate(x,0.9),[yg7[0],gb7[4],red7[2]]))\n",
    "#cp4 = list(map(lambda x: sns.desaturate(x,0.9),red1+gb2+yg1))\n",
    "cp2_2 = list(map(lambda x: sns.desaturate(x,0.9),[red7[0],red7[3],gb7[4],gb7[6]]))\n",
    "cp_total_spectrum = list(map(lambda x: sns.desaturate(x,0.9),gb7 + yg7 + red7))"
   ]
  },
  {
   "cell_type": "code",
   "execution_count": 2,
   "metadata": {},
   "outputs": [
    {
     "data": {
      "text/html": [
       "<svg  width=\"110\" height=\"55\"><rect x=\"0\" y=\"0\" width=\"55\" height=\"55\" style=\"fill:#e15246;stroke-width:2;stroke:rgb(255,255,255)\"/><rect x=\"55\" y=\"0\" width=\"55\" height=\"55\" style=\"fill:#4486a0;stroke-width:2;stroke:rgb(255,255,255)\"/></svg>"
      ],
      "text/plain": [
       "[(0.8807358708189157, 0.32277047289504046, 0.2744659746251443),\n",
       " (0.2649160579264386, 0.5270152505446624, 0.6269460463924131)]"
      ]
     },
     "execution_count": 2,
     "metadata": {},
     "output_type": "execute_result"
    }
   ],
   "source": [
    "sns.set_palette(cp2)\n",
    "sns.color_palette()"
   ]
  },
  {
   "cell_type": "code",
   "execution_count": 3,
   "metadata": {},
   "outputs": [
    {
     "data": {
      "text/html": [
       "<svg  width=\"110\" height=\"55\"><rect x=\"0\" y=\"0\" width=\"55\" height=\"55\" style=\"fill:#e15246;stroke-width:2;stroke:rgb(255,255,255)\"/><rect x=\"55\" y=\"0\" width=\"55\" height=\"55\" style=\"fill:#9cce89;stroke-width:2;stroke:rgb(255,255,255)\"/></svg>"
      ],
      "text/plain": [
       "[(0.8807358708189157, 0.32277047289504046, 0.2744659746251443),\n",
       " (0.6120315263360248, 0.8081330257593234, 0.5357962322183777)]"
      ]
     },
     "execution_count": 3,
     "metadata": {},
     "output_type": "execute_result"
    }
   ],
   "source": [
    "sns.set_palette(cp2v1)\n",
    "sns.color_palette()"
   ]
  },
  {
   "cell_type": "code",
   "execution_count": 4,
   "metadata": {},
   "outputs": [
    {
     "data": {
      "text/html": [
       "<svg  width=\"165\" height=\"55\"><rect x=\"0\" y=\"0\" width=\"55\" height=\"55\" style=\"fill:#9cce89;stroke-width:2;stroke:rgb(255,255,255)\"/><rect x=\"55\" y=\"0\" width=\"55\" height=\"55\" style=\"fill:#4486a0;stroke-width:2;stroke:rgb(255,255,255)\"/><rect x=\"110\" y=\"0\" width=\"55\" height=\"55\" style=\"fill:#e15246;stroke-width:2;stroke:rgb(255,255,255)\"/></svg>"
      ],
      "text/plain": [
       "[(0.6120315263360248, 0.8081330257593234, 0.5357962322183777),\n",
       " (0.2649160579264386, 0.5270152505446624, 0.6269460463924131),\n",
       " (0.8807358708189157, 0.32277047289504046, 0.2744659746251443)]"
      ]
     },
     "execution_count": 4,
     "metadata": {},
     "output_type": "execute_result"
    }
   ],
   "source": [
    "sns.set_palette(cp3)\n",
    "sns.color_palette()"
   ]
  },
  {
   "cell_type": "code",
   "execution_count": 5,
   "metadata": {},
   "outputs": [
    {
     "data": {
      "text/html": [
       "<svg  width=\"275\" height=\"55\"><rect x=\"0\" y=\"0\" width=\"55\" height=\"55\" style=\"fill:#067906;stroke-width:2;stroke:rgb(255,255,255)\"/><rect x=\"55\" y=\"0\" width=\"55\" height=\"55\" style=\"fill:#f20d0d;stroke-width:2;stroke:rgb(255,255,255)\"/><rect x=\"110\" y=\"0\" width=\"55\" height=\"55\" style=\"fill:#0d0df2;stroke-width:2;stroke:rgb(255,255,255)\"/><rect x=\"165\" y=\"0\" width=\"55\" height=\"55\" style=\"fill:#f2a10d;stroke-width:2;stroke:rgb(255,255,255)\"/><rect x=\"220\" y=\"0\" width=\"55\" height=\"55\" style=\"fill:#808080;stroke-width:2;stroke:rgb(255,255,255)\"/></svg>"
      ],
      "text/plain": [
       "[(0.025000000000000022, 0.475, 0.025000000000000022),\n",
       " (0.95, 0.050000000000000044, 0.050000000000000044),\n",
       " (0.050000000000000044, 0.050000000000000044, 0.95),\n",
       " (0.95, 0.6323529411764707, 0.050000000000000044),\n",
       " (0.5019607843137255, 0.5019607843137255, 0.5019607843137255)]"
      ]
     },
     "execution_count": 5,
     "metadata": {},
     "output_type": "execute_result"
    }
   ],
   "source": [
    "cpbasic = list(map(lambda x: sns.desaturate(x,0.9),['g','r','b','orange','grey']))\n",
    "sns.set_palette(cpbasic)\n",
    "sns.color_palette()"
   ]
  },
  {
   "cell_type": "code",
   "execution_count": 6,
   "metadata": {},
   "outputs": [
    {
     "name": "stderr",
     "output_type": "stream",
     "text": [
      "findfont: Font family ['serif'] not found. Falling back to DejaVu Sans.\n"
     ]
    },
    {
     "data": {
      "image/png": "[encoded data removed]",
      "text/plain": [
       "<Figure size 432x288 with 1 Axes>"
      ]
     },
     "metadata": {
      "needs_background": "light"
     },
     "output_type": "display_data"
    }
   ],
   "source": [
    "font=8\n",
    "plt.rc('font', family='serif', serif='Times')\n",
    "#plt.rc('text', usetex=True)\n",
    "plt.rc('xtick', labelsize=font-1)\n",
    "plt.rc('ytick', labelsize=font-1)\n",
    "plt.rc('axes', labelsize=font)\n",
    "\n",
    "\n",
    "# width as measured in inkscape\n",
    "width = 3.487\n",
    "height = width / 1.618*3/2\n",
    "\n",
    "fig, axs = plt.subplots()\n",
    "#fig.subplots_adjust(left=.15, bottom=.16, right=.99, top=.97)\n",
    "fig.subplots_adjust(left=.15, bottom=.08, right=.99, top=.94)\n",
    "\n",
    "#import seaborn as sns\n",
    "#sns.set(style=\"whitegrid\", palette=cpbasic,font_scale=0.2, rc={\"lines.linewidth\": 1})"
   ]
  },
  {
   "cell_type": "code",
   "execution_count": 7,
   "metadata": {},
   "outputs": [],
   "source": [
    "import string as str\n",
    "reps = 1\n",
    "implementations = ['cuSPARSE_csr11', 'cuSPARSE_coo11', 'CSR5_9', 'cuSPARSE_csr9-2', 'cuSPARSE_hyb9-2']\n",
    "#['OMP_csr-40', 'cuSPARSE_csr', 'cuSPARSE_hyb', 'cuSPARSE_bsr-2', 'cuSPARSE_bsr-4', 'cuSPARSE_bsr-16', 'cuSPARSE_bsr-64', 'cuCSR5']\n",
    "dtypes=['D']\n",
    "for dtype in dtypes:\n",
    "    #Unified read\n",
    "    fname = \"silver1-TeslaV100_dtype-%s_run_dataset.csv\" % dtype\n",
    "    inputdata_GPU = pd.read_csv('../Benchmarks/%s' % fname, names = \n",
    "                            ['mtx_name','distribution','placement','diagonal_factor', 'seed','m','n','nz',\n",
    "                             'density','A_mem_footprint','mem_range','avg_nz_row','std_nz_row','avg_bandwidth',\n",
    "                            'std_bandwidth','avg_scattering','std_scattering','implementation','time','gflops','W_avg', 'J_estimated'])\n",
    "    inputdata_GPU['System'] = 'TeslaV100'\n",
    "   # print(inputdata_GPU.head(2))"
   ]
  },
  {
   "cell_type": "code",
   "execution_count": 8,
   "metadata": {},
   "outputs": [],
   "source": [
    "    fname = \"hawk_csr_naive_normal_4-2048_d.out\"\n",
    "    inputdata_csrnaive = pd.read_csv('../Benchmarks/%s' % fname, names =\n",
    "                        ['mtx_name','distribution','placement','diagonal_factor', 'seed','m','n','nz',\n",
    "                         'density','A_mem_footprint','mem_range','avg_nz_row','std_nz_row','avg_bandwidth',\n",
    "                        'std_bandwidth','avg_scattering','std_scattering','implementation','time','gflops','W_avg', 'J_estimated'])\n",
    "    inputdata_csrnaive['System'] = 'HawkAmdRome'\n",
    "    inputdata_csrnaive['implementation'] = 'Naive-CSR-CPU'\n",
    "    #print(inputdata_csrnaive.head(2))"
   ]
  },
  {
   "cell_type": "code",
   "execution_count": 9,
   "metadata": {},
   "outputs": [],
   "source": [
    "    fname = \"hawk_csr5_normal_4-2048_d.out\"\n",
    "    inputdata_csr5cpu = pd.read_csv('../Benchmarks/%s' % fname, names =\n",
    "                        ['mtx_name','distribution','placement','diagonal_factor', 'seed','m','n','nz',\n",
    "                         'density','A_mem_footprint','mem_range','avg_nz_row','std_nz_row','avg_bandwidth',\n",
    "                        'std_bandwidth','avg_scattering','std_scattering','implementation','time','gflops','W_avg', 'J_estimated'])\n",
    "    inputdata_csr5cpu['System'] = 'HawkAmdRome'\n",
    "    inputdata_csr5cpu['implementation'] = 'CSR5-CPU'\n",
    "    #print(inputdata_csr5cpu.head(2))"
   ]
  },
  {
   "cell_type": "code",
   "execution_count": 10,
   "metadata": {},
   "outputs": [],
   "source": [
    "    fname = \"hawk_mkl_ie_normal_4-2048_d.out\"\n",
    "    inputdata_mkl = pd.read_csv('../Benchmarks/%s' % fname, names =\n",
    "                        ['mtx_name','distribution','placement','diagonal_factor', 'seed','m','n','nz',\n",
    "                         'density','A_mem_footprint','mem_range','avg_nz_row','std_nz_row','avg_bandwidth',\n",
    "                        'std_bandwidth','avg_scattering','std_scattering','implementation','time','gflops','W_avg', 'J_estimated'])\n",
    "    inputdata_mkl['System'] = 'HawkAmdRome'\n",
    "    #print(inputdata_mkl.head(2))"
   ]
  },
  {
   "cell_type": "code",
   "execution_count": 11,
   "metadata": {},
   "outputs": [],
   "source": [
    "    fname = \"hawk_mkl_ie_normal_4-2048_d_t128.out\"\n",
    "    inputdata_mkl_128 = pd.read_csv('../Benchmarks/%s' % fname, names =\n",
    "                        ['mtx_name','distribution','placement','diagonal_factor', 'seed','m','n','nz',\n",
    "                         'density','A_mem_footprint','mem_range','avg_nz_row','std_nz_row','avg_bandwidth',\n",
    "                        'std_bandwidth','avg_scattering','std_scattering','implementation','time','gflops','W_avg', 'J_estimated'])\n",
    "    inputdata_mkl_128['System'] = 'HawkAmdRome'\n",
    "    inputdata_mkl_128['implementation'] = 'MKL_IE_128'\n",
    "    #print(inputdata_mkl_128.head(2))"
   ]
  },
  {
   "cell_type": "code",
   "execution_count": 12,
   "metadata": {},
   "outputs": [
    {
     "name": "stdout",
     "output_type": "stream",
     "text": [
      "    mtx_name distribution placement  diagonal_factor  seed       m       n  \\\n",
      "0  synthetic       normal    random              1.0    14  121000  121000   \n",
      "1  synthetic       normal  diagonal              0.5    14  121000  121000   \n",
      "\n",
      "       nz   density  A_mem_footprint  ... avg_bandwidth  std_bandwidth  \\\n",
      "0  314355  0.002147          80.3046  ...      0.419536       0.255357   \n",
      "1  314355  0.002147          31.6747  ...      0.000054       0.000029   \n",
      "\n",
      "   avg_scattering  std_scattering  implementation      time    gflops W_avg  \\\n",
      "0     5157.325731        0.201622     Xilinx_SpMV  4.000930   4.87971    33   \n",
      "1    61088.961155        0.246533     Xilinx_SpMV  0.521192  14.86930    33   \n",
      "\n",
      "   J_estimated  System  \n",
      "0   132.030690    FPGA  \n",
      "1    17.199336    FPGA  \n",
      "\n",
      "[2 rows x 23 columns]\n"
     ]
    }
   ],
   "source": [
    "    fname = \"xilinx_spmv_4-2048_small_normal_dataset_dtype-%s.csv\" % dtype\n",
    "    inputdata_FPGA = pd.read_csv('../Benchmarks/%s' % fname, names = \n",
    "                    ['mtx_name','distribution','placement','diagonal_factor', 'seed','m','n','nz',\n",
    "                     'density','A_mem_footprint','mem_range','avg_nz_row','std_nz_row','avg_bandwidth',\n",
    "                    'std_bandwidth','avg_scattering','std_scattering','implementation','time','gflops','W_avg', 'J_estimated'])\n",
    "    inputdata_FPGA['System'] = 'FPGA'\n",
    "    print(inputdata_FPGA.head(2))"
   ]
  },
  {
   "cell_type": "code",
   "execution_count": 13,
   "metadata": {},
   "outputs": [],
   "source": [
    "    # MPAKOS fix columns div\n",
    "    inputdata_GPU['avg_scattering'] = inputdata_GPU['avg_scattering']/inputdata_GPU['n']\n",
    "    inputdata_GPU['std_scattering'] = inputdata_GPU['std_scattering']/inputdata_GPU['n']\n",
    "    "
   ]
  },
  {
   "cell_type": "code",
   "execution_count": 14,
   "metadata": {},
   "outputs": [],
   "source": [
    "    # Merge the results\n",
    "    inputdata = pd.concat([inputdata_GPU,inputdata_csrnaive])\n",
    "    inputdata = pd.concat([inputdata,inputdata_csr5cpu])\n",
    "    inputdata = pd.concat([inputdata,inputdata_mkl])\n",
    "    inputdata = pd.concat([inputdata,inputdata_mkl_128])\n",
    "    inputdata = pd.concat([inputdata,inputdata_FPGA])"
   ]
  },
  {
   "cell_type": "code",
   "execution_count": 15,
   "metadata": {},
   "outputs": [],
   "source": [
    "    # Group per reps, take mean\n",
    "    groupreps = inputdata.groupby(['mtx_name','distribution','placement','diagonal_factor', 'seed','m','n', \n",
    "                             'density','A_mem_footprint','mem_range','nz','avg_nz_row','std_nz_row','avg_bandwidth',\n",
    "                            'std_bandwidth','avg_scattering','std_scattering', 'implementation','System']).mean().reset_index()"
   ]
  },
  {
   "cell_type": "code",
   "execution_count": null,
   "metadata": {},
   "outputs": [],
   "source": []
  },
  {
   "cell_type": "code",
   "execution_count": 16,
   "metadata": {},
   "outputs": [],
   "source": [
    "    plot_x_axis = ['mem_range']\n",
    "    select_criterion = (groupreps['avg_nz_row'] > 19) & ( groupreps['std_nz_row'] > 1 ) & ( groupreps['std_nz_row'] < 8.03) & ( groupreps['implementation'] == 'Xilinx_SpMV') # & (groupreps['nz'] > 100000)\n",
    "    select_str = 'avg_nz_row > 19, std_nz_row > 1 , std_nz_row < 8.03\\nImplementation = Xilinx_SpMV'\n",
    "    select_str_id = select_str.replace('=', 'eq').replace('<', 'l').replace('>', 'g').replace(', ', '_').replace(',', '_').replace('\\n', '_').replace(' ', '-')\n",
    "    groupreps_select = groupreps[select_criterion]\n",
    "    #groupbench = groupreps_select.groupby(['mtx_name','distribution','placement','diagonal_factor', 'seed','m','n', 'density','A_mem_footprint','mem_range','nz','avg_nz_row','std_nz_row','avg_bandwidth', 'std_bandwidth','avg_scattering','std_scattering'], as_index =False)"
   ]
  },
  {
   "cell_type": "code",
   "execution_count": 17,
   "metadata": {},
   "outputs": [],
   "source": [
    "    if ('implementation' in plot_x_axis):\n",
    "        fig, axs = plt.subplots()\n",
    "        sns_plot = sns.boxplot(data=groupreps_select, x=\"implementation\", y=\"gflops\", ax=axs)\n",
    "        axs.set_title('Dataset %s' %(select_str))\n",
    "        fig.subplots_adjust(left=.1, bottom=.2, right=.99, top=.94)\n",
    "        plt.xticks(rotation=30)\n",
    "        fig.savefig('./Plot_tries/Select_%s_plot_per_format.pdf' % (select_str_id) )\n",
    "        plt.close()"
   ]
  },
  {
   "cell_type": "code",
   "execution_count": 18,
   "metadata": {},
   "outputs": [
    {
     "name": "stderr",
     "output_type": "stream",
     "text": [
      "findfont: Font family ['serif'] not found. Falling back to DejaVu Sans.\n",
      "findfont: Font family ['serif'] not found. Falling back to DejaVu Sans.\n"
     ]
    }
   ],
   "source": [
    "    if ('mem_range' in plot_x_axis):\n",
    "        #groupreps_select_sorted = groupreps_select.assign(sorter_col = groupreps_select['mem_range'].split('-').split('[')[1]).sort_values('sorter_col').drop('sorter_col', axis=1)\n",
    "        groupreps_select_sorted = groupreps_select.sort_values('A_mem_footprint')\n",
    "        fig, axs = plt.subplots()\n",
    "        sns_plot = sns.boxplot(data=groupreps_select_sorted, x=\"mem_range\", y=\"gflops\", ax=axs)\n",
    "        axs.set_title('Dataset %s' %(select_str))\n",
    "        fig.subplots_adjust(left=.1, bottom=.2, right=.99, top=.88)\n",
    "        plt.xticks(rotation=30)\n",
    "        fig.savefig('./Plot_tries/Select_%s_plot_per_memrange.pdf' % (select_str_id) )\n",
    "        plt.close()"
   ]
  },
  {
   "cell_type": "code",
   "execution_count": 19,
   "metadata": {},
   "outputs": [],
   "source": [
    "    if ('distribution' in plot_x_axis):\n",
    "        fig, axs = plt.subplots() \n",
    "        sns_plot = sns.boxplot(data=groupreps_select, x=\"distribution\", y=\"gflops\", ax=axs)\n",
    "        axs.set_title('Dataset %s' %(select_str))\n",
    "        fig.subplots_adjust(left=.1, bottom=.2, right=.99, top=.94)\n",
    "        plt.xticks(rotation=30)\n",
    "        fig.savefig('./Plot_tries/Select_%s_plot_per_dist.pdf' % (select_str_id) )\n",
    "        plt.close()"
   ]
  },
  {
   "cell_type": "code",
   "execution_count": 20,
   "metadata": {},
   "outputs": [],
   "source": [
    "    if ('density' in plot_x_axis):\n",
    "        fig, axs = plt.subplots() \n",
    "        sns_plot = sns.scatterplot(data=groupreps_select, x=\"density\", y=\"gflops\", ax=axs)\n",
    "        axs.set_title('Dataset %s' %(select_str))\n",
    "        fig.subplots_adjust(left=.1, bottom=.2, right=.99, top=.94)\n",
    "        plt.xticks(rotation=30)\n",
    "        fig.savefig('./Plot_tries/Select_%s_plot_per_density.pdf' % (select_str_id) )\n",
    "        plt.close()"
   ]
  },
  {
   "cell_type": "code",
   "execution_count": 21,
   "metadata": {},
   "outputs": [],
   "source": [
    "    if ('A_mem_footprint' in plot_x_axis):\n",
    "        fig, axs = plt.subplots() \n",
    "        sns_plot = sns.scatterplot(data=groupreps_select, x=\"A_mem_footprint\", y=\"gflops\", ax=axs)\n",
    "        axs.set_title('Dataset %s' %(select_str))\n",
    "        fig.subplots_adjust(left=.1, bottom=.2, right=.99, top=.94)\n",
    "        plt.xticks(rotation=30)\n",
    "        fig.savefig('./Plot_tries/Select_%s_plot_per_memfoot.pdf' % (select_str_id) )\n",
    "        plt.close()"
   ]
  },
  {
   "cell_type": "code",
   "execution_count": 22,
   "metadata": {},
   "outputs": [],
   "source": [
    "    if ('m' in plot_x_axis):\n",
    "        fig, axs = plt.subplots() \n",
    "        sns_plot = sns.boxplot(data=groupreps_select, x=\"m\", y=\"gflops\", ax=axs)\n",
    "        axs.set_title('Dataset %s' %(select_str))\n",
    "        fig.subplots_adjust(left=.1, bottom=.2, right=.99, top=.94)\n",
    "        plt.xticks(rotation=30)\n",
    "        fig.savefig('./Plot_tries/Select_%s_plot_per_m.pdf' % (select_str_id) )\n",
    "        plt.close()\n",
    "        #fig, axs = plt.subplots() \n",
    "        #sns_plot = sns.boxplot(data=groupreps_select, x=\"n\", y=\"gflops\", ax=axs)\n",
    "        #axs.set_title('Dataset %s' %(select_str))\n",
    "        #fig.savefig('./Plot_tries/Select_%s_plot_per_n.pdf' % (select_str_id) )\n",
    "        #plt.close()"
   ]
  },
  {
   "cell_type": "code",
   "execution_count": 23,
   "metadata": {},
   "outputs": [],
   "source": [
    "    if ('nz' in plot_x_axis):\n",
    "        fig, axs = plt.subplots() \n",
    "        sns_plot = sns.scatterplot(data=groupreps_select, x=\"nz\", y=\"gflops\", ax=axs)\n",
    "        axs.set_title('Dataset %s' %(select_str))\n",
    "        fig.subplots_adjust(left=.1, bottom=.2, right=.99, top=.94)\n",
    "        plt.xticks(rotation=30)\n",
    "        fig.savefig('./Plot_tries/Select_%s_plot_per_nz.pdf' % (select_str_id) )\n",
    "        plt.close()"
   ]
  },
  {
   "cell_type": "code",
   "execution_count": 24,
   "metadata": {},
   "outputs": [],
   "source": [
    "    if ('avg_nz_row' in plot_x_axis):\n",
    "        fig, axs = plt.subplots() \n",
    "        sns_plot = sns.scatterplot(data=groupreps_select, x=\"avg_nz_row\", y=\"gflops\", ax=axs)\n",
    "        axs.set_title('Dataset %s' %(select_str))\n",
    "        fig.subplots_adjust(left=.1, bottom=.2, right=.99, top=.94)\n",
    "        plt.xticks(rotation=30)\n",
    "        fig.savefig('./Plot_tries/Select_%s_plot_per_avg_nz_row.pdf' % (select_str_id) )\n",
    "        plt.close()"
   ]
  },
  {
   "cell_type": "code",
   "execution_count": 25,
   "metadata": {},
   "outputs": [],
   "source": [
    "    # Group per system, take best\n",
    "    group_system = inputdata.groupby(['mtx_name','distribution','placement','diagonal_factor', 'seed','m','n', \n",
    "                             'density','A_mem_footprint','mem_range','nz','avg_nz_row','std_nz_row','avg_bandwidth',\n",
    "                            'std_bandwidth','avg_scattering','std_scattering', 'System'], as_index = False)\n",
    "    reslist = []\n",
    "    for desc, experiment in group_system:\n",
    "        best_format = experiment['implementation'].iloc[experiment['gflops'].argmax()]\n",
    "        outrow = experiment[experiment['implementation'] == best_format]\n",
    "        reslist.append(outrow.values.tolist()[0])\n",
    "        #print(outrow.values.tolist()[0])\n",
    "    group_system_best = pd.DataFrame(reslist, columns =['mtx_name','distribution','placement','diagonal_factor', 'seed','m','n','nz',\n",
    "                     'density','A_mem_footprint','mem_range','avg_nz_row','std_nz_row','avg_bandwidth',\n",
    "                    'std_bandwidth','avg_scattering','std_scattering','implementation','time','gflops','W_avg', 'J_estimated', 'System'])\n",
    "    "
   ]
  },
  {
   "cell_type": "code",
   "execution_count": 30,
   "metadata": {},
   "outputs": [],
   "source": [
    "    #print(group_system_best[group_system_best['System'] == 'HawkAmdRome'].head(10))   \n",
    "    plot_x_axis_best = ['mem_range']\n",
    "    select_criterion = (group_system_best['avg_nz_row'] > 19) & ( group_system_best['std_nz_row'] > 1 ) & ( group_system_best['std_nz_row'] < 8.03) & ( group_system_best['System'] == 'HawkAmdRome') # & (groupreps['nz'] > 100000)\n",
    "    select_str = 'avg_nz_row > 19, std_nz_row > 1 , std_nz_row < 8.03\\nBest of System = HawkAmdRome'\n",
    "    select_str_id = select_str.replace('=', 'eq').replace('<', 'l').replace('>', 'g').replace(', ', '_').replace(',', '_').replace('\\n', '_').replace(' ', '-')\n",
    "    groupreps_select_best = group_system_best[select_criterion]\n",
    "    \n",
    "    if ('mem_range' in plot_x_axis_best):\n",
    "        #groupreps_select_sorted = groupreps_select.assign(sorter_col = groupreps_select['mem_range'].split('-').split('[')[1]).sort_values('sorter_col').drop('sorter_col', axis=1)\n",
    "        groupreps_select_sorted = groupreps_select_best.sort_values('A_mem_footprint')\n",
    "        fig, axs = plt.subplots()\n",
    "        sns_plot = sns.boxplot(data=groupreps_select_sorted, x=\"mem_range\", y=\"gflops\", ax=axs)\n",
    "        axs.set_title('Dataset %s' %(select_str))\n",
    "        fig.subplots_adjust(left=.1, bottom=.2, right=.99, top=.88)\n",
    "        plt.xticks(rotation=30)\n",
    "        fig.savefig('./Plot_tries/Select_%s_plot_per_memrange.pdf' % (select_str_id) )\n",
    "        plt.close()\n",
    "    "
   ]
  },
  {
   "cell_type": "code",
   "execution_count": null,
   "metadata": {},
   "outputs": [],
   "source": []
  }
 ],
 "metadata": {
  "kernelspec": {
   "display_name": "Python 3",
   "language": "python",
   "name": "python3"
  },
  "language_info": {
   "codemirror_mode": {
    "name": "ipython",
    "version": 3
   },
   "file_extension": ".py",
   "mimetype": "text/x-python",
   "name": "python",
   "nbconvert_exporter": "python",
   "pygments_lexer": "ipython3",
   "version": "3.6.9"
  }
 },
 "nbformat": 4,
 "nbformat_minor": 4
}
