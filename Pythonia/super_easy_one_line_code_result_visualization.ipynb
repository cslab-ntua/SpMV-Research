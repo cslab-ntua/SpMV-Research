{
 "cells": [
  {
   "cell_type": "code",
   "execution_count": 1,
   "metadata": {},
   "outputs": [
    {
     "name": "stderr",
     "output_type": "stream",
     "text": [
      "In /home/petyros/.local/lib/python3.6/site-packages/matplotlib/mpl-data/stylelib/_classic_test.mplstyle: \n",
      "The text.latex.preview rcparam was deprecated in Matplotlib 3.3 and will be removed two minor releases later.\n",
      "In /home/petyros/.local/lib/python3.6/site-packages/matplotlib/mpl-data/stylelib/_classic_test.mplstyle: \n",
      "The mathtext.fallback_to_cm rcparam was deprecated in Matplotlib 3.3 and will be removed two minor releases later.\n",
      "In /home/petyros/.local/lib/python3.6/site-packages/matplotlib/mpl-data/stylelib/_classic_test.mplstyle: Support for setting the 'mathtext.fallback_to_cm' rcParam is deprecated since 3.3 and will be removed two minor releases later; use 'mathtext.fallback : 'cm' instead.\n",
      "In /home/petyros/.local/lib/python3.6/site-packages/matplotlib/mpl-data/stylelib/_classic_test.mplstyle: \n",
      "The validate_bool_maybe_none function was deprecated in Matplotlib 3.3 and will be removed two minor releases later.\n",
      "In /home/petyros/.local/lib/python3.6/site-packages/matplotlib/mpl-data/stylelib/_classic_test.mplstyle: \n",
      "The savefig.jpeg_quality rcparam was deprecated in Matplotlib 3.3 and will be removed two minor releases later.\n",
      "In /home/petyros/.local/lib/python3.6/site-packages/matplotlib/mpl-data/stylelib/_classic_test.mplstyle: \n",
      "The keymap.all_axes rcparam was deprecated in Matplotlib 3.3 and will be removed two minor releases later.\n",
      "In /home/petyros/.local/lib/python3.6/site-packages/matplotlib/mpl-data/stylelib/_classic_test.mplstyle: \n",
      "The animation.avconv_path rcparam was deprecated in Matplotlib 3.3 and will be removed two minor releases later.\n",
      "In /home/petyros/.local/lib/python3.6/site-packages/matplotlib/mpl-data/stylelib/_classic_test.mplstyle: \n",
      "The animation.avconv_args rcparam was deprecated in Matplotlib 3.3 and will be removed two minor releases later.\n"
     ]
    }
   ],
   "source": [
    "import pandas as pd\n",
    "import math\n",
    "import matplotlib as mpl\n",
    "#mpl.use('pdf')\n",
    "import matplotlib.pyplot as plt\n",
    "import numpy as np\n",
    "from collections import OrderedDict\n",
    "import matplotlib\n",
    "import seaborn as sns\n",
    "#Red\n",
    "red1= sns.color_palette(\"Reds_d\",1)\n",
    "red2= sns.color_palette(\"Reds_d\",2)\n",
    "red3= sns.color_palette(\"Reds_d\",3)\n",
    "red4= sns.color_palette(\"Reds_d\",4)\n",
    "red5= sns.color_palette(\"Reds_d\",5)\n",
    "red6= sns.color_palette(\"Reds_d\",6)\n",
    "red7= sns.color_palette(\"Reds_d\",7)\n",
    "red8= sns.color_palette(\"Reds_d\",8)\n",
    "\n",
    "#YellowGreen\n",
    "yg1= sns.color_palette(\"YlGn_d\",1)\n",
    "yg2= sns.color_palette(\"YlGn_d\",2)\n",
    "yg3= sns.color_palette(\"YlGn_d\",3)\n",
    "yg4= sns.color_palette(\"YlGn_d\",4)\n",
    "yg5= sns.color_palette(\"YlGn_d\",5)\n",
    "yg7= sns.color_palette(\"YlGn_d\",7)\n",
    "\n",
    "#GreenBlue\n",
    "gb1= sns.color_palette(\"GnBu_d\",1)\n",
    "gb2= sns.color_palette(\"GnBu_d\",2)\n",
    "gb3= sns.color_palette(\"GnBu_d\",3)\n",
    "gb4= sns.color_palette(\"GnBu_d\",4)\n",
    "gb5= sns.color_palette(\"GnBu_d\",5)\n",
    "gb6= sns.color_palette(\"GnBu_d\",6)\n",
    "gb7= sns.color_palette(\"GnBu_d\",7)\n",
    "gb8= sns.color_palette(\"GnBu_d\",8)\n",
    "\n",
    "cp2 = list(map(lambda x: sns.desaturate(x,0.9),[red7[2],gb7[4]]))\n",
    "cp2v1 = list(map(lambda x: sns.desaturate(x,0.9),[red7[2],yg7[0]]))\n",
    "cp3 = list(map(lambda x: sns.desaturate(x,0.9),[yg7[0],gb7[4],red7[2]]))\n",
    "#cp4 = list(map(lambda x: sns.desaturate(x,0.9),red1+gb2+yg1))\n",
    "cp2_2 = list(map(lambda x: sns.desaturate(x,0.9),[red7[0],red7[3],gb7[4],gb7[6]]))\n",
    "cp_total_spectrum = list(map(lambda x: sns.desaturate(x,0.9),gb7 + yg7 + red7))"
   ]
  },
  {
   "cell_type": "code",
   "execution_count": 2,
   "metadata": {},
   "outputs": [
    {
     "data": {
      "text/html": [
       "<svg  width=\"110\" height=\"55\"><rect x=\"0\" y=\"0\" width=\"55\" height=\"55\" style=\"fill:#e15246;stroke-width:2;stroke:rgb(255,255,255)\"/><rect x=\"55\" y=\"0\" width=\"55\" height=\"55\" style=\"fill:#4486a0;stroke-width:2;stroke:rgb(255,255,255)\"/></svg>"
      ],
      "text/plain": [
       "[(0.8807358708189157, 0.32277047289504046, 0.2744659746251443),\n",
       " (0.2649160579264386, 0.5270152505446624, 0.6269460463924131)]"
      ]
     },
     "execution_count": 2,
     "metadata": {},
     "output_type": "execute_result"
    }
   ],
   "source": [
    "sns.set_palette(cp2)\n",
    "sns.color_palette()"
   ]
  },
  {
   "cell_type": "code",
   "execution_count": 3,
   "metadata": {},
   "outputs": [
    {
     "data": {
      "text/html": [
       "<svg  width=\"110\" height=\"55\"><rect x=\"0\" y=\"0\" width=\"55\" height=\"55\" style=\"fill:#e15246;stroke-width:2;stroke:rgb(255,255,255)\"/><rect x=\"55\" y=\"0\" width=\"55\" height=\"55\" style=\"fill:#9cce89;stroke-width:2;stroke:rgb(255,255,255)\"/></svg>"
      ],
      "text/plain": [
       "[(0.8807358708189157, 0.32277047289504046, 0.2744659746251443),\n",
       " (0.6120315263360248, 0.8081330257593234, 0.5357962322183777)]"
      ]
     },
     "execution_count": 3,
     "metadata": {},
     "output_type": "execute_result"
    }
   ],
   "source": [
    "sns.set_palette(cp2v1)\n",
    "sns.color_palette()"
   ]
  },
  {
   "cell_type": "code",
   "execution_count": 4,
   "metadata": {},
   "outputs": [
    {
     "data": {
      "text/html": [
       "<svg  width=\"165\" height=\"55\"><rect x=\"0\" y=\"0\" width=\"55\" height=\"55\" style=\"fill:#9cce89;stroke-width:2;stroke:rgb(255,255,255)\"/><rect x=\"55\" y=\"0\" width=\"55\" height=\"55\" style=\"fill:#4486a0;stroke-width:2;stroke:rgb(255,255,255)\"/><rect x=\"110\" y=\"0\" width=\"55\" height=\"55\" style=\"fill:#e15246;stroke-width:2;stroke:rgb(255,255,255)\"/></svg>"
      ],
      "text/plain": [
       "[(0.6120315263360248, 0.8081330257593234, 0.5357962322183777),\n",
       " (0.2649160579264386, 0.5270152505446624, 0.6269460463924131),\n",
       " (0.8807358708189157, 0.32277047289504046, 0.2744659746251443)]"
      ]
     },
     "execution_count": 4,
     "metadata": {},
     "output_type": "execute_result"
    }
   ],
   "source": [
    "sns.set_palette(cp3)\n",
    "sns.color_palette()"
   ]
  },
  {
   "cell_type": "code",
   "execution_count": 5,
   "metadata": {},
   "outputs": [
    {
     "data": {
      "text/html": [
       "<svg  width=\"275\" height=\"55\"><rect x=\"0\" y=\"0\" width=\"55\" height=\"55\" style=\"fill:#067906;stroke-width:2;stroke:rgb(255,255,255)\"/><rect x=\"55\" y=\"0\" width=\"55\" height=\"55\" style=\"fill:#f20d0d;stroke-width:2;stroke:rgb(255,255,255)\"/><rect x=\"110\" y=\"0\" width=\"55\" height=\"55\" style=\"fill:#0d0df2;stroke-width:2;stroke:rgb(255,255,255)\"/><rect x=\"165\" y=\"0\" width=\"55\" height=\"55\" style=\"fill:#f2a10d;stroke-width:2;stroke:rgb(255,255,255)\"/><rect x=\"220\" y=\"0\" width=\"55\" height=\"55\" style=\"fill:#808080;stroke-width:2;stroke:rgb(255,255,255)\"/></svg>"
      ],
      "text/plain": [
       "[(0.025000000000000022, 0.475, 0.025000000000000022),\n",
       " (0.95, 0.050000000000000044, 0.050000000000000044),\n",
       " (0.050000000000000044, 0.050000000000000044, 0.95),\n",
       " (0.95, 0.6323529411764707, 0.050000000000000044),\n",
       " (0.5019607843137255, 0.5019607843137255, 0.5019607843137255)]"
      ]
     },
     "execution_count": 5,
     "metadata": {},
     "output_type": "execute_result"
    }
   ],
   "source": [
    "cpbasic = list(map(lambda x: sns.desaturate(x,0.9),['g','r','b','orange','grey']))\n",
    "sns.set_palette(cpbasic)\n",
    "sns.color_palette()"
   ]
  },
  {
   "cell_type": "code",
   "execution_count": 6,
   "metadata": {},
   "outputs": [
    {
     "name": "stderr",
     "output_type": "stream",
     "text": [
      "findfont: Font family ['serif'] not found. Falling back to DejaVu Sans.\n"
     ]
    },
    {
     "data": {
      "image/png": "[encoded data removed]",
      "text/plain": [
       "<Figure size 432x288 with 1 Axes>"
      ]
     },
     "metadata": {
      "needs_background": "light"
     },
     "output_type": "display_data"
    }
   ],
   "source": [
    "font=8\n",
    "plt.rc('font', family='serif', serif='Times')\n",
    "#plt.rc('text', usetex=True)\n",
    "plt.rc('xtick', labelsize=font-1)\n",
    "plt.rc('ytick', labelsize=font-1)\n",
    "plt.rc('axes', labelsize=font)\n",
    "\n",
    "\n",
    "# width as measured in inkscape\n",
    "width = 3.487\n",
    "height = width / 1.618*3/2\n",
    "\n",
    "fig, axs = plt.subplots()\n",
    "#fig.subplots_adjust(left=.15, bottom=.16, right=.99, top=.97)\n",
    "fig.subplots_adjust(left=.15, bottom=.08, right=.99, top=.94)\n",
    "\n",
    "#import seaborn as sns\n",
    "#sns.set(style=\"whitegrid\", palette=cpbasic,font_scale=0.2, rc={\"lines.linewidth\": 1})"
   ]
  },
  {
   "cell_type": "code",
   "execution_count": 11,
   "metadata": {},
   "outputs": [
    {
     "name": "stdout",
     "output_type": "stream",
     "text": [
      "    mtx_name distribution placement  diagonal_factor  seed       m       n  \\\n",
      "0  synthetic       normal    random              1.0    14  121000  121000   \n",
      "1  synthetic       normal    random              1.0    14  121000  121000   \n",
      "2  synthetic       normal    random              1.0    14  121000  121000   \n",
      "3  synthetic       normal    random              1.0    14  121000  121000   \n",
      "4  synthetic       normal    random              1.0    14  121000  121000   \n",
      "5  synthetic       normal  diagonal              0.5    14  121000  121000   \n",
      "6  synthetic       normal  diagonal              0.5    14  121000  121000   \n",
      "7  synthetic       normal  diagonal              0.5    14  121000  121000   \n",
      "8  synthetic       normal  diagonal              0.5    14  121000  121000   \n",
      "9  synthetic       normal  diagonal              0.5    14  121000  121000   \n",
      "\n",
      "       nz  density  A_mem_footprint  ... std_nz_row  avg_bandwidth  \\\n",
      "0  314355   0.0021          4.05909  ...   0.701442       0.419536   \n",
      "1  314355   0.0021          4.05909  ...   0.701442       0.419536   \n",
      "2  314355   0.0021          4.05909  ...   0.701442       0.419536   \n",
      "3  314355   0.0021          4.05909  ...   0.701442       0.419536   \n",
      "4  314355   0.0021          4.05909  ...   0.701442       0.419536   \n",
      "5  314355   0.0021          4.05909  ...   0.701442       0.000054   \n",
      "6  314355   0.0021          4.05909  ...   0.701442       0.000054   \n",
      "7  314355   0.0021          4.05909  ...   0.701442       0.000054   \n",
      "8  314355   0.0021          4.05909  ...   0.701442       0.000054   \n",
      "9  314355   0.0021          4.05909  ...   0.701442       0.000054   \n",
      "\n",
      "   std_bandwidth  avg_scattering  std_scattering   implementation      time  \\\n",
      "0       0.255357         5157.33         24396.2           CSR5_9  0.000025   \n",
      "1       0.255357         5157.33         24396.2  cuSPARSE_csr9-2  0.000023   \n",
      "2       0.255357         5157.33         24396.2  cuSPARSE_hyb9-2  0.000036   \n",
      "3       0.255357         5157.33         24396.2   cuSPARSE_csr11  0.000024   \n",
      "4       0.255357         5157.33         24396.2   cuSPARSE_coo11  0.000027   \n",
      "5       0.000029        61089.00         29830.5           CSR5_9  0.000020   \n",
      "6       0.000029        61089.00         29830.5  cuSPARSE_csr9-2  0.000020   \n",
      "7       0.000029        61089.00         29830.5  cuSPARSE_hyb9-2  0.000032   \n",
      "8       0.000029        61089.00         29830.5   cuSPARSE_csr11  0.000021   \n",
      "9       0.000029        61089.00         29830.5   cuSPARSE_coo11  0.000023   \n",
      "\n",
      "    gflops     W_avg  J_estimated  \n",
      "0  24.9380  114.1010     0.002551  \n",
      "1  27.2426  149.1730     0.002688  \n",
      "2  17.4113  101.1220     0.003231  \n",
      "3  25.9943  148.6020     0.003056  \n",
      "4  23.4889  127.7570     0.003160  \n",
      "5  31.4104  104.9450     0.001821  \n",
      "6  31.4836  127.4950     0.002171  \n",
      "7  19.6082   89.0623     0.002507  \n",
      "8  30.2533  132.9570     0.002428  \n",
      "9  27.3907  116.7240     0.002477  \n",
      "\n",
      "[10 rows x 22 columns]\n"
     ]
    }
   ],
   "source": [
    "import string as str\n",
    "reps = 1\n",
    "implementations = ['cuSPARSE_csr11', 'cuSPARSE_coo11', 'CSR5_9', 'cuSPARSE_csr9-2', 'cuSPARSE_hyb9-2']\n",
    "#['OMP_csr-40', 'cuSPARSE_csr', 'cuSPARSE_hyb', 'cuSPARSE_bsr-2', 'cuSPARSE_bsr-4', 'cuSPARSE_bsr-16', 'cuSPARSE_bsr-64', 'cuCSR5']\n",
    "dtypes=['D']\n",
    "for dtype in dtypes:\n",
    "    fname = \"silver1-TeslaV100_dtype-%s_run_dataset.csv\" % dtype # \"results_gamma_4-8.csv\" #\n",
    "    inputdata = pd.read_csv('../Benchmarks/%s' % fname, names = #./Wrapper_cuSPARSE-9\n",
    "                            ['mtx_name','distribution','placement','diagonal_factor', 'seed','m','n','nz',\n",
    "                             'density','A_mem_footprint','mem_range','avg_nz_row','std_nz_row','avg_bandwidth',\n",
    "                            'std_bandwidth','avg_scattering','std_scattering','implementation','time','gflops','W_avg', 'J_estimated'])\n",
    "    print(inputdata.head(10))\n",
    "    # MPAKOS fix columns div\n",
    "    inputdata['avg_scattering'] = inputdata['avg_scattering']/inputdata['n']\n",
    "    inputdata['std_scattering'] = inputdata['std_scattering']/inputdata['n']\n",
    "    groupreps = inputdata.groupby(['mtx_name','distribution','placement','diagonal_factor', 'seed','m','n', \n",
    "                             'density','A_mem_footprint','mem_range','nz','avg_nz_row','std_nz_row','avg_bandwidth',\n",
    "                            'std_bandwidth','avg_scattering','std_scattering', 'implementation']).mean().reset_index()\n",
    "    #print(groupreps.head(2))\n",
    "    select_criterion = (groupreps['implementation'] == 'cuSPARSE_csr11') # & (groupreps['nz'] > 100000)\n",
    "    select_str = 'Implementation = cuSPARSE_csr11' #, nz > 100000'\n",
    "    select_str_id = select_str.replace('=', 'eq').replace('<', 'l').replace('>', 'g').replace(', ', '_').replace(',', '_').replace(' ', '-')\n",
    "    groupreps_select = groupreps[select_criterion]\n",
    "    #groupbench = groupreps_select.groupby(['mtx_name','distribution','placement','diagonal_factor', 'seed','m','n', 'density','A_mem_footprint','mem_range','nz','avg_nz_row','std_nz_row','avg_bandwidth', 'std_bandwidth','avg_scattering','std_scattering'], as_index =False)\n",
    "\n",
    "    fig, axs = plt.subplots()\n",
    "    sns_plot = sns.boxplot(data=groupreps_select, x=\"implementation\", y=\"gflops\", ax=axs)\n",
    "    axs.set_title('Dataset %s' %(select_str))\n",
    "    fig.savefig('./Plot_tries/Select_%s_plot_per_format.pdf' % (select_str_id) )\n",
    "    plt.close()\n",
    "    fig, axs = plt.subplots()\n",
    "    sns_plot = sns.boxplot(data=groupreps_select, x=\"mem_range\", y=\"gflops\", ax=axs)\n",
    "    axs.set_title('Dataset %s' %(select_str))\n",
    "    fig.savefig('./Plot_tries/Select_%s_plot_per_memrange.pdf' % (select_str_id) )\n",
    "    plt.close()\n",
    "    fig, axs = plt.subplots() \n",
    "    sns_plot = sns.boxplot(data=groupreps_select, x=\"distribution\", y=\"gflops\", ax=axs)\n",
    "    axs.set_title('Dataset %s' %(select_str))\n",
    "    fig.savefig('./Plot_tries/Select_%s_plot_per_dist.pdf' % (select_str_id) )\n",
    "    plt.close()\n",
    "    fig, axs = plt.subplots() \n",
    "    sns_plot = sns.scatterplot(data=groupreps_select, x=\"density\", y=\"gflops\", ax=axs)\n",
    "    axs.set_title('Dataset %s' %(select_str))\n",
    "    fig.savefig('./Plot_tries/Select_%s_plot_per_density.pdf' % (select_str_id) )\n",
    "    plt.close()\n",
    "    fig, axs = plt.subplots() \n",
    "    sns_plot = sns.scatterplot(data=groupreps_select, x=\"A_mem_footprint\", y=\"gflops\", ax=axs)\n",
    "    axs.set_title('Dataset %s' %(select_str))\n",
    "    fig.savefig('./Plot_tries/Select_%s_plot_per_memfoot.pdf' % (select_str_id) )\n",
    "    plt.close()\n",
    "    fig, axs = plt.subplots() \n",
    "    sns_plot = sns.boxplot(data=groupreps_select, x=\"m\", y=\"gflops\", ax=axs)\n",
    "    axs.set_title('Dataset %s' %(select_str))\n",
    "    fig.savefig('./Plot_tries/Select_%s_plot_per_m.pdf' % (select_str_id) )\n",
    "    plt.close()\n",
    "    #fig, axs = plt.subplots() \n",
    "    #sns_plot = sns.boxplot(data=groupreps_select, x=\"n\", y=\"gflops\", ax=axs)\n",
    "    #axs.set_title('Dataset %s' %(select_str))\n",
    "    #fig.savefig('./Plot_tries/Select_%s_plot_per_n.pdf' % (select_str_id) )\n",
    "    #plt.close()\n",
    "    fig, axs = plt.subplots() \n",
    "    sns_plot = sns.scatterplot(data=groupreps_select, x=\"nz\", y=\"gflops\", ax=axs)\n",
    "    axs.set_title('Dataset %s' %(select_str))\n",
    "    fig.savefig('./Plot_tries/Select_%s_plot_per_nz.pdf' % (select_str_id) )\n",
    "    plt.close()\n",
    "    fig, axs = plt.subplots() \n",
    "    sns_plot = sns.scatterplot(data=groupreps_select, x=\"avg_nz_row\", y=\"gflops\", ax=axs)\n",
    "    axs.set_title('Dataset %s' %(select_str))\n",
    "    fig.savefig('./Plot_tries/Select_%s_plot_per_avg_nz_row.pdf' % (select_str_id) )\n",
    "    plt.close()"
   ]
  },
  {
   "cell_type": "code",
   "execution_count": 8,
   "metadata": {},
   "outputs": [
    {
     "ename": "NameError",
     "evalue": "name 'groupbench' is not defined",
     "output_type": "error",
     "traceback": [
      "\u001b[0;31m---------------------------------------------------------------------------\u001b[0m",
      "\u001b[0;31mNameError\u001b[0m                                 Traceback (most recent call last)",
      "\u001b[0;32m<ipython-input-8-cdea23b1ab28>\u001b[0m in \u001b[0;36m<module>\u001b[0;34m\u001b[0m\n\u001b[0;32m----> 1\u001b[0;31m \u001b[0;32mfor\u001b[0m \u001b[0mdesc\u001b[0m\u001b[0;34m,\u001b[0m \u001b[0mexperiment\u001b[0m \u001b[0;32min\u001b[0m \u001b[0mgroupbench\u001b[0m\u001b[0;34m:\u001b[0m\u001b[0;34m\u001b[0m\u001b[0;34m\u001b[0m\u001b[0m\n\u001b[0m\u001b[1;32m      2\u001b[0m     \u001b[0mbest_format\u001b[0m \u001b[0;34m=\u001b[0m \u001b[0mexperiment\u001b[0m\u001b[0;34m[\u001b[0m\u001b[0;34m'implementation'\u001b[0m\u001b[0;34m]\u001b[0m\u001b[0;34m.\u001b[0m\u001b[0miloc\u001b[0m\u001b[0;34m[\u001b[0m\u001b[0mexperiment\u001b[0m\u001b[0;34m[\u001b[0m\u001b[0;34m'gflops'\u001b[0m\u001b[0;34m]\u001b[0m\u001b[0;34m.\u001b[0m\u001b[0margmax\u001b[0m\u001b[0;34m(\u001b[0m\u001b[0;34m)\u001b[0m\u001b[0;34m]\u001b[0m\u001b[0;34m\u001b[0m\u001b[0;34m\u001b[0m\u001b[0m\n\u001b[1;32m      3\u001b[0m     \u001b[0;31m#print(best_format)\u001b[0m\u001b[0;34m\u001b[0m\u001b[0;34m\u001b[0m\u001b[0;34m\u001b[0m\u001b[0m\n\u001b[1;32m      4\u001b[0m     \u001b[0;32mif\u001b[0m \u001b[0mframe\u001b[0m\u001b[0;34m[\u001b[0m\u001b[0;34m'time'\u001b[0m\u001b[0;34m]\u001b[0m\u001b[0;34m.\u001b[0m\u001b[0mcount\u001b[0m\u001b[0;34m(\u001b[0m\u001b[0;34m)\u001b[0m \u001b[0;34m<\u001b[0m \u001b[0mreps\u001b[0m\u001b[0;34m:\u001b[0m\u001b[0;34m\u001b[0m\u001b[0;34m\u001b[0m\u001b[0m\n\u001b[1;32m      5\u001b[0m         \u001b[0mprint\u001b[0m\u001b[0;34m(\u001b[0m\u001b[0mframe\u001b[0m\u001b[0;34m.\u001b[0m\u001b[0mhead\u001b[0m\u001b[0;34m(\u001b[0m\u001b[0;36m1\u001b[0m\u001b[0;34m)\u001b[0m\u001b[0;34m)\u001b[0m\u001b[0;34m\u001b[0m\u001b[0;34m\u001b[0m\u001b[0m\n",
      "\u001b[0;31mNameError\u001b[0m: name 'groupbench' is not defined"
     ]
    }
   ],
   "source": [
    "    for desc, experiment in groupbench:\n",
    "        best_format = experiment['implementation'].iloc[experiment['gflops'].argmax()]\n",
    "        #print(best_format)\n",
    "        if frame['time'].count() < reps:\n",
    "            print(frame.head(1))"
   ]
  },
  {
   "cell_type": "code",
   "execution_count": null,
   "metadata": {},
   "outputs": [],
   "source": []
  },
  {
   "cell_type": "code",
   "execution_count": null,
   "metadata": {},
   "outputs": [],
   "source": []
  },
  {
   "cell_type": "code",
   "execution_count": null,
   "metadata": {},
   "outputs": [],
   "source": []
  }
 ],
 "metadata": {
  "kernelspec": {
   "display_name": "Python 3",
   "language": "python",
   "name": "python3"
  },
  "language_info": {
   "codemirror_mode": {
    "name": "ipython",
    "version": 3
   },
   "file_extension": ".py",
   "mimetype": "text/x-python",
   "name": "python",
   "nbconvert_exporter": "python",
   "pygments_lexer": "ipython3",
   "version": "3.6.9"
  }
 },
 "nbformat": 4,
 "nbformat_minor": 4
}
