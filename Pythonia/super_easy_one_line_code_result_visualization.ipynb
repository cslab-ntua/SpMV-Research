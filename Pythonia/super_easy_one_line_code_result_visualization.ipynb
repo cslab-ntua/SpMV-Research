{
 "cells": [
  {
   "cell_type": "code",
   "execution_count": 1,
   "metadata": {},
   "outputs": [],
   "source": [
    "import pandas as pd\n",
    "from pandas.api.types import CategoricalDtype\n",
    "import math\n",
    "import matplotlib as mpl\n",
    "#mpl.use('pdf')\n",
    "import matplotlib.pyplot as plt\n",
    "import matplotlib.font_manager\n",
    "import numpy as np\n",
    "from collections import OrderedDict\n",
    "import matplotlib\n",
    "import seaborn as sns\n",
    "#Red\n",
    "red1= sns.color_palette(\"Reds_d\",1)\n",
    "red2= sns.color_palette(\"Reds_d\",2)\n",
    "red3= sns.color_palette(\"Reds_d\",3)\n",
    "red4= sns.color_palette(\"Reds_d\",4)\n",
    "red5= sns.color_palette(\"Reds_d\",5)\n",
    "red6= sns.color_palette(\"Reds_d\",6)\n",
    "red7= sns.color_palette(\"Reds_d\",7)\n",
    "red8= sns.color_palette(\"Reds_d\",8)\n",
    "\n",
    "#YellowGreen\n",
    "yg1= sns.color_palette(\"YlGn_d\",1)\n",
    "yg2= sns.color_palette(\"YlGn_d\",2)\n",
    "yg3= sns.color_palette(\"YlGn_d\",3)\n",
    "yg4= sns.color_palette(\"YlGn_d\",4)\n",
    "yg5= sns.color_palette(\"YlGn_d\",5)\n",
    "yg7= sns.color_palette(\"YlGn_d\",7)\n",
    "\n",
    "#GreenBlue\n",
    "gb1= sns.color_palette(\"GnBu_d\",1)\n",
    "gb2= sns.color_palette(\"GnBu_d\",2)\n",
    "gb3= sns.color_palette(\"GnBu_d\",3)\n",
    "gb4= sns.color_palette(\"GnBu_d\",4)\n",
    "gb5= sns.color_palette(\"GnBu_d\",5)\n",
    "gb6= sns.color_palette(\"GnBu_d\",6)\n",
    "gb7= sns.color_palette(\"GnBu_d\",7)\n",
    "gb8= sns.color_palette(\"GnBu_d\",8)\n",
    "\n",
    "cp2 = list(map(lambda x: sns.desaturate(x,0.9),[red7[2],gb7[4]]))\n",
    "cp2v1 = list(map(lambda x: sns.desaturate(x,0.9),[red7[2],yg7[0]]))\n",
    "cp3 = list(map(lambda x: sns.desaturate(x,0.9),[yg7[0],gb7[4],red7[2]]))\n",
    "#cp4 = list(map(lambda x: sns.desaturate(x,0.9),red1+gb2+yg1))\n",
    "cp2_2 = list(map(lambda x: sns.desaturate(x,0.9),[red7[0],red7[3],gb7[4],gb7[6]]))\n",
    "cp_total_spectrum = list(map(lambda x: sns.desaturate(x,0.9),gb7 + yg7 + red7))"
   ]
  },
  {
   "cell_type": "code",
   "execution_count": 2,
   "metadata": {},
   "outputs": [
    {
     "data": {
      "text/html": [
       "<svg  width=\"110\" height=\"55\"><rect x=\"0\" y=\"0\" width=\"55\" height=\"55\" style=\"fill:#e15246;stroke-width:2;stroke:rgb(255,255,255)\"/><rect x=\"55\" y=\"0\" width=\"55\" height=\"55\" style=\"fill:#4486a0;stroke-width:2;stroke:rgb(255,255,255)\"/></svg>"
      ],
      "text/plain": [
       "[(0.8807358708189157, 0.32277047289504046, 0.2744659746251443),\n",
       " (0.2649160579264386, 0.5270152505446624, 0.6269460463924131)]"
      ]
     },
     "execution_count": 2,
     "metadata": {},
     "output_type": "execute_result"
    }
   ],
   "source": [
    "sns.set_palette(cp2)\n",
    "sns.color_palette()"
   ]
  },
  {
   "cell_type": "code",
   "execution_count": 3,
   "metadata": {},
   "outputs": [
    {
     "data": {
      "text/html": [
       "<svg  width=\"110\" height=\"55\"><rect x=\"0\" y=\"0\" width=\"55\" height=\"55\" style=\"fill:#e15246;stroke-width:2;stroke:rgb(255,255,255)\"/><rect x=\"55\" y=\"0\" width=\"55\" height=\"55\" style=\"fill:#9cce89;stroke-width:2;stroke:rgb(255,255,255)\"/></svg>"
      ],
      "text/plain": [
       "[(0.8807358708189157, 0.32277047289504046, 0.2744659746251443),\n",
       " (0.6120315263360248, 0.8081330257593234, 0.5357962322183777)]"
      ]
     },
     "execution_count": 3,
     "metadata": {},
     "output_type": "execute_result"
    }
   ],
   "source": [
    "sns.set_palette(cp2v1)\n",
    "sns.color_palette()"
   ]
  },
  {
   "cell_type": "code",
   "execution_count": 4,
   "metadata": {},
   "outputs": [
    {
     "data": {
      "text/html": [
       "<svg  width=\"165\" height=\"55\"><rect x=\"0\" y=\"0\" width=\"55\" height=\"55\" style=\"fill:#9cce89;stroke-width:2;stroke:rgb(255,255,255)\"/><rect x=\"55\" y=\"0\" width=\"55\" height=\"55\" style=\"fill:#4486a0;stroke-width:2;stroke:rgb(255,255,255)\"/><rect x=\"110\" y=\"0\" width=\"55\" height=\"55\" style=\"fill:#e15246;stroke-width:2;stroke:rgb(255,255,255)\"/></svg>"
      ],
      "text/plain": [
       "[(0.6120315263360248, 0.8081330257593234, 0.5357962322183777),\n",
       " (0.2649160579264386, 0.5270152505446624, 0.6269460463924131),\n",
       " (0.8807358708189157, 0.32277047289504046, 0.2744659746251443)]"
      ]
     },
     "execution_count": 4,
     "metadata": {},
     "output_type": "execute_result"
    }
   ],
   "source": [
    "sns.set_palette(cp3)\n",
    "sns.color_palette()"
   ]
  },
  {
   "cell_type": "code",
   "execution_count": 5,
   "metadata": {},
   "outputs": [
    {
     "data": {
      "text/html": [
       "<svg  width=\"275\" height=\"55\"><rect x=\"0\" y=\"0\" width=\"55\" height=\"55\" style=\"fill:#067906;stroke-width:2;stroke:rgb(255,255,255)\"/><rect x=\"55\" y=\"0\" width=\"55\" height=\"55\" style=\"fill:#f20d0d;stroke-width:2;stroke:rgb(255,255,255)\"/><rect x=\"110\" y=\"0\" width=\"55\" height=\"55\" style=\"fill:#0d0df2;stroke-width:2;stroke:rgb(255,255,255)\"/><rect x=\"165\" y=\"0\" width=\"55\" height=\"55\" style=\"fill:#f2a10d;stroke-width:2;stroke:rgb(255,255,255)\"/><rect x=\"220\" y=\"0\" width=\"55\" height=\"55\" style=\"fill:#808080;stroke-width:2;stroke:rgb(255,255,255)\"/></svg>"
      ],
      "text/plain": [
       "[(0.025000000000000022, 0.475, 0.025000000000000022),\n",
       " (0.95, 0.050000000000000044, 0.050000000000000044),\n",
       " (0.050000000000000044, 0.050000000000000044, 0.95),\n",
       " (0.95, 0.6323529411764707, 0.050000000000000044),\n",
       " (0.5019607843137255, 0.5019607843137255, 0.5019607843137255)]"
      ]
     },
     "execution_count": 5,
     "metadata": {},
     "output_type": "execute_result"
    }
   ],
   "source": [
    "cpbasic = list(map(lambda x: sns.desaturate(x,0.9),['g','r','b','orange','grey']))\n",
    "sns.set_palette(cpbasic)\n",
    "sns.color_palette()"
   ]
  },
  {
   "cell_type": "code",
   "execution_count": 6,
   "metadata": {},
   "outputs": [],
   "source": [
    "font=8\n",
    "plt.rc('font', family='serif', serif='Times')\n",
    "#plt.rc('text', usetex=True)\n",
    "plt.rc('xtick', labelsize=font-1)\n",
    "plt.rc('ytick', labelsize=font-1)\n",
    "plt.rc('axes', labelsize=font)\n",
    "plt.rcParams.update({'axes.titlesize': font+2})\n",
    "\n",
    "\n",
    "# width as measured in inkscape\n",
    "width = 3.487\n",
    "height = width / 1.618*3/2\n",
    "\n",
    "#fig, axs = plt.subplots()\n",
    "#fig.subplots_adjust(left=.15, bottom=.16, right=.99, top=.97)\n",
    "\n",
    "#import seaborn as sns\n",
    "#sns.set(style=\"whitegrid\", palette=cpbasic,font_scale=0.2, rc={\"lines.linewidth\": 1})\n",
    "def harry_plotter_scatter(plot_df, plot_x_axis_list, plot_y_axis_list, select_str, plot_id, \n",
    "                      rotation = 30, adj_left = .1, adj_bottom = .2, adj_right = .99, adj_top = .88, no_sort=False, hue_hue = 'None'):\n",
    "    for plot_x_itter in plot_x_axis_list:\n",
    "        if no_sort:\n",
    "            plot_df_sorted = plot_df\n",
    "        else:\n",
    "            dataTypeX = plot_df[plot_x_itter].dtype\n",
    "            if dataTypeX == np.float64 or dataTypeX == np.int64 or dataTypeX == float or dataTypeX == int:\n",
    "                plot_df_sorted = plot_df.sort_values(plot_x_itter)\n",
    "            elif plot_x_itter == 'mem_range':\n",
    "                if(\"FPGA\" in plot_id):\n",
    "                    cat_mem_range = CategoricalDtype([\"[4-8]\", \"[8-16]\", \"[16-32]\", \"[32-64]\", \"[64-128]\", \"[128-256]\", \"[256-512]\", \"[512-1024]\", \"[1024-2048]\"], ordered=True)\n",
    "                    plot_df_sorted = plot_df\n",
    "                    pd.options.mode.chained_assignment = None # https://stackoverflow.com/a/49729413\n",
    "                    plot_df_sorted[\"mem_range\"] = plot_df_sorted[\"mem_range\"].astype(cat_mem_range)\n",
    "                    plot_df_sorted = plot_df_sorted.sort_values('mem_range')                \n",
    "                else:\n",
    "                    plot_df_sorted = plot_df.sort_values('A_mem_footprint')\n",
    "            else:\n",
    "                print(\"Warning: X not sorted: dtype = %s\" % (dataTypeX))\n",
    "                plot_df_sorted = plot_df\n",
    "        for plot_y_itter in plot_y_axis_list:\n",
    "            fig, axs = plt.subplots()\n",
    "            if hue_hue == 'None':\n",
    "                sns_plot = sns.scatterplot(data=plot_df_sorted, x=plot_x_itter, y=plot_y_itter, ax=axs)\n",
    "            else:\n",
    "                sns_plot = sns.scatterplot(data=plot_df_sorted, x=plot_x_itter, y=plot_y_itter, hue = hue_hue, ax=axs)\n",
    "            axs.set_title('Select: %s' %(select_str))\n",
    "            fig.subplots_adjust(left=adj_left, bottom=adj_bottom, right=adj_right, top=adj_top)\n",
    "            plt.xticks(rotation=rotation)\n",
    "            select_str_id = select_str.replace('=', 'eq').replace('<', 'l').replace('>', 'g').replace(', ', '_').replace(',', '_').replace('\\n', '_').replace(' ', '-')\n",
    "            fig.savefig('./Plot_tries/%s_Select-%s_x-%s_y-%s.pdf' % (plot_id, select_str_id, plot_x_itter, plot_y_itter))\n",
    "            plt.close()\n",
    "            \n",
    "def harry_plotter_box(plot_df, plot_x_axis_list, plot_y_axis_list, select_str, plot_id, \n",
    "                      rotation = 30, adj_left = .1, adj_bottom = .2, adj_right = .99, adj_top = .88, no_sort=False, hue_hue = 'None'):\n",
    "    for plot_x_itter in plot_x_axis_list:\n",
    "        if no_sort:\n",
    "            plot_df_sorted = plot_df\n",
    "        else:\n",
    "            dataTypeX = plot_df[plot_x_itter].dtype\n",
    "            if dataTypeX == np.float64 or dataTypeX == np.int64 or dataTypeX == float or dataTypeX == int:\n",
    "                plot_df_sorted = plot_df.sort_values(plot_x_itter)\n",
    "            elif plot_x_itter == 'mem_range':\n",
    "                if(\"FPGA\" in plot_id):\n",
    "                    cat_mem_range = CategoricalDtype([\"[4-8]\", \"[8-16]\", \"[16-32]\", \"[32-64]\", \"[64-128]\", \"[128-256]\", \"[256-512]\", \"[512-1024]\", \"[1024-2048]\"], ordered=True)\n",
    "                    plot_df_sorted = plot_df\n",
    "                    pd.options.mode.chained_assignment = None # https://stackoverflow.com/a/49729413\n",
    "                    plot_df_sorted[\"mem_range\"] = plot_df_sorted[\"mem_range\"].astype(cat_mem_range)\n",
    "                    plot_df_sorted = plot_df_sorted.sort_values('mem_range')                \n",
    "                else:\n",
    "                    plot_df_sorted = plot_df.sort_values('A_mem_footprint')\n",
    "            else:\n",
    "                print(\"Warning: X not sorted: dtype = %s\" % (dataTypeX))\n",
    "                plot_df_sorted = plot_df\n",
    "        for plot_y_itter in plot_y_axis_list:\n",
    "            fig, axs = plt.subplots()\n",
    "            if hue_hue == 'None':\n",
    "                sns_plot = sns.boxplot(data=plot_df_sorted, x=plot_x_itter, y=plot_y_itter, ax=axs)\n",
    "            else:\n",
    "                sns_plot = sns.boxplot(data=plot_df_sorted, x=plot_x_itter, y=plot_y_itter, hue = hue_hue, ax=axs)\n",
    "            axs.set_title('Select: %s' %(select_str))\n",
    "            fig.subplots_adjust(left=adj_left, bottom=adj_bottom, right=adj_right, top=adj_top)\n",
    "            plt.xticks(rotation=rotation)\n",
    "            select_str_id = select_str.replace('=', 'eq').replace('<', 'l').replace('>', 'g').replace(', ', '_').replace(',', '_').replace('\\n', '_').replace(' ', '-')\n",
    "            fig.savefig('./Plot_tries/%s_Select-%s_x-%s_y-%s.pdf' % (plot_id, select_str_id, plot_x_itter, plot_y_itter))\n",
    "            plt.close()"
   ]
  },
  {
   "cell_type": "markdown",
   "metadata": {},
   "source": [
    "# Read GPU Data (panastas)"
   ]
  },
  {
   "cell_type": "code",
   "execution_count": 7,
   "metadata": {},
   "outputs": [
    {
     "name": "stdout",
     "output_type": "stream",
     "text": [
      "(18880, 27)\n"
     ]
    }
   ],
   "source": [
    "# import string as str\n",
    "reps = 1\n",
    "implementations = ['cuSPARSE_csr11', 'cuSPARSE_coo11', 'CSR5_9', 'cuSPARSE_csr9-2', 'cuSPARSE_hyb9-2']\n",
    "#['OMP_csr-40', 'cuSPARSE_csr', 'cuSPARSE_hyb', 'cuSPARSE_bsr-2', 'cuSPARSE_bsr-4', 'cuSPARSE_bsr-16', 'cuSPARSE_bsr-64', 'cuCSR5']\n",
    "dtypes=['D']\n",
    "for dtype in dtypes:\n",
    "    #Unified read\n",
    "    fname = \"silver1-TeslaV100_dtype-%s_run_friend_dataset.csv\" % dtype # \"silver1-TeslaV100_dtype-%s_run_dataset.csv\" % dtype\n",
    "    inputdata_GPU = pd.read_csv('../Benchmarks/%s' % fname, names = \n",
    "                            ['mtx_name','distribution','placement','seed',\n",
    "                             'm','n','nz','density','A_mem_footprint','mem_range',\n",
    "                             'avg_nz_row','std_nz_row',\n",
    "                             'avg_bandwidth','std_bandwidth','avg_bandwidth_scaled','std_bandwidth_scaled',\n",
    "                             'avg_scattering','std_scattering','avg_scattering_scaled','std_scattering_scaled',\n",
    "                             'skew_coeff','implementation','time','gflops','W_avg','J_estimated'])\n",
    "    \n",
    "header_names = ['mtx_name','distribution','placement','seed',\n",
    "                'm','n','nz','density','A_mem_footprint','mem_range',\n",
    "                'avg_nz_row','std_nz_row',\n",
    "                'avg_bandwidth','std_bandwidth','avg_bandwidth_scaled','std_bandwidth_scaled',\n",
    "                'avg_scattering','std_scattering','avg_scattering_scaled','std_scattering_scaled',\n",
    "                'skew_coeff',\n",
    "                'implementation','time','gflops','W_avg','J_estimated', 'System']\n",
    "    inputdata_GPU['System'] = 'TeslaV100'\n",
    "    # inputdata_GPU = inputdata_GPU[inputdata_GPU[\"distribution\"]==\"normal\"] # we have \n",
    "    print(inputdata_GPU.shape)\n",
    "    # print(inputdata_GPU.head(2))"
   ]
  },
  {
   "cell_type": "markdown",
   "metadata": {},
   "source": [
    "# Read CPU Data (dgal)"
   ]
  },
  {
   "cell_type": "code",
   "execution_count": 8,
   "metadata": {},
   "outputs": [],
   "source": [
    "names = ['mtx_name','distribution','placement','seed',\n",
    "         'm','n','nz','density','A_mem_footprint','mem_range',\n",
    "         'avg_nz_row','std_nz_row',\n",
    "         'avg_bandwidth','std_bandwidth','avg_bandwidth_scaled','std_bandwidth_scaled',\n",
    "         'avg_scattering','std_scattering','avg_scattering_scaled','std_scattering_scaled',\n",
    "         'skew_coeff','implementation','time','gflops','W_avg','J_estimated']\n",
    "\n",
    "fname = \"hawk_csr_naive_friends_small_t64_d.txt\" \n",
    "inputdata_csrnaive_64 = pd.read_csv('../Benchmarks/%s' % fname, names=names)\n",
    "inputdata_csrnaive_64['System'] = 'HawkAmdRome'\n",
    "inputdata_csrnaive_64['implementation'] = 'Naive_CSR_CPU_64'\n",
    "\n",
    "fname = \"hawk_csr_naive_friends_small_t128_d.txt\" \n",
    "inputdata_csrnaive_128 = pd.read_csv('../Benchmarks/%s' % fname, names=names)\n",
    "inputdata_csrnaive_128['System'] = 'HawkAmdRome'\n",
    "inputdata_csrnaive_128['implementation'] = 'Naive_CSR_CPU_128'\n",
    "\n",
    "fname = \"hawk_csr5_friends_small_t64_d.txt\"\n",
    "inputdata_csr5cpu_64 = pd.read_csv('../Benchmarks/%s' % fname, names=names)\n",
    "inputdata_csr5cpu_64['System'] = 'HawkAmdRome'\n",
    "inputdata_csr5cpu_64['implementation'] = 'CSR5_CPU_64'\n",
    "\n",
    "fname = \"hawk_csr5_friends_small_t128_d.txt\"\n",
    "inputdata_csr5cpu_128 = pd.read_csv('../Benchmarks/%s' % fname, names=names)\n",
    "inputdata_csr5cpu_128['System'] = 'HawkAmdRome'\n",
    "inputdata_csr5cpu_128['implementation'] = 'CSR5_CPU_128'\n",
    "\n",
    "fname = \"hawk_mkl_ie_optimize_friends_small_t64_d.txt\"\n",
    "inputdata_mkl_optimize_64 = pd.read_csv('../Benchmarks/%s' % fname, names=names)\n",
    "inputdata_mkl_optimize_64['System'] = 'HawkAmdRome'\n",
    "inputdata_mkl_optimize_64['implementation'] = 'MKL_IE_Optimize_64'\n",
    "\n",
    "fname = \"hawk_mkl_ie_optimize_friends_small_t128_d.txt\"\n",
    "inputdata_mkl_optimize_128 = pd.read_csv('../Benchmarks/%s' % fname, names=names)\n",
    "inputdata_mkl_optimize_128['System'] = 'HawkAmdRome'\n",
    "inputdata_mkl_optimize_128['implementation'] = 'MKL_IE_Optimize_128'\n",
    "\n",
    "\n",
    "# inputdata_CPU = pd.concat([\n",
    "#     inputdata_csrnaive_64, inputdata_csrnaive_128,\n",
    "#     inputdata_csr5cpu_64, inputdata_csr5cpu_128,\n",
    "#     inputdata_mkl_64, inputdata_mkl_128,\n",
    "#     inputdata_mkl_optimize_64, inputdata_mkl_optimize_128\n",
    "#     ])\n",
    "\n",
    "#include only 128-threads results\n",
    "inputdata_CPU = pd.concat([\n",
    "    inputdata_csrnaive_128,\n",
    "    inputdata_csr5cpu_128,\n",
    "    inputdata_mkl_optimize_128\n",
    "    ])\n",
    "\n",
    "#include only 64-threads results\n",
    "# inputdata_CPU = pd.concat([\n",
    "#     inputdata_csrnaive_64,\n",
    "#     inputdata_csr5cpu_64,\n",
    "#     inputdata_mkl_64,\n",
    "#     inputdata_mkl_optimize_64\n",
    "#     ])"
   ]
  },
  {
   "cell_type": "code",
   "execution_count": 9,
   "metadata": {},
   "outputs": [
    {
     "name": "stdout",
     "output_type": "stream",
     "text": [
      "      mtx_name distribution placement  seed        m        n         nz  \\\n",
      "0    synthetic       normal    random    14   136798   136798     579976   \n",
      "1    synthetic       normal  diagonal    14   136798   136798     579976   \n",
      "2    synthetic       normal    random    14   136798   136798     573373   \n",
      "3    synthetic       normal  diagonal    14   136798   136798     573373   \n",
      "4    synthetic       normal    random    14   136798   136798     579976   \n",
      "..         ...          ...       ...   ...      ...      ...        ...   \n",
      "939  synthetic       normal  diagonal    14  6185830  6185830  142846969   \n",
      "940  synthetic       normal    random    14  6185830  6185830  142845154   \n",
      "941  synthetic       normal  diagonal    14  6185830  6185830  142845154   \n",
      "942  synthetic       normal    random    14  6185830  6185830  142846969   \n",
      "943  synthetic       normal  diagonal    14  6185830  6185830  142846969   \n",
      "\n",
      "      density  A_mem_footprint    mem_range  ...  std_scattering  \\\n",
      "0    0.003099          7.15915        [4-8]  ...        0.000117   \n",
      "1    0.003099          7.15915        [4-8]  ...        0.000166   \n",
      "2    0.003064          7.08358        [4-8]  ...        0.000117   \n",
      "3    0.003064          7.08358        [4-8]  ...        0.000167   \n",
      "4    0.003099          7.15915        [4-8]  ...        0.000087   \n",
      "..        ...              ...          ...  ...             ...   \n",
      "939  0.000373       1658.35000  [1024-2048]  ...        0.000013   \n",
      "940  0.000373       1658.33000  [1024-2048]  ...        0.000004   \n",
      "941  0.000373       1658.33000  [1024-2048]  ...        0.000009   \n",
      "942  0.000373       1658.35000  [1024-2048]  ...        0.000004   \n",
      "943  0.000373       1658.35000  [1024-2048]  ...        0.000009   \n",
      "\n",
      "     avg_scattering_scaled  std_scattering_scaled  skew_coeff  \\\n",
      "0                  20.5024                15.9763    53.48560   \n",
      "1                  22.0896                22.6716    53.48560   \n",
      "2                  20.4159                16.0013    80.59600   \n",
      "3                  21.9001                22.8517    80.59600   \n",
      "4                  13.7388                11.8362    53.48560   \n",
      "..                     ...                    ...         ...   \n",
      "939               149.3760                82.3699     2.89735   \n",
      "940                91.2775                25.4753     2.37775   \n",
      "941               103.2090                56.3524     2.37775   \n",
      "942                91.2731                25.4895     2.89735   \n",
      "943               103.0400                57.9382     2.89735   \n",
      "\n",
      "          implementation      time    gflops  W_avg  J_estimated       System  \n",
      "0    MKL_IE_Optimize_128  0.005302  28.00310    250      1.32551  HawkAmdRome  \n",
      "1    MKL_IE_Optimize_128  0.005285  28.09250    250      1.32129  HawkAmdRome  \n",
      "2    MKL_IE_Optimize_128  0.005449  26.93840    250      1.36221  HawkAmdRome  \n",
      "3    MKL_IE_Optimize_128  0.005409  27.13780    250      1.35220  HawkAmdRome  \n",
      "4    MKL_IE_Optimize_128  0.005236  28.35830    250      1.30891  HawkAmdRome  \n",
      "..                   ...       ...       ...    ...          ...          ...  \n",
      "939  MKL_IE_Optimize_128  2.645310  13.82400    250    661.32800  HawkAmdRome  \n",
      "940  MKL_IE_Optimize_128  3.706290   9.86658    250    926.57200  HawkAmdRome  \n",
      "941  MKL_IE_Optimize_128  3.090530  11.83240    250    772.63300  HawkAmdRome  \n",
      "942  MKL_IE_Optimize_128  3.334870  10.96560    250    833.71700  HawkAmdRome  \n",
      "943  MKL_IE_Optimize_128  2.976380  12.28630    250    744.09600  HawkAmdRome  \n",
      "\n",
      "[944 rows x 27 columns]\n"
     ]
    }
   ],
   "source": [
    "fname = \"hawk_mkl_ie_optimize_friends_small_t128_d.txt\"\n",
    "inputdata_mkl_optimize_128 = pd.read_csv('../Benchmarks/%s' % fname, names=names)\n",
    "inputdata_mkl_optimize_128['System'] = 'HawkAmdRome'\n",
    "inputdata_mkl_optimize_128['implementation'] = 'MKL_IE_Optimize_128'\n",
    "print(inputdata_mkl_optimize_128)"
   ]
  },
  {
   "cell_type": "markdown",
   "metadata": {},
   "source": [
    "# Read FPGA Data (pmpakos)"
   ]
  },
  {
   "cell_type": "code",
   "execution_count": 10,
   "metadata": {},
   "outputs": [],
   "source": [
    "    fname = \"xilinx_spmv_validation_matrices_synthetic_small_dtype-%s.csv\" % dtype\n",
    "    inputdata_FPGA = pd.read_csv('../Benchmarks/%s' % fname, names =                                  \n",
    "                    ['mtx_name','distribution','placement','seed',\n",
    "                     'm','n','nz','density','A_mem_footprint','mem_range',\n",
    "                     'avg_nz_row','std_nz_row',\n",
    "                     'avg_bandwidth','std_bandwidth','avg_bandwidth_scaled','std_bandwidth_scaled',\n",
    "                     'avg_scattering','std_scattering','avg_scattering_scaled','std_scattering_scaled',\n",
    "                     'skew_coeff','implementation','time','gflops','W_avg','J_estimated'])\n",
    "    inputdata_FPGA['System'] = 'FPGA'\n",
    "    # get rid of data that never ran on the FPGA\n",
    "    inputdata_FPGA = inputdata_FPGA[inputdata_FPGA[\"gflops\"]>0]\n",
    "    # print(inputdata_FPGA.head())"
   ]
  },
  {
   "cell_type": "markdown",
   "metadata": {},
   "source": [
    "# Concatenate all data, place in *inputdata* dataframe"
   ]
  },
  {
   "cell_type": "code",
   "execution_count": 11,
   "metadata": {},
   "outputs": [],
   "source": [
    "    # Merge the results\n",
    "    inputdata = pd.concat([inputdata_GPU,inputdata_CPU])\n",
    "    inputdata = pd.concat([inputdata,inputdata_FPGA])"
   ]
  },
  {
   "cell_type": "code",
   "execution_count": 12,
   "metadata": {},
   "outputs": [
    {
     "name": "stdout",
     "output_type": "stream",
     "text": [
      "Data type of each column of Dataframe :\n",
      "mtx_name                  object\n",
      "distribution              object\n",
      "placement                 object\n",
      "seed                       int64\n",
      "m                          int64\n",
      "n                          int64\n",
      "nz                         int64\n",
      "density                  float64\n",
      "A_mem_footprint          float64\n",
      "mem_range                 object\n",
      "avg_nz_row               float64\n",
      "std_nz_row               float64\n",
      "avg_bandwidth            float64\n",
      "std_bandwidth            float64\n",
      "avg_bandwidth_scaled     float64\n",
      "std_bandwidth_scaled     float64\n",
      "avg_scattering           float64\n",
      "std_scattering           float64\n",
      "avg_scattering_scaled    float64\n",
      "std_scattering_scaled    float64\n",
      "skew_coeff               float64\n",
      "implementation            object\n",
      "System                    object\n",
      "time                     float64\n",
      "gflops                   float64\n",
      "W_avg                    float64\n",
      "J_estimated              float64\n",
      "dtype: object\n"
     ]
    }
   ],
   "source": [
    "    # Group per reps, take mean\n",
    "    groupreps = inputdata.groupby(['mtx_name','distribution','placement','seed',\n",
    "                                   'm','n','nz','density','A_mem_footprint','mem_range',\n",
    "                                   'avg_nz_row','std_nz_row',\n",
    "                                   'avg_bandwidth','std_bandwidth','avg_bandwidth_scaled','std_bandwidth_scaled',\n",
    "                                   'avg_scattering','std_scattering','avg_scattering_scaled','std_scattering_scaled',\n",
    "                                   'skew_coeff','implementation','System']).mean().reset_index()\n",
    "    dataTypeSeries = groupreps.dtypes\n",
    "    print('Data type of each column of Dataframe :')\n",
    "    print(dataTypeSeries)"
   ]
  },
  {
   "cell_type": "markdown",
   "metadata": {},
   "source": [
    "---\n",
    "# Group by \"best-of\" implementation for each device"
   ]
  },
  {
   "cell_type": "code",
   "execution_count": 13,
   "metadata": {},
   "outputs": [],
   "source": [
    "    # Group per system, take best\n",
    "    group_system = inputdata.groupby(['mtx_name','distribution','placement','seed',\n",
    "                                      'm','n','nz','density','A_mem_footprint','mem_range',\n",
    "                                      'avg_nz_row','std_nz_row',\n",
    "                                      'avg_bandwidth','std_bandwidth','avg_bandwidth_scaled','std_bandwidth_scaled',\n",
    "                                      'avg_scattering','std_scattering','avg_scattering_scaled','std_scattering_scaled',\n",
    "                                      'skew_coeff','System'], as_index = False)\n",
    "    reslist = []\n",
    "    for desc, experiment in group_system:\n",
    "        best_format = experiment['implementation'].iloc[experiment['gflops'].argmax()]\n",
    "        outrow = experiment[experiment['implementation'] == best_format]\n",
    "        reslist.append(outrow.values.tolist()[0])\n",
    "        #print(outrow.values.tolist()[0])\n",
    "    group_system_best = pd.DataFrame(reslist, columns =['mtx_name','distribution','placement','seed',\n",
    "                                      'm','n','nz','density','A_mem_footprint','mem_range',\n",
    "                                      'avg_nz_row','std_nz_row',\n",
    "                                      'avg_bandwidth','std_bandwidth','avg_bandwidth_scaled','std_bandwidth_scaled',\n",
    "                                      'avg_scattering','std_scattering','avg_scattering_scaled','std_scattering_scaled',\n",
    "                                      'skew_coeff','implementation','time','gflops','W_avg', 'J_estimated', 'System'])\n",
    "    group_system_best['var_coefficient'] = group_system_best['std_nz_row'] / group_system_best['avg_nz_row']"
   ]
  },
  {
   "cell_type": "markdown",
   "metadata": {},
   "source": [
    "---\n",
    "# Q0 - mem footprint - GPU"
   ]
  },
  {
   "cell_type": "code",
   "execution_count": 14,
   "metadata": {},
   "outputs": [
    {
     "name": "stderr",
     "output_type": "stream",
     "text": [
      "findfont: Font family ['serif'] not found. Falling back to DejaVu Sans.\n",
      "findfont: Font family ['serif'] not found. Falling back to DejaVu Sans.\n",
      "findfont: Font family ['serif'] not found. Falling back to DejaVu Sans.\n"
     ]
    }
   ],
   "source": [
    "    # Q0 : Impact of memory footprint\n",
    "    # device = GPU\n",
    "    # X axis : memory footprint ranges (boxplot)\n",
    "    plot_x_axis = ['mem_range']\n",
    "    plot_y_axis = ['gflops']\n",
    "    plot_id = 'Q0-mem-footprint-GPU'\n",
    "    select_criterion = (group_system_best['System'] == 'TeslaV100') & (group_system_best[\"mem_range\"]!=\"[2048-4096]\") & (group_system_best[\"mem_range\"]!=\"[>4096]\")\n",
    "    \n",
    "    select_str = 'Best of System = TeslaV100'\n",
    "    groupreps_select_best = group_system_best[select_criterion]\n",
    "    \n",
    "    harry_plotter_box(groupreps_select_best, plot_x_axis, plot_y_axis, select_str, plot_id)\n",
    "    \n",
    "    select_str = '(placement) Best of System = TeslaV100'\n",
    "    harry_plotter_box(groupreps_select_best, plot_x_axis, plot_y_axis, select_str, plot_id, hue_hue=\"placement\")"
   ]
  },
  {
   "cell_type": "markdown",
   "metadata": {},
   "source": [
    "# Q0 - mem footprint - CPU"
   ]
  },
  {
   "cell_type": "code",
   "execution_count": 15,
   "metadata": {},
   "outputs": [],
   "source": [
    "    # Q0 : Impact of memory footprint\n",
    "    # device = CPU\n",
    "    # X axis : memory footprint ranges (boxplot)\n",
    "    plot_x_axis = ['mem_range']\n",
    "    plot_y_axis = ['gflops']\n",
    "    plot_id = 'Q0-mem-footprint-CPU'\n",
    "    select_criterion = (group_system_best['System'] == 'HawkAmdRome')\n",
    "    \n",
    "    select_str = 'Best of System = HawkAmdRome'\n",
    "    groupreps_select_best = group_system_best[select_criterion]\n",
    "    \n",
    "    harry_plotter_box(groupreps_select_best, plot_x_axis, plot_y_axis, select_str, plot_id)\n",
    "    \n",
    "    select_str = '(placement) Best of System = HawkAmdRome'\n",
    "    harry_plotter_box(groupreps_select_best, plot_x_axis, plot_y_axis, select_str, plot_id, hue_hue=\"placement\")\n",
    "    "
   ]
  },
  {
   "cell_type": "markdown",
   "metadata": {},
   "source": [
    "# Q0 - mem footprint - FPGA"
   ]
  },
  {
   "cell_type": "code",
   "execution_count": 16,
   "metadata": {},
   "outputs": [],
   "source": [
    "    # Q0 : Impact of memory footprint\n",
    "    # device = FPGA\n",
    "    # X axis : memory footprint ranges (boxplot)\n",
    "    plot_x_axis = ['mem_range']\n",
    "    plot_y_axis = ['gflops']\n",
    "    plot_id = 'Q0-mem-footprint-FPGA'\n",
    "    select_criterion = (group_system_best['System'] == 'FPGA')\n",
    "    \n",
    "    select_str = 'Best of System = FPGA'\n",
    "    groupreps_select_best = group_system_best[select_criterion]\n",
    "    \n",
    "    harry_plotter_box(groupreps_select_best, plot_x_axis, plot_y_axis, select_str, plot_id)\n",
    "    \n",
    "    select_str = '(placement) Best of System = FPGA'\n",
    "    harry_plotter_box(groupreps_select_best, plot_x_axis, plot_y_axis, select_str, plot_id, hue_hue=\"placement\")"
   ]
  },
  {
   "cell_type": "code",
   "execution_count": 17,
   "metadata": {},
   "outputs": [],
   "source": [
    "    # Q0 : Impact of memory footprint\n",
    "    # device = FPGA\n",
    "    # X axis : real memory footprint for FPGA representation (boxplot)\n",
    "    plot_x_axis = ['A_mem_footprint']\n",
    "    plot_y_axis = ['gflops']\n",
    "    plot_id = 'Q0-mem-footprint-FPGA'\n",
    "    select_criterion = (group_system_best['System'] == 'FPGA')\n",
    "    \n",
    "    select_str = 'Best of System = FPGA (true mem footprint)'\n",
    "    groupreps_select_best = group_system_best[select_criterion]\n",
    "    groupreps_select_best = groupreps_select_best.round({\"A_mem_footprint\":-2})\n",
    "    groupreps_select_best = groupreps_select_best[groupreps_select_best[\"gflops\"]>0]\n",
    "    \n",
    "    harry_plotter_box(groupreps_select_best, plot_x_axis, plot_y_axis, select_str, plot_id)"
   ]
  },
  {
   "cell_type": "markdown",
   "metadata": {},
   "source": [
    "---\n",
    "# Q0 - row size - GPU"
   ]
  },
  {
   "cell_type": "code",
   "execution_count": 18,
   "metadata": {},
   "outputs": [],
   "source": [
    "    # Q0 : Impact of row size\n",
    "    # device = GPU\n",
    "    # X axis : nnz per row (boxplot)\n",
    "    plot_x_axis = ['avg_nz_row']\n",
    "    plot_y_axis = ['gflops']\n",
    "    plot_id = 'Q0-row-size-GPU'\n",
    "    select_criterion = (group_system_best['System'] == 'TeslaV100') & (group_system_best[\"mem_range\"]!=\"[2048-4096]\") & (group_system_best[\"mem_range\"]!=\"[>4096]\")\n",
    "    \n",
    "    select_str = 'Best of System = TeslaV100'\n",
    "    groupreps_select_best = group_system_best[select_criterion]\n",
    "    groupreps_select_best = groupreps_select_best.round({\"avg_nz_row\":-1})\n",
    "    \n",
    "    harry_plotter_box(groupreps_select_best, plot_x_axis, plot_y_axis, select_str, plot_id)"
   ]
  },
  {
   "cell_type": "markdown",
   "metadata": {},
   "source": [
    "# Q0 - row size - CPU"
   ]
  },
  {
   "cell_type": "code",
   "execution_count": 19,
   "metadata": {},
   "outputs": [],
   "source": [
    "    # Q0 : Impact of row size\n",
    "    # device = CPU\n",
    "    # X axis : nnz per row (boxplot)\n",
    "    plot_x_axis = ['avg_nz_row']\n",
    "    plot_y_axis = ['gflops']\n",
    "    plot_id = 'Q0-row-size-CPU'\n",
    "    select_criterion = (group_system_best['System'] == 'HawkAmdRome')\n",
    "    \n",
    "    select_str = 'Best of System = HawkAmdRome'\n",
    "    groupreps_select_best = group_system_best[select_criterion]\n",
    "    groupreps_select_best = groupreps_select_best.round({\"avg_nz_row\":-1})\n",
    "    \n",
    "    harry_plotter_box(groupreps_select_best, plot_x_axis, plot_y_axis, select_str, plot_id)"
   ]
  },
  {
   "cell_type": "code",
   "execution_count": 20,
   "metadata": {},
   "outputs": [],
   "source": [
    "    # All formats instead of best (use \"groupreps\" instead of \"group_system_best\")\n",
    "    # Q0 : Impact of row size\n",
    "    # device = CPU\n",
    "    # X axis : nnz per row (boxplot)\n",
    "    plot_x_axis = ['avg_nz_row']\n",
    "    plot_y_axis = ['gflops']\n",
    "    plot_id = 'Q0-row-size-CPU'\n",
    "    select_criterion = (groupreps['System'] == 'HawkAmdRome')\n",
    "    \n",
    "    select_str = 'System = HawkAmdRome'\n",
    "    groupreps_select = groupreps[select_criterion]\n",
    "    groupreps_select = groupreps_select.round({\"avg_nz_row\":-1})\n",
    "    \n",
    "    harry_plotter_box(groupreps_select, plot_x_axis, plot_y_axis, select_str, plot_id, hue_hue = 'implementation')"
   ]
  },
  {
   "cell_type": "markdown",
   "metadata": {},
   "source": [
    "# Q0 - row size - FPGA"
   ]
  },
  {
   "cell_type": "code",
   "execution_count": 21,
   "metadata": {},
   "outputs": [],
   "source": [
    "    # Q0 : Impact of row size\n",
    "    # device = FPGA\n",
    "    # X axis : nnz per row (boxplot)\n",
    "    plot_x_axis = ['avg_nz_row']\n",
    "    plot_y_axis = ['gflops']\n",
    "    plot_id = 'Q0-row-size-FPGA'\n",
    "    select_criterion = (group_system_best['System'] == 'FPGA')\n",
    "    \n",
    "    select_str = 'Best of System = FPGA'\n",
    "    groupreps_select_best = group_system_best[select_criterion]\n",
    "    groupreps_select_best = groupreps_select_best.round({\"avg_nz_row\":-1})\n",
    "    \n",
    "    harry_plotter_box(groupreps_select_best, plot_x_axis, plot_y_axis, select_str, plot_id)"
   ]
  },
  {
   "cell_type": "markdown",
   "metadata": {},
   "source": [
    "---\n",
    "# Q0 - imbalance - GPU"
   ]
  },
  {
   "cell_type": "code",
   "execution_count": 22,
   "metadata": {},
   "outputs": [],
   "source": [
    "    # Q0 : Impact of imbalance\n",
    "    # device = GPU\n",
    "    # X axis : var coeff - nnz per row (boxplot)\n",
    "    plot_x_axis = ['var_coefficient']\n",
    "    plot_y_axis = ['gflops']\n",
    "    plot_id = 'Q0-imbalance-GPU'\n",
    "    select_criterion = (group_system_best['System'] == 'TeslaV100') & (group_system_best[\"mem_range\"]!=\"[2048-4096]\") & (group_system_best[\"mem_range\"]!=\"[>4096]\")\n",
    "    \n",
    "    select_str = 'Best of System = TeslaV100'\n",
    "    groupreps_select_best = group_system_best[select_criterion]\n",
    "    groupreps_select_best = groupreps_select_best.round({\"var_coefficient\":1})\n",
    "    \n",
    "    harry_plotter_box(groupreps_select_best, plot_x_axis, plot_y_axis, select_str, plot_id)"
   ]
  },
  {
   "cell_type": "markdown",
   "metadata": {},
   "source": [
    "# Q0 - imbalance - CPU"
   ]
  },
  {
   "cell_type": "code",
   "execution_count": 23,
   "metadata": {},
   "outputs": [],
   "source": [
    "    # Q0 : Impact of imbalance\n",
    "    # device = CPU\n",
    "    # X axis : var coeff - nnz per row (boxplot)\n",
    "    plot_x_axis = ['var_coefficient']\n",
    "    plot_y_axis = ['gflops']\n",
    "    plot_id = 'Q0-imbalance-CPU'\n",
    "    select_criterion = (group_system_best['System'] == 'HawkAmdRome')\n",
    "    \n",
    "    select_str = 'Best of System = HawkAmdRome'\n",
    "    groupreps_select_best = group_system_best[select_criterion]\n",
    "    groupreps_select_best = groupreps_select_best.round({\"var_coefficient\":1})\n",
    "    \n",
    "    harry_plotter_box(groupreps_select_best, plot_x_axis, plot_y_axis, select_str, plot_id)"
   ]
  },
  {
   "cell_type": "markdown",
   "metadata": {},
   "source": [
    "# Q0 - imbalance - FPGA"
   ]
  },
  {
   "cell_type": "code",
   "execution_count": 24,
   "metadata": {},
   "outputs": [],
   "source": [
    "    # Q0 : Impact of imbalance\n",
    "    # device = CPU\n",
    "    # X axis : var coeff - nnz per row (boxplot)\n",
    "    plot_x_axis = ['var_coefficient']\n",
    "    plot_y_axis = ['gflops']\n",
    "    plot_id = 'Q0-imbalance-FPGA'\n",
    "    select_criterion = (group_system_best['System'] == 'FPGA')\n",
    "    \n",
    "    select_str = 'Best of System = FPGA'\n",
    "    groupreps_select_best = group_system_best[select_criterion]\n",
    "    groupreps_select_best = groupreps_select_best.round({\"var_coefficient\":1})\n",
    "    \n",
    "    harry_plotter_box(groupreps_select_best, plot_x_axis, plot_y_axis, select_str, plot_id)"
   ]
  },
  {
   "cell_type": "markdown",
   "metadata": {},
   "source": [
    "---\n",
    "# Q0 - irregularity - GPU\n",
    "either avg_bandwidth or avg_scattering"
   ]
  },
  {
   "cell_type": "code",
   "execution_count": 25,
   "metadata": {},
   "outputs": [],
   "source": [
    "    # Q0 : Impact of irregularity\n",
    "    # device = GPU\n",
    "    # X axis : avg bandwidth (scatterplot)\n",
    "    plot_x_axis = ['avg_bandwidth']\n",
    "    plot_y_axis = ['gflops']\n",
    "    plot_id = 'Q0-irregularity-GPU'\n",
    "    select_criterion = (group_system_best['System'] == 'TeslaV100') & (group_system_best[\"mem_range\"]!=\"[2048-4096]\") & (group_system_best[\"mem_range\"]!=\"[>4096]\")\n",
    "    \n",
    "    select_str = 'Best of System = TeslaV100'\n",
    "    groupreps_select_best = group_system_best[select_criterion]\n",
    "    \n",
    "    harry_plotter_scatter(groupreps_select_best, plot_x_axis, plot_y_axis, select_str, plot_id)\n",
    "    \n",
    "    groupreps_select_best = groupreps_select_best.round({\"avg_bandwidth\":-5})\n",
    "    select_str = '(boxplot) Best of System = TeslaV100'\n",
    "    harry_plotter_box(groupreps_select_best, plot_x_axis, plot_y_axis, select_str, plot_id)"
   ]
  },
  {
   "cell_type": "code",
   "execution_count": 26,
   "metadata": {},
   "outputs": [],
   "source": [
    "    # Q0 : Impact of irregularity\n",
    "    # device = GPU\n",
    "    # X axis : avg scattering scaled (scatterplot)\n",
    "    plot_x_axis = ['avg_scattering_scaled']\n",
    "    plot_y_axis = ['gflops']\n",
    "    plot_id = 'Q0-irregularity-GPU'\n",
    "    select_criterion = (group_system_best['System'] == 'TeslaV100') & (group_system_best[\"mem_range\"]!=\"[2048-4096]\") & (group_system_best[\"mem_range\"]!=\"[>4096]\")\n",
    "    \n",
    "    select_str = 'Best of System = TeslaV100'\n",
    "    groupreps_select_best = group_system_best[select_criterion]\n",
    "    \n",
    "    harry_plotter_scatter(groupreps_select_best, plot_x_axis, plot_y_axis, select_str, plot_id)"
   ]
  },
  {
   "cell_type": "markdown",
   "metadata": {},
   "source": [
    "# Q0 - irregularity - CPU"
   ]
  },
  {
   "cell_type": "code",
   "execution_count": 27,
   "metadata": {},
   "outputs": [],
   "source": [
    "    # Q0 : Impact of irregularity\n",
    "    # device = CPU\n",
    "    # X axis : avg bandwidth (scatterplot)\n",
    "    plot_x_axis = ['avg_bandwidth']\n",
    "    plot_y_axis = ['gflops']\n",
    "    plot_id = 'Q0-irregularity-CPU'\n",
    "    select_criterion = (group_system_best['System'] == 'HawkAmdRome')\n",
    "    \n",
    "    select_str = 'Best of System = HawkAmdRome'\n",
    "    groupreps_select_best = group_system_best[select_criterion]\n",
    "    \n",
    "    harry_plotter_scatter(groupreps_select_best, plot_x_axis, plot_y_axis, select_str, plot_id)\n",
    "    \n",
    "    groupreps_select_best = groupreps_select_best.round({\"avg_bandwidth\":-5})\n",
    "    select_str = '(boxplot) Best of System = HawkAmdRome'\n",
    "    harry_plotter_box(groupreps_select_best, plot_x_axis, plot_y_axis, select_str, plot_id)"
   ]
  },
  {
   "cell_type": "code",
   "execution_count": 28,
   "metadata": {},
   "outputs": [],
   "source": [
    "    # Q0 : Impact of irregularity\n",
    "    # device = CPU\n",
    "    # X axis : avg scattering_scaled (scatterplot)\n",
    "    plot_x_axis = ['avg_scattering_scaled']\n",
    "    plot_y_axis = ['gflops']\n",
    "    plot_id = 'Q0-irregularity-CPU'\n",
    "    select_criterion = (group_system_best['System'] == 'HawkAmdRome')\n",
    "    \n",
    "    select_str = 'Best of System = HawkAmdRome'\n",
    "    groupreps_select_best = group_system_best[select_criterion]\n",
    "    \n",
    "    harry_plotter_scatter(groupreps_select_best, plot_x_axis, plot_y_axis, select_str, plot_id)"
   ]
  },
  {
   "cell_type": "markdown",
   "metadata": {},
   "source": [
    "# Q0 - irregularity - FPGA"
   ]
  },
  {
   "cell_type": "code",
   "execution_count": 29,
   "metadata": {},
   "outputs": [],
   "source": [
    "    # Q0 : Impact of irregularity\n",
    "    # device = FPGA\n",
    "    # X axis : avg bandwidth (scatterplot)\n",
    "    plot_x_axis = ['avg_bandwidth']\n",
    "    plot_y_axis = ['gflops']\n",
    "    plot_id = 'Q0-irregularity-FPGA'\n",
    "    select_criterion = (group_system_best['System'] == 'FPGA')\n",
    "    \n",
    "    select_str = 'Best of System = FPGA'\n",
    "    groupreps_select_best = group_system_best[select_criterion]\n",
    "    \n",
    "    harry_plotter_scatter(groupreps_select_best, plot_x_axis, plot_y_axis, select_str, plot_id)\n",
    "    \n",
    "    groupreps_select_best = groupreps_select_best.round({\"avg_bandwidth\":-4})\n",
    "    select_str = '(boxplot) Best of System = FPGA'\n",
    "    harry_plotter_box(groupreps_select_best, plot_x_axis, plot_y_axis, select_str, plot_id)"
   ]
  },
  {
   "cell_type": "code",
   "execution_count": 30,
   "metadata": {},
   "outputs": [],
   "source": [
    "    # Q0 : Impact of irregularity\n",
    "    # device = FPGA\n",
    "    # X axis : avg scattering scaled (scatterplot)\n",
    "    plot_x_axis = ['avg_scattering_scaled']\n",
    "    plot_y_axis = ['gflops']\n",
    "    plot_id = 'Q0-irregularity-FPGA'\n",
    "    select_criterion = (group_system_best['System'] == 'FPGA')\n",
    "    \n",
    "    select_str = 'Best of System = FPGA'\n",
    "    groupreps_select_best = group_system_best[select_criterion]\n",
    "    \n",
    "    harry_plotter_scatter(groupreps_select_best, plot_x_axis, plot_y_axis, select_str, plot_id)"
   ]
  },
  {
   "cell_type": "markdown",
   "metadata": {},
   "source": [
    "---\n",
    "# Q1 - GPU"
   ]
  },
  {
   "cell_type": "code",
   "execution_count": 31,
   "metadata": {},
   "outputs": [],
   "source": [
    "    # Q1 : Impact of memory footprint, all other features are “good”\n",
    "    # device = GPU\n",
    "    # average nnz/row > 20\n",
    "    # Stdev nnz/row in  [1, 8.03]\n",
    "    # Bandwidth = “~nnz/row” (κατά προτίμηση μαζεμένα γύρω από τη διαγώνιο τα nnz)\n",
    "    # X axis : memory footprint ranges (boxplot)\n",
    "\n",
    "    plot_x_axis = ['mem_range']\n",
    "    plot_y_axis = ['gflops']\n",
    "    plot_id = 'Q1-GPU'\n",
    "    select_criterion = ( group_system_best['std_nz_row'] > 1 ) \\\n",
    "    & ( group_system_best['avg_nz_row'] > 19) \\\n",
    "    & ( group_system_best['std_nz_row'] < 8.03) \\\n",
    "    & ( group_system_best['placement'] == 'diagonal') \\\n",
    "    & ( group_system_best['System'] == 'TeslaV100')\n",
    "    \n",
    "    select_str = 'avg_nz_row > 19, std_nz_row > 1, std_nz_row < 8.03\\ndiagonal, Best of System = TeslaV100'\n",
    "    groupreps_select_best = group_system_best[select_criterion]\n",
    "\n",
    "    harry_plotter_box(groupreps_select_best, plot_x_axis, plot_y_axis, select_str, plot_id)"
   ]
  },
  {
   "cell_type": "markdown",
   "metadata": {},
   "source": [
    "# Q1 - GPU extra"
   ]
  },
  {
   "cell_type": "code",
   "execution_count": 32,
   "metadata": {},
   "outputs": [],
   "source": [
    "    # Q1 : Impact of memory footprint, all other features are “good”\n",
    "    # device = GPU\n",
    "    # average nnz/row > 20\n",
    "    # Stdev nnz/row in  [1, 8.03]\n",
    "    # Bandwidth = “~nnz/row” (κατά προτίμηση μαζεμένα γύρω από τη διαγώνιο τα nnz)\n",
    "    # X axis : avg_nz_row\n",
    "\n",
    "    plot_x_axis = ['avg_nz_row']\n",
    "    plot_y_axis = ['gflops']\n",
    "    plot_id = 'Q1-GPU-extra'\n",
    "    select_criterion = ( group_system_best['std_nz_row'] > 1 ) \\\n",
    "    & ( group_system_best['avg_nz_row'] > 19) \\\n",
    "    & ( group_system_best['std_nz_row'] < 8.03) \\\n",
    "    & ( group_system_best['placement'] == 'diagonal') \\\n",
    "    & ( group_system_best['System'] == 'TeslaV100')\n",
    "    \n",
    "    select_str = 'avg_nz_row > 19, std_nz_row > 1, std_nz_row < 8.03\\ndiagonal, Best of System = TeslaV100'\n",
    "    groupreps_select_best = group_system_best[select_criterion]\n",
    "    groupreps_select_best = groupreps_select_best.round({\"avg_nz_row\":1})\n",
    "    \n",
    "    harry_plotter_box(groupreps_select_best, plot_x_axis, plot_y_axis, select_str, plot_id, rotation = 60)"
   ]
  },
  {
   "cell_type": "markdown",
   "metadata": {},
   "source": [
    "# Q1 - CPU"
   ]
  },
  {
   "cell_type": "code",
   "execution_count": 33,
   "metadata": {},
   "outputs": [],
   "source": [
    "    # Q1 : Impact of memory footprint, all other features are “good”\n",
    "    # device = CPU\n",
    "    # average nnz/row > 20\n",
    "    # Stdev nnz/row in  [1, 8.03]\n",
    "    # Bandwidth = “~nnz/row” (κατά προτίμηση μαζεμένα γύρω από τη διαγώνιο τα nnz)\n",
    "    # X axis : memory footprint ranges (boxplot)\n",
    "    \n",
    "    plot_x_axis = ['mem_range']\n",
    "    plot_y_axis = ['gflops']\n",
    "    plot_id = 'Q1-CPU'\n",
    "    select_criterion = ( group_system_best['std_nz_row'] > 1 ) \\\n",
    "    & ( group_system_best['avg_nz_row'] > 19) \\\n",
    "    & ( group_system_best['std_nz_row'] < 8.03) \\\n",
    "    & ( group_system_best['placement'] == 'diagonal') \\\n",
    "    & ( group_system_best['System'] == 'HawkAmdRome')\n",
    "    \n",
    "    select_str = 'avg_nz_row > 19, std_nz_row > 1, std_nz_row < 8.03\\ndiagonal, Best of System = HawkAmdRome'\n",
    "    groupreps_select_best = group_system_best[select_criterion]\n",
    "    \n",
    "    harry_plotter_box(groupreps_select_best, plot_x_axis, plot_y_axis, select_str, plot_id)"
   ]
  },
  {
   "cell_type": "markdown",
   "metadata": {},
   "source": [
    "# Q1 - CPU extra\n",
    "## with validation_matrices_small dataset, this resulted in an empty dataframe. move on for now!"
   ]
  },
  {
   "cell_type": "code",
   "execution_count": 34,
   "metadata": {},
   "outputs": [],
   "source": [
    "#     # break down Q2 memory range [256-512], due to its high variance of performance.\n",
    "#     # plot with x axis avg_nz_row, std_nz_row, m, A_mem_footprint    \n",
    "#     plot_x_axis = ['avg_nz_row', 'std_nz_row', 'm', 'A_mem_footprint']\n",
    "#     plot_y_axis = ['gflops']\n",
    "#     plot_id = 'Q1-CPU-extra'\n",
    "#     select_criterion = ( group_system_best['std_nz_row'] > 1 ) \\\n",
    "#     & ( group_system_best['avg_nz_row'] > 19) \\\n",
    "#     & ((group_system_best['mem_range'] == \"[256-512]\")) \\\n",
    "#     & ( group_system_best['std_nz_row'] < 8.03) \\\n",
    "#     & ( group_system_best['placement'] == 'diagonal') \\\n",
    "#     & ( group_system_best['System'] == 'HawkAmdRome')\n",
    "    \n",
    "#     select_str = 'mem_range = [256-512], avg_nz_row > 19, std_nz_row > 1\\nstd_nz_row < 8.03, df = 0.5,0.05, Best of System = HawkAmdRome'\n",
    "#     groupreps_select_best = group_system_best[select_criterion]\n",
    "#     groupreps_select_best = groupreps_select_best.round({\"avg_nz_row\":1})\n",
    "#     groupreps_select_best = groupreps_select_best.round({\"std_nz_row\":2})\n",
    "#     groupreps_select_best = groupreps_select_best.round({\"A_mem_footprint\":0})\n",
    "    \n",
    "#     harry_plotter_box(groupreps_select_best, plot_x_axis, plot_y_axis, select_str, plot_id)"
   ]
  },
  {
   "cell_type": "markdown",
   "metadata": {},
   "source": [
    "# Q1 - CPU+GPU"
   ]
  },
  {
   "cell_type": "code",
   "execution_count": 35,
   "metadata": {},
   "outputs": [],
   "source": [
    "    # Q1 CPU & GPU : Plot best per system in the same boxplot\n",
    "    plot_x_axis = ['mem_range']\n",
    "    plot_y_axis = ['gflops']\n",
    "    plot_id = 'Q1-CPU-plus-GPU'\n",
    "    select_criterion = ( group_system_best['std_nz_row'] > 1 ) \\\n",
    "    & ( group_system_best['avg_nz_row'] > 19) \\\n",
    "    & ( group_system_best['std_nz_row'] < 8.03) \\\n",
    "    & ( group_system_best['placement'] == 'diagonal') \\\n",
    "    & ( group_system_best['System'] != 'FPGA')\n",
    "\n",
    "    select_str = 'avg_nz_row > 19, std_nz_row > 1, std_nz_row < 8.03\\ndiagonal, Best per System'\n",
    "    groupreps_select_best = group_system_best[select_criterion]\n",
    "\n",
    "    harry_plotter_box(groupreps_select_best, plot_x_axis, plot_y_axis, select_str, plot_id, hue_hue = 'System')"
   ]
  },
  {
   "cell_type": "markdown",
   "metadata": {},
   "source": [
    "# Q1 - FPGA"
   ]
  },
  {
   "cell_type": "code",
   "execution_count": 36,
   "metadata": {},
   "outputs": [],
   "source": [
    "    # Q1 : Impact of memory footprint, all other features are “good”\n",
    "    # device = FPGA\n",
    "    # average nnz/row > 20\n",
    "    # Stdev nnz/row in  [1, 8.03]\n",
    "    # Bandwidth = “~nnz/row” (κατά προτίμηση μαζεμένα γύρω από τη διαγώνιο τα nnz)\n",
    "    # X axis : memory footprint ranges (boxplot)\n",
    "   \n",
    "    plot_x_axis = ['mem_range']\n",
    "    plot_y_axis = ['gflops']\n",
    "    plot_id = 'Q1-FPGA'\n",
    "    select_criterion = ( group_system_best['std_nz_row'] > 1 ) \\\n",
    "    & ( group_system_best['avg_nz_row'] > 19) \\\n",
    "    & ( group_system_best['std_nz_row'] < 8.03) \\\n",
    "    & ( group_system_best['placement'] == 'diagonal') \\\n",
    "    & ( group_system_best['System'] == 'FPGA')\n",
    "    \n",
    "    select_str = 'avg_nz_row > 19, std_nz_row > 1, std_nz_row < 8.03\\ndiagonal, Best of System = Alveo U280'\n",
    "    groupreps_select_best = group_system_best[select_criterion]\n",
    "    \n",
    "    harry_plotter_box(groupreps_select_best, plot_x_axis, plot_y_axis, select_str, plot_id)"
   ]
  },
  {
   "cell_type": "markdown",
   "metadata": {},
   "source": [
    "---\n",
    "# Q2 - GPU"
   ]
  },
  {
   "cell_type": "code",
   "execution_count": 37,
   "metadata": {},
   "outputs": [],
   "source": [
    "    # Q2 : Impact of row size, all other features are “good”\n",
    "    # device = GPU\n",
    "    # Mem_range: > 128\n",
    "    # Stdev nnz/row in  [1, 8.03]\n",
    "    # Bandwidth = “~nnz/row” (κατά προτίμηση μαζεμένα γύρω από τη διαγώνιο τα nnz)\n",
    "    # X axis : nnz per row\n",
    "    \n",
    "    plot_x_axis = ['avg_nz_row']\n",
    "    plot_y_axis = ['gflops']\n",
    "    plot_id = 'Q2-GPU'\n",
    "    select_criterion = ( group_system_best['std_nz_row'] > 1 ) \\\n",
    "    & ((group_system_best['mem_range'] == \"[128-256]\") | (group_system_best['mem_range'] == \"[256-512]\") | (group_system_best['mem_range'] == \"[512-1024]\") | (group_system_best['mem_range'] == \"[1024-2048]\")) \\\n",
    "    & ( group_system_best['std_nz_row'] < 8.03) \\\n",
    "    & ( group_system_best['placement'] == 'diagonal') \\\n",
    "    & ( group_system_best['System'] == 'TeslaV100')\n",
    "    \n",
    "    select_str = 'mem_range > 128, std_nz_row > 1, std_nz_row < 8.03\\ndiagonal, Best of System = TeslaV100'\n",
    "    groupreps_select_best = group_system_best[select_criterion]\n",
    "    groupreps_select_best = groupreps_select_best.round({\"avg_nz_row\":2})\n",
    "    \n",
    "    harry_plotter_box(groupreps_select_best, plot_x_axis, plot_y_axis, select_str, plot_id)"
   ]
  },
  {
   "cell_type": "markdown",
   "metadata": {},
   "source": [
    "# Q2 - CPU"
   ]
  },
  {
   "cell_type": "code",
   "execution_count": 38,
   "metadata": {},
   "outputs": [],
   "source": [
    "    # Q2 : Impact of row size, all other features are “good”\n",
    "    # device = CPU\n",
    "    # 128 < Mem_range < 256\n",
    "    # Stdev nnz/row in  [1, 8.03]\n",
    "    # Bandwidth = “~nnz/row” (κατά προτίμηση μαζεμένα γύρω από τη διαγώνιο τα nnz)\n",
    "    # X axis : nnz per row\n",
    "\n",
    "    plot_x_axis = ['avg_nz_row']\n",
    "    plot_y_axis = ['gflops']\n",
    "    plot_id = 'Q2-CPU'\n",
    "    select_criterion = ( group_system_best['std_nz_row'] > 1 ) \\\n",
    "    & ( group_system_best['mem_range'] == \"[128-256]\" ) \\\n",
    "    & ( group_system_best['std_nz_row'] < 8.03) \\\n",
    "    & ( group_system_best['placement'] == 'diagonal') \\\n",
    "    & ( group_system_best['System'] == 'HawkAmdRome') \n",
    "    \n",
    "    select_str = 'mem_range > 128, mem_range < 256, std_nz_row > 1\\nstd_nz_row < 8.03, diagonal, Best of System = HawkAmdRome'\n",
    "    groupreps_select_best = group_system_best[select_criterion]\n",
    "    groupreps_select_best = groupreps_select_best.round({\"avg_nz_row\":2})\n",
    "    \n",
    "    harry_plotter_box(groupreps_select_best, plot_x_axis, plot_y_axis, select_str, plot_id)"
   ]
  },
  {
   "cell_type": "markdown",
   "metadata": {},
   "source": [
    "# Q2 - FPGA"
   ]
  },
  {
   "cell_type": "code",
   "execution_count": 39,
   "metadata": {},
   "outputs": [],
   "source": [
    "    # Q2 : Impact of row size, all other features are “good”\n",
    "    # device = FPGA\n",
    "    # 128 < Mem_range < 256\n",
    "    # Stdev nnz/row in  [1, 8.03]\n",
    "    # Bandwidth = “~nnz/row” (κατά προτίμηση μαζεμένα γύρω από τη διαγώνιο τα nnz)\n",
    "    # X axis : nnz per row\n",
    "\n",
    "    plot_x_axis = ['avg_nz_row']\n",
    "    plot_y_axis = ['gflops']\n",
    "    plot_id = 'Q2-FPGA'\n",
    "    select_criterion = ( group_system_best['std_nz_row'] > 1 ) \\\n",
    "    & ( group_system_best['mem_range'] == \"[128-256]\" ) \\\n",
    "    & ( group_system_best['std_nz_row'] < 8.03) \\\n",
    "    & ( group_system_best['placement'] == 'diagonal') \\\n",
    "    & ( group_system_best['System'] == 'FPGA') \n",
    "    \n",
    "    select_str = 'mem_range > 128, mem_range < 256, std_nz_row > 1\\nstd_nz_row < 8.03, diagonal, Best of System = FPGA'\n",
    "    groupreps_select_best = group_system_best[select_criterion]\n",
    "    groupreps_select_best = groupreps_select_best.round({\"avg_nz_row\":2})\n",
    "    \n",
    "    harry_plotter_box(groupreps_select_best, plot_x_axis, plot_y_axis, select_str, plot_id)"
   ]
  },
  {
   "cell_type": "markdown",
   "metadata": {},
   "source": [
    "---\n",
    "# Q3 - GPU"
   ]
  },
  {
   "cell_type": "code",
   "execution_count": 40,
   "metadata": {},
   "outputs": [],
   "source": [
    "    # Q3: Impact of imbalance, all other features are “good”\n",
    "    # device = GPU\n",
    "    # Mem_range: > 128\n",
    "    # average nnz/row > 40\n",
    "    # Bandwidth = “~nnz/row” (κατά προτίμηση μαζεμένα γύρω από τη διαγώνιο τα nnz)\n",
    "    # X axis : stdev nnz/row\n",
    "\n",
    "    plot_x_axis = ['std_nz_row']\n",
    "    plot_y_axis = ['gflops']\n",
    "    plot_id = 'Q3-GPU'\n",
    "    select_criterion = ( group_system_best['A_mem_footprint'] > 127.9 ) \\\n",
    "    & ( group_system_best['avg_nz_row'] > 40) \\\n",
    "    & ( group_system_best['placement'] == 'diagonal') \\\n",
    "    & ( group_system_best['System'] == 'TeslaV100')\n",
    "    \n",
    "    select_str = 'A_mem_footprint > 127.9, avg_nz_row > 40\\ndiagonal, Best of System = TeslaV100'\n",
    "    groupreps_select_best = group_system_best[select_criterion]\n",
    "    groupreps_select_best = groupreps_select_best.round({\"std_nz_row\":0})\n",
    "\n",
    "    harry_plotter_box(groupreps_select_best, plot_x_axis, plot_y_axis, select_str, plot_id)\n",
    "    \n",
    "    # All formats instead of best\n",
    "    select_criterion = ( groupreps['A_mem_footprint'] > 127.9 ) \\\n",
    "    & ( groupreps['avg_nz_row'] > 40) \\\n",
    "    & ( group_system_best['placement'] == 'diagonal') \\\n",
    "    & ( groupreps['System'] == 'TeslaV100')\n",
    "    \n",
    "    select_str = 'A_mem_footprint > 127.9, avg_nz_row > 40\\ndiagonal, System = TeslaV100'\n",
    "    groupreps_select = groupreps[select_criterion]\n",
    "    groupreps_select = groupreps_select.round({\"std_nz_row\":0})\n",
    "    \n",
    "    harry_plotter_box(groupreps_select, plot_x_axis, plot_y_axis, select_str, plot_id, hue_hue = 'implementation')"
   ]
  },
  {
   "cell_type": "code",
   "execution_count": 41,
   "metadata": {},
   "outputs": [],
   "source": [
    "    # Q3: Impact of imbalance, all other features are “good”\n",
    "    # device = GPU\n",
    "    # Mem_range: > 128\n",
    "    # average nnz/row > 40\n",
    "    # Bandwidth = “~nnz/row” (κατά προτίμηση μαζεμένα γύρω από τη διαγώνιο τα nnz)\n",
    "    # X axis : var_coefficient = std_nz_row / avg_nz_row\n",
    "    \n",
    "    plot_x_axis = ['var_coefficient']\n",
    "    plot_y_axis = ['gflops']\n",
    "    plot_id = 'Q3-GPU-var'\n",
    "    select_criterion = ( group_system_best['A_mem_footprint'] > 127.9 ) \\\n",
    "    & ( group_system_best['avg_nz_row'] > 40) \\\n",
    "    & ( group_system_best['placement'] == 'diagonal') \\\n",
    "    & ( group_system_best['System'] == 'TeslaV100')\n",
    "    \n",
    "    select_str = 'A_mem_footprint > 127.9, avg_nz_row > 40\\ndiagonal, Best of System = TeslaV100'\n",
    "    \n",
    "    groupreps_select_best = group_system_best[select_criterion]\n",
    "    groupreps_select_best = groupreps_select_best.round({\"var_coefficient\":2})\n",
    "\n",
    "    harry_plotter_box(groupreps_select_best, plot_x_axis, plot_y_axis, select_str, plot_id)"
   ]
  },
  {
   "cell_type": "markdown",
   "metadata": {},
   "source": [
    "# Q3 - CPU"
   ]
  },
  {
   "cell_type": "code",
   "execution_count": 42,
   "metadata": {},
   "outputs": [],
   "source": [
    "    # Q3: Impact of imbalance, all other features are “good”\n",
    "    # device = CPU\n",
    "    # 128 < Mem_range < 256\n",
    "    # average nnz/row > 20\n",
    "    # Bandwidth = “~nnz/row” (κατά προτίμηση μαζεμένα γύρω από τη διαγώνιο τα nnz)\n",
    "    # X axis : stdev nnz/row\n",
    "    \n",
    "    plot_x_axis = ['std_nz_row']\n",
    "    plot_y_axis = ['gflops']\n",
    "    plot_id = 'Q3-CPU'\n",
    "    select_criterion = ( group_system_best['A_mem_footprint'] > 127.9 ) \\\n",
    "    & ( group_system_best['A_mem_footprint'] < 257) \\\n",
    "    & ( group_system_best['avg_nz_row'] > 20) \\\n",
    "    & ( group_system_best['placement'] == 'diagonal') \\\n",
    "    & ( group_system_best['System'] == 'HawkAmdRome')  # & (groupreps['nz'] > 100000)\n",
    "    \n",
    "    select_str = '127.9 < A_mem_footprint < 257, avg_nz_row > 20\\ndiagonal, Best of System = HawkAmdRome'\n",
    "    groupreps_select_best = group_system_best[select_criterion]\n",
    "    groupreps_select_best = groupreps_select_best.round({\"std_nz_row\":0})\n",
    "\n",
    "    harry_plotter_box(groupreps_select_best, plot_x_axis, plot_y_axis, select_str, plot_id)\n",
    "        \n",
    "    # All formats instead of best\n",
    "    select_criterion = ( groupreps['A_mem_footprint'] > 127.9 ) \\\n",
    "    & ( groupreps['A_mem_footprint'] < 257) \\\n",
    "    & ( groupreps['avg_nz_row'] > 20) \\\n",
    "    & ( group_system_best['placement'] == 'diagonal') \\\n",
    "    & ( groupreps['System'] == 'HawkAmdRome')\n",
    "    \n",
    "    select_str = '127.9 < A_mem_footprint < 257, avg_nz_row > 20\\ndiagonal, System = HawkAmdRome'\n",
    "    groupreps_select = groupreps[select_criterion]\n",
    "    groupreps_select = groupreps_select.round({\"std_nz_row\":0})\n",
    "    \n",
    "    harry_plotter_box(groupreps_select, plot_x_axis, plot_y_axis, select_str, plot_id, hue_hue = 'implementation')"
   ]
  },
  {
   "cell_type": "code",
   "execution_count": 43,
   "metadata": {},
   "outputs": [],
   "source": [
    "    # Q3: Impact of imbalance, all other features are “good”\n",
    "    # device = CPU\n",
    "    # Mem_range: > 128\n",
    "    # average nnz/row > 40\n",
    "    # Bandwidth = “~nnz/row” (κατά προτίμηση μαζεμένα γύρω από τη διαγώνιο τα nnz)\n",
    "    # X axis : var_coefficient = std_nz_row / avg_nz_row\n",
    "    \n",
    "    plot_x_axis = ['var_coefficient']\n",
    "    plot_y_axis = ['gflops']\n",
    "    plot_id = 'Q3-CPU-var'\n",
    "    select_criterion = ( group_system_best['A_mem_footprint'] > 127.9 ) \\\n",
    "    & ( group_system_best['A_mem_footprint'] < 257) \\\n",
    "    & ( group_system_best['avg_nz_row'] > 20) \\\n",
    "    & ( group_system_best['placement'] == 'diagonal') \\\n",
    "    & ( group_system_best['System'] == 'HawkAmdRome')\n",
    "    \n",
    "    select_str = '127.9 < A_mem_footprint < 257, avg_nz_row > 20\\ndf = 0.5,0.05, Best of System = HawkAmdRome'\n",
    "    groupreps_select_best = group_system_best[select_criterion]\n",
    "    groupreps_select_best = groupreps_select_best.round({\"var_coefficient\":2})\n",
    "\n",
    "    harry_plotter_box(groupreps_select_best, plot_x_axis, plot_y_axis, select_str, plot_id)"
   ]
  },
  {
   "cell_type": "markdown",
   "metadata": {},
   "source": [
    "# Q3 - FPGA"
   ]
  },
  {
   "cell_type": "code",
   "execution_count": 44,
   "metadata": {},
   "outputs": [],
   "source": [
    "    # Q3: Impact of imbalance, all other features are “good”\n",
    "    # device = FPGA\n",
    "    # 128 < Mem_range < 256\n",
    "    # average nnz/row > 20\n",
    "    # Bandwidth = “~nnz/row” (κατά προτίμηση μαζεμένα γύρω από τη διαγώνιο τα nnz)\n",
    "    # X axis : stdev nnz/row\n",
    "    \n",
    "    plot_x_axis = ['std_nz_row']\n",
    "    plot_y_axis = ['gflops']\n",
    "    plot_id = 'Q3-FPGA'\n",
    "    select_criterion = ( group_system_best['mem_range'] == \"[128-256]\" ) \\\n",
    "    & ( group_system_best['avg_nz_row'] > 20) \\\n",
    "    & ( group_system_best['placement'] == 'diagonal') \\\n",
    "    & ( group_system_best['System'] == 'FPGA')\n",
    "    \n",
    "    select_str = '128 < A_mem_footprint < 256, avg_nz_row > 20\\ndiagonal, Best of System = FPGA'\n",
    "    groupreps_select_best = group_system_best[select_criterion]\n",
    "    groupreps_select_best = groupreps_select_best.round({\"std_nz_row\":0})\n",
    "\n",
    "    harry_plotter_box(groupreps_select_best, plot_x_axis, plot_y_axis, select_str, plot_id)"
   ]
  },
  {
   "cell_type": "code",
   "execution_count": 45,
   "metadata": {},
   "outputs": [],
   "source": [
    "#     # Q3: Impact of imbalance, all other features are “good”\n",
    "#     # device = FPGA\n",
    "#     # Mem_range: > 128\n",
    "#     # average nnz/row > 40\n",
    "#     # Bandwidth = “~nnz/row” (κατά προτίμηση μαζεμένα γύρω από τη διαγώνιο τα nnz)\n",
    "#     # X axis : var_coefficient = std_nz_row / avg_nz_row\n",
    "    \n",
    "#     plot_x_axis = ['var_coefficient']\n",
    "#     plot_y_axis = ['gflops']\n",
    "#     plot_id = 'Q3-FPGA-var'\n",
    "#     select_criterion = ( group_system_best['mem_range'] == \"[256-512]\" ) \\\n",
    "#     & ( group_system_best['avg_nz_row'] > 20) \\\n",
    "#     & ( group_system_best['placement'] == 'diagonal') \\\n",
    "#     & ( group_system_best['System'] == 'FPGA')\n",
    "    \n",
    "#     select_str = '127.9 < A_mem_footprint < 257, avg_nz_row > 20\\ndiagonal, Best of System = FPGA'\n",
    "#     groupreps_select_best = group_system_best[select_criterion]\n",
    "#     groupreps_select_best = groupreps_select_best.round({\"var_coefficient\":3})\n",
    "\n",
    "#     harry_plotter_box(groupreps_select_best, plot_x_axis, plot_y_axis, select_str, plot_id)"
   ]
  },
  {
   "cell_type": "markdown",
   "metadata": {},
   "source": [
    "---\n",
    "# Q4 - GPU"
   ]
  },
  {
   "cell_type": "code",
   "execution_count": 46,
   "metadata": {},
   "outputs": [],
   "source": [
    "    # Q4: Impact of irregularity, all other features are “good”\n",
    "    # device = GPU\n",
    "    # Mem_range: > 128\n",
    "    # average nnz/row > 40\n",
    "    # Stdev nnz/row in  [1, 8.03]\n",
    "    # X axis : bandwidth \n",
    "    \n",
    "    plot_x_axis = ['avg_bandwidth']\n",
    "    plot_y_axis = ['gflops']\n",
    "    plot_id = 'Q4-GPU'\n",
    "    select_criterion = ( group_system_best['A_mem_footprint'] > 127.9 ) \\\n",
    "    & ( group_system_best['avg_nz_row'] > 40) \\\n",
    "    & ( group_system_best['std_nz_row'] >= 1) \\\n",
    "    & ( group_system_best['std_nz_row'] <= 8.03) \\\n",
    "    & ( group_system_best['System'] == 'TeslaV100')\n",
    "    \n",
    "    select_str = '127.9 < A_mem_footprint, avg_nz_row > 40\\nstd_nz_row > 1, std_nz_row < 8.03, Best of System = TeslaV100'\n",
    "    groupreps_select_best = group_system_best[select_criterion]\n",
    "    groupreps_select_best = groupreps_select_best.round({\"avg_bandwidth\":-2})\n",
    "    \n",
    "    harry_plotter_box(groupreps_select_best, plot_x_axis, plot_y_axis, select_str, plot_id)"
   ]
  },
  {
   "cell_type": "markdown",
   "metadata": {},
   "source": [
    "# Q4 - CPU"
   ]
  },
  {
   "cell_type": "code",
   "execution_count": 47,
   "metadata": {},
   "outputs": [],
   "source": [
    "    # Q4: Impact of irregularity, all other features are “good”\n",
    "    # device = CPU\n",
    "    # Mem_range: > 128,2< 256\n",
    "    # average nnz/row > 40\n",
    "    # Stdev nnz/row in  [1, 8.03]\n",
    "    # X axis : bandwidth \n",
    "    \n",
    "    plot_x_axis = ['avg_bandwidth']\n",
    "    plot_y_axis = ['gflops']\n",
    "    plot_id = 'Q4-CPU'\n",
    "    select_criterion = ( group_system_best['A_mem_footprint'] > 127.9 ) \\\n",
    "    & ( group_system_best['A_mem_footprint'] < 257) \\\n",
    "    & ( group_system_best['avg_nz_row'] > 20) \\\n",
    "    & ( group_system_best['std_nz_row'] >= 1) \\\n",
    "    & ( group_system_best['std_nz_row'] <= 8.03) \\\n",
    "    & ( group_system_best['System'] == 'HawkAmdRome')  # & (groupreps['nz'] > 100000)\n",
    "    \n",
    "    select_str = '127.9 < A_mem_footprint < 257, avg_nz_row > 20\\nstd_nz_row > 1, std_nz_row < 8.03, Best of System = HawkAmdRome'\n",
    "    groupreps_select_best = group_system_best[select_criterion]\n",
    "    groupreps_select_best = groupreps_select_best.round({\"avg_bandwidth\":-2})\n",
    "    \n",
    "    harry_plotter_box(groupreps_select_best, plot_x_axis, plot_y_axis, select_str, plot_id)"
   ]
  },
  {
   "cell_type": "markdown",
   "metadata": {},
   "source": [
    "# Q4 - FPGA"
   ]
  },
  {
   "cell_type": "code",
   "execution_count": 48,
   "metadata": {},
   "outputs": [],
   "source": [
    "    # Q4: Impact of irregularity, all other features are “good”\n",
    "    # device = FPGA\n",
    "    # Mem_range: > 128\n",
    "    # average nnz/row > 40\n",
    "    # Stdev nnz/row in  [1, 8.03]\n",
    "    # X axis : bandwidth \n",
    "    \n",
    "    plot_x_axis = ['avg_bandwidth']\n",
    "    plot_y_axis = ['gflops']\n",
    "    plot_id = 'Q4-FPGA'\n",
    "    select_criterion = ( (group_system_best['mem_range'] == \"[128-256]\") |(group_system_best['mem_range'] == \"[256-512]\") | (group_system_best['mem_range'] == \"[512-1024]\")) \\\n",
    "    & ( group_system_best['avg_nz_row'] > 20) \\\n",
    "    & ( group_system_best['std_nz_row'] >= 1) \\\n",
    "    & ( group_system_best['std_nz_row'] <= 8.03) \\\n",
    "    & ( group_system_best['System'] == 'FPGA')  # & (groupreps['nz'] > 100000)\n",
    "    \n",
    "    select_str = '127.9 < A_mem_footprint, avg_nz_row > 20\\nstd_nz_row > 1, std_nz_row < 8.03, Best of System = FPGA'\n",
    "    groupreps_select_best = group_system_best[select_criterion]\n",
    "    groupreps_select_best = groupreps_select_best.round({\"avg_bandwidth\":-2})\n",
    "    \n",
    "    harry_plotter_box(groupreps_select_best, plot_x_axis, plot_y_axis, select_str, plot_id)"
   ]
  },
  {
   "cell_type": "markdown",
   "metadata": {},
   "source": [
    "# Q4 - extra (bandwidth_scaled : [0,1] )"
   ]
  },
  {
   "cell_type": "code",
   "execution_count": 49,
   "metadata": {},
   "outputs": [],
   "source": [
    "    # Q4: Impact of irregularity, all other features are “good”\n",
    "    # device = GPU\n",
    "    # Mem_range: > 128\n",
    "    # average nnz/row > 40\n",
    "    # Stdev nnz/row in  [1, 8.03]\n",
    "    # X axis : avg_bandwidth_scaled\n",
    "    \n",
    "    plot_x_axis = ['avg_bandwidth_scaled']\n",
    "    plot_y_axis = ['gflops']\n",
    "    plot_id = 'Q4-GPU-extra'\n",
    "    select_criterion = ( group_system_best['A_mem_footprint'] > 127.9 ) \\\n",
    "    & ( group_system_best['avg_nz_row'] > 40) \\\n",
    "    & ( group_system_best['std_nz_row'] >= 1) \\\n",
    "    & ( group_system_best['std_nz_row'] <= 8.03) \\\n",
    "    & ( group_system_best['System'] == 'TeslaV100')\n",
    "    \n",
    "    select_str = '127.9 < A_mem_footprint, avg_nz_row > 40\\nstd_nz_row > 1, std_nz_row < 8.03, Best of System = TeslaV100'\n",
    "    groupreps_select_best = group_system_best[select_criterion]\n",
    "    groupreps_select_best = groupreps_select_best.round({\"avg_bandwidth_scaled\":4})\n",
    "    \n",
    "    harry_plotter_box(groupreps_select_best, plot_x_axis, plot_y_axis, select_str, plot_id)"
   ]
  },
  {
   "cell_type": "code",
   "execution_count": 50,
   "metadata": {},
   "outputs": [],
   "source": [
    "    # Q4: Impact of irregularity, all other features are “good”\n",
    "    # device = CPU\n",
    "    # Mem_range: > 128,2< 256\n",
    "    # average nnz/row > 40\n",
    "    # Stdev nnz/row in  [1, 8.03]\n",
    "    # X axis : avg_bandwidth_scaled \n",
    "    \n",
    "    plot_x_axis = ['avg_bandwidth_scaled']\n",
    "    plot_y_axis = ['gflops']\n",
    "    plot_id = 'Q4-CPU-extra'\n",
    "    select_criterion = ( group_system_best['A_mem_footprint'] > 127.9 ) \\\n",
    "    & ( group_system_best['A_mem_footprint'] < 257) \\\n",
    "    & ( group_system_best['avg_nz_row'] > 20) \\\n",
    "    & ( group_system_best['std_nz_row'] >= 1) \\\n",
    "    & ( group_system_best['std_nz_row'] <= 8.03) \\\n",
    "    & ( group_system_best['System'] == 'HawkAmdRome')\n",
    "    \n",
    "    select_str = '127.9 < A_mem_footprint < 257, avg_nz_row > 20\\nstd_nz_row > 1, std_nz_row < 8.03, Best of System = HawkAmdRome'\n",
    "    groupreps_select_best = group_system_best[select_criterion]\n",
    "    groupreps_select_best = groupreps_select_best.round({\"avg_bandwidth_scaled\":4})\n",
    "    \n",
    "    harry_plotter_box(groupreps_select_best, plot_x_axis, plot_y_axis, select_str, plot_id)\n"
   ]
  },
  {
   "cell_type": "code",
   "execution_count": 51,
   "metadata": {},
   "outputs": [],
   "source": [
    "    # Q4: Impact of irregularity, all other features are “good”\n",
    "    # device = FPGA\n",
    "    # Mem_range: > 128\n",
    "    # average nnz/row > 40\n",
    "    # Stdev nnz/row in  [1, 8.03]\n",
    "    # X axis : avg_bandwidth_scaled \n",
    "    \n",
    "    plot_x_axis = ['avg_bandwidth_scaled']\n",
    "    plot_y_axis = ['gflops']\n",
    "    plot_id = 'Q4-FPGA-extra'\n",
    "    select_criterion = ( (group_system_best['mem_range'] == \"[128-256]\") |(group_system_best['mem_range'] == \"[256-512]\") | (group_system_best['mem_range'] == \"[512-1024]\")) \\\n",
    "    & ( group_system_best['avg_nz_row'] > 20) \\\n",
    "    & ( group_system_best['std_nz_row'] >= 1) \\\n",
    "    & ( group_system_best['std_nz_row'] <= 8.03) \\\n",
    "    & ( group_system_best['System'] == 'FPGA')\n",
    "    \n",
    "    select_str = '127.9 < A_mem_footprint, avg_nz_row > 20\\nstd_nz_row > 1, std_nz_row < 8.03, Best of System = FPGA'\n",
    "    groupreps_select_best = group_system_best[select_criterion]\n",
    "    groupreps_select_best = groupreps_select_best.round({\"avg_bandwidth_scaled\":4})\n",
    "    \n",
    "    harry_plotter_box(groupreps_select_best, plot_x_axis, plot_y_axis, select_str, plot_id)"
   ]
  },
  {
   "cell_type": "markdown",
   "metadata": {},
   "source": [
    "---\n",
    "# Validation matrices \n",
    "# Read GPU Data (panastas)"
   ]
  },
  {
   "cell_type": "code",
   "execution_count": 52,
   "metadata": {},
   "outputs": [],
   "source": [
    "header_names = ['mtx_name','distribution','placement','seed',\n",
    "                'm','n','nz','density','A_mem_footprint','mem_range',\n",
    "                'avg_nz_row','std_nz_row',\n",
    "                'avg_bandwidth','std_bandwidth','avg_bandwidth_scaled','std_bandwidth_scaled',\n",
    "                'avg_scattering','std_scattering','avg_scattering_scaled','std_scattering_scaled',\n",
    "                'skew_coeff',\n",
    "                'implementation','time','gflops','W_avg','J_estimated', 'System']"
   ]
  },
  {
   "cell_type": "code",
   "execution_count": 53,
   "metadata": {},
   "outputs": [],
   "source": [
    "def find_class(mem_footprint):\n",
    "    low_mb_list =   [4,8, 16,32,64, 128,256,512, 1024,2048, 4096] # removed largest mem range (2048-4096)\n",
    "    high_mb_list =  [8,16,32,64,128,256,512,1024,2048,4096, 8192]\n",
    "    for i in range(len(low_mb_list)):\n",
    "        if(mem_footprint>=low_mb_list[i] and mem_footprint<=high_mb_list[i]):\n",
    "            pos = i\n",
    "            mem_range = '['+str(low_mb_list[pos])+'-'+str(high_mb_list[pos])+']'\n",
    "            return mem_range\n",
    "    return str(-1)"
   ]
  },
  {
   "cell_type": "code",
   "execution_count": 54,
   "metadata": {},
   "outputs": [],
   "source": [
    "def modify_footprint(v):\n",
    "    if(v[\"implementation\"]==\"CSR5_9\"):\n",
    "        return (v[\"A_mem_footprint\"] - 4*(v[\"m\"]+v[\"n\"]))/(1024*1024.0)\n",
    "    else:\n",
    "        return v[\"A_mem_footprint\"]\n",
    "\n",
    "dtypes=['D']\n",
    "for dtype in dtypes:\n",
    "    #Unified read\n",
    "    fname = \"silver1-TeslaV100_dtype-%s_run_validation_matrices.csv\" % dtype\n",
    "    gpu_data = pd.read_csv('../Benchmarks/%s' % fname, names = \n",
    "                                ['mtx_name','distribution','placement','diagonal_factor','seed',\n",
    "                                 'm','n','nz','density','A_mem_footprint','mem_range',\n",
    "                                 'avg_nz_row','std_nz_row',\n",
    "                                 'avg_bandwidth','std_bandwidth','avg_scattering','std_scattering',\n",
    "                                 'implementation','time','gflops','W_avg', 'J_estimated'])\n",
    "\n",
    "    def create_complete_gpu_csv(gpu_dataframe):\n",
    "        gpu_dataframe[\"mtx_name\"] = gpu_dataframe[\"mtx_name\"].apply(lambda x: x.split(\"/\")[-1].split(\".\")[0])\n",
    "        vm_features = pd.read_csv(\"../Benchmarks/validation_matrices_features.csv\")\n",
    "        mtx_names = list(vm_features[\"matrix\"]) # same as : list(set(inputdata_GPU[\"mtx_name\"]))\n",
    "\n",
    "        inputvaldata_GPU = pd.DataFrame(columns=['mtx_name','distribution','placement','seed',\n",
    "                                                 'm','n','nz','density','A_mem_footprint','mem_range',\n",
    "                                                 'avg_nz_row','std_nz_row',\n",
    "                                                 'avg_bandwidth','std_bandwidth','avg_bandwidth_scaled','std_bandwidth_scaled',\n",
    "                                                 'avg_scattering','std_scattering','avg_scattering_scaled','std_scattering_scaled',\n",
    "                                                 'skew_coeff',\n",
    "                                                 'implementation','time','gflops','W_avg','J_estimated'])\n",
    "        \n",
    "        for mtx_name in mtx_names:\n",
    "            for index, curr in gpu_dataframe[gpu_dataframe[\"mtx_name\"] == mtx_name].iterrows():\n",
    "                mtx_name = mtx_name\n",
    "                distribution = \"unused\"\n",
    "                placement = \"unused\"\n",
    "                seed = curr[\"seed\"]\n",
    "                m = curr[\"m\"]\n",
    "                n = curr[\"n\"]\n",
    "                nz = curr[\"nz\"]\n",
    "                density = nz/(m*n)*100.0\n",
    "                A_mem_footprint = curr[\"A_mem_footprint\"]\n",
    "                mem_range = find_class((nz*(64+32)+32*(m+1))/(8*1024*1024))\n",
    "                avg_nz_row = list(vm_features[vm_features[\"matrix\"]==mtx_name][\"nnz-r-avg\"])[0]\n",
    "                std_nz_row = list(vm_features[vm_features[\"matrix\"]==mtx_name][\"nnz-r-std\"])[0]\n",
    "                avg_bandwidth = list(vm_features[vm_features[\"matrix\"]==mtx_name][\"bw-avg\"])[0]*n\n",
    "                std_bandwidth = list(vm_features[vm_features[\"matrix\"]==mtx_name][\"bw-std\"])[0]*n\n",
    "                avg_bandwidth_scaled = avg_bandwidth/n\n",
    "                std_bandwidth_scaled = std_bandwidth/n\n",
    "                avg_scattering = list(vm_features[vm_features[\"matrix\"]==mtx_name][\"sc-avg\"])[0]\n",
    "                std_scattering = list(vm_features[vm_features[\"matrix\"]==mtx_name][\"sc-std\"])[0]\n",
    "                avg_scattering_scaled = avg_scattering*n\n",
    "                std_scattering_scaled = std_scattering*n\n",
    "                skew_coeff = (list(vm_features[vm_features[\"matrix\"]==mtx_name][\"nnz-r-max\"])[0] - avg_nz_row)/avg_nz_row\n",
    "                implementation = curr[\"implementation\"]\n",
    "                time = curr[\"time\"]\n",
    "                gflops = curr[\"gflops\"]\n",
    "                W_avg = curr[\"W_avg\"]\n",
    "                J_estimated = curr[\"J_estimated\"]\n",
    "                inputvaldata_GPU = inputvaldata_GPU.append({'mtx_name' : mtx_name, 'distribution' : distribution, 'placement' : placement, 'seed' : seed, \n",
    "                                                            'm' : m, 'n' : n, 'nz' : nz, 'density' : density, 'A_mem_footprint' : A_mem_footprint, 'mem_range' : mem_range, \n",
    "                                                            'avg_nz_row' : avg_nz_row, 'std_nz_row' : std_nz_row, \n",
    "                                                            'avg_bandwidth' : avg_bandwidth, 'std_bandwidth' : std_bandwidth, 'avg_bandwidth_scaled' : avg_bandwidth_scaled, 'std_bandwidth_scaled' : std_bandwidth_scaled,\n",
    "                                                            'avg_scattering' : avg_scattering, 'std_scattering' : std_scattering, 'avg_scattering_scaled' : avg_scattering_scaled, 'std_scattering_scaled' : std_scattering_scaled,\n",
    "                                                            'skew_coeff' : skew_coeff,\n",
    "                                                            'implementation' : implementation, 'time' : time, 'gflops' : gflops, 'W_avg' : W_avg, 'J_estimated' : J_estimated},\n",
    "                                                           ignore_index=True)\n",
    "        inputvaldata_GPU['System'] = 'TeslaV100'\n",
    "        inputvaldata_GPU[\"A_mem_footprint\"] = inputvaldata_GPU.apply(lambda x: modify_footprint(x), axis=1)\n",
    "        return inputvaldata_GPU\n",
    "    \n",
    "    gpu_data = create_complete_gpu_csv(gpu_data)\n",
    "    fname2 = \"silver1-TeslaV100_dtype-%s_run_validation_matrices_modified_features.csv\" % dtype\n",
    "    gpu_data.to_csv('../Benchmarks/%s' % fname2, header=False, index=False)\n",
    "    # print(inputvaldata_GPU.head(2))"
   ]
  },
  {
   "cell_type": "markdown",
   "metadata": {},
   "source": [
    "# Read CPU Data (dgal)\n",
    "this is not needed anymore, after dgal parsed results of validation matrices combined with their features"
   ]
  },
  {
   "cell_type": "code",
   "execution_count": 55,
   "metadata": {},
   "outputs": [],
   "source": [
    "# -"
   ]
  },
  {
   "cell_type": "markdown",
   "metadata": {},
   "source": [
    "# Read FPGA Data (pmpakos)"
   ]
  },
  {
   "cell_type": "code",
   "execution_count": 56,
   "metadata": {},
   "outputs": [],
   "source": [
    "    fname = \"results_validation_matrices.csv\"\n",
    "    fpga_data = pd.read_csv('../FPGA_stuff/%s' % fname, names = [\"matrix\",\"nr_rows\",\"nr_cols\",\"nr_nnz\",\"density\",\"mem_footprint\",\"implementation\",\"runtime_iter\",\"gflops\",\"W_avg\",\"J_estimated\"])\n",
    "\n",
    "    def create_complete_fpga_csv(fpga_dataframe):\n",
    "        vm_features = pd.read_csv(\"../Benchmarks/validation_matrices_features.csv\")\n",
    "        mtx_names = list(vm_features[\"matrix\"]) # same as : list(set(inputdata_GPU[\"mtx_name\"]))\n",
    "\n",
    "        inputvaldata_FPGA = pd.DataFrame(columns=['mtx_name','distribution','placement','seed',\n",
    "                                                  'm','n','nz','density','A_mem_footprint','mem_range',\n",
    "                                                  'avg_nz_row','std_nz_row',\n",
    "                                                  'avg_bandwidth','std_bandwidth','avg_bandwidth_scaled','std_bandwidth_scaled',\n",
    "                                                  'avg_scattering','std_scattering','avg_scattering_scaled','std_scattering_scaled',\n",
    "                                                  'skew_coeff',\n",
    "                                                  'implementation','time','gflops','W_avg','J_estimated'])\n",
    "        for mtx_name in mtx_names:\n",
    "            for index, curr in fpga_dataframe[fpga_dataframe[\"matrix\"] == mtx_name].iterrows():\n",
    "                mtx_name = mtx_name\n",
    "                distribution = \"unused\"\n",
    "                placement = \"unused\"\n",
    "                diagonal_factor = 0\n",
    "                seed = 0\n",
    "                m = curr[\"nr_rows\"]\n",
    "                n = curr[\"nr_cols\"]\n",
    "                nz = curr[\"nr_nnz\"]\n",
    "                density = nz/(m*n)*100.0\n",
    "                A_mem_footprint = curr[\"mem_footprint\"]\n",
    "                mem_range = find_class((nz*(64+32)+32*(m+1))/(8*1024*1024))\n",
    "                avg_nz_row = list(vm_features[vm_features[\"matrix\"]==mtx_name][\"nnz-r-avg\"])[0]\n",
    "                std_nz_row = list(vm_features[vm_features[\"matrix\"]==mtx_name][\"nnz-r-std\"])[0]\n",
    "                avg_bandwidth = list(vm_features[vm_features[\"matrix\"]==mtx_name][\"bw-avg\"])[0]*n\n",
    "                std_bandwidth = list(vm_features[vm_features[\"matrix\"]==mtx_name][\"bw-std\"])[0]*n\n",
    "                avg_bandwidth_scaled = avg_bandwidth/n\n",
    "                std_bandwidth_scaled = std_bandwidth/n\n",
    "                avg_scattering = list(vm_features[vm_features[\"matrix\"]==mtx_name][\"sc-avg\"])[0]\n",
    "                std_scattering = list(vm_features[vm_features[\"matrix\"]==mtx_name][\"sc-std\"])[0]\n",
    "                avg_scattering_scaled = avg_scattering*n\n",
    "                std_scattering_scaled = std_scattering*n\n",
    "                skew_coeff = (list(vm_features[vm_features[\"matrix\"]==mtx_name][\"nnz-r-max\"])[0] - avg_nz_row)/avg_nz_row\n",
    "                implementation = curr[\"implementation\"]\n",
    "                time = curr[\"runtime_iter\"]\n",
    "                gflops = curr[\"gflops\"]\n",
    "                W_avg = curr[\"W_avg\"]\n",
    "                J_estimated = curr[\"J_estimated\"]\n",
    "                inputvaldata_FPGA = inputvaldata_FPGA.append({'mtx_name' : mtx_name, 'distribution' : distribution, 'placement' : placement, 'seed' : seed, \n",
    "                                                              'm' : m, 'n' : n, 'nz' : nz, 'density' : density, 'A_mem_footprint' : A_mem_footprint, 'mem_range' : mem_range, \n",
    "                                                              'avg_nz_row' : avg_nz_row, 'std_nz_row' : std_nz_row, \n",
    "                                                              'avg_bandwidth' : avg_bandwidth, 'std_bandwidth' : std_bandwidth, 'avg_bandwidth_scaled' : avg_bandwidth_scaled, 'std_bandwidth_scaled' : std_bandwidth_scaled,\n",
    "                                                              'avg_scattering' : avg_scattering, 'std_scattering' : std_scattering, 'avg_scattering_scaled' : avg_scattering_scaled, 'std_scattering_scaled' : std_scattering_scaled,\n",
    "                                                              'skew_coeff' : skew_coeff,\n",
    "                                                              'implementation' : implementation, 'time' : time, 'gflops' : gflops, 'W_avg' : W_avg, 'J_estimated' : J_estimated},\n",
    "                                                             ignore_index=True)\n",
    "        inputvaldata_FPGA['System'] = 'FPGA'\n",
    "        return inputvaldata_FPGA\n",
    "    \n",
    "    fpga_data = create_complete_fpga_csv(fpga_data)\n",
    "    fname2 = \"xilinx_spmv_validation_matrices_dtype-D.csv\"\n",
    "    fpga_data.to_csv('../Benchmarks/%s' % fname2, header=False, index=False)\n",
    "    # print(fpga_data.head(2))"
   ]
  },
  {
   "cell_type": "markdown",
   "metadata": {},
   "source": [
    "---"
   ]
  },
  {
   "cell_type": "markdown",
   "metadata": {},
   "source": [
    "# Ready to read validation matrices complete dataset!"
   ]
  },
  {
   "cell_type": "code",
   "execution_count": 57,
   "metadata": {},
   "outputs": [],
   "source": [
    "dtypes=['D']\n",
    "\n",
    "for dtype in dtypes:\n",
    "    #Unified read\n",
    "    fname = \"silver1-TeslaV100_dtype-%s_run_validation_matrices_modified_features.csv\" % dtype\n",
    "    inputvaldata_GPU = pd.read_csv('../Benchmarks/%s' % fname, names = header_names,index_col=False)"
   ]
  },
  {
   "cell_type": "code",
   "execution_count": 58,
   "metadata": {},
   "outputs": [],
   "source": [
    "    fname = \"hawk_validation_matrices_t64_d.csv\"\n",
    "    inputvaldata_CPU64 = pd.read_csv('../Benchmarks/%s' % fname, names = header_names,index_col=False)"
   ]
  },
  {
   "cell_type": "code",
   "execution_count": 59,
   "metadata": {},
   "outputs": [],
   "source": [
    "    fname = \"hawk_validation_matrices_t128_d.csv\"\n",
    "    inputvaldata_CPU128 = pd.read_csv('../Benchmarks/%s' % fname, names = header_names,index_col=False)"
   ]
  },
  {
   "cell_type": "code",
   "execution_count": 60,
   "metadata": {},
   "outputs": [],
   "source": [
    "    fname = \"xilinx_spmv_validation_matrices_dtype-%s.csv\" % dtype\n",
    "    inputvaldata_FPGA = pd.read_csv('../Benchmarks/%s' % fname, names = header_names, index_col=False)\n",
    "    # inputvaldata_FPGA = inputvaldata_FPGA[inputvaldata_FPGA[\"gflops\"]>0]"
   ]
  },
  {
   "cell_type": "markdown",
   "metadata": {},
   "source": [
    "# Merge results"
   ]
  },
  {
   "cell_type": "code",
   "execution_count": 74,
   "metadata": {},
   "outputs": [
    {
     "name": "stdout",
     "output_type": "stream",
     "text": [
      "      mtx_name distribution placement  seed        m        n        nz  \\\n",
      "106  circuit5M       unused    unused     0  5558326  5558326  59524291   \n",
      "107  circuit5M       unused    unused     0  5558326  5558326  59524291   \n",
      "108  circuit5M       unused    unused     0  5558326  5558326  59524291   \n",
      "109  circuit5M       unused    unused     0  5558326  5558326  59524291   \n",
      "110  circuit5M       unused    unused     0  5558326  5558326  59524291   \n",
      "111  circuit5M       unused    unused     0  5558326  5558326  59524291   \n",
      "112  circuit5M       unused    unused     0  5558326  5558326  59524291   \n",
      "113  circuit5M       unused    unused     0  5558326  5558326  59524291   \n",
      "114  circuit5M       unused    unused     0  5558326  5558326  59524291   \n",
      "115  circuit5M       unused    unused     0  5558326  5558326  59524291   \n",
      "116  circuit5M       unused    unused     0  5558326  5558326  59524291   \n",
      "\n",
      "      density  A_mem_footprint   mem_range  ...  std_scattering  \\\n",
      "106  0.000193       702.405000  [512-1024]  ...        0.024685   \n",
      "107  0.000193       702.405000  [512-1024]  ...        0.024685   \n",
      "108  0.000193       702.405000  [512-1024]  ...        0.024685   \n",
      "109  0.000193       702.405000  [512-1024]  ...        0.024685   \n",
      "110  0.000193       702.405000  [512-1024]  ...        0.024685   \n",
      "111  0.000193       702.405000  [512-1024]  ...        0.024685   \n",
      "112  0.000193       702.405000  [512-1024]  ...        0.024686   \n",
      "113  0.000193       702.405000  [512-1024]  ...        0.024686   \n",
      "114  0.000193       702.405000  [512-1024]  ...        0.024686   \n",
      "115  0.000193       865.862267  [512-1024]  ...        0.024686   \n",
      "116  0.000193      6179.140000  [512-1024]  ...        0.024686   \n",
      "\n",
      "     avg_scattering_scaled  std_scattering_scaled     skew_coeff  \\\n",
      "106            3090.000000          137000.000000  120505.000000   \n",
      "107            3090.000000          137000.000000  120505.000000   \n",
      "108            3090.000000          137000.000000  120505.000000   \n",
      "109            3090.000000          137000.000000  120505.000000   \n",
      "110            3090.000000          137000.000000  120505.000000   \n",
      "111            3090.000000          137000.000000  120505.000000   \n",
      "112            3087.428069          137210.281196  120504.849642   \n",
      "113            3087.428069          137210.281196  120504.849642   \n",
      "114            3087.428069          137210.281196  120504.849642   \n",
      "115            3087.428069          137210.281196  120504.849642   \n",
      "116            3087.428069          137210.281196  120504.849642   \n",
      "\n",
      "        implementation       System       time    gflops     W_avg  \\\n",
      "106           CSR5_CPU  HawkAmdRome  32.545100   3.65796    0.0000   \n",
      "107  Custom_CSR_BV_CPU  HawkAmdRome   0.940585  16.20080    0.0000   \n",
      "108   Custom_CSR_B_CPU  HawkAmdRome   1.150780  13.24160    0.0000   \n",
      "109             MKL_IE  HawkAmdRome   2.066600   7.37358    0.0000   \n",
      "110    MKL_IE_Optimize  HawkAmdRome   0.686436  22.19900    0.0000   \n",
      "111      Naive_CSR_CPU  HawkAmdRome   2.373830   6.41924    0.0000   \n",
      "112     cuSPARSE_coo11    TeslaV100   0.001600  74.42292  198.6098   \n",
      "113     cuSPARSE_csr11    TeslaV100   0.007963  14.95020  102.0082   \n",
      "114    cuSPARSE_hyb9-2    TeslaV100   0.003603  33.04604  137.0730   \n",
      "115             CSR5_9    TeslaV100   0.001568  75.90546  177.2384   \n",
      "116        Xilinx_SpMV         FPGA   0.000000   0.00000   33.0000   \n",
      "\n",
      "     J_estimated  \n",
      "106     0.000000  \n",
      "107     0.000000  \n",
      "108     0.000000  \n",
      "109     0.000000  \n",
      "110     0.000000  \n",
      "111     0.000000  \n",
      "112     0.316524  \n",
      "113     0.809238  \n",
      "114     0.491886  \n",
      "115     0.276619  \n",
      "116     0.000000  \n",
      "\n",
      "[11 rows x 27 columns]\n"
     ]
    }
   ],
   "source": [
    "    # Merge the results\n",
    "    inputvaldata = pd.concat([inputvaldata_GPU,inputvaldata_CPU128, inputvaldata_FPGA]) # Group per reps, take mean\n",
    "    \n",
    "    # header_names without 'time','gflops','W_avg','J_estimated'\n",
    "    groupvalreps = inputvaldata.groupby( ['mtx_name','distribution','placement','seed',\n",
    "                                          'm','n','nz','density','A_mem_footprint','mem_range',\n",
    "                                          'avg_nz_row','std_nz_row',\n",
    "                                          'avg_bandwidth','std_bandwidth','avg_bandwidth_scaled','std_bandwidth_scaled',\n",
    "                                          'avg_scattering','std_scattering','avg_scattering_scaled','std_scattering_scaled',\n",
    "                                          'skew_coeff',\n",
    "                                          'implementation','System'] ).mean().reset_index()\n",
    "    print(groupvalreps[groupvalreps[\"mtx_name\"]==\"circuit5M\"])\n",
    "    # print(groupvalreps_select_sorted[groupvalreps_select_sorted[\"mtx_name\"]==\"circuit5M\"])"
   ]
  },
  {
   "cell_type": "code",
   "execution_count": 62,
   "metadata": {},
   "outputs": [],
   "source": [
    "    # Group per system, take best\n",
    "    # header_names without 'time','gflops','W_avg','J_estimated', 'implementation'\n",
    "#     groupval_system = groupvalreps.groupby(['mtx_name','distribution','placement','seed',\n",
    "#                                             'm','n','nz','density','A_mem_footprint','mem_range',\n",
    "#                                             'avg_nz_row','std_nz_row',\n",
    "#                                             'avg_bandwidth','std_bandwidth','avg_bandwidth_scaled','std_bandwidth_scaled',\n",
    "#                                             'avg_scattering','std_scattering','avg_scattering_scaled','std_scattering_scaled',\n",
    "#                                             'skew_coeff',\n",
    "#                                             'System'], as_index = False)\n",
    "    groupval_system = groupvalreps.groupby(['mtx_name','distribution','placement','seed',\n",
    "                                            'm','n','nz','density','mem_range',\n",
    "                                            'avg_nz_row','std_nz_row',\n",
    "                                            'avg_bandwidth','std_bandwidth','avg_bandwidth_scaled','std_bandwidth_scaled',\n",
    "                                            'avg_scattering','std_scattering','avg_scattering_scaled','std_scattering_scaled',\n",
    "                                            'skew_coeff',\n",
    "                                            'System'], as_index = False)\n",
    "\n",
    "    reslist = []\n",
    "    header_names2 = ['mtx_name','distribution','placement','seed',\n",
    "                     'm','n','nz','density','A_mem_footprint','mem_range',\n",
    "                     'avg_nz_row','std_nz_row',\n",
    "                     'avg_bandwidth','std_bandwidth','avg_bandwidth_scaled','std_bandwidth_scaled',\n",
    "                     'avg_scattering','std_scattering','avg_scattering_scaled','std_scattering_scaled',\n",
    "                     'skew_coeff',\n",
    "                     'implementation','System', 'time','gflops','W_avg','J_estimated']\n",
    "    \n",
    "    for desc, experiment in groupval_system:\n",
    "        best_format = experiment['implementation'].iloc[experiment['gflops'].argmax()]\n",
    "        outrow = experiment[experiment['implementation'] == best_format]\n",
    "        reslist.append(outrow.values.tolist()[0])\n",
    "    group_val_system_best = pd.DataFrame(reslist, columns = header_names2)\n",
    "    # print(group_val_system_best[group_val_system_best[\"mtx_name\"]==\"Chebyshev4\"])"
   ]
  },
  {
   "cell_type": "markdown",
   "metadata": {},
   "source": [
    "<!-- # some indicative plots -->\n",
    "# GPU"
   ]
  },
  {
   "cell_type": "code",
   "execution_count": 76,
   "metadata": {},
   "outputs": [],
   "source": [
    "    # Plot TeslaV100 only\n",
    "    plot_x_axis = 'mtx_name'\n",
    "    plot_y_axis = 'gflops'\n",
    "    plot_id = 'Validation-GPU'\n",
    "    \n",
    "    select_criterion = ( group_val_system_best['System'] == 'TeslaV100')\n",
    "    select_str = 'Validation TeslaV100, 0.8v_nz < synth_nz < 1.2v_nz\\n0.8v_m < synth_m < 1.2v_m'\n",
    "    groupvalreps_select_best = group_val_system_best[select_criterion]\n",
    "\n",
    "    # groupvalreps_select_sorted = groupvalreps_select_best.sort_values('gflops')\n",
    "    groupvalreps_select_sorted = groupvalreps_select_best.sort_values('A_mem_footprint')\n",
    "    \n",
    "    fig, axs = plt.subplots()\n",
    "    fig.subplots_adjust(left=.1, bottom=.32, right=.99, top=.88)\n",
    "    plt.xticks(rotation=90)\n",
    "    \n",
    "    group_system_best_part = group_system_best[group_system_best['System'] == 'TeslaV100']\n",
    "    \n",
    "    df_empty = True    \n",
    "    for index, row in groupvalreps_select_sorted.iterrows():\n",
    "        pd.options.mode.chained_assignment = None  # default='warn'\n",
    "        similar_synthetic = group_system_best_part[True \\\n",
    "                                                  & (group_system_best_part['nz'] <= row['nz']*1.2) \\\n",
    "                                                  & (group_system_best_part['nz'] >= row['nz']*0.8) \\\n",
    "                                                  & (group_system_best_part['m'] <= row['m']*1.2) \\\n",
    "                                                  & (group_system_best_part['m'] >= row['m']*0.8) \\\n",
    "                                                  #& (group_system_best_part['std_nz_row'] < row['std_nz_row']*5) \\ \n",
    "                                                  #& (group_system_best_part['std_nz_row'] > row['std_nz_row']*0.2) \\\n",
    "                                                  #& (group_system_best_part['avg_bandwidth'] < row['avg_bandwidth']*2) \\\n",
    "                                                  #& (group_system_best_part['avg_bandwidth'] > row['avg_bandwidth']*0.5) \\\n",
    "                                                  #& (group_system_best_part['std_bandwidth'] < row['std_bandwidth']*1.2) \\\n",
    "                                                  #& (group_system_best_part['std_bandwidth'] > row['std_bandwidth']*0.8) \\\n",
    "                                                  #& (group_system_best_part['avg_scattering'] < row['avg_scattering']*1.2) \\\n",
    "                                                  #& (group_system_best_part['avg_scattering'] > row['avg_scattering']*0.8) \\\n",
    "                                                  #& (group_system_best_part['std_scattering'] < row['std_scattering']*1.2) \\\n",
    "                                                  #& (group_system_best_part['std_scattering'] > row['std_scattering']*0.8) \\\n",
    "                                                 ]\n",
    "        # similar_synthetic['mtx_name'] = row['mtx_name']\n",
    "        # in parentheses we see how many \"similar\" matrices are found for each validation matrix\n",
    "        # similar_synthetic['mtx_name'] = \"\".join([row['mtx_name'],\" (\",str(similar_synthetic.shape[0]), \")\"])\n",
    "        similar_synthetic['mtx_name'] = \"\".join([row['mtx_name'],\" (\",str(round(row['A_mem_footprint'],1)), \" - \",str(similar_synthetic.shape[0]), \")\"])\n",
    "        \n",
    "        if similar_synthetic.empty:\n",
    "            similar_synthetic = pd.DataFrame([[row['mtx_name'],0,0,0,0,0,0,0,0,0,0,0,0,0,0,0,0,0,0,0,0,0,0,0,0]], columns = group_system_best_part.columns)\n",
    "        if df_empty:\n",
    "            synthetic_neighbors = similar_synthetic\n",
    "            df_empty = False\n",
    "        else:\n",
    "            synthetic_neighbors = pd.concat([synthetic_neighbors, similar_synthetic])\n",
    "\n",
    "    sns_plot = sns.boxplot(data=synthetic_neighbors, x='mtx_name', y=plot_y_axis, ax=axs)\n",
    "    sns_plot = sns.scatterplot(data=groupvalreps_select_sorted, x=plot_x_axis, y=plot_y_axis, ax=axs)\n",
    "    \n",
    "    axs.set_title('Dataset %s' %(select_str))\n",
    "    select_str_id = select_str.replace('=', 'eq').replace('<', 'l').replace('>', 'g').replace(', ', '_').replace(',', '_').replace('\\n', '_').replace(' ', '-')\n",
    "    fig.savefig('./Plot_tries/%s_Select-%s_x-%s_y-%s.pdf' % (plot_id, select_str_id, plot_x_axis, plot_y_axis))\n",
    "    plt.close()"
   ]
  },
  {
   "cell_type": "markdown",
   "metadata": {},
   "source": [
    "# CPU"
   ]
  },
  {
   "cell_type": "code",
   "execution_count": 86,
   "metadata": {},
   "outputs": [],
   "source": [
    "    # Plot HawkAmdRome only\n",
    "    plot_x_axis = 'mtx_name'\n",
    "    plot_y_axis = 'gflops'\n",
    "    plot_id = 'Validation-CPU'\n",
    "    \n",
    "    select_criterion = ( group_val_system_best['System'] == 'HawkAmdRome')\n",
    "    select_str = 'Validation HawkAmdRome, 0.8v_nz < synth_nz < 1.2v_nz\\n0.8v_m < synth_m < 1.2v_m'\n",
    "    groupvalreps_select_best = group_val_system_best[select_criterion]\n",
    "\n",
    "    groupvalreps_select_sorted = groupvalreps_select_best.sort_values('gflops')\n",
    "    # groupvalreps_select_sorted = groupvalreps_select_best.sort_values('A_mem_footprint')\n",
    "    # groupvalreps_select_sorted = groupvalreps_select_best.sort_values('avg_bandwidth')\n",
    "    \n",
    "    fig, axs = plt.subplots()\n",
    "    fig.subplots_adjust(left=.1, bottom=.32, right=.99, top=.88)\n",
    "    plt.xticks(rotation=90)\n",
    "    \n",
    "    group_system_best_part = group_system_best[group_system_best['System'] == 'HawkAmdRome']\n",
    "    \n",
    "    df_empty = True    \n",
    "    for index, row in groupvalreps_select_sorted.iterrows():\n",
    "        #print(row)\n",
    "        pd.options.mode.chained_assignment = None  # default='warn'\n",
    "        similar_synthetic = group_system_best_part[True \\\n",
    "                                                  & (group_system_best_part['nz'] <= row['nz']*1.2) \\\n",
    "                                                  & (group_system_best_part['nz'] >= row['nz']*0.8) \\\n",
    "                                                  & (group_system_best_part['m'] <= row['m']*1.2) \\\n",
    "                                                  & (group_system_best_part['m'] >= row['m']*0.8) \\\n",
    "                                                  #& (group_system_best_part['std_nz_row'] < row['std_nz_row']*5) \\ \n",
    "                                                  #& (group_system_best_part['std_nz_row'] > row['std_nz_row']*0.2) \\\n",
    "                                                  #& (group_system_best_part['avg_bandwidth'] < row['avg_bandwidth']*2) \\\n",
    "                                                  #& (group_system_best_part['avg_bandwidth'] > row['avg_bandwidth']*0.5) \\\n",
    "                                                  #& (group_system_best_part['std_bandwidth'] < row['std_bandwidth']*1.2) \\\n",
    "                                                  #& (group_system_best_part['std_bandwidth'] > row['std_bandwidth']*0.8) \\\n",
    "                                                  #& (group_system_best_part['avg_scattering'] < row['avg_scattering']*1.2) \\\n",
    "                                                  #& (group_system_best_part['avg_scattering'] > row['avg_scattering']*0.8) \\\n",
    "                                                  #& (group_system_best_part['std_scattering'] < row['std_scattering']*1.2) \\\n",
    "                                                  #& (group_system_best_part['std_scattering'] > row['std_scattering']*0.8) \\\n",
    "                                                 ]\n",
    "        # similar_synthetic['mtx_name'] = row['mtx_name']\n",
    "        # similar_synthetic['mtx_name'] = \"\".join([row['mtx_name'],\" (\",str(similar_synthetic.shape[0]), \")\"])\n",
    "        similar_synthetic['mtx_name'] = \"\".join([row['mtx_name'],\" (\",str(round(row['A_mem_footprint'],1)), \" - \",str(similar_synthetic.shape[0]), \")\"])\n",
    "        \n",
    "        if similar_synthetic.empty:\n",
    "            #print(row['mtx_name'])\n",
    "            similar_synthetic = pd.DataFrame([[row['mtx_name'],0,0,0,0,0,0,0,0,0,0,0,0,0,0,0,0,0,0,0,0,0,0,0,0,0,0,0]], columns = group_system_best_part.columns)\n",
    "        if df_empty:\n",
    "            synthetic_neighbors = similar_synthetic\n",
    "            df_empty = False\n",
    "        else:\n",
    "            synthetic_neighbors = pd.concat([synthetic_neighbors, similar_synthetic])\n",
    "\n",
    "    sns_plot = sns.boxplot(data=synthetic_neighbors, x='mtx_name', y=plot_y_axis, ax=axs)\n",
    "    sns_plot = sns.scatterplot(data=groupvalreps_select_sorted, x=plot_x_axis, y=plot_y_axis, ax=axs)\n",
    "    \n",
    "    axs.set_title('Dataset %s' %(select_str))\n",
    "    select_str_id = select_str.replace('=', 'eq').replace('<', 'l').replace('>', 'g').replace(', ', '_').replace(',', '_').replace('\\n', '_').replace(' ', '-')\n",
    "    fig.savefig('./Plot_tries/%s_Select-%s_x-%s_y-%s.pdf' % (plot_id, select_str_id, plot_x_axis, plot_y_axis))\n",
    "    plt.close()"
   ]
  },
  {
   "cell_type": "markdown",
   "metadata": {},
   "source": [
    "# FPGA"
   ]
  },
  {
   "cell_type": "code",
   "execution_count": 75,
   "metadata": {},
   "outputs": [],
   "source": [
    "    # Plot FPGA only\n",
    "    plot_x_axis = 'mtx_name'\n",
    "    plot_y_axis = 'gflops'\n",
    "    plot_id = 'Validation-FPGA'\n",
    "    \n",
    "    select_criterion = ( group_val_system_best['System'] == 'FPGA')\n",
    "    select_str = 'Validation FPGA, 0.8v_nz < synth_nz < 1.2v_nz\\n0.8v_m < synth_m < 1.2v_m'\n",
    "    groupvalreps_select_best = group_val_system_best[select_criterion]\n",
    "\n",
    "    groupvalreps_select_sorted = groupvalreps_select_best.sort_values('gflops')\n",
    "    # groupvalreps_select_sorted = groupvalreps_select_best.sort_values('A_mem_footprint')\n",
    "    \n",
    "    fig, axs = plt.subplots()\n",
    "    fig.subplots_adjust(left=.1, bottom=.32, right=.99, top=.88)\n",
    "    plt.xticks(rotation=90)\n",
    "    \n",
    "    group_system_best_part = group_system_best[group_system_best['System'] == 'FPGA']\n",
    "    \n",
    "    df_empty = True    \n",
    "    for index, row in groupvalreps_select_sorted.iterrows():\n",
    "        #print(row)\n",
    "        pd.options.mode.chained_assignment = None  # default='warn'\n",
    "        similar_synthetic = group_system_best_part[True \\\n",
    "                                                  & (group_system_best_part['nz'] <= row['nz']*1.2) \\\n",
    "                                                  & (group_system_best_part['nz'] >= row['nz']*0.8) \\\n",
    "                                                  & (group_system_best_part['m'] <= row['m']*1.2) \\\n",
    "                                                  & (group_system_best_part['m'] >= row['m']*0.8) \\\n",
    "                                                  #& (group_system_best_part['A_mem_footprint'] < row['A_mem_footprint']*1.2) \\\n",
    "                                                  #& (group_system_best_part['A_mem_footprint'] > row['A_mem_footprint']*0.8) \\\n",
    "                                                  #& (group_system_best_part['std_nz_row'] < row['std_nz_row']*5) \\\n",
    "                                                  #& (group_system_best_part['std_nz_row'] > row['std_nz_row']*0.2) \\\n",
    "                                                  #& (group_system_best_part['avg_bandwidth'] <= row['avg_bandwidth']*1.2) \\\n",
    "                                                  #& (group_system_best_part['avg_bandwidth'] >= row['avg_bandwidth']*0.8) \\\n",
    "                                                  #& (group_system_best_part['avg_bandwidth_scaled'] <= row['avg_bandwidth_scaled']*1.2) \\\n",
    "                                                  #& (group_system_best_part['avg_bandwidth_scaled'] >= row['avg_bandwidth_scaled']*0.8) \\\n",
    "                                                  #& (group_system_best_part['std_bandwidth'] < row['std_bandwidth']*1.2) \\\n",
    "                                                  #& (group_system_best_part['std_bandwidth'] > row['std_bandwidth']*0.8) \\\n",
    "                                                  #& (group_system_best_part['avg_scattering'] < row['avg_scattering']*1.2) \\\n",
    "                                                  #& (group_system_best_part['avg_scattering'] > row['avg_scattering']*0.8) \\\n",
    "                                                  #& (group_system_best_part['std_scattering'] < row['std_scattering']*1.2) \\\n",
    "                                                  #& (group_system_best_part['std_scattering'] > row['std_scattering']*0.8) \\\n",
    "                                                 ]\n",
    "        # similar_synthetic['mtx_name'] = row['mtx_name']\n",
    "        # similar_synthetic['mtx_name'] = \"\".join([row['mtx_name'],\" (\",str(similar_synthetic.shape[0]), \")\"])\n",
    "        similar_synthetic['mtx_name'] = \"\".join([row['mtx_name'],\" (\",str(round(row['A_mem_footprint'],1)), \" - \",str(similar_synthetic.shape[0]), \")\"])\n",
    "        \n",
    "        if similar_synthetic.empty:\n",
    "            #print(row['mtx_name'])\n",
    "            similar_synthetic = pd.DataFrame([[row['mtx_name'],0,0,0,0,0,0,0,0,0,0,0,0,0,0,0,0,0,0,0,0,0,0,0,0,0,0,0]], columns = group_system_best_part.columns)\n",
    "        if df_empty:\n",
    "            synthetic_neighbors = similar_synthetic\n",
    "            df_empty = False\n",
    "        else:\n",
    "            synthetic_neighbors = pd.concat([synthetic_neighbors, similar_synthetic])\n",
    "    \n",
    "    sns_plot = sns.boxplot(data=synthetic_neighbors, x='mtx_name', y=plot_y_axis, ax=axs)\n",
    "    sns_plot = sns.scatterplot(data=groupvalreps_select_sorted, x=plot_x_axis, y=plot_y_axis, ax=axs)\n",
    "    \n",
    "    axs.set_title('Dataset %s' %(select_str))\n",
    "    select_str_id = select_str.replace('=', 'eq').replace('<', 'l').replace('>', 'g').replace(', ', '_').replace(',', '_').replace('\\n', '_').replace(' ', '-')\n",
    "    fig.savefig('./Plot_tries/%s_Select-%s_x-%s_y-%s.pdf' % (plot_id, select_str_id, plot_x_axis, plot_y_axis))\n",
    "    plt.close()"
   ]
  },
  {
   "cell_type": "markdown",
   "metadata": {},
   "source": [
    "---"
   ]
  },
  {
   "cell_type": "code",
   "execution_count": null,
   "metadata": {},
   "outputs": [],
   "source": []
  },
  {
   "cell_type": "code",
   "execution_count": null,
   "metadata": {},
   "outputs": [],
   "source": []
  },
  {
   "cell_type": "code",
   "execution_count": null,
   "metadata": {},
   "outputs": [],
   "source": []
  },
  {
   "cell_type": "code",
   "execution_count": null,
   "metadata": {},
   "outputs": [],
   "source": []
  }
 ],
 "metadata": {
  "kernelspec": {
   "display_name": "Python 3",
   "language": "python",
   "name": "python3"
  },
  "language_info": {
   "codemirror_mode": {
    "name": "ipython",
    "version": 3
   },
   "file_extension": ".py",
   "mimetype": "text/x-python",
   "name": "python",
   "nbconvert_exporter": "python",
   "pygments_lexer": "ipython3",
   "version": "3.6.9"
  }
 },
 "nbformat": 4,
 "nbformat_minor": 4
}
