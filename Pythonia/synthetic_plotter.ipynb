{
 "cells": [
  {
   "cell_type": "code",
   "execution_count": 1,
   "metadata": {},
   "outputs": [
    {
     "data": {
      "text/html": [
       "<svg  width=\"330\" height=\"55\"><rect x=\"0\" y=\"0\" width=\"55\" height=\"55\" style=\"fill:#d96baf;stroke-width:2;stroke:rgb(255,255,255)\"/><rect x=\"55\" y=\"0\" width=\"55\" height=\"55\" style=\"fill:#e15246;stroke-width:2;stroke:rgb(255,255,255)\"/><rect x=\"110\" y=\"0\" width=\"55\" height=\"55\" style=\"fill:#f8bc87;stroke-width:2;stroke:rgb(255,255,255)\"/><rect x=\"165\" y=\"0\" width=\"55\" height=\"55\" style=\"fill:#f2de30;stroke-width:2;stroke:rgb(255,255,255)\"/><rect x=\"220\" y=\"0\" width=\"55\" height=\"55\" style=\"fill:#9cce89;stroke-width:2;stroke:rgb(255,255,255)\"/><rect x=\"275\" y=\"0\" width=\"55\" height=\"55\" style=\"fill:#4486a0;stroke-width:2;stroke:rgb(255,255,255)\"/></svg>"
      ],
      "text/plain": [
       "[(0.8505882352941176, 0.41999999999999993, 0.684705882352941),\n",
       " (0.8807358708189157, 0.32277047289504046, 0.2744659746251443),\n",
       " (0.9727323, 0.7353159, 0.5297757000000002),\n",
       " (0.9507824, 0.8724004999999999, 0.18640159999999995),\n",
       " (0.6120315263360248, 0.8081330257593234, 0.5357962322183777),\n",
       " (0.2649160579264386, 0.5270152505446624, 0.6269460463924131)]"
      ]
     },
     "execution_count": 1,
     "metadata": {},
     "output_type": "execute_result"
    }
   ],
   "source": [
    "%config Completer.use_jedi = False\n",
    "import pandas as pd\n",
    "pd.options.mode.chained_assignment = None  # default='warn'\n",
    "from pandas.api.types import CategoricalDtype\n",
    "import math\n",
    "import matplotlib as mpl\n",
    "#mpl.use('pdf')\n",
    "import matplotlib.pyplot as plt\n",
    "import matplotlib.font_manager\n",
    "import numpy as np\n",
    "from collections import OrderedDict\n",
    "import matplotlib\n",
    "import seaborn as sns\n",
    "from pylab import cm\n",
    "\n",
    "#Red\n",
    "red1= sns.color_palette(\"Reds_d\",1)\n",
    "red2= sns.color_palette(\"Reds_d\",2)\n",
    "red3= sns.color_palette(\"Reds_d\",3)\n",
    "red4= sns.color_palette(\"Reds_d\",4)\n",
    "red5= sns.color_palette(\"Reds_d\",5)\n",
    "red6= sns.color_palette(\"Reds_d\",6)\n",
    "red7= sns.color_palette(\"Reds_d\",7)\n",
    "red8= sns.color_palette(\"Reds_d\",8)\n",
    "\n",
    "#YellowGreen\n",
    "yg1= sns.color_palette(\"YlGn_d\",1)\n",
    "yg2= sns.color_palette(\"YlGn_d\",2)\n",
    "yg3= sns.color_palette(\"YlGn_d\",3)\n",
    "yg4= sns.color_palette(\"YlGn_d\",4)\n",
    "yg5= sns.color_palette(\"YlGn_d\",5)\n",
    "yg7= sns.color_palette(\"YlGn_d\",7)\n",
    "\n",
    "#GreenBlue\n",
    "gb1= sns.color_palette(\"GnBu_d\",1)\n",
    "gb2= sns.color_palette(\"GnBu_d\",2)\n",
    "gb3= sns.color_palette(\"GnBu_d\",3)\n",
    "gb4= sns.color_palette(\"GnBu_d\",4)\n",
    "gb5= sns.color_palette(\"GnBu_d\",5)\n",
    "gb6= sns.color_palette(\"GnBu_d\",6)\n",
    "gb7= sns.color_palette(\"GnBu_d\",7)\n",
    "gb8= sns.color_palette(\"GnBu_d\",8)\n",
    "\n",
    "cp2 = list(map(lambda x: sns.desaturate(x,0.9),[red7[2],gb7[4]]))\n",
    "cp2v1 = list(map(lambda x: sns.desaturate(x,0.9),[red7[2],yg7[0]]))\n",
    "cp3 = list(map(lambda x: sns.desaturate(x,0.9),[yg7[0],gb7[4],red7[2]]))\n",
    "#cp4 = list(map(lambda x: sns.desaturate(x,0.9),red1+gb2+yg1))\n",
    "cp2_2 = list(map(lambda x: sns.desaturate(x,0.9),[red7[0],red7[3],gb7[4],gb7[6]]))\n",
    "cp_total_spectrum = list(map(lambda x: sns.desaturate(x,0.9),gb7 + yg7 + red7))\n",
    "\n",
    "sns.set_palette(cp2)\n",
    "sns.color_palette()\n",
    "\n",
    "sns.set_palette(cp2v1)\n",
    "sns.color_palette()\n",
    "\n",
    "sns.set_palette(cp3)\n",
    "sns.color_palette()\n",
    "\n",
    "cpbasic = list(map(lambda x: sns.desaturate(x,0.9),['g','r','b','orange','grey']))\n",
    "sns.set_palette(cpbasic)\n",
    "sns.color_palette()\n",
    "\n",
    "sns.set_palette(\"Dark2\", 7)\n",
    "sns.color_palette()\n",
    "\n",
    "colors = cm.get_cmap('PuRd',  5)\n",
    "viridis = cm.get_cmap('viridis',  4)\n",
    "magma = cm.get_cmap('magma',  8)\n",
    "cp6 = list(map(lambda x: sns.desaturate(x,0.9),[colors(2), red7[2], magma(6),  viridis(3), yg7[0], gb7[4]]))\n",
    "\n",
    "sns.set_palette(cp6)\n",
    "sns.color_palette()"
   ]
  },
  {
   "cell_type": "code",
   "execution_count": 2,
   "metadata": {},
   "outputs": [],
   "source": [
    "font=7\n",
    "plt.rc('font', family='serif', serif='Times', size=font)\n",
    "#plt.rc('text', usetex=True)  \n",
    "plt.rc('xtick', labelsize=font)\n",
    "plt.rc('ytick', labelsize=font)\n",
    "plt.rc('legend', fontsize=font)\n",
    "plt.rc('axes', labelsize=font)\n",
    "# plt.rcParams.update({'axes.titlesize': font})\n",
    "# plt.rcParams[\"figure.autolayout\"] = True"
   ]
  },
  {
   "cell_type": "code",
   "execution_count": 47,
   "metadata": {
    "scrolled": false
   },
   "outputs": [],
   "source": [
    "# \"dodge\" argument explained here -> https://stackoverflow.com/questions/49078697/seaborn-boxplots-shifted-incorrectly-along-x-axis \n",
    "def harry_plotter(type, plot_df, plot_x_axis_list, plot_y_axis_list, select_str, plot_id, \n",
    "                      rotation = 30, adj_left = .1, adj_bottom = .2, adj_right = .99, adj_top = .88, no_sort=False, hue_hue = 'None', hue_hue_order = [], dodge=True, no_legend=False, no_title=True):\n",
    "    for plot_x_itter in plot_x_axis_list:\n",
    "        if no_sort:\n",
    "            plot_df_sorted = plot_df\n",
    "        else:\n",
    "            dataTypeX = plot_df[plot_x_itter].dtype\n",
    "            if dataTypeX == np.float64 or dataTypeX == np.int64 or dataTypeX == float or dataTypeX == int:\n",
    "                plot_df_sorted = plot_df.sort_values(plot_x_itter)\n",
    "            elif plot_x_itter == 'mem_range':\n",
    "                plot_df_sorted = plot_df\n",
    "#                 if(\"FPGA\" in plot_id):\n",
    "                cat_mem_range = CategoricalDtype([\"[4-8]\", \"[8-16]\", \"[16-32]\", \"[32-64]\", \"[64-128]\", \"[128-256]\", \"[256-512]\", \"[512-1024]\", \"[1024-2048]\"], ordered=True)\n",
    "                pd.options.mode.chained_assignment = None # https://stackoverflow.com/a/49729413\n",
    "                plot_df_sorted[\"mem_range\"] = plot_df_sorted[\"mem_range\"].astype(cat_mem_range)\n",
    "                plot_df_sorted = plot_df_sorted.sort_values('mem_range')                \n",
    "#                 else:\n",
    "#                     plot_df_sorted = plot_df_sorted.sort_values('A_mem_footprint')\n",
    "            else:\n",
    "                plot_df_sorted = plot_df\n",
    "                if plot_x_itter == 'impl_arch':\n",
    "                    cat_it = CategoricalDtype(ranges_impl_arch, ordered=True)\n",
    "                    plot_df_sorted[plot_x_itter] = plot_df_sorted[plot_x_itter].astype(cat_it)\n",
    "                    plot_df_sorted = plot_df_sorted.sort_values(plot_x_itter)\n",
    "                elif plot_x_itter == 'System':\n",
    "                    cat_it = CategoricalDtype(ranges_dev, ordered=True)\n",
    "                    plot_df_sorted[plot_x_itter] = plot_df_sorted[plot_x_itter].astype(cat_it)\n",
    "                    plot_df_sorted = plot_df_sorted.sort_values(plot_x_itter)\n",
    "                else:\n",
    "                    print(\"Warning: X not sorted: dtype = %s\" % (dataTypeX))\n",
    "        for plot_y_itter in plot_y_axis_list:\n",
    "            fig, axs = plt.subplots()\n",
    "            if hue_hue == 'None':\n",
    "                if(type == 'violin'):\n",
    "                    sns_plot = sns.violiplot(linewidth=0.6, width=0.4, data=plot_df_sorted, x=plot_x_itter, y=plot_y_itter, ax=axs, dodge=dodge)\n",
    "                elif(type == 'scatter'):\n",
    "                    sns_plot = sns.scatterplot(data=plot_df_sorted, x=plot_x_itter, y=plot_y_itter, ax=axs)\n",
    "                elif(type == 'box'):\n",
    "                    sns_plot = sns.boxplot(fliersize = 0.3, linewidth=0.6, width=0.4, data=plot_df_sorted, x=plot_x_itter, y=plot_y_itter, ax=axs, dodge=dodge)\n",
    "            else:\n",
    "                if(hue_hue_order != []):\n",
    "                    if(type == 'violin'):\n",
    "                        sns_plot = sns.violinplot(linewidth=0.6, width=0.4, data=plot_df_sorted, x=plot_x_itter, y=plot_y_itter, hue=hue_hue, hue_order=hue_hue_order, ax=axs, dodge=dodge)\n",
    "                    elif(type == 'scatter'):\n",
    "                        sns_plot = sns.scatterplot(data=plot_df_sorted, x=plot_x_itter, y=plot_y_itter, hue=hue_hue, hue_order=hue_hue_order, ax=axs)\n",
    "                    elif(type == 'box'):\n",
    "                        sns_plot = sns.boxplot(fliersize = 0.3, linewidth=0.6, width=0.4, data=plot_df_sorted, x=plot_x_itter, y=plot_y_itter, hue=hue_hue, hue_order=hue_hue_order, ax=axs, dodge=dodge)\n",
    "                else:\n",
    "                    if(type == 'violin'):\n",
    "                        sns_plot = sns.violinplot(linewidth=0.6, width=0.4, data=plot_df_sorted, x=plot_x_itter, y=plot_y_itter, hue=hue_hue, ax=axs, dodge=dodge)\n",
    "                    elif(type == 'scatter'):\n",
    "                        sns_plot = sns.scatterplot(data=plot_df_sorted, x=plot_x_itter, y=plot_y_itter, hue=hue_hue, ax=axs)\n",
    "                    elif(type == 'box'):\n",
    "                        sns_plot = sns.boxplot(fliersize = 0.3, linewidth=0.6, width=0.4, data=plot_df_sorted, x=plot_x_itter, y=plot_y_itter, hue=hue_hue, ax=axs, dodge=dodge)\n",
    "                    \n",
    "            if(hue_hue_order != []):               \n",
    "                # reordering the labels\n",
    "                handles, labels = plt.gca().get_legend_handles_labels()\n",
    "                order = [labels.index(i) for i in hue_hue_order]\n",
    "                plt.legend([handles[i] for i in order], [labels[i] for i in order], \n",
    "                           title = hue_hue.replace(\"_categ\",\"\"), fancybox=True)\n",
    "\n",
    "            if(no_legend==True):\n",
    "                axs.get_legend().remove()\n",
    "            else:\n",
    "                #remove title from Legend\n",
    "                handles, labels = axs.get_legend_handles_labels()\n",
    "                axs.legend(handles=handles[0:], labels=labels[0:])\n",
    "\n",
    "            if(plot_x_itter == 'impl_arch'):\n",
    "                labels = [item.get_text().split(\"\\n\")[1] for item in axs.get_xticklabels()]\n",
    "                axs.set_xticklabels(labels)\n",
    "                axs.set_xlabel(\"Implementation\")\n",
    "                if(plot_y_itter == 'energy_efficiency'):\n",
    "                    # axs.set_ylabel(\"Energy Efficiency (GFLOPs/W)\")\n",
    "                    axs.set_ylabel(\"Gflops/W\")\n",
    "                elif(plot_y_itter == 'gflops'):\n",
    "                    # axs.set_ylabel(\"Performance (GFLOPs)\")\n",
    "                    axs.set_ylabel(\"Gflops/s\")\n",
    "            elif(plot_x_itter == 'System'):\n",
    "                # no need to have legend, already in xticks\n",
    "                axs.get_legend().remove()\n",
    "                \n",
    "            if(no_title==False):\n",
    "                # axs.set_title('Select: %s' %(select_str))\n",
    "                axs.set_title('%s' %(select_str))\n",
    "\n",
    "            fig.subplots_adjust(left=adj_left, bottom=adj_bottom, right=adj_right, top=adj_top)\n",
    "            plt.xticks(rotation=90)#rotation)\n",
    "            select_str_id = select_str.replace('=', 'eq').replace('<', 'l').replace('>', 'g').replace(', ', '_').replace(',', '_').replace('\\n', '_').replace(' ', '-')\n",
    "            fig.savefig('./Plot_tries/%s_Select-%s_x-%s_y-%s.pdf' % (plot_id, select_str_id, plot_x_itter, plot_y_itter))\n",
    "            plt.close()\n"
   ]
  },
  {
   "cell_type": "markdown",
   "metadata": {},
   "source": [
    "# Read GPU Data (panastas)"
   ]
  },
  {
   "cell_type": "code",
   "execution_count": 4,
   "metadata": {},
   "outputs": [],
   "source": [
    "header_names = ['mtx_name','distribution','placement','seed',\n",
    "                'm','n','nz','density','A_mem_footprint','mem_range',\n",
    "                'avg_nz_row','std_nz_row',\n",
    "                'avg_bandwidth','std_bandwidth','avg_bandwidth_scaled','std_bandwidth_scaled',\n",
    "                'avg_scattering','std_scattering','avg_scattering_scaled','std_scattering_scaled',\n",
    "                'skew_coeff','avg_num_neighbours','cross_row_similarity',\n",
    "                'implementation','time','gflops','W_avg','J_estimated', 'System', 'Arch','friends']"
   ]
  },
  {
   "cell_type": "code",
   "execution_count": 5,
   "metadata": {},
   "outputs": [
    {
     "name": "stdout",
     "output_type": "stream",
     "text": [
      "(110028, 31)\n",
      "{'CSR5_9', 'cuSPARSE_coo11', 'cuSPARSE_csr11', 'cuSPARSE_hyb9-2'}\n"
     ]
    }
   ],
   "source": [
    "dtypes=['D']\n",
    "for dtype in dtypes:\n",
    "    #Unified read\n",
    "    # fname = \"silver1-TeslaV100_dtype-%s_run_full_dataset.csv\" % dtype\n",
    "    # inputdata_GPU = pd.read_csv('../Benchmarks/%s' % fname, names = header_names, sep=',')\n",
    "\n",
    "    inputdata_GPU_V100_friends = pd.read_csv('../Benchmarks/vulcanV100/vulcanV100_dtype-%s_run_friend_dataset.csv' % dtype, names = header_names)\n",
    "    inputdata_GPU_V100_synthetic = pd.read_csv('../Benchmarks/vulcanV100/vulcanV100_dtype-%s_run_full_dataset.csv' % dtype, names = header_names)\n",
    "\n",
    "    inputdata_GPU_V100_friends['friends'] = True\n",
    "    inputdata_GPU_V100_synthetic['friends'] = False\n",
    "    inputdata_GPU_V100 = pd.concat([inputdata_GPU_V100_friends, inputdata_GPU_V100_synthetic])\n",
    "    inputdata_GPU_V100['System'] = 'Tesla-V100'\n",
    "    \n",
    "    \n",
    "    inputdata_GPU_P100_friends = pd.read_csv('../Benchmarks/vulcanP100/vulcanP100_dtype-%s_run_friend_dataset.csv' % dtype, names = header_names)\n",
    "    inputdata_GPU_P100_synthetic = pd.read_csv('../Benchmarks/vulcanP100/vulcanP100_dtype-%s_run_full_dataset.csv' % dtype, names = header_names)\n",
    "\n",
    "    inputdata_GPU_P100_friends['friends'] = True\n",
    "    inputdata_GPU_P100_synthetic['friends'] = False\n",
    "    inputdata_GPU_P100 = pd.concat([inputdata_GPU_P100_friends, inputdata_GPU_P100_synthetic])\n",
    "    inputdata_GPU_P100['System'] = 'Tesla-P100'\n",
    "    \n",
    "    inputdata_GPU = pd.concat([inputdata_GPU_V100, inputdata_GPU_P100])\n",
    "    inputdata_GPU['Arch'] = 'GPU'\n",
    "\n",
    "    print(inputdata_GPU.shape)\n",
    "    # print(inputdata_GPU.head(2))\n",
    "    print(set(inputdata_GPU['implementation']))"
   ]
  },
  {
   "cell_type": "markdown",
   "metadata": {},
   "source": [
    "# Read CPU Data (dgal)"
   ]
  },
  {
   "cell_type": "code",
   "execution_count": 6,
   "metadata": {},
   "outputs": [
    {
     "name": "stdout",
     "output_type": "stream",
     "text": [
      "(129375, 31)\n",
      "{'MKL_IE', 'ARM_library', 'Naive_CSR_CPU', 'CSR5'}\n"
     ]
    }
   ],
   "source": [
    "    Hawk_threads = 64\n",
    "    Arm_threads = 80\n",
    "\n",
    "    inputdata_CPU_AMD_friends = pd.read_csv('../Benchmarks/hawk_friends_10_samples_30_range_t%d_d.csv' % Hawk_threads, names=header_names)\n",
    "    inputdata_CPU_AMD_synthetic = pd.read_csv('../Benchmarks/hawk_synthetic_t%d_d.csv' % Hawk_threads, names=header_names)\n",
    "\n",
    "    inputdata_CPU_AMD_friends['friends'] = True\n",
    "    inputdata_CPU_AMD_synthetic['friends'] = False\n",
    "    inputdata_CPU_AMD = pd.concat([inputdata_CPU_AMD_friends, inputdata_CPU_AMD_synthetic])\n",
    "    inputdata_CPU_AMD['System'] = 'Epyc-%d' % Hawk_threads\n",
    "    \n",
    "\n",
    "    inputdata_CPU_ARM_friends = pd.read_csv('../Benchmarks/arm_friends_10_samples_30_range_t%d_d.csv' % Arm_threads, names=header_names)\n",
    "    inputdata_CPU_ARM_synthetic = pd.read_csv('../Benchmarks/arm_synthetic_t%d_d.csv' % Arm_threads, names=header_names)\n",
    "\n",
    "    inputdata_CPU_ARM_friends['friends'] = True\n",
    "    inputdata_CPU_ARM_synthetic['friends'] = False\n",
    "    inputdata_CPU_ARM = pd.concat([inputdata_CPU_ARM_friends, inputdata_CPU_ARM_synthetic])\n",
    "    inputdata_CPU_ARM['System'] = 'Arm-%d' % Arm_threads\n",
    "    \n",
    "    inputdata_CPU = pd.concat([inputdata_CPU_AMD, inputdata_CPU_ARM])\n",
    "    inputdata_CPU['Arch'] = 'CPU'    \n",
    "    \n",
    "    print(inputdata_CPU.shape)\n",
    "    # print(inputdata_CPU.head(2))\n",
    "    print(set(inputdata_CPU['implementation']))"
   ]
  },
  {
   "cell_type": "code",
   "execution_count": 7,
   "metadata": {},
   "outputs": [
    {
     "name": "stdout",
     "output_type": "stream",
     "text": [
      "(258750, 31)\n",
      "{'MKL_IE', 'ARM_library', 'CSR5', 'MKL_IE_no_hint', 'Naive_CSR_CPU'}\n"
     ]
    }
   ],
   "source": [
    "    Hawk_threads = 128\n",
    "    Arm_threads = 160\n",
    "\n",
    "    inputdata_CPU_AMD_friends = pd.read_csv('../Benchmarks/hawk_friends_10_samples_30_range_t%d_d.csv' % Hawk_threads, names=header_names)\n",
    "    inputdata_CPU_AMD_synthetic = pd.read_csv('../Benchmarks/hawk_synthetic_t%d_d.csv' % Hawk_threads, names=header_names)\n",
    "\n",
    "    inputdata_CPU_AMD_friends['friends'] = True\n",
    "    inputdata_CPU_AMD_synthetic['friends'] = False\n",
    "    inputdata_CPU_AMD = pd.concat([inputdata_CPU_AMD_friends, inputdata_CPU_AMD_synthetic])\n",
    "    inputdata_CPU_AMD['System'] = 'Epyc-%d' % Hawk_threads\n",
    "    \n",
    "\n",
    "    inputdata_CPU_ARM_friends = pd.read_csv('../Benchmarks/arm_friends_10_samples_30_range_t%d_d.csv' % Arm_threads, names=header_names)\n",
    "    inputdata_CPU_ARM_synthetic = pd.read_csv('../Benchmarks/arm_synthetic_t%d_d.csv' % Arm_threads, names=header_names)\n",
    "\n",
    "    inputdata_CPU_ARM_friends['friends'] = True\n",
    "    inputdata_CPU_ARM_synthetic['friends'] = False\n",
    "    inputdata_CPU_ARM = pd.concat([inputdata_CPU_ARM_friends, inputdata_CPU_ARM_synthetic])\n",
    "    inputdata_CPU_ARM['System'] = 'Arm-%d' % Arm_threads\n",
    "    \n",
    "    inputdata_CPU = pd.concat([inputdata_CPU, inputdata_CPU_AMD, inputdata_CPU_ARM])\n",
    "    inputdata_CPU['Arch'] = 'CPU'    \n",
    "    \n",
    "    print(inputdata_CPU.shape)\n",
    "    # print(inputdata_CPU.head(2))\n",
    "    print(set(inputdata_CPU['implementation']))"
   ]
  },
  {
   "cell_type": "markdown",
   "metadata": {},
   "source": [
    "# Read FPGA Data (pmpakos)"
   ]
  },
  {
   "cell_type": "code",
   "execution_count": 8,
   "metadata": {},
   "outputs": [
    {
     "name": "stdout",
     "output_type": "stream",
     "text": [
      "(10723, 31)\n",
      "{'Xilinx_SpMV'}\n"
     ]
    }
   ],
   "source": [
    "    fname = \"xilinx_spmv_validation_matrices_10_samples_30_range_twins_dtype-%s.csv\" % dtype\n",
    "    inputdata_FPGA_friends = pd.read_csv('../Benchmarks/%s' % fname, names = header_names)\n",
    "\n",
    "    fname = \"xilinx_spmv_4-2048_dtype-%s.csv\" % dtype\n",
    "    inputdata_FPGA_synthetic = pd.read_csv('../Benchmarks/%s' % fname, names = header_names)\n",
    "\n",
    "    inputdata_FPGA_friends['friends'] = True\n",
    "    inputdata_FPGA_synthetic['friends'] = False\n",
    "\n",
    "    inputdata_FPGA = pd.concat([inputdata_FPGA_friends, inputdata_FPGA_synthetic])\n",
    "\n",
    "    inputdata_FPGA['System'] = 'Alveo-U280'\n",
    "    inputdata_FPGA['Arch'] = 'FPGA'\n",
    "    print(inputdata_FPGA.shape)\n",
    "    # print(inputdata_FPGA.head(2))\n",
    "    print(set(inputdata_FPGA['implementation']))"
   ]
  },
  {
   "cell_type": "markdown",
   "metadata": {},
   "source": [
    "# Concatenate all data, place in *inputdata* dataframe"
   ]
  },
  {
   "cell_type": "code",
   "execution_count": 9,
   "metadata": {},
   "outputs": [
    {
     "name": "stdout",
     "output_type": "stream",
     "text": [
      "(379501, 31)\n",
      "(224491, 31)\n"
     ]
    }
   ],
   "source": [
    "    # Merge the results\n",
    "    inputdata = pd.concat([inputdata_GPU,inputdata_CPU,inputdata_FPGA])\n",
    "    print(inputdata.shape)\n",
    "\n",
    "    # Group per reps, take mean\n",
    "    groupreps = inputdata.groupby(['mtx_name','distribution','placement','seed',\n",
    "                                   'm','n','nz','density','A_mem_footprint','mem_range',\n",
    "                                   'avg_nz_row','std_nz_row',\n",
    "                                   'avg_bandwidth','std_bandwidth','avg_bandwidth_scaled','std_bandwidth_scaled',\n",
    "                                   'avg_scattering','std_scattering','avg_scattering_scaled','std_scattering_scaled',\n",
    "                                   'skew_coeff','avg_num_neighbours','cross_row_similarity',\n",
    "                                   'implementation','System', 'Arch','friends']).mean().reset_index().reindex(columns=header_names)\n",
    "\n",
    "    # dataTypeSeries = groupreps.dtypes\n",
    "    # print('Data type of each column of Dataframe :')\n",
    "    # print(dataTypeSeries)\n",
    "    print(groupreps.shape)\n"
   ]
  },
  {
   "cell_type": "markdown",
   "metadata": {},
   "source": [
    "# keep \"synthetic\" dataset only (discard \"friends\")"
   ]
  },
  {
   "cell_type": "code",
   "execution_count": 10,
   "metadata": {},
   "outputs": [
    {
     "name": "stdout",
     "output_type": "stream",
     "text": [
      "(185745, 31)\n"
     ]
    }
   ],
   "source": [
    "    groupreps = groupreps[groupreps['friends']==False]\n",
    "    print(groupreps.shape)\n",
    "    group_system_best = groupreps"
   ]
  },
  {
   "cell_type": "markdown",
   "metadata": {},
   "source": [
    "---\n",
    "# Group by \"best-of\" implementation for each device\n",
    "# skip this step if you want to plot every measurement collected"
   ]
  },
  {
   "cell_type": "code",
   "execution_count": 11,
   "metadata": {},
   "outputs": [
    {
     "name": "stdout",
     "output_type": "stream",
     "text": [
      "(86565, 31)\n"
     ]
    }
   ],
   "source": [
    "    # Group per system, take best (it was over \"inputdata\", but \"groupreps\" is better choice I think)\n",
    "    # fixed this after reordering groupreps columns according to header_names\n",
    "    # before this, columns and data were mixed and it was a complete shitstorm\n",
    "    group_system = groupreps.groupby(['mtx_name','distribution','placement','seed',\n",
    "                                      'm','n','nz','density','A_mem_footprint','mem_range',\n",
    "                                      'avg_nz_row','std_nz_row',\n",
    "                                      'avg_bandwidth','std_bandwidth','avg_bandwidth_scaled','std_bandwidth_scaled',\n",
    "                                      'avg_scattering','std_scattering','avg_scattering_scaled','std_scattering_scaled',\n",
    "                                      'skew_coeff','avg_num_neighbours','cross_row_similarity',\n",
    "                                      'System','Arch','friends'], as_index = False)\n",
    "    reslist = []\n",
    "    for desc, experiment in group_system:\n",
    "        best_format = experiment['implementation'].iloc[experiment['gflops'].argmax()]\n",
    "        outrow = experiment[experiment['implementation'] == best_format]\n",
    "        # if(len(outrow)>1):\n",
    "        #     print(len(outrow), outrow)\n",
    "        reslist.append(outrow.values.tolist()[0])\n",
    "        # print(outrow.values.tolist()[0])\n",
    "    group_system_best = pd.DataFrame(reslist, columns = header_names)\n",
    "    print(group_system_best.shape)"
   ]
  },
  {
   "cell_type": "markdown",
   "metadata": {},
   "source": [
    "# FIX NAMES OF IMPLEMENTATIONS"
   ]
  },
  {
   "cell_type": "code",
   "execution_count": 12,
   "metadata": {
    "scrolled": false
   },
   "outputs": [],
   "source": [
    "    group_system_best.loc[(group_system_best['implementation'] == \"cuSPARSE_coo11\"), \"implementation\"] = \"cuSPARSE-COO\"\n",
    "    group_system_best.loc[(group_system_best['implementation'] == \"cuSPARSE_csr11\"), \"implementation\"] = \"cuSPARSE-CSR\"\n",
    "    group_system_best.loc[(group_system_best['implementation'] == \"cuSPARSE_hyb9-2\"), \"implementation\"] = \"cuSPARSE-HYB\"\n",
    "    group_system_best.loc[(group_system_best['implementation'] == \"CSR5_9\"), \"implementation\"] = \"CSR5\"\n",
    "    group_system_best.loc[(group_system_best['implementation'] == \"Naive_CSR_CPU\"), \"implementation\"] = \"Naive-CSR\"\n",
    "    group_system_best.loc[(group_system_best['implementation'] == \"MKL_IE_no_hint\"), \"implementation\"] = \"MKL-IE-no-hint\"\n",
    "    group_system_best.loc[(group_system_best['implementation'] == \"MKL_IE\"), \"implementation\"] = \"MKL-IE\"\n",
    "    group_system_best.loc[(group_system_best['implementation'] == \"ARM_library\"), \"implementation\"] = \"ARM-library\"\n",
    "    group_system_best.loc[(group_system_best['implementation'] == \"Xilinx_SpMV\"), \"implementation\"] = \"Xilinx-library\""
   ]
  },
  {
   "cell_type": "markdown",
   "metadata": {},
   "source": [
    "---"
   ]
  },
  {
   "cell_type": "code",
   "execution_count": 13,
   "metadata": {},
   "outputs": [],
   "source": [
    "    def set_category(x, cat_list):\n",
    "        for index in range(len(cat_list)):\n",
    "            cat = cat_list[index]\n",
    "            cat_min = float(cat.strip(\"[\").strip(\"]\").split(\"-\")[0])\n",
    "            cat_max = float(cat.strip(\"[\").strip(\"]\").split(\"-\")[1])\n",
    "            # print(cat_min, cat_max,'->\\t->', x)\n",
    "            if(x>=cat_min and x<cat_max):\n",
    "                return cat_list[index]\n",
    "    \n",
    "    ranges_arch = [\"GPU\", \"GPU\", \"CPU\", \"CPU\", \"CPU\", \"CPU\", \"FPGA\"]\n",
    "    # ranges_dev = [\"TeslaV100\", \"TeslaP100\", \"HawkAmdRome-64\", \"HawkAmdRome-128\", \"Arm-80\", \"Arm-160\", \"AlveoU280\"]\n",
    "    ranges_dev = [\"Tesla-V100\", \"Tesla-P100\", \"Epyc-64\", \"Epyc-128\", \"Arm-80\", \"Arm-160\", \"Alveo-U280\"]\n",
    "    \n",
    "    # ranges_impl_arch=[]\n",
    "    # for system in ranges_dev:\n",
    "    #     group_system_best_system = group_system_best[group_system_best['System']==system]\n",
    "    #     sys_impl = sorted(set(group_system_best_system['implementation']))\n",
    "    #     for impl in  sys_impl:\n",
    "    #         ranges_impl_arch.append(\"( \"+ system + \" )\\n\" + impl)\n",
    "    # print(ranges_impl_arch)    \n",
    "    ranges_impl_arch = ['( Tesla-V100 )\\ncuSPARSE-COO', '( Tesla-V100 )\\ncuSPARSE-CSR', '( Tesla-V100 )\\nCSR5', '( Tesla-V100 )\\ncuSPARSE-HYB',\n",
    "                        '( Tesla-P100 )\\ncuSPARSE-COO', '( Tesla-P100 )\\ncuSPARSE-CSR', '( Tesla-P100 )\\nCSR5', '( Tesla-P100 )\\ncuSPARSE-HYB',\n",
    "                        '( Epyc-64 )\\nNaive-CSR',  '( Epyc-64 )\\nCSR5',  '( Epyc-64 )\\nMKL-IE', \n",
    "                        '( Epyc-128 )\\nNaive-CSR', '( Epyc-128 )\\nCSR5', '( Epyc-128 )\\nMKL-IE-no-hint',\n",
    "                        '( Arm-80 )\\nNaive-CSR',  '( Arm-80 )\\nARM-library',\n",
    "                        '( Arm-160 )\\nNaive-CSR', '( Arm-160 )\\nARM-library',\n",
    "                        '( Alveo-U280 )\\nXilinx-library']\n",
    "    ranges_impl_arch_backup = ranges_impl_arch\n",
    "\n",
    "    ranges_memr = [\"[2-32]\", \"[32-512]\", \"[512-2048]\"] # A_mem_footprint\n",
    "    ranges_rows = [\"[0-100000]\", \"[100000-1000000]\",\"[1000000-30000000]\"] # m (nr_rows)\n",
    "    ranges_anr = [\"[0-50]\", \"[50-200]\",\"[200-600]\"] # avg_nz_row\n",
    "    ranges_skew = [\"[0-100]\", \"[100-5000]\", \"[5000-1000000]\"] # skew_coeff\n",
    "    ranges_ann = [\"[0-0.7]\", \"[0.7-1.4]\", \"[1.4-2]\"] # avg_num_neighbours\n",
    "    ranges_crs = [\"[0-0.4]\", \"[0.4-0.8]\", \"[0.8-1]\"] # cross_row_similarity\n",
    "    \n",
    "    cat_list = ['A_mem_footprint', \n",
    "                'm', 'avg_nz_row',\n",
    "                'skew_coeff','avg_num_neighbours','cross_row_similarity']\n",
    "    ranges_list = [ranges_memr, \n",
    "                   ranges_rows, ranges_anr, \n",
    "                   ranges_skew, ranges_ann, ranges_crs]"
   ]
  },
  {
   "cell_type": "markdown",
   "metadata": {},
   "source": [
    "---\n",
    "# Total System Comparison (best of each System)"
   ]
  },
  {
   "cell_type": "code",
   "execution_count": 14,
   "metadata": {},
   "outputs": [
    {
     "name": "stdout",
     "output_type": "stream",
     "text": [
      "['( Tesla-V100 )\\ncuSPARSE-COO', '( Tesla-V100 )\\ncuSPARSE-CSR', '( Tesla-V100 )\\nCSR5', '( Tesla-V100 )\\ncuSPARSE-HYB', '( Tesla-P100 )\\ncuSPARSE-COO', '( Tesla-P100 )\\ncuSPARSE-CSR', '( Tesla-P100 )\\nCSR5', '( Tesla-P100 )\\ncuSPARSE-HYB', '( Epyc-128 )\\nNaive-CSR', '( Epyc-128 )\\nCSR5', '( Epyc-128 )\\nMKL-IE-no-hint', '( Arm-80 )\\nNaive-CSR', '( Arm-80 )\\nARM-library', '( Alveo-U280 )\\nXilinx-library']\n"
     ]
    },
    {
     "name": "stderr",
     "output_type": "stream",
     "text": [
      "findfont: Font family ['serif'] not found. Falling back to DejaVu Sans.\n",
      "findfont: Generic family 'serif' not found because none of the following families were found: Times\n"
     ]
    }
   ],
   "source": [
    "    width = 3.487\n",
    "    height = width/1.618\n",
    "    height2 = width/1.218\n",
    "    height3 = width/0.818\n",
    "    plt.rc('figure', figsize=(width,height2))\n",
    "    plt.rc('figure', figsize=(width,height3))\n",
    "\n",
    "    \n",
    "    # Q0 : System Comparison\n",
    "    system2, system = 'System Comparison', ''  \n",
    "    plot_x_axis = ['mem_range', 'A_mem_footprint', 'm', 'avg_nz_row', 'skew_coeff', 'avg_num_neighbours', 'cross_row_similarity']\n",
    "    # plot_x_axis = ['impl_arch']\n",
    "\n",
    "    plot_y_axis = ['gflops']\n",
    "    plot_id = system2\n",
    "    # plot synthetic dataset only\n",
    "    select_criterion = (group_system_best['friends'] == False)\n",
    "\n",
    "    select_str = 'BEST_Comparison of SpMV'\n",
    "    group_system_best_select = group_system_best[select_criterion]\n",
    "    group_system_best_select = group_system_best_select.round({\"A_mem_footprint\":-2})\n",
    "    group_system_best_select = group_system_best_select.round({\"m\":-6})\n",
    "    group_system_best_select = group_system_best_select.round({\"avg_nz_row\":-1})\n",
    "    group_system_best_select = group_system_best_select.round({\"skew_coeff\":-3})\n",
    "    group_system_best_select = group_system_best_select.round({\"avg_num_neighbours\":1})\n",
    "    group_system_best_select = group_system_best_select.round({\"cross_row_similarity\":1})\n",
    "    group_system_best_select['impl_arch'] = \"( \" + group_system_best_select['Arch'] + \" \" + group_system_best_select['System'] + \" \" \")\\n\" + group_system_best_select['implementation']\n",
    "    group_system_best_select['impl_arch'] = \"( \" + group_system_best_select['System'] + \" \" \")\\n\" + group_system_best_select['implementation']\n",
    "\n",
    "    # harry_plotter('violin', group_system_best_select, plot_x_axis, plot_y_axis, select_str, plot_id, hue_hue = 'System', hue_hue_order = ranges_dev)\n",
    "    # harry_plotter('box', group_system_best_select, plot_x_axis, plot_y_axis, select_str, plot_id, hue_hue = 'System', hue_hue_order = ranges_dev)\n",
    "    \n",
    "    \n",
    "    # ranges_dev = ['Tesla-V100', 'Tesla-P100', 'Epyc-64', 'Epyc-128', 'Arm-80', 'Alveo-U280']\n",
    "    ranges_dev = ['Tesla-V100', 'Tesla-P100', 'Epyc-128', 'Arm-80', 'Alveo-U280']\n",
    "    # keep only implementations for which results exist in dataset and for specific devices (defined in ranges_dev above)\n",
    "    ranges_impl_arch = [x for x in ranges_impl_arch_backup if \n",
    "                        ((x.split(\" )\")[0].split(\"( \")[1] in ranges_dev) and \n",
    "                         (x.split(\"\\n\")[1] in set(group_system_best[group_system_best['System']==x.split(\" )\")[0].split(\"( \")[1]]['implementation'])))]\n",
    "    print(ranges_impl_arch)\n",
    "\n",
    "    select_str = 'BEST_Comparison of SpMV Implementations-Formats-(Performance)'\n",
    "\n",
    "    plot_x_axis = ['impl_arch']\n",
    "    plot_y_axis = ['gflops']\n",
    "\n",
    "    # harry_plotter('violin', group_system_best_select, plot_x_axis, plot_y_axis, select_str, plot_id, hue_hue = 'System', hue_hue_order = ranges_dev, dodge=False)\n",
    "    plt.rc('figure', figsize=(width,height2))\n",
    "    harry_plotter('box', group_system_best_select, plot_x_axis, plot_y_axis, select_str, plot_id, hue_hue = 'System', hue_hue_order = ranges_dev, dodge=False)\n",
    "\n",
    "    \n",
    "    select_str = 'BEST_Comparison of SpMV Implementations-Formats-(GFLOPS per Watt)'\n",
    "\n",
    "    plot_x_axis = ['impl_arch']\n",
    "    plot_y_axis = ['energy_efficiency']\n",
    "    group_system_best_select['energy_efficiency'] = group_system_best_select['gflops'] / group_system_best_select['W_avg'] \n",
    "\n",
    "    # harry_plotter('violin', group_system_best_select, plot_x_axis, plot_y_axis, select_str, plot_id, hue_hue = 'System', hue_hue_order = ranges_dev, dodge=False)\n",
    "    plt.rc('figure', figsize=(width,height3))\n",
    "    harry_plotter('box', group_system_best_select, plot_x_axis, plot_y_axis, select_str, plot_id, hue_hue = 'System', hue_hue_order = ranges_dev, dodge=False)\n",
    "\n"
   ]
  },
  {
   "cell_type": "markdown",
   "metadata": {},
   "source": [
    "---"
   ]
  },
  {
   "cell_type": "code",
   "execution_count": 15,
   "metadata": {
    "scrolled": false
   },
   "outputs": [],
   "source": [
    "    def isolate_perf_per_device(group_system, pcg, what, flag=False):\n",
    "        for system in ranges_dev:\n",
    "            if(flag):\n",
    "                print('\\n'+system)\n",
    "            system_dataframe = group_system[group_system['System']==system]\n",
    "\n",
    "            s1 = system_dataframe.shape[0]\n",
    "            min_perf = np.round(system_dataframe['gflops'].min(),2)\n",
    "            max_perf = np.round(system_dataframe['gflops'].max(),2)\n",
    "            if(flag):\n",
    "                print('min_perf =', min_perf,'GF', '\\t', 'max_perf =', max_perf,'GF')\n",
    "\n",
    "            if(what=='bottom'):\n",
    "                system_dataframe = system_dataframe.sort_values(by=['gflops'], ascending=True).reset_index()\n",
    "            elif(what=='top'):\n",
    "                system_dataframe = system_dataframe.sort_values(by=['gflops'], ascending=False).reset_index()\n",
    "            \n",
    "            system_dataframe = system_dataframe.head(int(np.ceil(pcg/100*s1)))\n",
    "            min_perf = np.round(system_dataframe['gflops'].min(),2)\n",
    "            max_perf = np.round(system_dataframe['gflops'].max(),2)\n",
    "\n",
    "            s2 = system_dataframe.shape[0]\n",
    "            # if(flag):\n",
    "            #     print('\\t', 'AFTER', s1, '\\t', 'min_perf =', min_perf,'GF', '\\t', 'max_perf =', max_perf,'GF', '\\t', what,pcg,'%')\n",
    "            #     print('\\t[', min_perf, '-', max_perf,']', '\\t', 'GF')\n",
    "\n",
    "            features = ['gflops', 'A_mem_footprint', 'm', 'avg_nz_row', 'skew_coeff', 'avg_num_neighbours', 'cross_row_similarity']\n",
    "            \n",
    "            metadata = pd.DataFrame(columns = ['System']+features)\n",
    "            metadata.loc['System'] = system\n",
    "            for feature in features:\n",
    "                if(feature in ['gflops', 'A_mem_footprint', 'm']):\n",
    "                    sys_feat = [int(np.round(x,0)) for x in system_dataframe[feature]]\n",
    "                elif(feature in ['avg_nz_row']):\n",
    "                    sys_feat = [np.round(x,2) for x in system_dataframe[feature]]\n",
    "                else:\n",
    "                    sys_feat = [np.round(x,4) for x in system_dataframe[feature]]\n",
    "                if(flag):\n",
    "                    print('\\t[',min(sys_feat),'-',max(sys_feat),']','\\t',feature)\n",
    "                metadata.loc[metadata[\"System\"] == system, feature] = \" \".join(str(x) for x in ['[',min(sys_feat),'-',max(sys_feat),']'])\n",
    "#                 print(metadata)\n",
    "#             metadata = \n",
    "            if(system==ranges_dev[0]):\n",
    "                group_system_iso = system_dataframe\n",
    "                group_metadata = metadata\n",
    "            else:\n",
    "                group_system_iso = pd.concat([group_system_iso, system_dataframe])\n",
    "                group_metadata = pd.concat([group_metadata, metadata])\n",
    "        return group_system_iso.reset_index(), group_metadata.reset_index()"
   ]
  },
  {
   "cell_type": "code",
   "execution_count": 16,
   "metadata": {},
   "outputs": [
    {
     "name": "stdout",
     "output_type": "stream",
     "text": [
      "----------------------------\n"
     ]
    }
   ],
   "source": [
    "    group_system_bottom10, group_bottom10_metadata = isolate_perf_per_device(group_system_best, 10, 'bottom', False)\n",
    "    print('----------------------------')\n",
    "    group_system_top10, group_top10_metadata = isolate_perf_per_device(group_system_best, 10, 'top', False)"
   ]
  },
  {
   "cell_type": "code",
   "execution_count": 17,
   "metadata": {},
   "outputs": [
    {
     "name": "stdout",
     "output_type": "stream",
     "text": [
      "----------------------------\n"
     ]
    }
   ],
   "source": [
    "    group_system_bottom7_5, group_bottom7_5_metadata = isolate_perf_per_device(group_system_best, 7.5, 'bottom')\n",
    "    print('----------------------------')\n",
    "    group_system_top7_5, group_top7_5_metadata = isolate_perf_per_device(group_system_best, 7.5, 'top')"
   ]
  },
  {
   "cell_type": "code",
   "execution_count": 18,
   "metadata": {},
   "outputs": [
    {
     "name": "stdout",
     "output_type": "stream",
     "text": [
      "----------------------------\n"
     ]
    }
   ],
   "source": [
    "    group_system_bottom5, group_bottom5_metadata = isolate_perf_per_device(group_system_best, 5, 'bottom')\n",
    "    print('----------------------------')\n",
    "    group_system_top5, group_top5_metadata = isolate_perf_per_device(group_system_best, 5, 'top')"
   ]
  },
  {
   "cell_type": "code",
   "execution_count": 19,
   "metadata": {},
   "outputs": [
    {
     "name": "stdout",
     "output_type": "stream",
     "text": [
      "----------------------------\n"
     ]
    }
   ],
   "source": [
    "    group_system_bottom1, group_bottom1_metadata = isolate_perf_per_device(group_system_best, 1, 'bottom')\n",
    "    print('----------------------------')\n",
    "    group_system_top1, group_top1_metadata = isolate_perf_per_device(group_system_best, 1, 'top')"
   ]
  },
  {
   "cell_type": "code",
   "execution_count": 20,
   "metadata": {},
   "outputs": [],
   "source": [
    "#     print(group_system_bottom1.shape)\n",
    "#     print(group_system_top1.shape)\n",
    "\n",
    "#     print(group_system_bottom5.shape)\n",
    "#     print(group_system_top5.shape)\n",
    "\n",
    "#     print(group_system_bottom7_5.shape)\n",
    "#     print(group_system_top7_5.shape)\n",
    "    \n",
    "#     print(group_system_bottom10.shape)\n",
    "#     print(group_system_top10.shape)"
   ]
  },
  {
   "cell_type": "code",
   "execution_count": 21,
   "metadata": {},
   "outputs": [],
   "source": [
    "    ranges_dev = ['Tesla-V100', 'Tesla-P100', 'Epyc-128', 'Arm-80', 'Alveo-U280']"
   ]
  },
  {
   "cell_type": "code",
   "execution_count": 22,
   "metadata": {},
   "outputs": [],
   "source": [
    "    def plot_dev_perf(group_system, pcg, what):\n",
    "        # Q0 : System Comparison\n",
    "        system2, system = 'System Comparison', ''  \n",
    "        plot_x_axis = ['System']\n",
    "\n",
    "        plot_y_axis = ['gflops','A_mem_footprint','m', 'avg_nz_row', 'skew_coeff', 'avg_num_neighbours', 'cross_row_similarity']\n",
    "        plot_id = system2\n",
    "        # plot synthetic dataset only\n",
    "        select_criterion = (group_system['friends'] == False)\n",
    "\n",
    "        select_str = 'Comparison of SpMV-'+what+str(pcg)+'% for each device'\n",
    "        group_system_select = group_system[select_criterion]\n",
    "        group_system_select = group_system_select.round({\"A_mem_footprint\":-2})\n",
    "        group_system_select = group_system_select.round({\"m\":-5})\n",
    "        group_system_select = group_system_select.round({\"avg_nz_row\":-1})\n",
    "        group_system_select = group_system_select.round({\"skew_coeff\":-3})\n",
    "        group_system_select = group_system_select.round({\"avg_num_neighbours\":1})\n",
    "        group_system_select = group_system_select.round({\"cross_row_similarity\":1})\n",
    "        group_system_select['impl_arch'] = \"( \" + group_system_select['Arch'] + \" \" + group_system_select['System'] + \" \" \")\\n\" + group_system_select['implementation']\n",
    "        group_system_select['impl_arch'] = \"( \" + group_system_select['System'] + \" \" \")\\n\" + group_system_select['implementation']\n",
    "\n",
    "        # harry_plotter('box', group_system_select, plot_x_axis, plot_y_axis, select_str, plot_id, hue_hue = 'System', hue_hue_order = ranges_dev, dodge=False)\n",
    "        harry_plotter('violin', group_system_select, plot_x_axis, plot_y_axis, select_str, plot_id, hue_hue = 'System', hue_hue_order = ranges_dev, dodge=False)\n"
   ]
  },
  {
   "cell_type": "code",
   "execution_count": 24,
   "metadata": {},
   "outputs": [],
   "source": [
    "    # plot_dev_perf(group_system_bottom1, 1, 'bottom')\n",
    "    plot_dev_perf(group_system_bottom5, 5, 'bottom')\n",
    "#     plot_dev_perf(group_system_bottom7_5, 7.5, 'bottom')\n",
    "#     plot_dev_perf(group_system_bottom10, 10, 'bottom')\n"
   ]
  },
  {
   "cell_type": "code",
   "execution_count": 26,
   "metadata": {},
   "outputs": [],
   "source": [
    "    # plot_dev_perf(group_system_top1, 1, 'top')\n",
    "    plot_dev_perf(group_system_top5, 5, 'top')\n",
    "#     plot_dev_perf(group_system_top7_5, 7.5, 'top')\n",
    "#     plot_dev_perf(group_system_top10, 10, 'top')\n"
   ]
  },
  {
   "cell_type": "code",
   "execution_count": 27,
   "metadata": {},
   "outputs": [
    {
     "data": {
      "text/html": [
       "<div>\n",
       "<style scoped>\n",
       "    .dataframe tbody tr th:only-of-type {\n",
       "        vertical-align: middle;\n",
       "    }\n",
       "\n",
       "    .dataframe tbody tr th {\n",
       "        vertical-align: top;\n",
       "    }\n",
       "\n",
       "    .dataframe thead th {\n",
       "        text-align: right;\n",
       "    }\n",
       "</style>\n",
       "<table border=\"1\" class=\"dataframe\">\n",
       "  <thead>\n",
       "    <tr style=\"text-align: right;\">\n",
       "      <th></th>\n",
       "      <th>index</th>\n",
       "      <th>System</th>\n",
       "      <th>gflops</th>\n",
       "      <th>A_mem_footprint</th>\n",
       "      <th>m</th>\n",
       "      <th>avg_nz_row</th>\n",
       "      <th>skew_coeff</th>\n",
       "      <th>avg_num_neighbours</th>\n",
       "      <th>cross_row_similarity</th>\n",
       "    </tr>\n",
       "  </thead>\n",
       "  <tbody>\n",
       "    <tr>\n",
       "      <th>0</th>\n",
       "      <td>System</td>\n",
       "      <td>Tesla-V100</td>\n",
       "      <td>[ 123 - 130 ]</td>\n",
       "      <td>[ 320 - 1751 ]</td>\n",
       "      <td>[ 55886 - 3020732 ]</td>\n",
       "      <td>[ 50.02 - 501.0 ]</td>\n",
       "      <td>[ 1.427 - 9960.95 ]</td>\n",
       "      <td>[ 0.0493 - 1.9014 ]</td>\n",
       "      <td>[ 0.0446 - 0.9672 ]</td>\n",
       "    </tr>\n",
       "    <tr>\n",
       "      <th>1</th>\n",
       "      <td>System</td>\n",
       "      <td>Tesla-P100</td>\n",
       "      <td>[ 65 - 71 ]</td>\n",
       "      <td>[ 128 - 1751 ]</td>\n",
       "      <td>[ 39120 - 3020732 ]</td>\n",
       "      <td>[ 50.02 - 501.0 ]</td>\n",
       "      <td>[ 1.2516 - 9967.99 ]</td>\n",
       "      <td>[ 0.0491 - 1.9063 ]</td>\n",
       "      <td>[ 0.0815 - 0.9754 ]</td>\n",
       "    </tr>\n",
       "    <tr>\n",
       "      <th>2</th>\n",
       "      <td>System</td>\n",
       "      <td>Epyc-128</td>\n",
       "      <td>[ 160 - 273 ]</td>\n",
       "      <td>[ 127 - 513 ]</td>\n",
       "      <td>[ 22354 - 5242879 ]</td>\n",
       "      <td>[ 5.0 - 500.99 ]</td>\n",
       "      <td>[ 1.2516 - 9981.96 ]</td>\n",
       "      <td>[ 0.0397 - 1.9063 ]</td>\n",
       "      <td>[ 0.0436 - 0.9754 ]</td>\n",
       "    </tr>\n",
       "    <tr>\n",
       "      <th>3</th>\n",
       "      <td>System</td>\n",
       "      <td>Arm-80</td>\n",
       "      <td>[ 72 - 159 ]</td>\n",
       "      <td>[ 9 - 128 ]</td>\n",
       "      <td>[ 1571 - 524287 ]</td>\n",
       "      <td>[ 5.0 - 502.84 ]</td>\n",
       "      <td>[ 0.9827 - 9813.7789 ]</td>\n",
       "      <td>[ 0.0395 - 1.996 ]</td>\n",
       "      <td>[ 0.0423 - 0.9997 ]</td>\n",
       "    </tr>\n",
       "    <tr>\n",
       "      <th>4</th>\n",
       "      <td>System</td>\n",
       "      <td>Alveo-U280</td>\n",
       "      <td>[ 28 - 30 ]</td>\n",
       "      <td>[ 24 - 1743 ]</td>\n",
       "      <td>[ 4191 - 303884 ]</td>\n",
       "      <td>[ 99.54 - 501.0 ]</td>\n",
       "      <td>[ 1.2474 - 605.5572 ]</td>\n",
       "      <td>[ 0.0815 - 1.9208 ]</td>\n",
       "      <td>[ 0.0836 - 0.9865 ]</td>\n",
       "    </tr>\n",
       "  </tbody>\n",
       "</table>\n",
       "</div>"
      ],
      "text/plain": [
       "    index      System         gflops A_mem_footprint                    m  \\\n",
       "0  System  Tesla-V100  [ 123 - 130 ]  [ 320 - 1751 ]  [ 55886 - 3020732 ]   \n",
       "1  System  Tesla-P100    [ 65 - 71 ]  [ 128 - 1751 ]  [ 39120 - 3020732 ]   \n",
       "2  System    Epyc-128  [ 160 - 273 ]   [ 127 - 513 ]  [ 22354 - 5242879 ]   \n",
       "3  System      Arm-80   [ 72 - 159 ]     [ 9 - 128 ]    [ 1571 - 524287 ]   \n",
       "4  System  Alveo-U280    [ 28 - 30 ]   [ 24 - 1743 ]    [ 4191 - 303884 ]   \n",
       "\n",
       "          avg_nz_row              skew_coeff   avg_num_neighbours  \\\n",
       "0  [ 50.02 - 501.0 ]     [ 1.427 - 9960.95 ]  [ 0.0493 - 1.9014 ]   \n",
       "1  [ 50.02 - 501.0 ]    [ 1.2516 - 9967.99 ]  [ 0.0491 - 1.9063 ]   \n",
       "2   [ 5.0 - 500.99 ]    [ 1.2516 - 9981.96 ]  [ 0.0397 - 1.9063 ]   \n",
       "3   [ 5.0 - 502.84 ]  [ 0.9827 - 9813.7789 ]   [ 0.0395 - 1.996 ]   \n",
       "4  [ 99.54 - 501.0 ]   [ 1.2474 - 605.5572 ]  [ 0.0815 - 1.9208 ]   \n",
       "\n",
       "  cross_row_similarity  \n",
       "0  [ 0.0446 - 0.9672 ]  \n",
       "1  [ 0.0815 - 0.9754 ]  \n",
       "2  [ 0.0436 - 0.9754 ]  \n",
       "3  [ 0.0423 - 0.9997 ]  \n",
       "4  [ 0.0836 - 0.9865 ]  "
      ]
     },
     "execution_count": 27,
     "metadata": {},
     "output_type": "execute_result"
    }
   ],
   "source": [
    "    group_top10_metadata"
   ]
  },
  {
   "cell_type": "code",
   "execution_count": 28,
   "metadata": {},
   "outputs": [
    {
     "data": {
      "text/html": [
       "<div>\n",
       "<style scoped>\n",
       "    .dataframe tbody tr th:only-of-type {\n",
       "        vertical-align: middle;\n",
       "    }\n",
       "\n",
       "    .dataframe tbody tr th {\n",
       "        vertical-align: top;\n",
       "    }\n",
       "\n",
       "    .dataframe thead th {\n",
       "        text-align: right;\n",
       "    }\n",
       "</style>\n",
       "<table border=\"1\" class=\"dataframe\">\n",
       "  <thead>\n",
       "    <tr style=\"text-align: right;\">\n",
       "      <th></th>\n",
       "      <th>index</th>\n",
       "      <th>System</th>\n",
       "      <th>gflops</th>\n",
       "      <th>A_mem_footprint</th>\n",
       "      <th>m</th>\n",
       "      <th>avg_nz_row</th>\n",
       "      <th>skew_coeff</th>\n",
       "      <th>avg_num_neighbours</th>\n",
       "      <th>cross_row_similarity</th>\n",
       "    </tr>\n",
       "  </thead>\n",
       "  <tbody>\n",
       "    <tr>\n",
       "      <th>0</th>\n",
       "      <td>System</td>\n",
       "      <td>Tesla-V100</td>\n",
       "      <td>[ 11 - 41 ]</td>\n",
       "      <td>[ 4 - 1746 ]</td>\n",
       "      <td>[ 3483 - 28508159 ]</td>\n",
       "      <td>[ 4.99 - 100.97 ]</td>\n",
       "      <td>[ 1.4026 - 9997.49 ]</td>\n",
       "      <td>[ 0.0245 - 1.8649 ]</td>\n",
       "      <td>[ 0.0419 - 0.9912 ]</td>\n",
       "    </tr>\n",
       "    <tr>\n",
       "      <th>1</th>\n",
       "      <td>System</td>\n",
       "      <td>Tesla-P100</td>\n",
       "      <td>[ 6 - 21 ]</td>\n",
       "      <td>[ 4 - 1751 ]</td>\n",
       "      <td>[ 6944 - 28508159 ]</td>\n",
       "      <td>[ 4.99 - 100.66 ]</td>\n",
       "      <td>[ 1.4026 - 9997.49 ]</td>\n",
       "      <td>[ 0.0245 - 1.5768 ]</td>\n",
       "      <td>[ 0.0419 - 0.8061 ]</td>\n",
       "    </tr>\n",
       "    <tr>\n",
       "      <th>2</th>\n",
       "      <td>System</td>\n",
       "      <td>Epyc-128</td>\n",
       "      <td>[ 1 - 8 ]</td>\n",
       "      <td>[ 224 - 1751 ]</td>\n",
       "      <td>[ 1515383 - 28508159 ]</td>\n",
       "      <td>[ 5.0 - 100.66 ]</td>\n",
       "      <td>[ 1.6001 - 9997.49 ]</td>\n",
       "      <td>[ 0.0242 - 1.8813 ]</td>\n",
       "      <td>[ 0.0423 - 0.9593 ]</td>\n",
       "    </tr>\n",
       "    <tr>\n",
       "      <th>3</th>\n",
       "      <td>System</td>\n",
       "      <td>Arm-80</td>\n",
       "      <td>[ 3 - 8 ]</td>\n",
       "      <td>[ 4 - 1751 ]</td>\n",
       "      <td>[ 3483 - 28508159 ]</td>\n",
       "      <td>[ 4.99 - 101.0 ]</td>\n",
       "      <td>[ 1.0693 - 9997.4924 ]</td>\n",
       "      <td>[ 0.0242 - 1.8822 ]</td>\n",
       "      <td>[ 0.0422 - 0.94 ]</td>\n",
       "    </tr>\n",
       "    <tr>\n",
       "      <th>4</th>\n",
       "      <td>System</td>\n",
       "      <td>Alveo-U280</td>\n",
       "      <td>[ 0 - 3 ]</td>\n",
       "      <td>[ 9 - 1751 ]</td>\n",
       "      <td>[ 147455 - 8388607 ]</td>\n",
       "      <td>[ 5.0 - 101.0 ]</td>\n",
       "      <td>[ 1.5097 - 9989.0897 ]</td>\n",
       "      <td>[ 0.0245 - 1.8823 ]</td>\n",
       "      <td>[ 0.042 - 0.9582 ]</td>\n",
       "    </tr>\n",
       "  </tbody>\n",
       "</table>\n",
       "</div>"
      ],
      "text/plain": [
       "    index      System       gflops A_mem_footprint                       m  \\\n",
       "0  System  Tesla-V100  [ 11 - 41 ]    [ 4 - 1746 ]     [ 3483 - 28508159 ]   \n",
       "1  System  Tesla-P100   [ 6 - 21 ]    [ 4 - 1751 ]     [ 6944 - 28508159 ]   \n",
       "2  System    Epyc-128    [ 1 - 8 ]  [ 224 - 1751 ]  [ 1515383 - 28508159 ]   \n",
       "3  System      Arm-80    [ 3 - 8 ]    [ 4 - 1751 ]     [ 3483 - 28508159 ]   \n",
       "4  System  Alveo-U280    [ 0 - 3 ]    [ 9 - 1751 ]    [ 147455 - 8388607 ]   \n",
       "\n",
       "          avg_nz_row              skew_coeff   avg_num_neighbours  \\\n",
       "0  [ 4.99 - 100.97 ]    [ 1.4026 - 9997.49 ]  [ 0.0245 - 1.8649 ]   \n",
       "1  [ 4.99 - 100.66 ]    [ 1.4026 - 9997.49 ]  [ 0.0245 - 1.5768 ]   \n",
       "2   [ 5.0 - 100.66 ]    [ 1.6001 - 9997.49 ]  [ 0.0242 - 1.8813 ]   \n",
       "3   [ 4.99 - 101.0 ]  [ 1.0693 - 9997.4924 ]  [ 0.0242 - 1.8822 ]   \n",
       "4    [ 5.0 - 101.0 ]  [ 1.5097 - 9989.0897 ]  [ 0.0245 - 1.8823 ]   \n",
       "\n",
       "  cross_row_similarity  \n",
       "0  [ 0.0419 - 0.9912 ]  \n",
       "1  [ 0.0419 - 0.8061 ]  \n",
       "2  [ 0.0423 - 0.9593 ]  \n",
       "3    [ 0.0422 - 0.94 ]  \n",
       "4   [ 0.042 - 0.9582 ]  "
      ]
     },
     "execution_count": 28,
     "metadata": {},
     "output_type": "execute_result"
    }
   ],
   "source": [
    "    group_bottom10_metadata"
   ]
  },
  {
   "cell_type": "code",
   "execution_count": 29,
   "metadata": {},
   "outputs": [],
   "source": [
    "    width_duplo = 1.7*width\n",
    "    height_duplo = 1.7*height\n",
    "    plt.rc('figure', figsize=(width_duplo,height_duplo))"
   ]
  },
  {
   "cell_type": "code",
   "execution_count": 65,
   "metadata": {},
   "outputs": [],
   "source": [
    "    def plot_dev_perf(group_data, group_metadata, system, feature, pcg, what):\n",
    "        system2 = 'Feature Impact'\n",
    "        plot_x_axis = [feature]\n",
    "        if(feature=='A_mem_footprint'):\n",
    "            plot_x_axis = ['mem_range']\n",
    "\n",
    "        plot_y_axis = ['gflops']\n",
    "\n",
    "        plot_id = system2\n",
    "        # plot synthetic dataset only\n",
    "        select_criterion = (group_data['friends'] == False)\n",
    "        if(system!=''):\n",
    "            select_criterion = select_criterion & (group_data['System']==system)\n",
    "        \n",
    "        for feat in features:\n",
    "            feat_range = list(group_metadata[feat])[0].strip(\"[ ]\").split(\" - \")\n",
    "            min_feat = float(feat_range[0])\n",
    "            max_feat = float(feat_range[1])\n",
    "            if(feat!=feature):\n",
    "                select_criterion = select_criterion &\\\n",
    "                                (group_data[feat] >= min_feat)&\\\n",
    "                                (group_data[feat] <= max_feat)\n",
    "                # print(feat, '\\t', group_data[select_criterion].shape)\n",
    "                \n",
    "        group_system_select = group_data[select_criterion]\n",
    "        group_system_select = group_system_select.round({\"A_mem_footprint\":-2})\n",
    "        group_system_select = group_system_select.round({\"m\":-6})\n",
    "        group_system_select = group_system_select.round({\"avg_nz_row\":0})\n",
    "        group_system_select = group_system_select.round({\"skew_coeff\":-2})\n",
    "        group_system_select = group_system_select.round({\"avg_num_neighbours\":1})\n",
    "        group_system_select = group_system_select.round({\"cross_row_similarity\":1})\n",
    "    \n",
    "        if(system==''):\n",
    "            select_str = 'Impact of ' + feature + ' when all other features fixed for '+ what + ' ' + str(pcg) + '% performance'\n",
    "            # select_str = 'Impact of ' + feature+ ' for '+ what + ' ' + str(pcg) + '% performance'\n",
    "            harry_plotter('box', group_system_select, plot_x_axis, plot_y_axis, select_str, plot_id, hue_hue = 'System', hue_hue_order = ranges_dev, no_title=False)\n",
    "        else:\n",
    "            select_str = 'Impact of ' + feature+ ' at ' + system + '\\n' +\\\n",
    "            'when all other features fixed for '+ what + ' ' + str(pcg) + '% performance'\n",
    "            harry_plotter('box', group_system_select, plot_x_axis, plot_y_axis, select_str, plot_id, hue_hue = 'System', hue_hue_order = ranges_dev, dodge=False, no_legend=True, no_title=False)\n"
   ]
  },
  {
   "cell_type": "code",
   "execution_count": 68,
   "metadata": {},
   "outputs": [],
   "source": [
    "    # group_data used to be top10, bottom5....but we have to test ALL dataset, with fixed \"good\" or \"bad\" regions\n",
    "    # for specific features of dataset\n",
    "    # therefore, group_data = group_system_best\n",
    "    # and only metadata is changed, to specify which region, top or bottom, to choose\n",
    "    group_data = group_system_best\n",
    "    \n",
    "    features = ['A_mem_footprint','m', 'avg_nz_row', 'skew_coeff', 'avg_num_neighbours', 'cross_row_similarity']\n",
    "    separate = True\n",
    "    # separate = False\n",
    "\n",
    "    \n",
    "    group_metadata, what, pcg = group_top10_metadata, 'top', 10\n",
    "    for feature in features:\n",
    "        if(separate==True):\n",
    "            for system in ranges_dev:\n",
    "                group_data_sys = group_data[group_data['System']==system]\n",
    "                group_metadata_sys = group_metadata[group_metadata['System']==system]\n",
    "                plot_dev_perf(group_data_sys, group_metadata_sys, system, feature, pcg, what)\n",
    "                # break\n",
    "        else:\n",
    "            plot_dev_perf(group_data, group_metadata, '', feature, pcg, what)\n",
    "        # break\n",
    "\n",
    "    group_metadata, what, pcg = group_bottom10_metadata, 'bottom', 10\n",
    "    for feature in features:\n",
    "        if(separate==True):\n",
    "            for system in ranges_dev:\n",
    "                group_data_sys = group_data[group_data['System']==system]\n",
    "                group_metadata_sys = group_metadata[group_metadata['System']==system]\n",
    "                plot_dev_perf(group_data_sys, group_metadata_sys, system, feature, pcg, what)\n",
    "                # break\n",
    "        else:\n",
    "            plot_dev_perf(group_data, group_metadata, '', feature, pcg, what)\n",
    "        # break\n"
   ]
  },
  {
   "cell_type": "code",
   "execution_count": null,
   "metadata": {},
   "outputs": [],
   "source": []
  }
 ],
 "metadata": {
  "kernelspec": {
   "display_name": "Python 3",
   "language": "python",
   "name": "python3"
  },
  "language_info": {
   "codemirror_mode": {
    "name": "ipython",
    "version": 3
   },
   "file_extension": ".py",
   "mimetype": "text/x-python",
   "name": "python",
   "nbconvert_exporter": "python",
   "pygments_lexer": "ipython3",
   "version": "3.8.10"
  }
 },
 "nbformat": 4,
 "nbformat_minor": 5
}
