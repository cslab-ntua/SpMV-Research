{
 "cells": [
  {
   "cell_type": "code",
   "execution_count": 1,
   "metadata": {},
   "outputs": [],
   "source": [
    "import pandas as pd\n",
    "pd.options.mode.chained_assignment = None  # default='warn'\n",
    "from pandas.api.types import CategoricalDtype\n",
    "import math\n",
    "import matplotlib as mpl\n",
    "#mpl.use('pdf')\n",
    "import matplotlib.pyplot as plt\n",
    "import matplotlib.font_manager\n",
    "import numpy as np\n",
    "from collections import OrderedDict\n",
    "import matplotlib\n",
    "import seaborn as sns\n",
    "#Red\n",
    "red1= sns.color_palette(\"Reds_d\",1)\n",
    "red2= sns.color_palette(\"Reds_d\",2)\n",
    "red3= sns.color_palette(\"Reds_d\",3)\n",
    "red4= sns.color_palette(\"Reds_d\",4)\n",
    "red5= sns.color_palette(\"Reds_d\",5)\n",
    "red6= sns.color_palette(\"Reds_d\",6)\n",
    "red7= sns.color_palette(\"Reds_d\",7)\n",
    "red8= sns.color_palette(\"Reds_d\",8)\n",
    "\n",
    "#YellowGreen\n",
    "yg1= sns.color_palette(\"YlGn_d\",1)\n",
    "yg2= sns.color_palette(\"YlGn_d\",2)\n",
    "yg3= sns.color_palette(\"YlGn_d\",3)\n",
    "yg4= sns.color_palette(\"YlGn_d\",4)\n",
    "yg5= sns.color_palette(\"YlGn_d\",5)\n",
    "yg7= sns.color_palette(\"YlGn_d\",7)\n",
    "\n",
    "#GreenBlue\n",
    "gb1= sns.color_palette(\"GnBu_d\",1)\n",
    "gb2= sns.color_palette(\"GnBu_d\",2)\n",
    "gb3= sns.color_palette(\"GnBu_d\",3)\n",
    "gb4= sns.color_palette(\"GnBu_d\",4)\n",
    "gb5= sns.color_palette(\"GnBu_d\",5)\n",
    "gb6= sns.color_palette(\"GnBu_d\",6)\n",
    "gb7= sns.color_palette(\"GnBu_d\",7)\n",
    "gb8= sns.color_palette(\"GnBu_d\",8)\n",
    "\n",
    "cp2 = list(map(lambda x: sns.desaturate(x,0.9),[red7[2],gb7[4]]))\n",
    "cp2v1 = list(map(lambda x: sns.desaturate(x,0.9),[red7[2],yg7[0]]))\n",
    "cp3 = list(map(lambda x: sns.desaturate(x,0.9),[yg7[0],gb7[4],red7[2]]))\n",
    "#cp4 = list(map(lambda x: sns.desaturate(x,0.9),red1+gb2+yg1))\n",
    "cp2_2 = list(map(lambda x: sns.desaturate(x,0.9),[red7[0],red7[3],gb7[4],gb7[6]]))\n",
    "cp_total_spectrum = list(map(lambda x: sns.desaturate(x,0.9),gb7 + yg7 + red7))"
   ]
  },
  {
   "cell_type": "code",
   "execution_count": 2,
   "metadata": {},
   "outputs": [
    {
     "data": {
      "text/html": [
       "<svg  width=\"110\" height=\"55\"><rect x=\"0\" y=\"0\" width=\"55\" height=\"55\" style=\"fill:#e15246;stroke-width:2;stroke:rgb(255,255,255)\"/><rect x=\"55\" y=\"0\" width=\"55\" height=\"55\" style=\"fill:#4486a0;stroke-width:2;stroke:rgb(255,255,255)\"/></svg>"
      ],
      "text/plain": [
       "[(0.8807358708189157, 0.32277047289504046, 0.2744659746251443),\n",
       " (0.2649160579264386, 0.5270152505446624, 0.6269460463924131)]"
      ]
     },
     "execution_count": 2,
     "metadata": {},
     "output_type": "execute_result"
    }
   ],
   "source": [
    "sns.set_palette(cp2)\n",
    "sns.color_palette()"
   ]
  },
  {
   "cell_type": "code",
   "execution_count": 3,
   "metadata": {},
   "outputs": [
    {
     "data": {
      "text/html": [
       "<svg  width=\"110\" height=\"55\"><rect x=\"0\" y=\"0\" width=\"55\" height=\"55\" style=\"fill:#e15246;stroke-width:2;stroke:rgb(255,255,255)\"/><rect x=\"55\" y=\"0\" width=\"55\" height=\"55\" style=\"fill:#9cce89;stroke-width:2;stroke:rgb(255,255,255)\"/></svg>"
      ],
      "text/plain": [
       "[(0.8807358708189157, 0.32277047289504046, 0.2744659746251443),\n",
       " (0.6120315263360248, 0.8081330257593234, 0.5357962322183777)]"
      ]
     },
     "execution_count": 3,
     "metadata": {},
     "output_type": "execute_result"
    }
   ],
   "source": [
    "sns.set_palette(cp2v1)\n",
    "sns.color_palette()"
   ]
  },
  {
   "cell_type": "code",
   "execution_count": 4,
   "metadata": {},
   "outputs": [
    {
     "data": {
      "text/html": [
       "<svg  width=\"165\" height=\"55\"><rect x=\"0\" y=\"0\" width=\"55\" height=\"55\" style=\"fill:#9cce89;stroke-width:2;stroke:rgb(255,255,255)\"/><rect x=\"55\" y=\"0\" width=\"55\" height=\"55\" style=\"fill:#4486a0;stroke-width:2;stroke:rgb(255,255,255)\"/><rect x=\"110\" y=\"0\" width=\"55\" height=\"55\" style=\"fill:#e15246;stroke-width:2;stroke:rgb(255,255,255)\"/></svg>"
      ],
      "text/plain": [
       "[(0.6120315263360248, 0.8081330257593234, 0.5357962322183777),\n",
       " (0.2649160579264386, 0.5270152505446624, 0.6269460463924131),\n",
       " (0.8807358708189157, 0.32277047289504046, 0.2744659746251443)]"
      ]
     },
     "execution_count": 4,
     "metadata": {},
     "output_type": "execute_result"
    }
   ],
   "source": [
    "sns.set_palette(cp3)\n",
    "sns.color_palette()"
   ]
  },
  {
   "cell_type": "code",
   "execution_count": 5,
   "metadata": {},
   "outputs": [
    {
     "data": {
      "text/html": [
       "<svg  width=\"275\" height=\"55\"><rect x=\"0\" y=\"0\" width=\"55\" height=\"55\" style=\"fill:#067906;stroke-width:2;stroke:rgb(255,255,255)\"/><rect x=\"55\" y=\"0\" width=\"55\" height=\"55\" style=\"fill:#f20d0d;stroke-width:2;stroke:rgb(255,255,255)\"/><rect x=\"110\" y=\"0\" width=\"55\" height=\"55\" style=\"fill:#0d0df2;stroke-width:2;stroke:rgb(255,255,255)\"/><rect x=\"165\" y=\"0\" width=\"55\" height=\"55\" style=\"fill:#f2a10d;stroke-width:2;stroke:rgb(255,255,255)\"/><rect x=\"220\" y=\"0\" width=\"55\" height=\"55\" style=\"fill:#808080;stroke-width:2;stroke:rgb(255,255,255)\"/></svg>"
      ],
      "text/plain": [
       "[(0.025000000000000022, 0.475, 0.025000000000000022),\n",
       " (0.95, 0.050000000000000044, 0.050000000000000044),\n",
       " (0.050000000000000044, 0.050000000000000044, 0.95),\n",
       " (0.95, 0.6323529411764707, 0.050000000000000044),\n",
       " (0.5019607843137255, 0.5019607843137255, 0.5019607843137255)]"
      ]
     },
     "execution_count": 5,
     "metadata": {},
     "output_type": "execute_result"
    }
   ],
   "source": [
    "cpbasic = list(map(lambda x: sns.desaturate(x,0.9),['g','r','b','orange','grey']))\n",
    "sns.set_palette(cpbasic)\n",
    "sns.color_palette()"
   ]
  },
  {
   "cell_type": "code",
   "execution_count": 78,
   "metadata": {},
   "outputs": [],
   "source": [
    "font=10\n",
    "plt.rc('font', family='serif', serif='Times')\n",
    "# plt.rc('text', usetex=True)\n",
    "plt.rc('figure', figsize=(9,6))\n",
    "plt.rc('xtick', labelsize=font-1)\n",
    "plt.rc('ytick', labelsize=font-1)\n",
    "plt.rc('axes', labelsize=font)\n",
    "plt.rcParams.update({'axes.titlesize': font+2})\n",
    "\n",
    "#fig, axs = plt.subplots()\n",
    "#fig.subplots_adjust(left=.15, bottom=.16, right=.99, top=.97)\n",
    "\n",
    "#import seaborn as sns\n",
    "#sns.set(style=\"whitegrid\", palette=cpbasic,font_scale=0.2, rc={\"lines.linewidth\": 1})\n",
    "def harry_plotter_scatter(plot_df, plot_x_axis_list, plot_y_axis_list, select_str, plot_id, \n",
    "                      rotation = 30, adj_left = .1, adj_bottom = .2, adj_right = .99, adj_top = .88, no_sort=False, hue_hue = 'None', hue_hue_order = []):\n",
    "    for plot_x_itter in plot_x_axis_list:\n",
    "        if no_sort:\n",
    "            plot_df_sorted = plot_df\n",
    "        else:\n",
    "            dataTypeX = plot_df[plot_x_itter].dtype\n",
    "            if dataTypeX == np.float64 or dataTypeX == np.int64 or dataTypeX == float or dataTypeX == int:\n",
    "                plot_df_sorted = plot_df.sort_values(plot_x_itter)\n",
    "            elif plot_x_itter == 'mem_range':\n",
    "                if(\"FPGA\" in plot_id):\n",
    "                    cat_mem_range = CategoricalDtype([\"[4-8]\", \"[8-16]\", \"[16-32]\", \"[32-64]\", \"[64-128]\", \"[128-256]\", \"[256-512]\", \"[512-1024]\", \"[1024-2048]\"], ordered=True)\n",
    "                    plot_df_sorted = plot_df\n",
    "                    pd.options.mode.chained_assignment = None # https://stackoverflow.com/a/49729413\n",
    "                    plot_df_sorted[\"mem_range\"] = plot_df_sorted[\"mem_range\"].astype(cat_mem_range)\n",
    "                    plot_df_sorted = plot_df_sorted.sort_values('mem_range')                \n",
    "                else:\n",
    "                    plot_df_sorted = plot_df.sort_values('A_mem_footprint')\n",
    "            else:\n",
    "                print(\"Warning: X not sorted: dtype = %s\" % (dataTypeX))\n",
    "                plot_df_sorted = plot_df\n",
    "        for plot_y_itter in plot_y_axis_list:\n",
    "            fig, axs = plt.subplots()\n",
    "            if hue_hue == 'None':\n",
    "                sns_plot = sns.scatterplot(data=plot_df_sorted, x=plot_x_itter, y=plot_y_itter, ax=axs)\n",
    "            else:\n",
    "                sns_plot = sns.scatterplot(data=plot_df_sorted, x=plot_x_itter, y=plot_y_itter, hue=hue_hue, hue_order=hue_hue_order, ax=axs)\n",
    "                \n",
    "            if(hue_hue_order != []):               \n",
    "                # reordering the labels\n",
    "                handles, labels = plt.gca().get_legend_handles_labels()\n",
    "                order = [labels.index(i) for i in hue_hue_order]\n",
    "                plt.legend([handles[i] for i in order], [labels[i] for i in order], title = hue_hue.replace(\"_categ\",\"\"), fancybox=True)\n",
    "\n",
    "            axs.set_title('Select: %s' %(select_str))\n",
    "            fig.subplots_adjust(left=adj_left, bottom=adj_bottom, right=adj_right, top=adj_top)\n",
    "            plt.xticks(rotation=rotation)\n",
    "            select_str_id = select_str.replace('=', 'eq').replace('<', 'l').replace('>', 'g').replace(', ', '_').replace(',', '_').replace('\\n', '_').replace(' ', '-')\n",
    "            fig.savefig('./Plot_tries/%s_Select-%s_x-%s_y-%s.pdf' % (plot_id, select_str_id, plot_x_itter, plot_y_itter))\n",
    "            plt.close()\n",
    "            \n",
    "def harry_plotter_box(plot_df, plot_x_axis_list, plot_y_axis_list, select_str, plot_id, \n",
    "                      rotation = 30, adj_left = .1, adj_bottom = .2, adj_right = .99, adj_top = .88, no_sort=False, hue_hue = 'None', hue_hue_order = []):\n",
    "    for plot_x_itter in plot_x_axis_list:\n",
    "        if no_sort:\n",
    "            plot_df_sorted = plot_df\n",
    "        else:\n",
    "            dataTypeX = plot_df[plot_x_itter].dtype\n",
    "            if dataTypeX == np.float64 or dataTypeX == np.int64 or dataTypeX == float or dataTypeX == int:\n",
    "                plot_df_sorted = plot_df.sort_values(plot_x_itter)\n",
    "            elif plot_x_itter == 'mem_range':\n",
    "                if(\"FPGA\" in plot_id):\n",
    "                    cat_mem_range = CategoricalDtype([\"[4-8]\", \"[8-16]\", \"[16-32]\", \"[32-64]\", \"[64-128]\", \"[128-256]\", \"[256-512]\", \"[512-1024]\", \"[1024-2048]\"], ordered=True)\n",
    "                    plot_df_sorted = plot_df\n",
    "                    pd.options.mode.chained_assignment = None # https://stackoverflow.com/a/49729413\n",
    "                    plot_df_sorted[\"mem_range\"] = plot_df_sorted[\"mem_range\"].astype(cat_mem_range)\n",
    "                    plot_df_sorted = plot_df_sorted.sort_values('mem_range')                \n",
    "                else:\n",
    "                    plot_df_sorted = plot_df.sort_values('A_mem_footprint')\n",
    "            else:\n",
    "                print(\"Warning: X not sorted: dtype = %s\" % (dataTypeX))\n",
    "                plot_df_sorted = plot_df\n",
    "        for plot_y_itter in plot_y_axis_list:\n",
    "            fig, axs = plt.subplots()\n",
    "            if hue_hue == 'None':\n",
    "                sns_plot = sns.boxplot(data=plot_df_sorted, x=plot_x_itter, y=plot_y_itter, ax=axs)\n",
    "            else:\n",
    "                if(hue_hue_order != []):\n",
    "                    sns_plot = sns.boxplot(data=plot_df_sorted, x=plot_x_itter, y=plot_y_itter, hue=hue_hue, hue_order=hue_hue_order, ax=axs)\n",
    "                else:\n",
    "                    sns_plot = sns.boxplot(data=plot_df_sorted, x=plot_x_itter, y=plot_y_itter, hue=hue_hue, ax=axs)\n",
    "\n",
    "            if(hue_hue_order != []):               \n",
    "                # reordering the labels\n",
    "                handles, labels = plt.gca().get_legend_handles_labels()\n",
    "                order = [labels.index(i) for i in hue_hue_order]\n",
    "                plt.legend([handles[i] for i in order], [labels[i] for i in order], title = hue_hue.replace(\"_categ\",\"\"), fancybox=True)\n",
    "\n",
    "            axs.set_title('Select: %s' %(select_str))\n",
    "            fig.subplots_adjust(left=adj_left, bottom=adj_bottom, right=adj_right, top=adj_top)\n",
    "            plt.xticks(rotation=rotation)\n",
    "            select_str_id = select_str.replace('=', 'eq').replace('<', 'l').replace('>', 'g').replace(', ', '_').replace(',', '_').replace('\\n', '_').replace(' ', '-')\n",
    "            fig.savefig('./Plot_tries/%s_Select-%s_x-%s_y-%s.pdf' % (plot_id, select_str_id, plot_x_itter, plot_y_itter))\n",
    "            plt.close()\n"
   ]
  },
  {
   "cell_type": "markdown",
   "metadata": {},
   "source": [
    "# Read GPU Data (panastas)"
   ]
  },
  {
   "cell_type": "code",
   "execution_count": 7,
   "metadata": {},
   "outputs": [],
   "source": [
    "header_names = ['mtx_name','distribution','placement','seed',\n",
    "                'm','n','nz','density','A_mem_footprint','mem_range',\n",
    "                'avg_nz_row','std_nz_row',\n",
    "                'avg_bandwidth','std_bandwidth','avg_bandwidth_scaled','std_bandwidth_scaled',\n",
    "                'avg_scattering','std_scattering','avg_scattering_scaled','std_scattering_scaled',\n",
    "                'skew_coeff','avg_num_neighbours','cross_row_similarity',\n",
    "                'implementation','time','gflops','W_avg','J_estimated', 'System']"
   ]
  },
  {
   "cell_type": "code",
   "execution_count": 8,
   "metadata": {},
   "outputs": [
    {
     "name": "stdout",
     "output_type": "stream",
     "text": [
      "(89314, 29)\n"
     ]
    }
   ],
   "source": [
    "reps = 1\n",
    "dtypes=['D']\n",
    "for dtype in dtypes:\n",
    "    #Unified read\n",
    "    fname = \"silver1-TeslaV100_dtype-%s_run_full_dataset.csv\" % dtype # \"silver1-TeslaV100_dtype-%s_run_dataset.csv\" % dtype\n",
    "    inputdata_GPU = pd.read_csv('../Benchmarks/%s' % fname, names = header_names)\n",
    "    \n",
    "    inputdata_GPU['System'] = 'TeslaV100'\n",
    "    print(inputdata_GPU.shape)\n",
    "    # print(inputdata_GPU.head(2))"
   ]
  },
  {
   "cell_type": "markdown",
   "metadata": {},
   "source": [
    "# Read CPU Data (dgal)"
   ]
  },
  {
   "cell_type": "code",
   "execution_count": 9,
   "metadata": {},
   "outputs": [
    {
     "name": "stdout",
     "output_type": "stream",
     "text": [
      "(19440, 29)\n"
     ]
    }
   ],
   "source": [
    "    # inputdata_csrnaive_64 = pd.read_csv('../Benchmarks/hawk_csr_naive_friends_small_t64_d.txt', names=header_names)\n",
    "    # inputdata_csrnaive_64['implementation'] = 'Naive_CSR_CPU_64'\n",
    "\n",
    "    inputdata_csrnaive_128 = pd.read_csv('../Benchmarks/hawk_csr_naive_t128_d.csv', names=header_names)\n",
    "    inputdata_csrnaive_128['implementation'] = 'Naive_CSR_CPU_128'\n",
    "\n",
    "    # inputdata_csr5cpu_64 = pd.read_csv('../Benchmarks/hawk_csr5_friends_small_t64_d.txt', names=header_names)\n",
    "    # inputdata_csr5cpu_64['implementation'] = 'CSR5_CPU_64'\n",
    "\n",
    "    inputdata_csr5cpu_128 = pd.read_csv('../Benchmarks/hawk_csr5_t128_d.csv', names=header_names)\n",
    "    inputdata_csr5cpu_128['implementation'] = 'CSR5_CPU_128'\n",
    "\n",
    "    # inputdata_mkl_optimize_64 = pd.read_csv('../Benchmarks/hawk_mkl_ie_optimize_friends_small_t64_d.txt', names=header_names)\n",
    "    # inputdata_mkl_optimize_64['implementation'] = 'MKL_IE_Optimize_64'\n",
    "\n",
    "    inputdata_mkl_optimize_128 = pd.read_csv('../Benchmarks/hawk_mkl_ie_t128_d.csv', names=header_names)\n",
    "    inputdata_mkl_optimize_128['implementation'] = 'MKL_IE_Optimize_128'\n",
    "\n",
    "\n",
    "    #include only 128-threads results\n",
    "    inputdata_CPU = pd.concat([\n",
    "        inputdata_csrnaive_128,\n",
    "        inputdata_csr5cpu_128,\n",
    "        inputdata_mkl_optimize_128\n",
    "        ])\n",
    "\n",
    "    #include only 64-threads results\n",
    "    # inputdata_CPU = pd.concat([\n",
    "    #     inputdata_csrnaive_64,\n",
    "    #     inputdata_csr5cpu_64,\n",
    "    #     inputdata_mkl_64,\n",
    "    #     inputdata_mkl_optimize_64\n",
    "    #     ])\n",
    "    \n",
    "    inputdata_CPU['System'] = 'HawkAmdRome'\n",
    "    print(inputdata_CPU.shape)\n",
    "    # print(inputdata_CPU.head(2))"
   ]
  },
  {
   "cell_type": "markdown",
   "metadata": {},
   "source": [
    "# Read FPGA Data (pmpakos)"
   ]
  },
  {
   "cell_type": "code",
   "execution_count": 10,
   "metadata": {},
   "outputs": [
    {
     "name": "stdout",
     "output_type": "stream",
     "text": [
      "(3841, 29)\n"
     ]
    }
   ],
   "source": [
    "    fname = \"xilinx_spmv_4-2048_dtype-%s.csv\" % dtype\n",
    "    inputdata_FPGA = pd.read_csv('../Benchmarks/%s' % fname, names = header_names)\n",
    "    \n",
    "    inputdata_FPGA['System'] = 'AlveoU280'\n",
    "    # get rid of data that never ran on the FPGA\n",
    "    inputdata_FPGA = inputdata_FPGA[inputdata_FPGA[\"gflops\"]>0]\n",
    "    print(inputdata_FPGA.shape)\n",
    "    # print(inputdata_FPGA.head(2))"
   ]
  },
  {
   "cell_type": "markdown",
   "metadata": {},
   "source": [
    "# Concatenate all data, place in *inputdata* dataframe"
   ]
  },
  {
   "cell_type": "code",
   "execution_count": 11,
   "metadata": {},
   "outputs": [],
   "source": [
    "    # Merge the results\n",
    "    inputdata = pd.concat([inputdata_GPU,inputdata_CPU])\n",
    "    inputdata = pd.concat([inputdata,inputdata_FPGA])"
   ]
  },
  {
   "cell_type": "code",
   "execution_count": 12,
   "metadata": {},
   "outputs": [
    {
     "name": "stdout",
     "output_type": "stream",
     "text": [
      "Data type of each column of Dataframe :\n",
      "mtx_name                  object\n",
      "distribution              object\n",
      "placement                 object\n",
      "seed                       int64\n",
      "m                          int64\n",
      "n                          int64\n",
      "nz                         int64\n",
      "density                  float64\n",
      "A_mem_footprint          float64\n",
      "mem_range                 object\n",
      "avg_nz_row               float64\n",
      "std_nz_row               float64\n",
      "avg_bandwidth            float64\n",
      "std_bandwidth            float64\n",
      "avg_bandwidth_scaled     float64\n",
      "std_bandwidth_scaled     float64\n",
      "avg_scattering           float64\n",
      "std_scattering           float64\n",
      "avg_scattering_scaled    float64\n",
      "std_scattering_scaled    float64\n",
      "skew_coeff               float64\n",
      "avg_num_neighbours       float64\n",
      "cross_row_similarity     float64\n",
      "implementation            object\n",
      "System                    object\n",
      "time                     float64\n",
      "gflops                   float64\n",
      "W_avg                    float64\n",
      "J_estimated              float64\n",
      "dtype: object\n"
     ]
    }
   ],
   "source": [
    "    # Group per reps, take mean\n",
    "    groupreps = inputdata.groupby(['mtx_name','distribution','placement','seed',\n",
    "                                   'm','n','nz','density','A_mem_footprint','mem_range',\n",
    "                                   'avg_nz_row','std_nz_row',\n",
    "                                   'avg_bandwidth','std_bandwidth','avg_bandwidth_scaled','std_bandwidth_scaled',\n",
    "                                   'avg_scattering','std_scattering','avg_scattering_scaled','std_scattering_scaled',\n",
    "                                   'skew_coeff','avg_num_neighbours','cross_row_similarity',\n",
    "                                   'implementation','System']).mean().reset_index()\n",
    "    dataTypeSeries = groupreps.dtypes\n",
    "    print('Data type of each column of Dataframe :')\n",
    "    print(dataTypeSeries)"
   ]
  },
  {
   "cell_type": "markdown",
   "metadata": {},
   "source": [
    "---\n",
    "# Group by \"best-of\" implementation for each device"
   ]
  },
  {
   "cell_type": "code",
   "execution_count": 13,
   "metadata": {},
   "outputs": [],
   "source": [
    "    # Group per system, take best\n",
    "    group_system = inputdata.groupby(['mtx_name','distribution','placement','seed',\n",
    "                                      'm','n','nz','density','A_mem_footprint','mem_range',\n",
    "                                      'avg_nz_row','std_nz_row',\n",
    "                                      'avg_bandwidth','std_bandwidth','avg_bandwidth_scaled','std_bandwidth_scaled',\n",
    "                                      'avg_scattering','std_scattering','avg_scattering_scaled','std_scattering_scaled',\n",
    "                                      'skew_coeff','avg_num_neighbours','cross_row_similarity',\n",
    "                                      'System'], as_index = False)\n",
    "    reslist = []\n",
    "    for desc, experiment in group_system:\n",
    "        best_format = experiment['implementation'].iloc[experiment['gflops'].argmax()]\n",
    "        outrow = experiment[experiment['implementation'] == best_format]\n",
    "        reslist.append(outrow.values.tolist()[0])\n",
    "        #print(outrow.values.tolist()[0])\n",
    "    group_system_best = pd.DataFrame(reslist, columns = header_names)\n",
    "    group_system_best['var_coefficient'] = group_system_best['std_nz_row'] / group_system_best['avg_nz_row']"
   ]
  },
  {
   "cell_type": "markdown",
   "metadata": {},
   "source": [
    "---"
   ]
  },
  {
   "cell_type": "code",
   "execution_count": 40,
   "metadata": {},
   "outputs": [],
   "source": [
    "    def set_category(x, cat_list):\n",
    "        for index in range(len(cat_list)):\n",
    "            cat = cat_list[index]\n",
    "            cat_min = float(cat.strip(\"[\").strip(\"]\").split(\"-\")[0])\n",
    "            cat_max = float(cat.strip(\"[\").strip(\"]\").split(\"-\")[1])\n",
    "            # print(cat_min, cat_max,'->\\t->', x)\n",
    "            if(x>=cat_min and x<cat_max):\n",
    "                return cat_list[index]\n",
    "    \n",
    "    ranges_sys = [\"GPU\", \"CPU\", \"FPGA\"]\n",
    "    ranges_dev = [\"TeslaV100\", \"HawkAmdRome\", \"AlveoU280\"]\n",
    "    ranges_memr = [\"[2-32]\", \"[32-512]\", \"[512-2048]\"] # A_mem_footprint\n",
    "    ranges_rows = [\"[0-100000]\", \"[100000-1000000]\",\"[1000000-30000000]\"] # m (nr_rows)\n",
    "    ranges_anr = [\"[0-50]\", \"[50-200]\",\"[200-600]\"] # avg_nz_row\n",
    "    ranges_skew = [\"[0-100]\", \"[100-5000]\", \"[5000-1000000]\"] # skew_coeff\n",
    "    ranges_ann = [\"[0-0.7]\", \"[0.7-1.4]\", \"[1.4-2]\"] # avg_num_neighbours\n",
    "    ranges_crs = [\"[0-0.4]\", \"[0.4-0.8]\", \"[0.8-1]\"] # cross_row_similarity\n",
    "    \n",
    "    cat_list = ['A_mem_footprint', 'm', 'avg_nz_row','skew_coeff', 'avg_num_neighbours', 'cross_row_similarity']\n",
    "    ranges_list = [ranges_memr, ranges_rows, ranges_anr, ranges_skew, ranges_ann, ranges_crs]\n"
   ]
  },
  {
   "cell_type": "markdown",
   "metadata": {},
   "source": [
    "---\n",
    "# Total System Comparison (best of each System)"
   ]
  },
  {
   "cell_type": "code",
   "execution_count": 48,
   "metadata": {},
   "outputs": [],
   "source": [
    "    # Q0 : System Comparison\n",
    "    system2, system = 'System Comparison', ''  \n",
    "    plot_x_axis = ['mem_range', 'A_mem_footprint', 'm', 'avg_nz_row', 'skew_coeff', 'avg_num_neighbours', 'cross_row_similarity']\n",
    "    plot_y_axis = ['gflops']\n",
    "    plot_id = system2\n",
    "    select_criterion = (group_system_best['gflops'] > 0)\n",
    "\n",
    "    select_str = 'Best of each System'\n",
    "    groupreps_select_best = group_system_best[select_criterion]\n",
    "    groupreps_select_best = groupreps_select_best.round({\"A_mem_footprint\":-2})\n",
    "    groupreps_select_best = groupreps_select_best.round({\"m\":-6})\n",
    "    groupreps_select_best = groupreps_select_best.round({\"avg_nz_row\":-1})\n",
    "    groupreps_select_best = groupreps_select_best.round({\"skew_coeff\":-3})\n",
    "    groupreps_select_best = groupreps_select_best.round({\"avg_num_neighbours\":1})\n",
    "    groupreps_select_best = groupreps_select_best.round({\"cross_row_similarity\":1})\n",
    "\n",
    "\n",
    "    harry_plotter_box(groupreps_select_best, plot_x_axis, plot_y_axis, select_str, plot_id, hue_hue = 'System', hue_hue_order = ranges_dev)\n"
   ]
  },
  {
   "cell_type": "markdown",
   "metadata": {},
   "source": [
    "---\n",
    "# Q0 - mem footprint"
   ]
  },
  {
   "cell_type": "code",
   "execution_count": 50,
   "metadata": {},
   "outputs": [],
   "source": [
    "    # Q0 : Impact of memory footprint\n",
    "    # X axis : memory footprint ranges (boxplot)\n",
    "    for system, device in zip(ranges_sys, ranges_dev):\n",
    "        plot_x_axis = ['mem_range']\n",
    "        plot_y_axis = ['gflops']\n",
    "        plot_id = 'Q0-mem-footprint-'+system\n",
    "        select_criterion = (group_system_best['System'] == device)\n",
    "\n",
    "        select_str = 'Best of System = '+device\n",
    "        groupreps_select_best = group_system_best[select_criterion]\n",
    "\n",
    "        harry_plotter_box(groupreps_select_best, plot_x_axis, plot_y_axis, select_str, plot_id)\n",
    "\n",
    "        # select_str = '(placement) Best of System = TeslaV100'\n",
    "        # harry_plotter_box(groupreps_select_best, plot_x_axis, plot_y_axis, select_str, plot_id, hue_hue=\"placement\")\n",
    "\n",
    "        for cat, ranges in zip(cat_list, ranges_list):\n",
    "            if(cat not in plot_x_axis):\n",
    "                categ = cat + \"_categ\"\n",
    "                groupreps_select_best[categ] = groupreps_select_best[cat].apply(lambda x: set_category(x, ranges))\n",
    "                select_str2 = '(split '+cat+') ' + select_str\n",
    "                harry_plotter_box(groupreps_select_best, plot_x_axis, plot_y_axis, select_str2, plot_id, hue_hue = categ, hue_hue_order = ranges)\n"
   ]
  },
  {
   "cell_type": "code",
   "execution_count": 49,
   "metadata": {},
   "outputs": [],
   "source": [
    "    # Q0 : Impact of memory footprint\n",
    "    # X axis : nr_rows (boxplot)\n",
    "    for system, device in zip(ranges_sys, ranges_dev):\n",
    "        plot_x_axis = ['m']\n",
    "        plot_y_axis = ['gflops']\n",
    "        plot_id = 'Q0-mem-footprint-'+system\n",
    "        select_criterion = (group_system_best['System'] == device)\n",
    "\n",
    "        select_str = 'Best of System = '+device\n",
    "        groupreps_select_best = group_system_best[select_criterion]\n",
    "        groupreps_select_best = groupreps_select_best.round({\"m\":-5})\n",
    "        \n",
    "\n",
    "        harry_plotter_box(groupreps_select_best, plot_x_axis, plot_y_axis, select_str, plot_id)\n",
    "\n",
    "        # select_str = '(placement) Best of System = TeslaV100'\n",
    "        # harry_plotter_box(groupreps_select_best, plot_x_axis, plot_y_axis, select_str, plot_id, hue_hue=\"placement\")\n",
    "\n",
    "        for cat, ranges in zip(cat_list, ranges_list):\n",
    "            if(cat not in plot_x_axis):\n",
    "                categ = cat + \"_categ\"\n",
    "                groupreps_select_best[categ] = groupreps_select_best[cat].apply(lambda x: set_category(x, ranges))\n",
    "                select_str2 = '(split '+cat+') ' + select_str\n",
    "                harry_plotter_box(groupreps_select_best, plot_x_axis, plot_y_axis, select_str2, plot_id, hue_hue = categ, hue_hue_order = ranges)\n"
   ]
  },
  {
   "cell_type": "markdown",
   "metadata": {},
   "source": [
    "---\n",
    "# Q0 - row size"
   ]
  },
  {
   "cell_type": "code",
   "execution_count": 66,
   "metadata": {},
   "outputs": [],
   "source": [
    "    # Q0 : Impact of row size\n",
    "    # X axis : avg_nz_row (boxplot)\n",
    "    for system, device in zip(ranges_sys, ranges_dev):\n",
    "        plot_x_axis = ['avg_nz_row']\n",
    "        plot_y_axis = ['gflops']\n",
    "        plot_id = 'Q0-row-size-'+system\n",
    "        select_criterion = (group_system_best['System'] == device)\n",
    "\n",
    "        select_str = 'Best of System = ' + device\n",
    "        groupreps_select_best = group_system_best[select_criterion]\n",
    "        groupreps_select_best = groupreps_select_best.round({\"avg_nz_row\":-1})\n",
    "\n",
    "        harry_plotter_box(groupreps_select_best, plot_x_axis, plot_y_axis, select_str, plot_id)\n",
    "\n",
    "        for cat, ranges in zip(cat_list, ranges_list):\n",
    "            if(cat not in plot_x_axis):\n",
    "                categ = cat + \"_categ\"\n",
    "                groupreps_select_best[categ] = groupreps_select_best[cat].apply(lambda x: set_category(x, ranges))\n",
    "                select_str2 = '(split '+cat+') ' + select_str\n",
    "                harry_plotter_box(groupreps_select_best, plot_x_axis, plot_y_axis, select_str2, plot_id, hue_hue = categ, hue_hue_order = ranges)\n"
   ]
  },
  {
   "cell_type": "code",
   "execution_count": 69,
   "metadata": {},
   "outputs": [],
   "source": [
    "    # Q0 : Impact of row size per implementation\n",
    "    # X axis : avg_nz_row (boxplot)\n",
    "    for system, device in zip(ranges_sys, ranges_dev):\n",
    "        if(system == \"FPGA\"):\n",
    "            continue\n",
    "        plot_x_axis = ['avg_nz_row']\n",
    "        plot_y_axis = ['gflops']\n",
    "        plot_id = 'Q0-row-size-'+system+'-impl'\n",
    "        select_criterion = (group_system_best['System'] == device)\n",
    "\n",
    "        select_str = 'Best of System = '+device\n",
    "        groupreps_select_best = group_system_best[select_criterion]\n",
    "        groupreps_select_best = groupreps_select_best.round({\"avg_nz_row\":-1})\n",
    "\n",
    "        harry_plotter_box(groupreps_select_best, plot_x_axis, plot_y_axis, select_str, plot_id, hue_hue = 'implementation')\n"
   ]
  },
  {
   "cell_type": "markdown",
   "metadata": {},
   "source": [
    "---\n",
    "# Q0 - imbalance"
   ]
  },
  {
   "cell_type": "code",
   "execution_count": 70,
   "metadata": {},
   "outputs": [],
   "source": [
    "    # Q0 : Impact of imbalance\n",
    "    # X axis : skew_coeff (boxplot)\n",
    "    for system, device in zip(ranges_sys, ranges_dev):\n",
    "        plot_x_axis = ['skew_coeff']\n",
    "        plot_y_axis = ['gflops']\n",
    "        plot_id = 'Q0-imbalance-'+system\n",
    "        select_criterion = (group_system_best['System'] == device)\n",
    "\n",
    "        select_str = 'Best of System = ' + device\n",
    "        groupreps_select_best = group_system_best[select_criterion]\n",
    "        groupreps_select_best = groupreps_select_best.round({\"skew_coeff\":-3})\n",
    "\n",
    "        harry_plotter_box(groupreps_select_best, plot_x_axis, plot_y_axis, select_str, plot_id)\n",
    "\n",
    "        for cat, ranges in zip(cat_list, ranges_list):\n",
    "            if(cat not in plot_x_axis):\n",
    "                categ = cat + \"_categ\"\n",
    "                groupreps_select_best[categ] = groupreps_select_best[cat].apply(lambda x: set_category(x, ranges))\n",
    "                select_str2 = '(split '+cat+') ' + select_str\n",
    "                harry_plotter_box(groupreps_select_best, plot_x_axis, plot_y_axis, select_str2, plot_id, hue_hue = categ, hue_hue_order = ranges)\n"
   ]
  },
  {
   "cell_type": "markdown",
   "metadata": {},
   "source": [
    "---\n",
    "# Q0 - irregularity\n",
    "either avg_neighbours or cross_row_similarity"
   ]
  },
  {
   "cell_type": "code",
   "execution_count": 71,
   "metadata": {},
   "outputs": [],
   "source": [
    "    # Q0 : Impact of irregularity\n",
    "    # X axis : avg_num_neighbours (boxplot)\n",
    "    for system, device in zip(ranges_sys, ranges_dev):\n",
    "        plot_x_axis = ['avg_num_neighbours']\n",
    "        plot_y_axis = ['gflops']\n",
    "        plot_id = 'Q0-irregularity-'+system\n",
    "        select_criterion = (group_system_best['System'] == device)\n",
    "\n",
    "        select_str = 'Best of System = ' + device\n",
    "        groupreps_select_best = group_system_best[select_criterion]\n",
    "        groupreps_select_best = groupreps_select_best.round({\"avg_num_neighbours\":1})\n",
    "\n",
    "        # harry_plotter_scatter(groupreps_select_best, plot_x_axis, plot_y_axis, select_str, plot_id)\n",
    "        harry_plotter_box(groupreps_select_best, plot_x_axis, plot_y_axis, select_str, plot_id)\n",
    "\n",
    "        for cat, ranges in zip(cat_list, ranges_list):\n",
    "            if(cat not in plot_x_axis):\n",
    "                categ = cat + \"_categ\"\n",
    "                groupreps_select_best[categ] = groupreps_select_best[cat].apply(lambda x: set_category(x, ranges))\n",
    "                select_str2 = '(split '+cat+') ' + select_str\n",
    "                harry_plotter_box(groupreps_select_best, plot_x_axis, plot_y_axis, select_str2, plot_id, hue_hue = categ, hue_hue_order = ranges)\n"
   ]
  },
  {
   "cell_type": "code",
   "execution_count": 72,
   "metadata": {},
   "outputs": [],
   "source": [
    "    # Q0 : Impact of irregularity\n",
    "    # X axis : cross_row_similarity (boxplot)\n",
    "    for system, device in zip(ranges_sys, ranges_dev):\n",
    "        plot_x_axis = ['cross_row_similarity']\n",
    "        plot_y_axis = ['gflops']\n",
    "        plot_id = 'Q0-irregularity-'+system\n",
    "        select_criterion = (group_system_best['System'] == device)\n",
    "\n",
    "        select_str = 'Best of System = ' + device\n",
    "        groupreps_select_best = group_system_best[select_criterion]\n",
    "        groupreps_select_best = groupreps_select_best.round({\"cross_row_similarity\":1})\n",
    "\n",
    "        # harry_plotter_scatter(groupreps_select_best, plot_x_axis, plot_y_axis, select_str, plot_id)\n",
    "        harry_plotter_box(groupreps_select_best, plot_x_axis, plot_y_axis, select_str, plot_id)\n",
    "\n",
    "        for cat, ranges in zip(cat_list, ranges_list):\n",
    "            if(cat not in plot_x_axis):\n",
    "                categ = cat + \"_categ\"\n",
    "                groupreps_select_best[categ] = groupreps_select_best[cat].apply(lambda x: set_category(x, ranges))\n",
    "                select_str2 = '(split '+cat+') ' + select_str\n",
    "                harry_plotter_box(groupreps_select_best, plot_x_axis, plot_y_axis, select_str2, plot_id, hue_hue = categ, hue_hue_order = ranges)\n"
   ]
  },
  {
   "cell_type": "markdown",
   "metadata": {},
   "source": [
    "---\n",
    "# Q1 - GPU"
   ]
  },
  {
   "cell_type": "code",
   "execution_count": null,
   "metadata": {},
   "outputs": [],
   "source": [
    "    # Q1 : Impact of memory footprint, all other features are “good”\n",
    "    # device = GPU\n",
    "    # average nnz/row > 20\n",
    "    # Stdev nnz/row in  [1, 8.03]\n",
    "    # Bandwidth = “~nnz/row” (κατά προτίμηση μαζεμένα γύρω από τη διαγώνιο τα nnz)\n",
    "    # X axis : memory footprint ranges (boxplot)\n",
    "\n",
    "    plot_x_axis = ['mem_range']\n",
    "    plot_y_axis = ['gflops']\n",
    "    plot_id = 'Q1-GPU'\n",
    "    select_criterion = ( group_system_best['std_nz_row'] > 1 ) \\\n",
    "    & ( group_system_best['avg_nz_row'] > 19) \\\n",
    "    & ( group_system_best['std_nz_row'] < 8.03) \\\n",
    "    & ( group_system_best['placement'] == 'diagonal') \\\n",
    "    & ( group_system_best['System'] == 'TeslaV100')\n",
    "    \n",
    "    select_str = 'avg_nz_row > 19, std_nz_row > 1, std_nz_row < 8.03\\ndiagonal, Best of System = TeslaV100'\n",
    "    groupreps_select_best = group_system_best[select_criterion]\n",
    "\n",
    "    harry_plotter_box(groupreps_select_best, plot_x_axis, plot_y_axis, select_str, plot_id)"
   ]
  },
  {
   "cell_type": "markdown",
   "metadata": {},
   "source": [
    "# Q1 - GPU extra"
   ]
  },
  {
   "cell_type": "code",
   "execution_count": null,
   "metadata": {},
   "outputs": [],
   "source": [
    "    # Q1 : Impact of memory footprint, all other features are “good”\n",
    "    # device = GPU\n",
    "    # average nnz/row > 20\n",
    "    # Stdev nnz/row in  [1, 8.03]\n",
    "    # Bandwidth = “~nnz/row” (κατά προτίμηση μαζεμένα γύρω από τη διαγώνιο τα nnz)\n",
    "    # X axis : avg_nz_row\n",
    "\n",
    "    plot_x_axis = ['avg_nz_row']\n",
    "    plot_y_axis = ['gflops']\n",
    "    plot_id = 'Q1-GPU-extra'\n",
    "    select_criterion = ( group_system_best['std_nz_row'] > 1 ) \\\n",
    "    & ( group_system_best['avg_nz_row'] > 19) \\\n",
    "    & ( group_system_best['std_nz_row'] < 8.03) \\\n",
    "    & ( group_system_best['placement'] == 'diagonal') \\\n",
    "    & ( group_system_best['System'] == 'TeslaV100')\n",
    "    \n",
    "    select_str = 'avg_nz_row > 19, std_nz_row > 1, std_nz_row < 8.03\\ndiagonal, Best of System = TeslaV100'\n",
    "    groupreps_select_best = group_system_best[select_criterion]\n",
    "    groupreps_select_best = groupreps_select_best.round({\"avg_nz_row\":1})\n",
    "    \n",
    "    harry_plotter_box(groupreps_select_best, plot_x_axis, plot_y_axis, select_str, plot_id, rotation = 60)"
   ]
  },
  {
   "cell_type": "markdown",
   "metadata": {},
   "source": [
    "# Q1 - CPU"
   ]
  },
  {
   "cell_type": "code",
   "execution_count": null,
   "metadata": {},
   "outputs": [],
   "source": [
    "    # Q1 : Impact of memory footprint, all other features are “good”\n",
    "    # device = CPU\n",
    "    # average nnz/row > 20\n",
    "    # Stdev nnz/row in  [1, 8.03]\n",
    "    # Bandwidth = “~nnz/row” (κατά προτίμηση μαζεμένα γύρω από τη διαγώνιο τα nnz)\n",
    "    # X axis : memory footprint ranges (boxplot)\n",
    "    \n",
    "    plot_x_axis = ['mem_range']\n",
    "    plot_y_axis = ['gflops']\n",
    "    plot_id = 'Q1-CPU'\n",
    "    select_criterion = ( group_system_best['std_nz_row'] > 1 ) \\\n",
    "    & ( group_system_best['avg_nz_row'] > 19) \\\n",
    "    & ( group_system_best['std_nz_row'] < 8.03) \\\n",
    "    & ( group_system_best['placement'] == 'diagonal') \\\n",
    "    & ( group_system_best['System'] == 'HawkAmdRome')\n",
    "    \n",
    "    select_str = 'avg_nz_row > 19, std_nz_row > 1, std_nz_row < 8.03\\ndiagonal, Best of System = HawkAmdRome'\n",
    "    groupreps_select_best = group_system_best[select_criterion]\n",
    "    \n",
    "    harry_plotter_box(groupreps_select_best, plot_x_axis, plot_y_axis, select_str, plot_id)"
   ]
  },
  {
   "cell_type": "markdown",
   "metadata": {},
   "source": [
    "# Q1 - CPU extra\n",
    "## with validation_matrices_small dataset, this resulted in an empty dataframe. move on for now!"
   ]
  },
  {
   "cell_type": "code",
   "execution_count": null,
   "metadata": {},
   "outputs": [],
   "source": [
    "#     # break down Q2 memory range [256-512], due to its high variance of performance.\n",
    "#     # plot with x axis avg_nz_row, std_nz_row, m, A_mem_footprint    \n",
    "#     plot_x_axis = ['avg_nz_row', 'std_nz_row', 'm', 'A_mem_footprint']\n",
    "#     plot_y_axis = ['gflops']\n",
    "#     plot_id = 'Q1-CPU-extra'\n",
    "#     select_criterion = ( group_system_best['std_nz_row'] > 1 ) \\\n",
    "#     & ( group_system_best['avg_nz_row'] > 19) \\\n",
    "#     & ((group_system_best['mem_range'] == \"[256-512]\")) \\\n",
    "#     & ( group_system_best['std_nz_row'] < 8.03) \\\n",
    "#     & ( group_system_best['placement'] == 'diagonal') \\\n",
    "#     & ( group_system_best['System'] == 'HawkAmdRome')\n",
    "    \n",
    "#     select_str = 'mem_range = [256-512], avg_nz_row > 19, std_nz_row > 1\\nstd_nz_row < 8.03, df = 0.5,0.05, Best of System = HawkAmdRome'\n",
    "#     groupreps_select_best = group_system_best[select_criterion]\n",
    "#     groupreps_select_best = groupreps_select_best.round({\"avg_nz_row\":1})\n",
    "#     groupreps_select_best = groupreps_select_best.round({\"std_nz_row\":2})\n",
    "#     groupreps_select_best = groupreps_select_best.round({\"A_mem_footprint\":0})\n",
    "    \n",
    "#     harry_plotter_box(groupreps_select_best, plot_x_axis, plot_y_axis, select_str, plot_id)"
   ]
  },
  {
   "cell_type": "markdown",
   "metadata": {},
   "source": [
    "# Q1 - CPU+GPU"
   ]
  },
  {
   "cell_type": "code",
   "execution_count": null,
   "metadata": {},
   "outputs": [],
   "source": [
    "    # Q1 CPU & GPU : Plot best per system in the same boxplot\n",
    "    plot_x_axis = ['mem_range']\n",
    "    plot_y_axis = ['gflops']\n",
    "    plot_id = 'Q1-CPU-plus-GPU'\n",
    "    select_criterion = ( group_system_best['std_nz_row'] > 1 ) \\\n",
    "    & ( group_system_best['avg_nz_row'] > 19) \\\n",
    "    & ( group_system_best['std_nz_row'] < 8.03) \\\n",
    "    & ( group_system_best['placement'] == 'diagonal') \\\n",
    "    & ( group_system_best['System'] != 'FPGA')\n",
    "\n",
    "    select_str = 'avg_nz_row > 19, std_nz_row > 1, std_nz_row < 8.03\\ndiagonal, Best per System'\n",
    "    groupreps_select_best = group_system_best[select_criterion]\n",
    "\n",
    "    harry_plotter_box(groupreps_select_best, plot_x_axis, plot_y_axis, select_str, plot_id, hue_hue = 'System')"
   ]
  },
  {
   "cell_type": "markdown",
   "metadata": {},
   "source": [
    "# Q1 - FPGA"
   ]
  },
  {
   "cell_type": "code",
   "execution_count": null,
   "metadata": {},
   "outputs": [],
   "source": [
    "    # Q1 : Impact of memory footprint, all other features are “good”\n",
    "    # device = FPGA\n",
    "    # average nnz/row > 20\n",
    "    # Stdev nnz/row in  [1, 8.03]\n",
    "    # Bandwidth = “~nnz/row” (κατά προτίμηση μαζεμένα γύρω από τη διαγώνιο τα nnz)\n",
    "    # X axis : memory footprint ranges (boxplot)\n",
    "   \n",
    "    plot_x_axis = ['mem_range']\n",
    "    plot_y_axis = ['gflops']\n",
    "    plot_id = 'Q1-FPGA'\n",
    "    select_criterion = ( group_system_best['std_nz_row'] > 1 ) \\\n",
    "    & ( group_system_best['avg_nz_row'] > 19) \\\n",
    "    & ( group_system_best['std_nz_row'] < 8.03) \\\n",
    "    & ( group_system_best['placement'] == 'diagonal') \\\n",
    "    & ( group_system_best['System'] == 'FPGA')\n",
    "    \n",
    "    select_str = 'avg_nz_row > 19, std_nz_row > 1, std_nz_row < 8.03\\ndiagonal, Best of System = Alveo U280'\n",
    "    groupreps_select_best = group_system_best[select_criterion]\n",
    "    \n",
    "    harry_plotter_box(groupreps_select_best, plot_x_axis, plot_y_axis, select_str, plot_id)"
   ]
  },
  {
   "cell_type": "markdown",
   "metadata": {},
   "source": [
    "---\n",
    "# Q2 - GPU"
   ]
  },
  {
   "cell_type": "code",
   "execution_count": null,
   "metadata": {},
   "outputs": [],
   "source": [
    "    # Q2 : Impact of row size, all other features are “good”\n",
    "    # device = GPU\n",
    "    # Mem_range: > 128\n",
    "    # Stdev nnz/row in  [1, 8.03]\n",
    "    # Bandwidth = “~nnz/row” (κατά προτίμηση μαζεμένα γύρω από τη διαγώνιο τα nnz)\n",
    "    # X axis : nnz per row\n",
    "    \n",
    "    plot_x_axis = ['avg_nz_row']\n",
    "    plot_y_axis = ['gflops']\n",
    "    plot_id = 'Q2-GPU'\n",
    "    select_criterion = ( group_system_best['std_nz_row'] > 1 ) \\\n",
    "    & ((group_system_best['mem_range'] == \"[128-256]\") | (group_system_best['mem_range'] == \"[256-512]\") | (group_system_best['mem_range'] == \"[512-1024]\") | (group_system_best['mem_range'] == \"[1024-2048]\")) \\\n",
    "    & ( group_system_best['std_nz_row'] < 8.03) \\\n",
    "    & ( group_system_best['placement'] == 'diagonal') \\\n",
    "    & ( group_system_best['System'] == 'TeslaV100')\n",
    "    \n",
    "    select_str = 'mem_range > 128, std_nz_row > 1, std_nz_row < 8.03\\ndiagonal, Best of System = TeslaV100'\n",
    "    groupreps_select_best = group_system_best[select_criterion]\n",
    "    groupreps_select_best = groupreps_select_best.round({\"avg_nz_row\":2})\n",
    "    \n",
    "    harry_plotter_box(groupreps_select_best, plot_x_axis, plot_y_axis, select_str, plot_id)"
   ]
  },
  {
   "cell_type": "markdown",
   "metadata": {},
   "source": [
    "# Q2 - CPU"
   ]
  },
  {
   "cell_type": "code",
   "execution_count": null,
   "metadata": {},
   "outputs": [],
   "source": [
    "    # Q2 : Impact of row size, all other features are “good”\n",
    "    # device = CPU\n",
    "    # 128 < Mem_range < 256\n",
    "    # Stdev nnz/row in  [1, 8.03]\n",
    "    # Bandwidth = “~nnz/row” (κατά προτίμηση μαζεμένα γύρω από τη διαγώνιο τα nnz)\n",
    "    # X axis : nnz per row\n",
    "\n",
    "    plot_x_axis = ['avg_nz_row']\n",
    "    plot_y_axis = ['gflops']\n",
    "    plot_id = 'Q2-CPU'\n",
    "    select_criterion = ( group_system_best['std_nz_row'] > 1 ) \\\n",
    "    & ( group_system_best['mem_range'] == \"[128-256]\" ) \\\n",
    "    & ( group_system_best['std_nz_row'] < 8.03) \\\n",
    "    & ( group_system_best['placement'] == 'diagonal') \\\n",
    "    & ( group_system_best['System'] == 'HawkAmdRome') \n",
    "    \n",
    "    select_str = 'mem_range > 128, mem_range < 256, std_nz_row > 1\\nstd_nz_row < 8.03, diagonal, Best of System = HawkAmdRome'\n",
    "    groupreps_select_best = group_system_best[select_criterion]\n",
    "    groupreps_select_best = groupreps_select_best.round({\"avg_nz_row\":2})\n",
    "    \n",
    "    harry_plotter_box(groupreps_select_best, plot_x_axis, plot_y_axis, select_str, plot_id)"
   ]
  },
  {
   "cell_type": "markdown",
   "metadata": {},
   "source": [
    "# Q2 - FPGA"
   ]
  },
  {
   "cell_type": "code",
   "execution_count": null,
   "metadata": {},
   "outputs": [],
   "source": [
    "    # Q2 : Impact of row size, all other features are “good”\n",
    "    # device = FPGA\n",
    "    # 128 < Mem_range < 256\n",
    "    # Stdev nnz/row in  [1, 8.03]\n",
    "    # Bandwidth = “~nnz/row” (κατά προτίμηση μαζεμένα γύρω από τη διαγώνιο τα nnz)\n",
    "    # X axis : nnz per row\n",
    "\n",
    "    plot_x_axis = ['avg_nz_row']\n",
    "    plot_y_axis = ['gflops']\n",
    "    plot_id = 'Q2-FPGA'\n",
    "    select_criterion = ( group_system_best['std_nz_row'] > 1 ) \\\n",
    "    & ( group_system_best['mem_range'] == \"[128-256]\" ) \\\n",
    "    & ( group_system_best['std_nz_row'] < 8.03) \\\n",
    "    & ( group_system_best['placement'] == 'diagonal') \\\n",
    "    & ( group_system_best['System'] == 'FPGA') \n",
    "    \n",
    "    select_str = 'mem_range > 128, mem_range < 256, std_nz_row > 1\\nstd_nz_row < 8.03, diagonal, Best of System = FPGA'\n",
    "    groupreps_select_best = group_system_best[select_criterion]\n",
    "    groupreps_select_best = groupreps_select_best.round({\"avg_nz_row\":2})\n",
    "    \n",
    "    harry_plotter_box(groupreps_select_best, plot_x_axis, plot_y_axis, select_str, plot_id)"
   ]
  },
  {
   "cell_type": "markdown",
   "metadata": {},
   "source": [
    "---\n",
    "# Q3 - GPU"
   ]
  },
  {
   "cell_type": "code",
   "execution_count": null,
   "metadata": {},
   "outputs": [],
   "source": [
    "    # Q3: Impact of imbalance, all other features are “good”\n",
    "    # device = GPU\n",
    "    # Mem_range: > 128\n",
    "    # average nnz/row > 40\n",
    "    # Bandwidth = “~nnz/row” (κατά προτίμηση μαζεμένα γύρω από τη διαγώνιο τα nnz)\n",
    "    # X axis : stdev nnz/row\n",
    "\n",
    "    plot_x_axis = ['std_nz_row']\n",
    "    plot_y_axis = ['gflops']\n",
    "    plot_id = 'Q3-GPU'\n",
    "    select_criterion = ( group_system_best['A_mem_footprint'] > 127.9 ) \\\n",
    "    & ( group_system_best['avg_nz_row'] > 40) \\\n",
    "    & ( group_system_best['placement'] == 'diagonal') \\\n",
    "    & ( group_system_best['System'] == 'TeslaV100')\n",
    "    \n",
    "    select_str = 'A_mem_footprint > 127.9, avg_nz_row > 40\\ndiagonal, Best of System = TeslaV100'\n",
    "    groupreps_select_best = group_system_best[select_criterion]\n",
    "    groupreps_select_best = groupreps_select_best.round({\"std_nz_row\":0})\n",
    "\n",
    "    harry_plotter_box(groupreps_select_best, plot_x_axis, plot_y_axis, select_str, plot_id)\n",
    "    \n",
    "    # All formats instead of best\n",
    "    select_criterion = ( groupreps['A_mem_footprint'] > 127.9 ) \\\n",
    "    & ( groupreps['avg_nz_row'] > 40) \\\n",
    "    & ( group_system_best['placement'] == 'diagonal') \\\n",
    "    & ( groupreps['System'] == 'TeslaV100')\n",
    "    \n",
    "    select_str = 'A_mem_footprint > 127.9, avg_nz_row > 40\\ndiagonal, System = TeslaV100'\n",
    "    groupreps_select = groupreps[select_criterion]\n",
    "    groupreps_select = groupreps_select.round({\"std_nz_row\":0})\n",
    "    \n",
    "    harry_plotter_box(groupreps_select, plot_x_axis, plot_y_axis, select_str, plot_id, hue_hue = 'implementation')"
   ]
  },
  {
   "cell_type": "code",
   "execution_count": null,
   "metadata": {},
   "outputs": [],
   "source": [
    "    # Q3: Impact of imbalance, all other features are “good”\n",
    "    # device = GPU\n",
    "    # Mem_range: > 128\n",
    "    # average nnz/row > 40\n",
    "    # Bandwidth = “~nnz/row” (κατά προτίμηση μαζεμένα γύρω από τη διαγώνιο τα nnz)\n",
    "    # X axis : var_coefficient = std_nz_row / avg_nz_row\n",
    "    \n",
    "    plot_x_axis = ['var_coefficient']\n",
    "    plot_y_axis = ['gflops']\n",
    "    plot_id = 'Q3-GPU-var'\n",
    "    select_criterion = ( group_system_best['A_mem_footprint'] > 127.9 ) \\\n",
    "    & ( group_system_best['avg_nz_row'] > 40) \\\n",
    "    & ( group_system_best['placement'] == 'diagonal') \\\n",
    "    & ( group_system_best['System'] == 'TeslaV100')\n",
    "    \n",
    "    select_str = 'A_mem_footprint > 127.9, avg_nz_row > 40\\ndiagonal, Best of System = TeslaV100'\n",
    "    \n",
    "    groupreps_select_best = group_system_best[select_criterion]\n",
    "    groupreps_select_best = groupreps_select_best.round({\"var_coefficient\":2})\n",
    "\n",
    "    harry_plotter_box(groupreps_select_best, plot_x_axis, plot_y_axis, select_str, plot_id)"
   ]
  },
  {
   "cell_type": "markdown",
   "metadata": {},
   "source": [
    "# Q3 - CPU"
   ]
  },
  {
   "cell_type": "code",
   "execution_count": null,
   "metadata": {},
   "outputs": [],
   "source": [
    "    # Q3: Impact of imbalance, all other features are “good”\n",
    "    # device = CPU\n",
    "    # 128 < Mem_range < 256\n",
    "    # average nnz/row > 20\n",
    "    # Bandwidth = “~nnz/row” (κατά προτίμηση μαζεμένα γύρω από τη διαγώνιο τα nnz)\n",
    "    # X axis : stdev nnz/row\n",
    "    \n",
    "    plot_x_axis = ['std_nz_row']\n",
    "    plot_y_axis = ['gflops']\n",
    "    plot_id = 'Q3-CPU'\n",
    "    select_criterion = ( group_system_best['A_mem_footprint'] > 127.9 ) \\\n",
    "    & ( group_system_best['A_mem_footprint'] < 257) \\\n",
    "    & ( group_system_best['avg_nz_row'] > 20) \\\n",
    "    & ( group_system_best['placement'] == 'diagonal') \\\n",
    "    & ( group_system_best['System'] == 'HawkAmdRome')  # & (groupreps['nz'] > 100000)\n",
    "    \n",
    "    select_str = '127.9 < A_mem_footprint < 257, avg_nz_row > 20\\ndiagonal, Best of System = HawkAmdRome'\n",
    "    groupreps_select_best = group_system_best[select_criterion]\n",
    "    groupreps_select_best = groupreps_select_best.round({\"std_nz_row\":0})\n",
    "\n",
    "    harry_plotter_box(groupreps_select_best, plot_x_axis, plot_y_axis, select_str, plot_id)\n",
    "        \n",
    "    # All formats instead of best\n",
    "    select_criterion = ( groupreps['A_mem_footprint'] > 127.9 ) \\\n",
    "    & ( groupreps['A_mem_footprint'] < 257) \\\n",
    "    & ( groupreps['avg_nz_row'] > 20) \\\n",
    "    & ( group_system_best['placement'] == 'diagonal') \\\n",
    "    & ( groupreps['System'] == 'HawkAmdRome')\n",
    "    \n",
    "    select_str = '127.9 < A_mem_footprint < 257, avg_nz_row > 20\\ndiagonal, System = HawkAmdRome'\n",
    "    groupreps_select = groupreps[select_criterion]\n",
    "    groupreps_select = groupreps_select.round({\"std_nz_row\":0})\n",
    "    \n",
    "    harry_plotter_box(groupreps_select, plot_x_axis, plot_y_axis, select_str, plot_id, hue_hue = 'implementation')"
   ]
  },
  {
   "cell_type": "code",
   "execution_count": null,
   "metadata": {},
   "outputs": [],
   "source": [
    "    # Q3: Impact of imbalance, all other features are “good”\n",
    "    # device = CPU\n",
    "    # Mem_range: > 128\n",
    "    # average nnz/row > 40\n",
    "    # Bandwidth = “~nnz/row” (κατά προτίμηση μαζεμένα γύρω από τη διαγώνιο τα nnz)\n",
    "    # X axis : var_coefficient = std_nz_row / avg_nz_row\n",
    "    \n",
    "    plot_x_axis = ['var_coefficient']\n",
    "    plot_y_axis = ['gflops']\n",
    "    plot_id = 'Q3-CPU-var'\n",
    "    select_criterion = ( group_system_best['A_mem_footprint'] > 127.9 ) \\\n",
    "    & ( group_system_best['A_mem_footprint'] < 257) \\\n",
    "    & ( group_system_best['avg_nz_row'] > 20) \\\n",
    "    & ( group_system_best['placement'] == 'diagonal') \\\n",
    "    & ( group_system_best['System'] == 'HawkAmdRome')\n",
    "    \n",
    "    select_str = '127.9 < A_mem_footprint < 257, avg_nz_row > 20\\ndf = 0.5,0.05, Best of System = HawkAmdRome'\n",
    "    groupreps_select_best = group_system_best[select_criterion]\n",
    "    groupreps_select_best = groupreps_select_best.round({\"var_coefficient\":2})\n",
    "\n",
    "    harry_plotter_box(groupreps_select_best, plot_x_axis, plot_y_axis, select_str, plot_id)"
   ]
  },
  {
   "cell_type": "markdown",
   "metadata": {},
   "source": [
    "# Q3 - FPGA"
   ]
  },
  {
   "cell_type": "code",
   "execution_count": null,
   "metadata": {},
   "outputs": [],
   "source": [
    "    # Q3: Impact of imbalance, all other features are “good”\n",
    "    # device = FPGA\n",
    "    # 128 < Mem_range < 256\n",
    "    # average nnz/row > 20\n",
    "    # Bandwidth = “~nnz/row” (κατά προτίμηση μαζεμένα γύρω από τη διαγώνιο τα nnz)\n",
    "    # X axis : stdev nnz/row\n",
    "    \n",
    "    plot_x_axis = ['std_nz_row']\n",
    "    plot_y_axis = ['gflops']\n",
    "    plot_id = 'Q3-FPGA'\n",
    "    select_criterion = ( group_system_best['mem_range'] == \"[128-256]\" ) \\\n",
    "    & ( group_system_best['avg_nz_row'] > 20) \\\n",
    "    & ( group_system_best['placement'] == 'diagonal') \\\n",
    "    & ( group_system_best['System'] == 'FPGA')\n",
    "    \n",
    "    select_str = '128 < A_mem_footprint < 256, avg_nz_row > 20\\ndiagonal, Best of System = FPGA'\n",
    "    groupreps_select_best = group_system_best[select_criterion]\n",
    "    groupreps_select_best = groupreps_select_best.round({\"std_nz_row\":0})\n",
    "\n",
    "    harry_plotter_box(groupreps_select_best, plot_x_axis, plot_y_axis, select_str, plot_id)"
   ]
  },
  {
   "cell_type": "code",
   "execution_count": null,
   "metadata": {},
   "outputs": [],
   "source": [
    "#     # Q3: Impact of imbalance, all other features are “good”\n",
    "#     # device = FPGA\n",
    "#     # Mem_range: > 128\n",
    "#     # average nnz/row > 40\n",
    "#     # Bandwidth = “~nnz/row” (κατά προτίμηση μαζεμένα γύρω από τη διαγώνιο τα nnz)\n",
    "#     # X axis : var_coefficient = std_nz_row / avg_nz_row\n",
    "    \n",
    "#     plot_x_axis = ['var_coefficient']\n",
    "#     plot_y_axis = ['gflops']\n",
    "#     plot_id = 'Q3-FPGA-var'\n",
    "#     select_criterion = ( group_system_best['mem_range'] == \"[256-512]\" ) \\\n",
    "#     & ( group_system_best['avg_nz_row'] > 20) \\\n",
    "#     & ( group_system_best['placement'] == 'diagonal') \\\n",
    "#     & ( group_system_best['System'] == 'FPGA')\n",
    "    \n",
    "#     select_str = '127.9 < A_mem_footprint < 257, avg_nz_row > 20\\ndiagonal, Best of System = FPGA'\n",
    "#     groupreps_select_best = group_system_best[select_criterion]\n",
    "#     groupreps_select_best = groupreps_select_best.round({\"var_coefficient\":3})\n",
    "\n",
    "#     harry_plotter_box(groupreps_select_best, plot_x_axis, plot_y_axis, select_str, plot_id)"
   ]
  },
  {
   "cell_type": "markdown",
   "metadata": {},
   "source": [
    "---\n",
    "# Q4 - GPU"
   ]
  },
  {
   "cell_type": "code",
   "execution_count": null,
   "metadata": {},
   "outputs": [],
   "source": [
    "    # Q4: Impact of irregularity, all other features are “good”\n",
    "    # device = GPU\n",
    "    # Mem_range: > 128\n",
    "    # average nnz/row > 40\n",
    "    # Stdev nnz/row in  [1, 8.03]\n",
    "    # X axis : bandwidth \n",
    "    \n",
    "    plot_x_axis = ['avg_bandwidth']\n",
    "    plot_y_axis = ['gflops']\n",
    "    plot_id = 'Q4-GPU'\n",
    "    select_criterion = ( group_system_best['A_mem_footprint'] > 127.9 ) \\\n",
    "    & ( group_system_best['avg_nz_row'] > 40) \\\n",
    "    & ( group_system_best['std_nz_row'] >= 1) \\\n",
    "    & ( group_system_best['std_nz_row'] <= 8.03) \\\n",
    "    & ( group_system_best['System'] == 'TeslaV100')\n",
    "    \n",
    "    select_str = '127.9 < A_mem_footprint, avg_nz_row > 40\\nstd_nz_row > 1, std_nz_row < 8.03, Best of System = TeslaV100'\n",
    "    groupreps_select_best = group_system_best[select_criterion]\n",
    "    groupreps_select_best = groupreps_select_best.round({\"avg_bandwidth\":-2})\n",
    "    \n",
    "    harry_plotter_box(groupreps_select_best, plot_x_axis, plot_y_axis, select_str, plot_id)"
   ]
  },
  {
   "cell_type": "markdown",
   "metadata": {},
   "source": [
    "# Q4 - CPU"
   ]
  },
  {
   "cell_type": "code",
   "execution_count": null,
   "metadata": {},
   "outputs": [],
   "source": [
    "    # Q4: Impact of irregularity, all other features are “good”\n",
    "    # device = CPU\n",
    "    # Mem_range: > 128,2< 256\n",
    "    # average nnz/row > 40\n",
    "    # Stdev nnz/row in  [1, 8.03]\n",
    "    # X axis : bandwidth \n",
    "    \n",
    "    plot_x_axis = ['avg_bandwidth']\n",
    "    plot_y_axis = ['gflops']\n",
    "    plot_id = 'Q4-CPU'\n",
    "    select_criterion = ( group_system_best['A_mem_footprint'] > 127.9 ) \\\n",
    "    & ( group_system_best['A_mem_footprint'] < 257) \\\n",
    "    & ( group_system_best['avg_nz_row'] > 20) \\\n",
    "    & ( group_system_best['std_nz_row'] >= 1) \\\n",
    "    & ( group_system_best['std_nz_row'] <= 8.03) \\\n",
    "    & ( group_system_best['System'] == 'HawkAmdRome')  # & (groupreps['nz'] > 100000)\n",
    "    \n",
    "    select_str = '127.9 < A_mem_footprint < 257, avg_nz_row > 20\\nstd_nz_row > 1, std_nz_row < 8.03, Best of System = HawkAmdRome'\n",
    "    groupreps_select_best = group_system_best[select_criterion]\n",
    "    groupreps_select_best = groupreps_select_best.round({\"avg_bandwidth\":-2})\n",
    "    \n",
    "    harry_plotter_box(groupreps_select_best, plot_x_axis, plot_y_axis, select_str, plot_id)"
   ]
  },
  {
   "cell_type": "markdown",
   "metadata": {},
   "source": [
    "# Q4 - FPGA"
   ]
  },
  {
   "cell_type": "code",
   "execution_count": null,
   "metadata": {},
   "outputs": [],
   "source": [
    "    # Q4: Impact of irregularity, all other features are “good”\n",
    "    # device = FPGA\n",
    "    # Mem_range: > 128\n",
    "    # average nnz/row > 40\n",
    "    # Stdev nnz/row in  [1, 8.03]\n",
    "    # X axis : bandwidth \n",
    "    \n",
    "    plot_x_axis = ['avg_bandwidth']\n",
    "    plot_y_axis = ['gflops']\n",
    "    plot_id = 'Q4-FPGA'\n",
    "    select_criterion = ( (group_system_best['mem_range'] == \"[128-256]\") |(group_system_best['mem_range'] == \"[256-512]\") | (group_system_best['mem_range'] == \"[512-1024]\")) \\\n",
    "    & ( group_system_best['avg_nz_row'] > 20) \\\n",
    "    & ( group_system_best['std_nz_row'] >= 1) \\\n",
    "    & ( group_system_best['std_nz_row'] <= 8.03) \\\n",
    "    & ( group_system_best['System'] == 'FPGA')  # & (groupreps['nz'] > 100000)\n",
    "    \n",
    "    select_str = '127.9 < A_mem_footprint, avg_nz_row > 20\\nstd_nz_row > 1, std_nz_row < 8.03, Best of System = FPGA'\n",
    "    groupreps_select_best = group_system_best[select_criterion]\n",
    "    groupreps_select_best = groupreps_select_best.round({\"avg_bandwidth\":-2})\n",
    "    \n",
    "    harry_plotter_box(groupreps_select_best, plot_x_axis, plot_y_axis, select_str, plot_id)"
   ]
  },
  {
   "cell_type": "markdown",
   "metadata": {},
   "source": [
    "# Q4 - extra (bandwidth_scaled : [0,1] )"
   ]
  },
  {
   "cell_type": "code",
   "execution_count": null,
   "metadata": {},
   "outputs": [],
   "source": [
    "    # Q4: Impact of irregularity, all other features are “good”\n",
    "    # device = GPU\n",
    "    # Mem_range: > 128\n",
    "    # average nnz/row > 40\n",
    "    # Stdev nnz/row in  [1, 8.03]\n",
    "    # X axis : avg_bandwidth_scaled\n",
    "    \n",
    "    plot_x_axis = ['avg_bandwidth_scaled']\n",
    "    plot_y_axis = ['gflops']\n",
    "    plot_id = 'Q4-GPU-extra'\n",
    "    select_criterion = ( group_system_best['A_mem_footprint'] > 127.9 ) \\\n",
    "    & ( group_system_best['avg_nz_row'] > 40) \\\n",
    "    & ( group_system_best['std_nz_row'] >= 1) \\\n",
    "    & ( group_system_best['std_nz_row'] <= 8.03) \\\n",
    "    & ( group_system_best['System'] == 'TeslaV100')\n",
    "    \n",
    "    select_str = '127.9 < A_mem_footprint, avg_nz_row > 40\\nstd_nz_row > 1, std_nz_row < 8.03, Best of System = TeslaV100'\n",
    "    groupreps_select_best = group_system_best[select_criterion]\n",
    "    groupreps_select_best = groupreps_select_best.round({\"avg_bandwidth_scaled\":4})\n",
    "    \n",
    "    harry_plotter_box(groupreps_select_best, plot_x_axis, plot_y_axis, select_str, plot_id)"
   ]
  },
  {
   "cell_type": "code",
   "execution_count": null,
   "metadata": {},
   "outputs": [],
   "source": [
    "    # Q4: Impact of irregularity, all other features are “good”\n",
    "    # device = CPU\n",
    "    # Mem_range: > 128,2< 256\n",
    "    # average nnz/row > 40\n",
    "    # Stdev nnz/row in  [1, 8.03]\n",
    "    # X axis : avg_bandwidth_scaled \n",
    "    \n",
    "    plot_x_axis = ['avg_bandwidth_scaled']\n",
    "    plot_y_axis = ['gflops']\n",
    "    plot_id = 'Q4-CPU-extra'\n",
    "    select_criterion = ( group_system_best['A_mem_footprint'] > 127.9 ) \\\n",
    "    & ( group_system_best['A_mem_footprint'] < 257) \\\n",
    "    & ( group_system_best['avg_nz_row'] > 20) \\\n",
    "    & ( group_system_best['std_nz_row'] >= 1) \\\n",
    "    & ( group_system_best['std_nz_row'] <= 8.03) \\\n",
    "    & ( group_system_best['System'] == 'HawkAmdRome')\n",
    "    \n",
    "    select_str = '127.9 < A_mem_footprint < 257, avg_nz_row > 20\\nstd_nz_row > 1, std_nz_row < 8.03, Best of System = HawkAmdRome'\n",
    "    groupreps_select_best = group_system_best[select_criterion]\n",
    "    groupreps_select_best = groupreps_select_best.round({\"avg_bandwidth_scaled\":4})\n",
    "    \n",
    "    harry_plotter_box(groupreps_select_best, plot_x_axis, plot_y_axis, select_str, plot_id)\n"
   ]
  },
  {
   "cell_type": "code",
   "execution_count": null,
   "metadata": {},
   "outputs": [],
   "source": [
    "    # Q4: Impact of irregularity, all other features are “good”\n",
    "    # device = FPGA\n",
    "    # Mem_range: > 128\n",
    "    # average nnz/row > 40\n",
    "    # Stdev nnz/row in  [1, 8.03]\n",
    "    # X axis : avg_bandwidth_scaled \n",
    "    \n",
    "    plot_x_axis = ['avg_bandwidth_scaled']\n",
    "    plot_y_axis = ['gflops']\n",
    "    plot_id = 'Q4-FPGA-extra'\n",
    "    select_criterion = ( (group_system_best['mem_range'] == \"[128-256]\") |(group_system_best['mem_range'] == \"[256-512]\") | (group_system_best['mem_range'] == \"[512-1024]\")) \\\n",
    "    & ( group_system_best['avg_nz_row'] > 20) \\\n",
    "    & ( group_system_best['std_nz_row'] >= 1) \\\n",
    "    & ( group_system_best['std_nz_row'] <= 8.03) \\\n",
    "    & ( group_system_best['System'] == 'FPGA')\n",
    "    \n",
    "    select_str = '127.9 < A_mem_footprint, avg_nz_row > 20\\nstd_nz_row > 1, std_nz_row < 8.03, Best of System = FPGA'\n",
    "    groupreps_select_best = group_system_best[select_criterion]\n",
    "    groupreps_select_best = groupreps_select_best.round({\"avg_bandwidth_scaled\":4})\n",
    "    \n",
    "    harry_plotter_box(groupreps_select_best, plot_x_axis, plot_y_axis, select_str, plot_id)"
   ]
  },
  {
   "cell_type": "markdown",
   "metadata": {},
   "source": [
    "---\n",
    "# Validation matrices \n",
    "# Read GPU Data (panastas)"
   ]
  },
  {
   "cell_type": "code",
   "execution_count": 79,
   "metadata": {},
   "outputs": [],
   "source": [
    "header_names = ['mtx_name','distribution','placement','seed',\n",
    "                'm','n','nz','density','A_mem_footprint','mem_range',\n",
    "                'avg_nz_row','std_nz_row',\n",
    "                'avg_bandwidth','std_bandwidth','avg_bandwidth_scaled','std_bandwidth_scaled',\n",
    "                'skew_coeff', 'avg_num_neighbours','cross_row_similarity',\n",
    "                'implementation','time','gflops','W_avg','J_estimated', 'System']"
   ]
  },
  {
   "cell_type": "code",
   "execution_count": 80,
   "metadata": {},
   "outputs": [],
   "source": [
    "def find_class(mem_footprint):\n",
    "    low_mb_list =   [4,8, 16,32,64, 128,256,512, 1024,2048, 4096] # removed largest mem range (2048-4096)\n",
    "    high_mb_list =  [8,16,32,64,128,256,512,1024,2048,4096, 8192]\n",
    "    for i in range(len(low_mb_list)):\n",
    "        if(mem_footprint>=low_mb_list[i] and mem_footprint<=high_mb_list[i]):\n",
    "            pos = i\n",
    "            mem_range = '['+str(low_mb_list[pos])+'-'+str(high_mb_list[pos])+']'\n",
    "            return mem_range\n",
    "    return str(-1)"
   ]
  },
  {
   "cell_type": "code",
   "execution_count": 81,
   "metadata": {},
   "outputs": [
    {
     "name": "stdout",
     "output_type": "stream",
     "text": [
      "   mtx_name distribution placement seed       m       n      nz   density  \\\n",
      "0  scircuit       unused    unused    0  170998  170998  958936  0.003279   \n",
      "1  scircuit       unused    unused    0  170998  170998  958936  0.003279   \n",
      "\n",
      "   A_mem_footprint mem_range  ...  std_bandwidth_scaled  skew_coeff  \\\n",
      "0        13.327614    [8-16]  ...              0.278742   61.947156   \n",
      "1        13.327614    [8-16]  ...              0.278742   61.947156   \n",
      "\n",
      "   avg_num_neighbours  cross_row_similarity  implementation      time  \\\n",
      "0            0.803365              0.633019          CSR5_9  0.000044   \n",
      "1            0.803365              0.633019          CSR5_9  0.000043   \n",
      "\n",
      "    gflops    W_avg  J_estimated     System  \n",
      "0  44.0416  150.298     0.005961  TeslaV100  \n",
      "1  44.7557  144.489     0.005720  TeslaV100  \n",
      "\n",
      "[2 rows x 25 columns]\n"
     ]
    }
   ],
   "source": [
    "def modify_footprint(v):\n",
    "    if(v[\"implementation\"]==\"CSR5_9\"):\n",
    "        return (v[\"A_mem_footprint\"] - 4*(v[\"m\"]+v[\"n\"]))/(1024*1024.0)\n",
    "    else:\n",
    "        return v[\"A_mem_footprint\"]\n",
    "\n",
    "dtypes=['D']\n",
    "for dtype in dtypes:\n",
    "    #Unified read\n",
    "    fname = \"silver1-TeslaV100_dtype-%s_run_validation_matrices.csv\" % dtype\n",
    "    gpu_data = pd.read_csv('../Benchmarks/%s' % fname, names = ['mtx_name','distribution','placement','diagonal_factor','seed',\n",
    "                                                                'm','n','nz','density','A_mem_footprint','mem_range',\n",
    "                                                                'avg_nz_row','std_nz_row',\n",
    "                                                                'avg_bandwidth','std_bandwidth','avg_scattering','std_scattering',\n",
    "                                                                'implementation','time','gflops','W_avg', 'J_estimated'])\n",
    "\n",
    "    def create_complete_gpu_csv(gpu_dataframe):\n",
    "        gpu_dataframe[\"mtx_name\"] = gpu_dataframe[\"mtx_name\"].apply(lambda x: x.split(\"/\")[-1].split(\".\")[0])\n",
    "        vm_features = pd.read_csv(\"../Benchmarks/validation_matrices_features.csv\", sep=\"\\t\")\n",
    "        mtx_names = list(vm_features[\"matrix\"]) # same as : list(set(inputdata_GPU[\"mtx_name\"]))\n",
    "\n",
    "        inputvaldata_GPU = pd.DataFrame(columns=header_names)\n",
    "        \n",
    "        for mtx_name in mtx_names:\n",
    "            for index, curr in gpu_dataframe[gpu_dataframe[\"mtx_name\"] == mtx_name].iterrows():\n",
    "                mtx_name = mtx_name\n",
    "                distribution = \"unused\"\n",
    "                placement = \"unused\"\n",
    "                seed = curr[\"seed\"]\n",
    "                m = curr[\"m\"]\n",
    "                n = curr[\"n\"]\n",
    "                nz = curr[\"nz\"]\n",
    "                density = nz/(m*n)*100.0\n",
    "                A_mem_footprint = curr[\"A_mem_footprint\"]\n",
    "                mem_range = find_class((nz*(64+32)+32*(m+1))/(8*1024*1024))\n",
    "                avg_nz_row = list(vm_features[vm_features[\"matrix\"]==mtx_name][\"nnz-r-avg\"])[0]\n",
    "                std_nz_row = list(vm_features[vm_features[\"matrix\"]==mtx_name][\"nnz-r-std\"])[0]\n",
    "                avg_bandwidth = list(vm_features[vm_features[\"matrix\"]==mtx_name][\"bw-avg\"])[0]*n\n",
    "                std_bandwidth = list(vm_features[vm_features[\"matrix\"]==mtx_name][\"bw-std\"])[0]*n\n",
    "                avg_bandwidth_scaled = avg_bandwidth/n\n",
    "                std_bandwidth_scaled = std_bandwidth/n\n",
    "                # avg_scattering = list(vm_features[vm_features[\"matrix\"]==mtx_name][\"sc-avg\"])[0]\n",
    "                # std_scattering = list(vm_features[vm_features[\"matrix\"]==mtx_name][\"sc-std\"])[0]\n",
    "                # avg_scattering_scaled = avg_scattering*n\n",
    "                # std_scattering_scaled = std_scattering*n\n",
    "                # skew_coeff = (list(vm_features[vm_features[\"matrix\"]==mtx_name][\"nnz-r-max\"])[0] - avg_nz_row)/avg_nz_row\n",
    "                skew_coeff = list(vm_features[vm_features[\"matrix\"]==mtx_name][\"skew_coeff\"])[0]\n",
    "                avg_num_neighbours = list(vm_features[vm_features[\"matrix\"]==mtx_name][\"neigh-avg\"])[0]\n",
    "                cross_row_similarity = list(vm_features[vm_features[\"matrix\"]==mtx_name][\"cross_row_sim-avg\"])[0]\n",
    "                \n",
    "                implementation = curr[\"implementation\"]\n",
    "                time = curr[\"time\"]\n",
    "                gflops = curr[\"gflops\"]\n",
    "                W_avg = curr[\"W_avg\"]\n",
    "                J_estimated = curr[\"J_estimated\"]\n",
    "                inputvaldata_GPU = inputvaldata_GPU.append({'mtx_name' : mtx_name, 'distribution' : distribution, 'placement' : placement, 'seed' : seed, \n",
    "                                                            'm' : m, 'n' : n, 'nz' : nz, 'density' : density, 'A_mem_footprint' : A_mem_footprint, 'mem_range' : mem_range, \n",
    "                                                            'avg_nz_row' : avg_nz_row, 'std_nz_row' : std_nz_row, \n",
    "                                                            'avg_bandwidth' : avg_bandwidth, 'std_bandwidth' : std_bandwidth, 'avg_bandwidth_scaled' : avg_bandwidth_scaled, 'std_bandwidth_scaled' : std_bandwidth_scaled,\n",
    "                                                            'skew_coeff' : skew_coeff, 'avg_num_neighbours' : avg_num_neighbours, 'cross_row_similarity' : cross_row_similarity,\n",
    "                                                            'implementation' : implementation, 'time' : time, 'gflops' : gflops, 'W_avg' : W_avg, 'J_estimated' : J_estimated},\n",
    "                                                           ignore_index=True)\n",
    "        inputvaldata_GPU['System'] = 'TeslaV100'\n",
    "        inputvaldata_GPU[\"A_mem_footprint\"] = inputvaldata_GPU.apply(lambda x: modify_footprint(x), axis=1)\n",
    "        return inputvaldata_GPU\n",
    "    \n",
    "    gpu_data = create_complete_gpu_csv(gpu_data)\n",
    "    fname2 = \"silver1-TeslaV100_dtype-%s_run_validation_matrices_modified_features.csv\" % dtype\n",
    "    gpu_data.to_csv('../Benchmarks/%s' % fname2, header=False, index=False)\n",
    "    print(gpu_data.head(2))"
   ]
  },
  {
   "cell_type": "markdown",
   "metadata": {},
   "source": [
    "# Read CPU Data (dgal)\n",
    "this is not needed anymore, after dgal parsed results of validation matrices combined with their features"
   ]
  },
  {
   "cell_type": "code",
   "execution_count": 82,
   "metadata": {},
   "outputs": [],
   "source": [
    "    fname = \"hawk_validation_matrices_t128_d.csv\"\n",
    "    cpu_data = pd.read_csv('../Benchmarks/%s' % fname, names = ['mtx_name','distribution','placement','seed',\n",
    "                'm','n','nz','density','A_mem_footprint','mem_range',\n",
    "                'avg_nz_row','std_nz_row',\n",
    "                'avg_bandwidth','std_bandwidth','avg_bandwidth_scaled','std_bandwidth_scaled',\n",
    "                'avg_scattering','std_scattering','avg_scattering_scaled','std_scattering_scaled',\n",
    "                'skew_coeff',\n",
    "                'implementation','time','gflops','W_avg','J_estimated', 'System'])\n",
    "\n",
    "    def create_complete_cpu_csv(cpu_dataframe):\n",
    "        vm_features = pd.read_csv(\"../Benchmarks/validation_matrices_features.csv\", sep=\"\\t\")\n",
    "        mtx_names = list(vm_features[\"matrix\"]) # same as : list(set(inputdata_GPU[\"mtx_name\"]))\n",
    "\n",
    "        inputvaldata_CPU = pd.DataFrame(columns=header_names)\n",
    "        \n",
    "        for mtx_name in mtx_names:\n",
    "            for index, curr in cpu_dataframe[cpu_dataframe[\"mtx_name\"] == mtx_name].iterrows():\n",
    "                mtx_name = mtx_name\n",
    "                distribution = \"unused\"\n",
    "                placement = \"unused\"\n",
    "                diagonal_factor = 0\n",
    "                seed = 0\n",
    "                m = curr[\"m\"]\n",
    "                n = curr[\"n\"]\n",
    "                nz = curr[\"nz\"]\n",
    "                density = nz/(m*n)*100.0\n",
    "                A_mem_footprint = curr[\"A_mem_footprint\"]\n",
    "                mem_range = find_class((nz*(64+32)+32*(m+1))/(8*1024*1024))\n",
    "                avg_nz_row = list(vm_features[vm_features[\"matrix\"]==mtx_name][\"nnz-r-avg\"])[0]\n",
    "                std_nz_row = list(vm_features[vm_features[\"matrix\"]==mtx_name][\"nnz-r-std\"])[0]\n",
    "                avg_bandwidth = list(vm_features[vm_features[\"matrix\"]==mtx_name][\"bw-avg\"])[0]*n\n",
    "                std_bandwidth = list(vm_features[vm_features[\"matrix\"]==mtx_name][\"bw-std\"])[0]*n\n",
    "                avg_bandwidth_scaled = avg_bandwidth/n\n",
    "                std_bandwidth_scaled = std_bandwidth/n\n",
    "                # avg_scattering = list(vm_features[vm_features[\"matrix\"]==mtx_name][\"sc-avg\"])[0]\n",
    "                # std_scattering = list(vm_features[vm_features[\"matrix\"]==mtx_name][\"sc-std\"])[0]\n",
    "                # avg_scattering_scaled = avg_scattering*n\n",
    "                # std_scattering_scaled = std_scattering*n\n",
    "                # skew_coeff = (list(vm_features[vm_features[\"matrix\"]==mtx_name][\"nnz-r-max\"])[0] - avg_nz_row)/avg_nz_row\n",
    "                skew_coeff = list(vm_features[vm_features[\"matrix\"]==mtx_name][\"skew_coeff\"])[0]\n",
    "                avg_num_neighbours = list(vm_features[vm_features[\"matrix\"]==mtx_name][\"neigh-avg\"])[0]\n",
    "                cross_row_similarity = list(vm_features[vm_features[\"matrix\"]==mtx_name][\"cross_row_sim-avg\"])[0]\n",
    "                                \n",
    "                implementation = curr[\"implementation\"]\n",
    "                time = curr[\"time\"]\n",
    "                gflops = curr[\"gflops\"]\n",
    "                W_avg = curr[\"W_avg\"]\n",
    "                J_estimated = curr[\"J_estimated\"]\n",
    "                inputvaldata_CPU = inputvaldata_CPU.append({'mtx_name' : mtx_name, 'distribution' : distribution, 'placement' : placement, 'seed' : seed, \n",
    "                                                              'm' : m, 'n' : n, 'nz' : nz, 'density' : density, 'A_mem_footprint' : A_mem_footprint, 'mem_range' : mem_range, \n",
    "                                                              'avg_nz_row' : avg_nz_row, 'std_nz_row' : std_nz_row, \n",
    "                                                              'avg_bandwidth' : avg_bandwidth, 'std_bandwidth' : std_bandwidth, 'avg_bandwidth_scaled' : avg_bandwidth_scaled, 'std_bandwidth_scaled' : std_bandwidth_scaled,\n",
    "                                                              #'avg_scattering' : avg_scattering, 'std_scattering' : std_scattering, 'avg_scattering_scaled' : avg_scattering_scaled, 'std_scattering_scaled' : std_scattering_scaled,\n",
    "                                                              'skew_coeff' : skew_coeff, 'avg_num_neighbours' : avg_num_neighbours, 'cross_row_similarity' : cross_row_similarity,\n",
    "                                                              'implementation' : implementation, 'time' : time, 'gflops' : gflops, 'W_avg' : W_avg, 'J_estimated' : J_estimated},\n",
    "                                                             ignore_index=True)\n",
    "        inputvaldata_CPU['System'] = 'HawkAmdRome'\n",
    "        return inputvaldata_CPU\n",
    "    \n",
    "    cpu_data = create_complete_cpu_csv(cpu_data)\n",
    "    fname2 = \"hawk_validation_matrices_t128_d_modified_features.csv\"\n",
    "    cpu_data.to_csv('../Benchmarks/%s' % fname2, header=False, index=False)\n",
    "    # print(cpu_data.head(2))"
   ]
  },
  {
   "cell_type": "markdown",
   "metadata": {},
   "source": [
    "# Read FPGA Data (pmpakos)"
   ]
  },
  {
   "cell_type": "code",
   "execution_count": 83,
   "metadata": {},
   "outputs": [],
   "source": [
    "    fname = \"results_validation_matrices.csv\"\n",
    "    fpga_data = pd.read_csv('../FPGA_stuff/%s' % fname, names = [\"matrix\",\"nr_rows\",\"nr_cols\",\"nr_nnz\",\"density\",\n",
    "                                                                 \"mem_footprint\",\"implementation\",\"runtime_iter\",\n",
    "                                                                 \"gflops\",\"W_avg\",\"J_estimated\"])\n",
    "\n",
    "    def create_complete_fpga_csv(fpga_dataframe):\n",
    "        vm_features = pd.read_csv(\"../Benchmarks/validation_matrices_features.csv\", sep=\"\\t\")\n",
    "        mtx_names = list(vm_features[\"matrix\"]) # same as : list(set(inputdata_GPU[\"mtx_name\"]))\n",
    "\n",
    "        inputvaldata_FPGA = pd.DataFrame(columns=header_names)\n",
    "        \n",
    "        for mtx_name in mtx_names:\n",
    "            for index, curr in fpga_dataframe[fpga_dataframe[\"matrix\"] == mtx_name].iterrows():\n",
    "                mtx_name = mtx_name\n",
    "                distribution = \"unused\"\n",
    "                placement = \"unused\"\n",
    "                diagonal_factor = 0\n",
    "                seed = 0\n",
    "                m = curr[\"nr_rows\"]\n",
    "                n = curr[\"nr_cols\"]\n",
    "                nz = curr[\"nr_nnz\"]\n",
    "                density = nz/(m*n)*100.0\n",
    "                A_mem_footprint = curr[\"mem_footprint\"]\n",
    "                mem_range = find_class((nz*(64+32)+32*(m+1))/(8*1024*1024))\n",
    "                avg_nz_row = list(vm_features[vm_features[\"matrix\"]==mtx_name][\"nnz-r-avg\"])[0]\n",
    "                std_nz_row = list(vm_features[vm_features[\"matrix\"]==mtx_name][\"nnz-r-std\"])[0]\n",
    "                avg_bandwidth = list(vm_features[vm_features[\"matrix\"]==mtx_name][\"bw-avg\"])[0]*n\n",
    "                std_bandwidth = list(vm_features[vm_features[\"matrix\"]==mtx_name][\"bw-std\"])[0]*n\n",
    "                avg_bandwidth_scaled = avg_bandwidth/n\n",
    "                std_bandwidth_scaled = std_bandwidth/n\n",
    "                # avg_scattering = list(vm_features[vm_features[\"matrix\"]==mtx_name][\"sc-avg\"])[0]\n",
    "                # std_scattering = list(vm_features[vm_features[\"matrix\"]==mtx_name][\"sc-std\"])[0]\n",
    "                # avg_scattering_scaled = avg_scattering*n\n",
    "                # std_scattering_scaled = std_scattering*n\n",
    "                # skew_coeff = (list(vm_features[vm_features[\"matrix\"]==mtx_name][\"nnz-r-max\"])[0] - avg_nz_row)/avg_nz_row\n",
    "                skew_coeff = list(vm_features[vm_features[\"matrix\"]==mtx_name][\"skew_coeff\"])[0]\n",
    "                avg_num_neighbours = list(vm_features[vm_features[\"matrix\"]==mtx_name][\"neigh-avg\"])[0]\n",
    "                cross_row_similarity = list(vm_features[vm_features[\"matrix\"]==mtx_name][\"cross_row_sim-avg\"])[0]\n",
    "                                \n",
    "                implementation = curr[\"implementation\"]\n",
    "                time = curr[\"runtime_iter\"]\n",
    "                gflops = curr[\"gflops\"]\n",
    "                W_avg = curr[\"W_avg\"]\n",
    "                J_estimated = curr[\"J_estimated\"]\n",
    "                inputvaldata_FPGA = inputvaldata_FPGA.append({'mtx_name' : mtx_name, 'distribution' : distribution, 'placement' : placement, 'seed' : seed, \n",
    "                                                              'm' : m, 'n' : n, 'nz' : nz, 'density' : density, 'A_mem_footprint' : A_mem_footprint, 'mem_range' : mem_range, \n",
    "                                                              'avg_nz_row' : avg_nz_row, 'std_nz_row' : std_nz_row, \n",
    "                                                              'avg_bandwidth' : avg_bandwidth, 'std_bandwidth' : std_bandwidth, 'avg_bandwidth_scaled' : avg_bandwidth_scaled, 'std_bandwidth_scaled' : std_bandwidth_scaled,\n",
    "                                                              #'avg_scattering' : avg_scattering, 'std_scattering' : std_scattering, 'avg_scattering_scaled' : avg_scattering_scaled, 'std_scattering_scaled' : std_scattering_scaled,\n",
    "                                                              'skew_coeff' : skew_coeff, 'avg_num_neighbours' : avg_num_neighbours, 'cross_row_similarity' : cross_row_similarity,\n",
    "                                                              'implementation' : implementation, 'time' : time, 'gflops' : gflops, 'W_avg' : W_avg, 'J_estimated' : J_estimated},\n",
    "                                                             ignore_index=True)\n",
    "        inputvaldata_FPGA['System'] = 'FPGA'\n",
    "        return inputvaldata_FPGA\n",
    "    \n",
    "    fpga_data = create_complete_fpga_csv(fpga_data)\n",
    "    fname2 = \"xilinx_spmv_validation_matrices_dtype-D.csv\"\n",
    "    fpga_data.to_csv('../Benchmarks/%s' % fname2, header=False, index=False)\n",
    "    # print(fpga_data.head(2))"
   ]
  },
  {
   "cell_type": "markdown",
   "metadata": {},
   "source": [
    "---"
   ]
  },
  {
   "cell_type": "markdown",
   "metadata": {},
   "source": [
    "# Ready to read validation matrices complete dataset!"
   ]
  },
  {
   "cell_type": "code",
   "execution_count": 84,
   "metadata": {},
   "outputs": [],
   "source": [
    "dtypes=['D']\n",
    "\n",
    "for dtype in dtypes:\n",
    "    #Unified read\n",
    "    fname = \"silver1-TeslaV100_dtype-%s_run_validation_matrices_modified_features.csv\" % dtype\n",
    "    inputvaldata_GPU = pd.read_csv('../Benchmarks/%s' % fname, names = header_names,index_col=False)"
   ]
  },
  {
   "cell_type": "code",
   "execution_count": 85,
   "metadata": {},
   "outputs": [],
   "source": [
    "    # fname = \"hawk_validation_matrices_t64_d.csv\"\n",
    "    # inputvaldata_CPU64 = pd.read_csv('../Benchmarks/%s' % fname, names = header_names,index_col=False)"
   ]
  },
  {
   "cell_type": "code",
   "execution_count": 86,
   "metadata": {},
   "outputs": [],
   "source": [
    "    fname = \"hawk_validation_matrices_t128_d_modified_features.csv\"\n",
    "    inputvaldata_CPU128 = pd.read_csv('../Benchmarks/%s' % fname, names = header_names,index_col=False)  "
   ]
  },
  {
   "cell_type": "code",
   "execution_count": 87,
   "metadata": {},
   "outputs": [],
   "source": [
    "    fname = \"xilinx_spmv_validation_matrices_dtype-%s.csv\" % dtype\n",
    "    inputvaldata_FPGA = pd.read_csv('../Benchmarks/%s' % fname, names = header_names, index_col=False)\n",
    "    # inputvaldata_FPGA = inputvaldata_FPGA[inputvaldata_FPGA[\"gflops\"]>0]"
   ]
  },
  {
   "cell_type": "markdown",
   "metadata": {},
   "source": [
    "# Merge results"
   ]
  },
  {
   "cell_type": "code",
   "execution_count": 88,
   "metadata": {},
   "outputs": [],
   "source": [
    "    # Merge the results\n",
    "    inputvaldata = pd.concat([inputvaldata_GPU,inputvaldata_CPU128, inputvaldata_FPGA]) # Group per reps, take mean\n",
    "    \n",
    "    # header_names without 'time','gflops','W_avg','J_estimated'\n",
    "    groupvalreps = inputvaldata.groupby( ['mtx_name','distribution','placement','seed',\n",
    "                                          'm','n','nz','density','A_mem_footprint','mem_range',\n",
    "                                          'avg_nz_row','std_nz_row',\n",
    "                                          'avg_bandwidth','std_bandwidth','avg_bandwidth_scaled','std_bandwidth_scaled',\n",
    "                                          'skew_coeff','avg_num_neighbours','cross_row_similarity',\n",
    "                                          'implementation','System']).mean().reset_index()\n",
    "    # print(groupvalreps[groupvalreps[\"mtx_name\"]==\"circuit5M\"])"
   ]
  },
  {
   "cell_type": "code",
   "execution_count": 89,
   "metadata": {},
   "outputs": [],
   "source": [
    "    # Group per system, take best\n",
    "    # header_names without 'time','gflops','W_avg','J_estimated', 'implementation'\n",
    "    # Curiously, I have to also remove \"A_mem_footprint\", because for CSR5 it reports different mem_footprint\n",
    "    # for the same matrix, leading to a different representation in groupby\n",
    "    groupval_system = groupvalreps.groupby(['mtx_name','distribution','placement','seed',\n",
    "                                            'm','n','nz','density','mem_range',\n",
    "                                            'avg_nz_row','std_nz_row',\n",
    "                                            'avg_bandwidth','std_bandwidth','avg_bandwidth_scaled','std_bandwidth_scaled',\n",
    "                                            'skew_coeff','avg_num_neighbours','cross_row_similarity',\n",
    "                                            'System'], as_index = False)\n",
    "\n",
    "    reslist = []\n",
    "    \n",
    "    for desc, experiment in groupval_system:\n",
    "        best_format = experiment['implementation'].iloc[experiment['gflops'].argmax()]\n",
    "        outrow = experiment[experiment['implementation'] == best_format]\n",
    "        outrow = outrow[header_names] # reorder column because they are mixed by group-by\n",
    "        reslist.append(outrow.values.tolist()[0])\n",
    "\n",
    "    group_val_system_best = pd.DataFrame(reslist, columns = header_names)\n",
    "    # print(group_val_system_best[group_val_system_best[\"mtx_name\"]==\"circuit5M\"])"
   ]
  },
  {
   "cell_type": "markdown",
   "metadata": {},
   "source": [
    "<!-- # some indicative plots -->\n",
    "# GPU"
   ]
  },
  {
   "cell_type": "code",
   "execution_count": 101,
   "metadata": {},
   "outputs": [],
   "source": [
    "    # Plot TeslaV100 only\n",
    "    plot_x_axis = 'mtx_name'\n",
    "    plot_y_axis = 'gflops'\n",
    "    plot_id = 'Validation-GPU'\n",
    "    \n",
    "    select_criterion = ( group_val_system_best['System'] == 'TeslaV100')\n",
    "    select_str = 'Validation TeslaV100, 0.7v_nz < synth_nz < 1.3v_nz\\n0.7v_m < synth_m < 1.3v_m 0.7v_avg_nz_r < synth_avg_nz_r < 1.5v_avg_nz_r'\n",
    "    groupvalreps_select_best = group_val_system_best[select_criterion]\n",
    "\n",
    "    # groupvalreps_select_sorted = groupvalreps_select_best.sort_values('gflops')\n",
    "    groupvalreps_select_sorted = groupvalreps_select_best.sort_values('A_mem_footprint')\n",
    "    \n",
    "    fig, axs = plt.subplots()\n",
    "    fig.subplots_adjust(left=.1, bottom=.32, right=.99, top=.88)\n",
    "    plt.xticks(rotation=90)\n",
    "    \n",
    "    group_system_best_part = group_system_best[group_system_best['System'] == 'TeslaV100']\n",
    "    \n",
    "    df_empty = True    \n",
    "    for index, row in groupvalreps_select_sorted.iterrows():\n",
    "        pd.options.mode.chained_assignment = None  # default='warn'\n",
    "        similar_synthetic = group_system_best_part[True \\\n",
    "                                                  & (group_system_best_part['nz'] <= row['nz']*1.3) \\\n",
    "                                                  & (group_system_best_part['nz'] >= row['nz']*0.7) \\\n",
    "                                                  & (group_system_best_part['m'] <= row['m']*1.3) \\\n",
    "                                                  & (group_system_best_part['m'] >= row['m']*0.7) \\\n",
    "                                                  & (group_system_best_part['avg_nz_row'] <= row['avg_nz_row']*1.5) \\\n",
    "                                                  & (group_system_best_part['avg_nz_row'] >= row['avg_nz_row']*0.7) \\\n",
    "                                                  #& (group_system_best_part['avg_bandwidth'] < row['avg_bandwidth']*2) \\\n",
    "                                                  #& (group_system_best_part['avg_bandwidth'] > row['avg_bandwidth']*0.5) \\\n",
    "                                                  #& (group_system_best_part['std_bandwidth'] < row['std_bandwidth']*1.2) \\\n",
    "                                                  #& (group_system_best_part['std_bandwidth'] > row['std_bandwidth']*0.8) \\\n",
    "                                                  #& (group_system_best_part['avg_scattering'] < row['avg_scattering']*1.2) \\\n",
    "                                                  #& (group_system_best_part['avg_scattering'] > row['avg_scattering']*0.8) \\\n",
    "                                                  #& (group_system_best_part['std_scattering'] < row['std_scattering']*1.2) \\\n",
    "                                                  #& (group_system_best_part['std_scattering'] > row['std_scattering']*0.8) \\\n",
    "                                                 ]\n",
    "        # similar_synthetic['mtx_name'] = row['mtx_name']\n",
    "        # in parentheses we see how many \"similar\" matrices are found for each validation matrix\n",
    "        # similar_synthetic['mtx_name'] = \"\".join([row['mtx_name'],\" (\",str(similar_synthetic.shape[0]), \")\"])\n",
    "        similar_synthetic['mtx_name'] = \"\".join([row['mtx_name'],\" (\",str(round(row['A_mem_footprint'],1)), \" - \",str(similar_synthetic.shape[0]), \")\"])\n",
    "        \n",
    "        if similar_synthetic.empty:\n",
    "            similar_synthetic = pd.DataFrame([[row['mtx_name']] + [0]*(len(group_system_best_part.columns)-1)], columns = group_system_best_part.columns)\n",
    "        if df_empty:\n",
    "            synthetic_neighbors = similar_synthetic\n",
    "            df_empty = False\n",
    "        else:\n",
    "            synthetic_neighbors = pd.concat([synthetic_neighbors, similar_synthetic])\n",
    "\n",
    "    sns_plot = sns.boxplot(data=synthetic_neighbors, x='mtx_name', y=plot_y_axis, ax=axs)\n",
    "    sns_plot = sns.scatterplot(data=groupvalreps_select_sorted, x=plot_x_axis, y=plot_y_axis, ax=axs)\n",
    "    \n",
    "    axs.set_title('Dataset %s' %(select_str))\n",
    "    select_str_id = select_str.replace('=', 'eq').replace('<', 'l').replace('>', 'g').replace(', ', '_').replace(',', '_').replace('\\n', '_').replace(' ', '-')\n",
    "    fig.savefig('./Plot_tries/%s_Select-%s_x-%s_y-%s.pdf' % (plot_id, select_str_id, plot_x_axis, plot_y_axis))\n",
    "    plt.close()"
   ]
  },
  {
   "cell_type": "markdown",
   "metadata": {},
   "source": [
    "# CPU"
   ]
  },
  {
   "cell_type": "code",
   "execution_count": 106,
   "metadata": {},
   "outputs": [],
   "source": [
    "    # Plot HawkAmdRome only\n",
    "    plot_x_axis = 'mtx_name'\n",
    "    plot_y_axis = 'gflops'\n",
    "    plot_id = 'Validation-CPU'\n",
    "    \n",
    "    select_criterion = ( group_val_system_best['System'] == 'HawkAmdRome')\n",
    "    select_str = 'Validation HawkAmdRome, 0.7v_nz < synth_nz < 1.3v_nz\\n0.7v_m < synth_m < 1.3v_m 0.7v_avg_nz_r < synth_avg_nz_r < 1.5v_avg_nz_r'\n",
    "    groupvalreps_select_best = group_val_system_best[select_criterion]\n",
    "\n",
    "    #groupvalreps_select_sorted = groupvalreps_select_best.sort_values('gflops')\n",
    "    groupvalreps_select_sorted = groupvalreps_select_best.sort_values('A_mem_footprint')\n",
    "    \n",
    "    fig, axs = plt.subplots()\n",
    "    fig.subplots_adjust(left=.1, bottom=.32, right=.99, top=.88)\n",
    "    plt.xticks(rotation=90)\n",
    "    \n",
    "    group_system_best_part = group_system_best[group_system_best['System'] == 'HawkAmdRome']\n",
    "    \n",
    "    df_empty = True    \n",
    "    for index, row in groupvalreps_select_sorted.iterrows():\n",
    "        #print(row)\n",
    "        pd.options.mode.chained_assignment = None  # default='warn'\n",
    "        similar_synthetic = group_system_best_part[True \\\n",
    "                                                  & (group_system_best_part['nz'] <= row['nz']*1.3) \\\n",
    "                                                  & (group_system_best_part['nz'] >= row['nz']*0.7) \\\n",
    "                                                  & (group_system_best_part['m'] <= row['m']*1.3) \\\n",
    "                                                  & (group_system_best_part['m'] >= row['m']*0.7) \\\n",
    "                                                  & (group_system_best_part['avg_nz_row'] <= row['avg_nz_row']*1.5) \\\n",
    "                                                  & (group_system_best_part['avg_nz_row'] >= row['avg_nz_row']*0.7) \\\n",
    "                                                  #& (group_system_best_part['avg_bandwidth'] < row['avg_bandwidth']*2) \\\n",
    "                                                  #& (group_system_best_part['avg_bandwidth'] > row['avg_bandwidth']*0.5) \\\n",
    "                                                  #& (group_system_best_part['std_bandwidth'] < row['std_bandwidth']*1.2) \\\n",
    "                                                  #& (group_system_best_part['std_bandwidth'] > row['std_bandwidth']*0.8) \\\n",
    "                                                  #& (group_system_best_part['avg_scattering'] < row['avg_scattering']*1.2) \\\n",
    "                                                  #& (group_system_best_part['avg_scattering'] > row['avg_scattering']*0.8) \\\n",
    "                                                  #& (group_system_best_part['std_scattering'] < row['std_scattering']*1.2) \\\n",
    "                                                  #& (group_system_best_part['std_scattering'] > row['std_scattering']*0.8) \\\n",
    "                                                 ]\n",
    "        # similar_synthetic['mtx_name'] = row['mtx_name']\n",
    "        # similar_synthetic['mtx_name'] = \"\".join([row['mtx_name'],\" (\",str(similar_synthetic.shape[0]), \")\"])\n",
    "        similar_synthetic['mtx_name'] = \"\".join([row['mtx_name'],\" (\",str(round(row['A_mem_footprint'],1)), \" - \",str(similar_synthetic.shape[0]), \")\"])\n",
    "        \n",
    "        if similar_synthetic.empty:\n",
    "            #print(row['mtx_name'])\n",
    "            similar_synthetic = pd.DataFrame([[row['mtx_name']] + [0]*(len(group_system_best_part.columns)-1)], columns = group_system_best_part.columns)\n",
    "        if df_empty:\n",
    "            synthetic_neighbors = similar_synthetic\n",
    "            df_empty = False\n",
    "        else:\n",
    "            synthetic_neighbors = pd.concat([synthetic_neighbors, similar_synthetic])\n",
    "\n",
    "    sns_plot = sns.boxplot(data=synthetic_neighbors, x='mtx_name', y=plot_y_axis, ax=axs)\n",
    "    sns_plot = sns.scatterplot(data=groupvalreps_select_sorted, x=plot_x_axis, y=plot_y_axis, ax=axs)\n",
    "    \n",
    "    axs.set_title('Dataset %s' %(select_str))\n",
    "    select_str_id = select_str.replace('=', 'eq').replace('<', 'l').replace('>', 'g').replace(', ', '_').replace(',', '_').replace('\\n', '_').replace(' ', '-')\n",
    "    fig.savefig('./Plot_tries/%s_Select-%s_x-%s_y-%s.pdf' % (plot_id, select_str_id, plot_x_axis, plot_y_axis))\n",
    "    plt.close()"
   ]
  },
  {
   "cell_type": "markdown",
   "metadata": {},
   "source": [
    "# FPGA"
   ]
  },
  {
   "cell_type": "code",
   "execution_count": null,
   "metadata": {},
   "outputs": [],
   "source": [
    "    # Plot FPGA only\n",
    "    plot_x_axis = 'mtx_name'\n",
    "    plot_y_axis = 'gflops'\n",
    "    plot_id = 'Validation-FPGA'\n",
    "    \n",
    "    select_criterion = ( group_val_system_best['System'] == 'FPGA')\n",
    "    select_str = 'Validation FPGA, 0.7v_nz < synth_nz < 1.3v_nz\\n0.7v_m < synth_m < 1.3v_m'\n",
    "    groupvalreps_select_best = group_val_system_best[select_criterion]\n",
    "\n",
    "    groupvalreps_select_sorted = groupvalreps_select_best.sort_values('gflops')\n",
    "    # groupvalreps_select_sorted = groupvalreps_select_best.sort_values('A_mem_footprint')\n",
    "    \n",
    "    fig, axs = plt.subplots()\n",
    "    fig.subplots_adjust(left=.1, bottom=.32, right=.99, top=.88)\n",
    "    plt.xticks(rotation=90)\n",
    "    \n",
    "    group_system_best_part = group_system_best[group_system_best['System'] == 'FPGA']\n",
    "    \n",
    "    df_empty = True    \n",
    "    for index, row in groupvalreps_select_sorted.iterrows():\n",
    "        #print(row)\n",
    "        pd.options.mode.chained_assignment = None  # default='warn'\n",
    "        similar_synthetic = group_system_best_part[True \\\n",
    "                                                  & (group_system_best_part['nz'] <= row['nz']*1.3) \\\n",
    "                                                  & (group_system_best_part['nz'] >= row['nz']*0.7) \\\n",
    "                                                  & (group_system_best_part['m'] <= row['m']*1.3) \\\n",
    "                                                  & (group_system_best_part['m'] >= row['m']*0.7) \\\n",
    "                                                  #& (group_system_best_part['A_mem_footprint'] < row['A_mem_footprint']*1.2) \\\n",
    "                                                  #& (group_system_best_part['A_mem_footprint'] > row['A_mem_footprint']*0.8) \\\n",
    "                                                  #& (group_system_best_part['std_nz_row'] < row['std_nz_row']*5) \\\n",
    "                                                  #& (group_system_best_part['std_nz_row'] > row['std_nz_row']*0.2) \\\n",
    "                                                  #& (group_system_best_part['avg_bandwidth'] <= row['avg_bandwidth']*1.2) \\\n",
    "                                                  #& (group_system_best_part['avg_bandwidth'] >= row['avg_bandwidth']*0.8) \\\n",
    "                                                  #& (group_system_best_part['avg_bandwidth_scaled'] <= row['avg_bandwidth_scaled']*1.2) \\\n",
    "                                                  #& (group_system_best_part['avg_bandwidth_scaled'] >= row['avg_bandwidth_scaled']*0.8) \\\n",
    "                                                  #& (group_system_best_part['std_bandwidth'] < row['std_bandwidth']*1.2) \\\n",
    "                                                  #& (group_system_best_part['std_bandwidth'] > row['std_bandwidth']*0.8) \\\n",
    "                                                  #& (group_system_best_part['avg_scattering'] < row['avg_scattering']*1.2) \\\n",
    "                                                  #& (group_system_best_part['avg_scattering'] > row['avg_scattering']*0.8) \\\n",
    "                                                  #& (group_system_best_part['std_scattering'] < row['std_scattering']*1.2) \\\n",
    "                                                  #& (group_system_best_part['std_scattering'] > row['std_scattering']*0.8) \\\n",
    "                                                 ]\n",
    "        # similar_synthetic['mtx_name'] = row['mtx_name']\n",
    "        # similar_synthetic['mtx_name'] = \"\".join([row['mtx_name'],\" (\",str(similar_synthetic.shape[0]), \")\"])\n",
    "        similar_synthetic['mtx_name'] = \"\".join([row['mtx_name'],\" (\",str(round(row['A_mem_footprint'],1)), \" - \",str(similar_synthetic.shape[0]), \")\"])\n",
    "        \n",
    "        if similar_synthetic.empty:\n",
    "            #print(row['mtx_name'])\n",
    "            similar_synthetic = pd.DataFrame([[row['mtx_name']] + [0]*(len(group_system_best_part.columns)-1)], columns = group_system_best_part.columns)\n",
    "        if df_empty:\n",
    "            synthetic_neighbors = similar_synthetic\n",
    "            df_empty = False\n",
    "        else:\n",
    "            synthetic_neighbors = pd.concat([synthetic_neighbors, similar_synthetic])\n",
    "    \n",
    "    sns_plot = sns.boxplot(data=synthetic_neighbors, x='mtx_name', y=plot_y_axis, ax=axs)\n",
    "    sns_plot = sns.scatterplot(data=groupvalreps_select_sorted, x=plot_x_axis, y=plot_y_axis, ax=axs)\n",
    "    \n",
    "    axs.set_title('Dataset %s' %(select_str))\n",
    "    select_str_id = select_str.replace('=', 'eq').replace('<', 'l').replace('>', 'g').replace(', ', '_').replace(',', '_').replace('\\n', '_').replace(' ', '-')\n",
    "    fig.savefig('./Plot_tries/%s_Select-%s_x-%s_y-%s.pdf' % (plot_id, select_str_id, plot_x_axis, plot_y_axis))\n",
    "    plt.close()"
   ]
  },
  {
   "cell_type": "markdown",
   "metadata": {},
   "source": [
    "---"
   ]
  },
  {
   "cell_type": "code",
   "execution_count": null,
   "metadata": {},
   "outputs": [],
   "source": []
  }
 ],
 "metadata": {
  "kernelspec": {
   "display_name": "Python 3",
   "language": "python",
   "name": "python3"
  },
  "language_info": {
   "codemirror_mode": {
    "name": "ipython",
    "version": 3
   },
   "file_extension": ".py",
   "mimetype": "text/x-python",
   "name": "python",
   "nbconvert_exporter": "python",
   "pygments_lexer": "ipython3",
   "version": "3.6.9"
  }
 },
 "nbformat": 4,
 "nbformat_minor": 4
}
