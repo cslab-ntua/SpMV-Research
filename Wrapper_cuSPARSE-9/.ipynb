{
 "cells": [
  {
   "cell_type": "code",
   "execution_count": 1,
   "metadata": {},
   "outputs": [
    {
     "name": "stderr",
     "output_type": "stream",
     "text": [
      "In /home/petyros/.local/lib/python3.6/site-packages/matplotlib/mpl-data/stylelib/_classic_test.mplstyle: \n",
      "The text.latex.preview rcparam was deprecated in Matplotlib 3.3 and will be removed two minor releases later.\n",
      "In /home/petyros/.local/lib/python3.6/site-packages/matplotlib/mpl-data/stylelib/_classic_test.mplstyle: \n",
      "The mathtext.fallback_to_cm rcparam was deprecated in Matplotlib 3.3 and will be removed two minor releases later.\n",
      "In /home/petyros/.local/lib/python3.6/site-packages/matplotlib/mpl-data/stylelib/_classic_test.mplstyle: Support for setting the 'mathtext.fallback_to_cm' rcParam is deprecated since 3.3 and will be removed two minor releases later; use 'mathtext.fallback : 'cm' instead.\n",
      "In /home/petyros/.local/lib/python3.6/site-packages/matplotlib/mpl-data/stylelib/_classic_test.mplstyle: \n",
      "The validate_bool_maybe_none function was deprecated in Matplotlib 3.3 and will be removed two minor releases later.\n",
      "In /home/petyros/.local/lib/python3.6/site-packages/matplotlib/mpl-data/stylelib/_classic_test.mplstyle: \n",
      "The savefig.jpeg_quality rcparam was deprecated in Matplotlib 3.3 and will be removed two minor releases later.\n",
      "In /home/petyros/.local/lib/python3.6/site-packages/matplotlib/mpl-data/stylelib/_classic_test.mplstyle: \n",
      "The keymap.all_axes rcparam was deprecated in Matplotlib 3.3 and will be removed two minor releases later.\n",
      "In /home/petyros/.local/lib/python3.6/site-packages/matplotlib/mpl-data/stylelib/_classic_test.mplstyle: \n",
      "The animation.avconv_path rcparam was deprecated in Matplotlib 3.3 and will be removed two minor releases later.\n",
      "In /home/petyros/.local/lib/python3.6/site-packages/matplotlib/mpl-data/stylelib/_classic_test.mplstyle: \n",
      "The animation.avconv_args rcparam was deprecated in Matplotlib 3.3 and will be removed two minor releases later.\n"
     ]
    }
   ],
   "source": [
    "import pandas as pd\n",
    "import math\n",
    "import matplotlib as mpl\n",
    "#mpl.use('pdf')\n",
    "import matplotlib.pyplot as plt\n",
    "import numpy as np\n",
    "from collections import OrderedDict\n",
    "import matplotlib\n",
    "import seaborn as sns\n",
    "#Red\n",
    "red1= sns.color_palette(\"Reds_d\",1)\n",
    "red2= sns.color_palette(\"Reds_d\",2)\n",
    "red3= sns.color_palette(\"Reds_d\",3)\n",
    "red4= sns.color_palette(\"Reds_d\",4)\n",
    "red5= sns.color_palette(\"Reds_d\",5)\n",
    "red6= sns.color_palette(\"Reds_d\",6)\n",
    "red7= sns.color_palette(\"Reds_d\",7)\n",
    "red8= sns.color_palette(\"Reds_d\",8)\n",
    "\n",
    "#YellowGreen\n",
    "yg1= sns.color_palette(\"YlGn_d\",1)\n",
    "yg2= sns.color_palette(\"YlGn_d\",2)\n",
    "yg3= sns.color_palette(\"YlGn_d\",3)\n",
    "yg4= sns.color_palette(\"YlGn_d\",4)\n",
    "yg5= sns.color_palette(\"YlGn_d\",5)\n",
    "yg7= sns.color_palette(\"YlGn_d\",7)\n",
    "\n",
    "#GreenBlue\n",
    "gb1= sns.color_palette(\"GnBu_d\",1)\n",
    "gb2= sns.color_palette(\"GnBu_d\",2)\n",
    "gb3= sns.color_palette(\"GnBu_d\",3)\n",
    "gb4= sns.color_palette(\"GnBu_d\",4)\n",
    "gb5= sns.color_palette(\"GnBu_d\",5)\n",
    "gb6= sns.color_palette(\"GnBu_d\",6)\n",
    "gb7= sns.color_palette(\"GnBu_d\",7)\n",
    "gb8= sns.color_palette(\"GnBu_d\",8)\n",
    "\n",
    "cp2 = list(map(lambda x: sns.desaturate(x,0.9),[red7[2],gb7[4]]))\n",
    "cp2v1 = list(map(lambda x: sns.desaturate(x,0.9),[red7[2],yg7[0]]))\n",
    "cp3 = list(map(lambda x: sns.desaturate(x,0.9),[yg7[0],gb7[4],red7[2]]))\n",
    "#cp4 = list(map(lambda x: sns.desaturate(x,0.9),red1+gb2+yg1))\n",
    "cp2_2 = list(map(lambda x: sns.desaturate(x,0.9),[red7[0],red7[3],gb7[4],gb7[6]]))\n",
    "cp_total_spectrum = list(map(lambda x: sns.desaturate(x,0.9),gb7 + yg7 + red7))"
   ]
  },
  {
   "cell_type": "code",
   "execution_count": 2,
   "metadata": {},
   "outputs": [
    {
     "data": {
      "text/html": [
       "<svg  width=\"110\" height=\"55\"><rect x=\"0\" y=\"0\" width=\"55\" height=\"55\" style=\"fill:#e15246;stroke-width:2;stroke:rgb(255,255,255)\"/><rect x=\"55\" y=\"0\" width=\"55\" height=\"55\" style=\"fill:#4486a0;stroke-width:2;stroke:rgb(255,255,255)\"/></svg>"
      ],
      "text/plain": [
       "[(0.8807358708189157, 0.32277047289504046, 0.2744659746251443),\n",
       " (0.2649160579264386, 0.5270152505446624, 0.6269460463924131)]"
      ]
     },
     "execution_count": 2,
     "metadata": {},
     "output_type": "execute_result"
    }
   ],
   "source": [
    "sns.set_palette(cp2)\n",
    "sns.color_palette()"
   ]
  },
  {
   "cell_type": "code",
   "execution_count": 3,
   "metadata": {},
   "outputs": [
    {
     "data": {
      "text/html": [
       "<svg  width=\"110\" height=\"55\"><rect x=\"0\" y=\"0\" width=\"55\" height=\"55\" style=\"fill:#e15246;stroke-width:2;stroke:rgb(255,255,255)\"/><rect x=\"55\" y=\"0\" width=\"55\" height=\"55\" style=\"fill:#9cce89;stroke-width:2;stroke:rgb(255,255,255)\"/></svg>"
      ],
      "text/plain": [
       "[(0.8807358708189157, 0.32277047289504046, 0.2744659746251443),\n",
       " (0.6120315263360248, 0.8081330257593234, 0.5357962322183777)]"
      ]
     },
     "execution_count": 3,
     "metadata": {},
     "output_type": "execute_result"
    }
   ],
   "source": [
    "sns.set_palette(cp2v1)\n",
    "sns.color_palette()"
   ]
  },
  {
   "cell_type": "code",
   "execution_count": 4,
   "metadata": {},
   "outputs": [
    {
     "data": {
      "text/html": [
       "<svg  width=\"165\" height=\"55\"><rect x=\"0\" y=\"0\" width=\"55\" height=\"55\" style=\"fill:#9cce89;stroke-width:2;stroke:rgb(255,255,255)\"/><rect x=\"55\" y=\"0\" width=\"55\" height=\"55\" style=\"fill:#4486a0;stroke-width:2;stroke:rgb(255,255,255)\"/><rect x=\"110\" y=\"0\" width=\"55\" height=\"55\" style=\"fill:#e15246;stroke-width:2;stroke:rgb(255,255,255)\"/></svg>"
      ],
      "text/plain": [
       "[(0.6120315263360248, 0.8081330257593234, 0.5357962322183777),\n",
       " (0.2649160579264386, 0.5270152505446624, 0.6269460463924131),\n",
       " (0.8807358708189157, 0.32277047289504046, 0.2744659746251443)]"
      ]
     },
     "execution_count": 4,
     "metadata": {},
     "output_type": "execute_result"
    }
   ],
   "source": [
    "sns.set_palette(cp3)\n",
    "sns.color_palette()"
   ]
  },
  {
   "cell_type": "code",
   "execution_count": 5,
   "metadata": {},
   "outputs": [
    {
     "data": {
      "text/html": [
       "<svg  width=\"220\" height=\"55\"><rect x=\"0\" y=\"0\" width=\"55\" height=\"55\" style=\"fill:#067906;stroke-width:2;stroke:rgb(255,255,255)\"/><rect x=\"55\" y=\"0\" width=\"55\" height=\"55\" style=\"fill:#f20d0d;stroke-width:2;stroke:rgb(255,255,255)\"/><rect x=\"110\" y=\"0\" width=\"55\" height=\"55\" style=\"fill:#0d0df2;stroke-width:2;stroke:rgb(255,255,255)\"/><rect x=\"165\" y=\"0\" width=\"55\" height=\"55\" style=\"fill:#f2a10d;stroke-width:2;stroke:rgb(255,255,255)\"/></svg>"
      ],
      "text/plain": [
       "[(0.025000000000000022, 0.475, 0.025000000000000022),\n",
       " (0.95, 0.050000000000000044, 0.050000000000000044),\n",
       " (0.050000000000000044, 0.050000000000000044, 0.95),\n",
       " (0.95, 0.6323529411764707, 0.050000000000000044)]"
      ]
     },
     "execution_count": 5,
     "metadata": {},
     "output_type": "execute_result"
    }
   ],
   "source": [
    "cpbasic = list(map(lambda x: sns.desaturate(x,0.9),['g','r','b','orange']))\n",
    "sns.set_palette(cpbasic)\n",
    "sns.color_palette()"
   ]
  },
  {
   "cell_type": "code",
   "execution_count": 6,
   "metadata": {},
   "outputs": [],
   "source": [
    "systems = ['Eagle','Eagle2', 'Hawk', 'Vulcan']\n",
    "scenario = 'normal' # 'tinkered' #\n",
    "ssudata = []\n",
    "for name in systems:\n",
    "    inputdata = pd.read_csv('flee_ssudan_ParSocial_%s.csv' % name)\n",
    "    inputdata['Procs'] = inputdata['Cores']*inputdata['Nodes']   \n",
    "    inputdata = inputdata[(inputdata['scenario'] == scenario) & (inputdata['Procs'] < 1025)  & ((inputdata['Cores']== inputdata['Cores'].max()) | (inputdata['Nodes']== 1)) #& (inputdata['Cores'] >= 4)\n",
    "                          ] .sort_values(['Nodes','Cores'],0) #   \n",
    "    ssudata.append(inputdata.groupby('Procs',as_index=False).mean())\n",
    "#ssudata"
   ]
  },
  {
   "cell_type": "code",
   "execution_count": 7,
   "metadata": {},
   "outputs": [],
   "source": [
    "font=8\n",
    "plt.rc('font', family='serif', serif='Times')\n",
    "plt.rc('text', usetex=True)\n",
    "plt.rc('xtick', labelsize=font)\n",
    "plt.rc('ytick', labelsize=font)\n",
    "plt.rc('axes', labelsize=font)\n",
    "\n",
    "# width as measured in inkscape\n",
    "width = 3.487\n",
    "height = width / 1.618\n",
    "#fig, ax = plt.subplots()\n",
    "#fig.subplots_adjust(left=.15, bottom=.17, right=.99, top=.97)"
   ]
  },
  {
   "cell_type": "code",
   "execution_count": 8,
   "metadata": {},
   "outputs": [
    {
     "name": "stderr",
     "output_type": "stream",
     "text": [
      "findfont: Font family ['serif'] not found. Falling back to DejaVu Sans.\n",
      "The PostScript backend does not support transparency; partially transparent artists will be rendered opaque.\n",
      "The PostScript backend does not support transparency; partially transparent artists will be rendered opaque.\n"
     ]
    }
   ],
   "source": [
    "fig, ax = plt.subplots()\n",
    "fig.subplots_adjust(left=.15, bottom=.17*4/3, right=.99, top=.99) #\n",
    "symbolist = ['-x','-o','-s','-^']\n",
    "for idx in range(len(ssudata)):\n",
    "    plt.plot(ssudata[idx]['Procs'], ssudata[idx]['total_time'], symbolist[idx], linewidth= 0.5, markersize = 3, color=cpbasic[idx], label=systems[idx])\n",
    "    #plt.plot(ssudata[idx]['Cores'].max(), ssudata[idx][ssudata[idx]['Procs'] == ssudata[idx]['Cores'].max()]['total_time'], 'x', markersize = 4, color=cpbasic[idx])\n",
    "    plt.axvline(ssudata[idx]['Cores'].max(), linestyle='--', linewidth= 0.5, color=cpbasic[idx])\n",
    "    #plt.plot(ssudata[idx]['Procs'], float(ssudata[idx]['total_time'].head(1))/(ssudata[idx]['Procs']), '--', linewidth= 0.5, color=cpbasic[idx])\n",
    "#plt.plot(0, 0, '--', linewidth= 1, color='k', label='Linear')\n",
    "#plt.text(100,5,'Ideal Linear', fontsize = font,rotation = -22)\n",
    "plt.text(60,80,'Node', fontsize = font,rotation = 0)\n",
    "#labls = list(map(lambda x: '$2^{%d}$' % math.log2(x), ssudata_Altair['Cores']))\n",
    "plt.ylabel('Time (s)')\n",
    "plt.xlabel('Processes')\n",
    "plt.yscale('log')\n",
    "plt.xscale('log')\n",
    "plt.ylim(top=12000)\n",
    "fig.legend(#title=\"Model\",  # Title for the legend\n",
    "\tfontsize=font, fancybox = False, ncol=1)#, loc = \"lower left\", bbox_to_anchor=(0.15, 0.23))\n",
    "fig.set_size_inches(width, height*3/4) #\n",
    "fig.savefig('ParSocial_Ssudan_time_log_%s_short.pdf' % scenario)\n",
    "fig.savefig('ParSocial_Ssudan_time_log_%s_short.eps' % scenario, format='eps')\n",
    "plt.close()"
   ]
  },
  {
   "cell_type": "code",
   "execution_count": 12,
   "metadata": {},
   "outputs": [
    {
     "name": "stderr",
     "output_type": "stream",
     "text": [
      "The PostScript backend does not support transparency; partially transparent artists will be rendered opaque.\n",
      "The PostScript backend does not support transparency; partially transparent artists will be rendered opaque.\n"
     ]
    }
   ],
   "source": [
    "fig, ax = plt.subplots()\n",
    "fig.subplots_adjust(left=.15, bottom=.17, right=.99, top=.99) #\n",
    "symbolist = ['-x','-o','-s','-^']\n",
    "for idx in range(len(ssudata)):\n",
    "    plt.plot(ssudata[idx]['Procs'], ssudata[idx]['total_time'], symbolist[idx], linewidth= 0.5, markersize = 3, color=cpbasic[idx], label=systems[idx])\n",
    "    #plt.plot(ssudata[idx]['Cores'].max(), ssudata[idx][ssudata[idx]['Procs'] == ssudata[idx]['Cores'].max()]['total_time'], 'x', markersize = 4, color=cpbasic[idx])\n",
    "    plt.axvline(ssudata[idx]['Cores'].max(), linestyle='--', linewidth= 0.5, color=cpbasic[idx])\n",
    "    #plt.plot(ssudata[idx]['Procs'], float(ssudata[idx]['total_time'].head(1))/(ssudata[idx]['Procs']), '--', linewidth= 0.5, color=cpbasic[idx])\n",
    "#plt.plot(0, 0, '--', linewidth= 1, color='k', label='Linear')\n",
    "#plt.text(100,5,'Ideal Linear', fontsize = font,rotation = -22)\n",
    "plt.text(60,80,'Node', fontsize = font,rotation = 0)\n",
    "#labls = list(map(lambda x: '$2^{%d}$' % math.log2(x), ssudata_Altair['Cores']))\n",
    "plt.ylabel('Time (s)')\n",
    "plt.xlabel('Processes')\n",
    "plt.yscale('log')\n",
    "plt.xscale('log')\n",
    "plt.ylim(top=12000)\n",
    "fig.legend(#title=\"Model\",  # Title for the legend\n",
    "\tfontsize=font, fancybox = False, ncol=1)#, loc = \"lower left\", bbox_to_anchor=(0.15, 0.23))\n",
    "fig.set_size_inches(width, height) #\n",
    "fig.savefig('ParSocial_Ssudan_time_log_%s.pdf' % scenario)\n",
    "fig.savefig('ParSocial_Ssudan_time_log_%s.eps' % scenario, format='eps')\n",
    "fig.savefig('ParSocial_Ssudan_time_log_%s.png' % scenario, format='png', dpi=1200)\n",
    "plt.close()\n"
   ]
  },
  {
   "cell_type": "code",
   "execution_count": 10,
   "metadata": {},
   "outputs": [],
   "source": [
    "fig, ax = plt.subplots()\n",
    "fig.subplots_adjust(left=.15, bottom=.17, right=.99, top=.99) #*4/3\n",
    "symbolist = ['-o','-x','-^','-s']\n",
    "for idx in range(len(ssudata)):\n",
    "    plt.plot(ssudata[idx]['Procs'], float(ssudata[idx]['total_time'].head(1))/(ssudata[idx]['total_time']), symbolist[idx], linewidth= 0.5, markersize = 3, color=cpbasic[idx], label=systems[idx])\n",
    "    #plt.plot(ssudata[idx]['Cores'].max(), ssudata[idx][ssudata[idx]['Procs'] == ssudata[idx]['Cores'].max()]['total_time'], 'x', markersize = 4, color=cpbasic[idx])\n",
    "    plt.axvline(ssudata[idx]['Cores'].max(), linestyle='--', linewidth= 0.5, color=cpbasic[idx])\n",
    "    #plt.plot(ssudata[idx]['Procs'], float(ssudata[idx]['total_time'].head(1))/(ssudata[idx]['Procs']), '--', linewidth= 0.5, color=cpbasic[idx])\n",
    "plt.plot(ssudata[idx]['Procs'], ssudata[idx]['Procs'], '--', linewidth= 0.5, color='k', label='Linear')\n",
    "#plt.text(100,5,'Ideal Linear', fontsize = font,rotation = -22)\n",
    "plt.text(60,1,'Node', fontsize = font,rotation = 0)\n",
    "#labls = list(map(lambda x: '$2^{%d}$' % math.log2(x), ssudata_Altair['Cores']))\n",
    "plt.ylabel('Speedup')\n",
    "plt.xlabel('Cores')\n",
    "plt.yscale('log')\n",
    "plt.xscale('log')\n",
    "#plt.ylim(top=11000)\n",
    "fig.legend(#title=\"Model\",  # Title for the legend\n",
    "\tfontsize=font, fancybox = False, ncol=1 , loc = \"lower right\", bbox_to_anchor=(1, 0.15))#, loc = \"lower left\", bbox_to_anchor=(0.15, 0.23))\n",
    "fig.set_size_inches(width, height) #*3/4\n",
    "#fig.savefig('ParSocial_Ssudan_speedup_log_%s.pdf' % scenario)\n",
    "plt.close()"
   ]
  },
  {
   "cell_type": "code",
   "execution_count": 11,
   "metadata": {},
   "outputs": [],
   "source": [
    "fig, ax = plt.subplots()\n",
    "fig.subplots_adjust(left=.15, bottom=.17*4/3, right=.99, top=.99)\n",
    "for idx in range(len(ssudata)):\n",
    "    plt.plot(ssudata[idx]['Procs'], float(ssudata[idx]['total_time'].head(1))/(ssudata[idx]['total_time']*ssudata[idx]['Procs']), linewidth= 1, color=cpbasic[idx], label=systems[idx])\n",
    "    plt.plot(ssudata[idx]['Cores'].max(), float(ssudata[idx]['total_time'].head(1))/\n",
    "             (ssudata[idx][ssudata[idx]['Procs'] == ssudata[idx]['Cores'].max()]['total_time']*ssudata[idx]['Cores'].max()), 'x', markersize = 4, color=cpbasic[idx])\n",
    "    #plt.plot(0, 0, '--', linewidth= 1, color='k', label='Linear')\n",
    "#plt.text(5.5,5.2,'Ideal Linear', fontsize = font,rotation = -22)\n",
    "#labls = list(map(lambda x: '$2^{%d}$' % math.log2(x), ssudata_Altair['Cores']))\n",
    "plt.ylabel('Efficiency')\n",
    "plt.xlabel('Cores')\n",
    "#plt.yscale('log')\n",
    "plt.xscale('log')\n",
    "fig.legend(#title=\"Model\",  # Title for the legend\n",
    "\tfontsize=font, fancybox = False, ncol=1, loc = \"lower left\", bbox_to_anchor=(0.15, 0.23))\n",
    "fig.set_size_inches(width, height*3/4)\n",
    "#fig.savefig('ParSocial_Ssudan_efficiency_%s.pdf' % scenario)\n",
    "plt.close()"
   ]
  },
  {
   "cell_type": "code",
   "execution_count": null,
   "metadata": {},
   "outputs": [],
   "source": []
  }
 ],
 "metadata": {
  "kernelspec": {
   "display_name": "Python 3",
   "language": "python",
   "name": "python3"
  },
  "language_info": {
   "codemirror_mode": {
    "name": "ipython",
    "version": 3
   },
   "file_extension": ".py",
   "mimetype": "text/x-python",
   "name": "python",
   "nbconvert_exporter": "python",
   "pygments_lexer": "ipython3",
   "version": "3.6.9"
  }
 },
 "nbformat": 4,
 "nbformat_minor": 4
}
