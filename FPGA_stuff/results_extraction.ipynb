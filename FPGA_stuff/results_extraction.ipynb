{
 "cells": [
  {
   "cell_type": "code",
   "execution_count": 1,
   "id": "c669a43a",
   "metadata": {},
   "outputs": [],
   "source": [
    "%config Completer.use_jedi = False\n",
    "import pandas as pd\n",
    "import numpy as np\n",
    "from scipy.stats import hmean\n",
    "import matplotlib.pyplot as plt"
   ]
  },
  {
   "cell_type": "code",
   "execution_count": 2,
   "id": "df3a9569",
   "metadata": {},
   "outputs": [],
   "source": [
    "def csv_parser(log_file, results_file):\n",
    "    results_list = []\n",
    "    with open(log_file,\"r\") as fp:\n",
    "        for line in fp:\n",
    "            split = line.split()\n",
    "            split2 = line.split(\",\")\n",
    "            if(len(split)>0):\n",
    "                if(\"pmpakos@\" in split[0]):\n",
    "                    matrix_name = ''\n",
    "#                     print(\"---------\")\n",
    "\n",
    "            if(len(split)>2):\n",
    "                if((split[0]==\"INFO:\") & (split[1]==\"loading\") & (split[2]==\"Mtx\")):\n",
    "                    print(split[-1])\n",
    "                    matrix_name = split[-1].split(\"/\")[-1]\n",
    "                    matrix_name = matrix_name.replace(\".mtx\",\"\")\n",
    "            if(len(split2)>2):\n",
    "                if(split2[1]!=\" matrix\"):\n",
    "                    line=line.replace(\"app\",matrix_name).strip(\"DATA_CSV:,\")\n",
    "#                     line=line.replace(\",\",\"\\t\")\n",
    "                    results_list.append(line)\n",
    "                    print(line)\n",
    "\n",
    "    file = open(results_file,\"w\")\n",
    "    for res in results_list:\n",
    "        file.write(res)\n",
    "    file.close()"
   ]
  },
  {
   "cell_type": "code",
   "execution_count": 12,
   "id": "fa112438",
   "metadata": {},
   "outputs": [],
   "source": [
    "def clean_matrix_generation_log(start_gen, results_gen):\n",
    "    fw = open(results_gen,\"w\")\n",
    "    with open(start_gen) as fp:\n",
    "        for line in fp:\n",
    "            if(\">>>> \" in line):\n",
    "                line = line.strip(\">>>> \").replace(\" \",\",\").replace(\".mtx\",\"\")\n",
    "                line_spl = line.split(\",\")\n",
    "                line_spl[0] = line_spl[0].replace(\".0_\",\"_\")\n",
    "                line_spl[0] = line_spl[0].split(\"_\")\n",
    "                del line_spl[0][3]\n",
    "                line_spl[0] = \"_\".join(line_spl[0])\n",
    "                line_new = \",\".join(line_spl)\n",
    "                fw.write(line_new)\n",
    "    fw.close()\n",
    "\n",
    "def clean_results(start_list, results_list):\n",
    "    for t1,t2 in zip(start_list,results_list):\n",
    "        fw = open(t2,\"w\")\n",
    "        with open(t1) as fp:\n",
    "            for line in fp:\n",
    "                if(\"DATA_CSV:,\" in line):\n",
    "                    line_new = line.strip(\"DATA_CSV:,\").replace(\".0_\",\"_\")\n",
    "                    fw.write(line_new)\n",
    "        fw.close()\n",
    "    \n",
    "def read_results_single(result_file):\n",
    "    header = [\"matrix_name\",\"original rows\",\"original cols\",\"original NNZs\",\"padded rows\",\"padded cols\",\"padded NNZs\",\"padding overhead[%]\",\"num of runs\",\"total run time[sec]\",\"time[ms]/run\",\"performance[GFLOPs]\",\"performance (padded)[GFLOPs]\",\"mem_footprint[MB]\"]\n",
    "    df = pd.read_table(result_file, delimiter =\",\", names=header)\n",
    "    return df\n",
    "\n",
    "def read_results(results_list, results_gen, results_csv):\n",
    "    header = [\"matrix_name\",\"mem_range\",\"avg_nnz_per_row\",\"std_nnz_per_row\",\"avg_bw\",\"std_bw\",\"avg_sc\",\"std_sc\"]\n",
    "    df_gen = pd.read_table(results_gen, delimiter =\",\", names=header) \n",
    "    \n",
    "    dataframes = []\n",
    "    for result_file in results_list:\n",
    "        dataframes.append(read_results_single(result_file))\n",
    "    matrices = dataframes[0][\"matrix_name\"].unique()\n",
    "\n",
    "    n_runs = len(results_list)\n",
    "    results_final = []\n",
    "    for matrix in matrices:\n",
    "        matrix_list = matrix.split(\"_\")\n",
    "        mtx_name = matrix_list[0]\n",
    "    \n",
    "        nr_rows = int(matrix_list[1])\n",
    "        nr_cols = int(matrix_list[2])\n",
    "        \n",
    "        if(len(matrix_list)==7):#random\n",
    "            placement = \"random\"\n",
    "            diagonal_factor = 1\n",
    "        else: #diagonal\n",
    "            placement = \"diagonal\"\n",
    "            diagonal_factor = matrix_list[6]\n",
    "\n",
    "        seed = matrix_list[-1].strip(\"n\").strip(\"g\")\n",
    "        \n",
    "        distr = list(filter(lambda x: x.isalpha(), matrix_list[-1]))[0]\n",
    "        if(distr==\"g\"):\n",
    "            distribution=\"gamma\"\n",
    "        else:\n",
    "            distribution=\"normal\"\n",
    "\n",
    "        nr_nnz = np.asarray(dataframes[0][dataframes[0][\"matrix_name\"]==matrix][\"original NNZs\"])[0]\n",
    "        density = nr_nnz/(nr_rows*nr_cols)*100\n",
    "                \n",
    "        runtime_iter = np.zeros(shape=(n_runs,1))\n",
    "        perf_padded = np.zeros(shape=(n_runs,1))\n",
    "        mem_footprint = np.zeros(shape=(n_runs,1))\n",
    "\n",
    "        for run in range(0,n_runs):\n",
    "            df = dataframes[run]\n",
    "            runtime_iter[run] = np.asarray(df[df[\"matrix_name\"]==matrix][\"time[ms]/run\"])\n",
    "            perf_padded[run] = np.asarray(df[df[\"matrix_name\"]==matrix][\"performance (padded)[GFLOPs]\"])\n",
    "            mem_footprint[run] = np.asarray(df[df[\"matrix_name\"]==matrix][\"mem_footprint[MB]\"])\n",
    "        if(perf_padded[0][0]<0): # why? nobody knows why\n",
    "            continue\n",
    "\n",
    "        runtime_iter_hm = hmean(runtime_iter,axis=0)[0]\n",
    "        perf_padded_hm = hmean(perf_padded,axis=0)[0]\n",
    "        mem_footprint = hmean(mem_footprint,axis=0)[0]\n",
    "        \n",
    "        selected_gen = df_gen[df_gen[\"matrix_name\"]==matrix]\n",
    "        mem_range = np.asarray(selected_gen[\"mem_range\"])[0]\n",
    "        avg_nnz_per_row = np.asarray(selected_gen[\"avg_nnz_per_row\"])[0]\n",
    "        std_nnz_per_row = np.asarray(selected_gen[\"std_nnz_per_row\"])[0]\n",
    "        avg_bw = np.asarray(selected_gen[\"avg_bw\"])[0]\n",
    "        std_bw = np.asarray(selected_gen[\"std_bw\"])[0]\n",
    "        avg_sc = np.asarray(selected_gen[\"avg_sc\"])[0]\n",
    "        std_sc = np.asarray(selected_gen[\"std_sc\"])[0]/nr_cols\n",
    "\n",
    "        W_avg = 33\n",
    "        J_estimated = W_avg*runtime_iter_hm\n",
    "        \n",
    "        line_list = [mtx_name, distribution, placement, diagonal_factor, seed,\n",
    "                     nr_rows, nr_cols, nr_nnz, density, mem_footprint, mem_range,\n",
    "                     avg_nnz_per_row, std_nnz_per_row, \n",
    "                     avg_bw, std_bw, avg_sc, std_sc,\n",
    "                     \"Xilinx_SpMV\", runtime_iter_hm, perf_padded_hm, W_avg, J_estimated\n",
    "                    ]\n",
    "        line = \",\".join(str(x) for x in line_list) + \"\\n\"\n",
    "        results_final.append(line)\n",
    "        \n",
    "    file = open(results_csv,\"w\")\n",
    "    for line in results_final:\n",
    "        file.write(line)\n",
    "    file.close()\n",
    "\n",
    "    \n",
    "def extract_results_of_distr_memrange(distr_memrange):\n",
    "    start_gen = \"./generation_stats/\"+distr_memrange+\"_log.txt\"\n",
    "    results_gen = \"./generation_stats/\"+distr_memrange+\"_log_CLEAN.txt\"\n",
    "    clean_matrix_generation_log(start_gen, results_gen)\n",
    "\n",
    "    start_list = [\n",
    "        \"./dirty/\"+distr_memrange+\"_run1.txt\",\n",
    "    ]\n",
    "\n",
    "    results_list = [\n",
    "        \"./clean/\"+distr_memrange+\"_run_CLEAN1.txt\",\n",
    "    ]\n",
    "    clean_results(start_list, results_list)\n",
    "\n",
    "    results_csv = \"./results_\"+distr_memrange+\".csv\"\n",
    "    read_results(results_list, results_gen, results_csv)"
   ]
  },
  {
   "cell_type": "code",
   "execution_count": 9,
   "id": "edfdbc22",
   "metadata": {},
   "outputs": [
    {
     "name": "stdout",
     "output_type": "stream",
     "text": [
      "CPU times: user 8.84 s, sys: 0 ns, total: 8.84 s\n",
      "Wall time: 9.61 s\n"
     ]
    }
   ],
   "source": [
    "%%time\n",
    "distr_memrange = \"gamma_4-8\"\n",
    "extract_results_of_distr_memrange(distr_memrange)"
   ]
  },
  {
   "cell_type": "code",
   "execution_count": 10,
   "id": "f50fa0ef",
   "metadata": {
    "scrolled": true
   },
   "outputs": [
    {
     "name": "stdout",
     "output_type": "stream",
     "text": [
      "CPU times: user 250 ms, sys: 0 ns, total: 250 ms\n",
      "Wall time: 267 ms\n"
     ]
    }
   ],
   "source": [
    "%%time\n",
    "distr_memrange = \"small_normal_4-8\"\n",
    "extract_results_of_distr_memrange(distr_memrange)"
   ]
  },
  {
   "cell_type": "code",
   "execution_count": 11,
   "id": "de350c09",
   "metadata": {
    "scrolled": true
   },
   "outputs": [
    {
     "name": "stdout",
     "output_type": "stream",
     "text": [
      "CPU times: user 233 ms, sys: 0 ns, total: 233 ms\n",
      "Wall time: 248 ms\n"
     ]
    }
   ],
   "source": [
    "%%time\n",
    "distr_memrange = \"small_normal_4-8\"\n",
    "extract_results_of_distr_memrange(distr_memrange)"
   ]
  },
  {
   "cell_type": "code",
   "execution_count": 12,
   "id": "2a841fcf",
   "metadata": {},
   "outputs": [
    {
     "name": "stdout",
     "output_type": "stream",
     "text": [
      "CPU times: user 221 ms, sys: 0 ns, total: 221 ms\n",
      "Wall time: 389 ms\n"
     ]
    }
   ],
   "source": [
    "%%time\n",
    "distr_memrange = \"small_normal_8-16\"\n",
    "extract_results_of_distr_memrange(distr_memrange)"
   ]
  },
  {
   "cell_type": "code",
   "execution_count": 13,
   "id": "9eee7122",
   "metadata": {},
   "outputs": [
    {
     "name": "stdout",
     "output_type": "stream",
     "text": [
      "CPU times: user 260 ms, sys: 0 ns, total: 260 ms\n",
      "Wall time: 318 ms\n"
     ]
    }
   ],
   "source": [
    "%%time\n",
    "distr_memrange = \"small_normal_16-32\"\n",
    "extract_results_of_distr_memrange(distr_memrange)"
   ]
  },
  {
   "cell_type": "code",
   "execution_count": 14,
   "id": "d679805b",
   "metadata": {},
   "outputs": [
    {
     "name": "stdout",
     "output_type": "stream",
     "text": [
      "CPU times: user 329 ms, sys: 0 ns, total: 329 ms\n",
      "Wall time: 386 ms\n"
     ]
    }
   ],
   "source": [
    "%%time\n",
    "distr_memrange = \"small_normal_32-64\"\n",
    "extract_results_of_distr_memrange(distr_memrange)"
   ]
  },
  {
   "cell_type": "code",
   "execution_count": 15,
   "id": "5d19c01d",
   "metadata": {},
   "outputs": [
    {
     "name": "stdout",
     "output_type": "stream",
     "text": [
      "CPU times: user 372 ms, sys: 0 ns, total: 372 ms\n",
      "Wall time: 488 ms\n"
     ]
    }
   ],
   "source": [
    "%%time\n",
    "distr_memrange = \"small_normal_64-128\"\n",
    "extract_results_of_distr_memrange(distr_memrange)"
   ]
  },
  {
   "cell_type": "code",
   "execution_count": 16,
   "id": "b838b3f6",
   "metadata": {},
   "outputs": [
    {
     "name": "stdout",
     "output_type": "stream",
     "text": [
      "CPU times: user 409 ms, sys: 0 ns, total: 409 ms\n",
      "Wall time: 628 ms\n"
     ]
    }
   ],
   "source": [
    "%%time\n",
    "distr_memrange = \"small_normal_128-256\"\n",
    "extract_results_of_distr_memrange(distr_memrange)"
   ]
  },
  {
   "cell_type": "code",
   "execution_count": 13,
   "id": "b4defdb8",
   "metadata": {},
   "outputs": [
    {
     "name": "stdout",
     "output_type": "stream",
     "text": [
      "CPU times: user 235 ms, sys: 0 ns, total: 235 ms\n",
      "Wall time: 290 ms\n"
     ]
    }
   ],
   "source": [
    "%%time\n",
    "distr_memrange = \"small_normal_256-512\"\n",
    "extract_results_of_distr_memrange(distr_memrange)"
   ]
  }
 ],
 "metadata": {
  "kernelspec": {
   "display_name": "Python 3",
   "language": "python",
   "name": "python3"
  },
  "language_info": {
   "codemirror_mode": {
    "name": "ipython",
    "version": 3
   },
   "file_extension": ".py",
   "mimetype": "text/x-python",
   "name": "python",
   "nbconvert_exporter": "python",
   "pygments_lexer": "ipython3",
   "version": "3.6.9"
  }
 },
 "nbformat": 4,
 "nbformat_minor": 5
}
