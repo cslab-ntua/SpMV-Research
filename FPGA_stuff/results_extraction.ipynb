{
 "cells": [
  {
   "cell_type": "code",
   "execution_count": 1,
   "id": "c669a43a",
   "metadata": {},
   "outputs": [],
   "source": [
    "%config Completer.use_jedi = False\n",
    "import pandas as pd\n",
    "import numpy as np\n",
    "from scipy.stats import hmean\n",
    "import matplotlib.pyplot as plt\n",
    "import os"
   ]
  },
  {
   "cell_type": "code",
   "execution_count": 2,
   "id": "df3a9569",
   "metadata": {},
   "outputs": [],
   "source": [
    "def csv_parser(log_file, results_file):\n",
    "    results_list = []\n",
    "    with open(log_file,\"r\") as fp:\n",
    "        for line in fp:\n",
    "            split = line.split()\n",
    "            split2 = line.split(\",\")\n",
    "            if(len(split)>0):\n",
    "                if(\"pmpakos@\" in split[0]):\n",
    "                    matrix_name = ''\n",
    "#                     print(\"---------\")\n",
    "\n",
    "            if(len(split)>2):\n",
    "                if((split[0]==\"INFO:\") & (split[1]==\"loading\") & (split[2]==\"Mtx\")):\n",
    "                    print(split[-1])\n",
    "                    matrix_name = split[-1].split(\"/\")[-1]\n",
    "                    matrix_name = matrix_name.replace(\".mtx\",\"\")\n",
    "            if(len(split2)>2):\n",
    "                if(split2[1]!=\" matrix\"):\n",
    "                    line=line.replace(\"app\",matrix_name).strip(\"DATA_CSV:,\")\n",
    "#                     line=line.replace(\",\",\"\\t\")\n",
    "                    results_list.append(line)\n",
    "                    print(line)\n",
    "\n",
    "    file = open(results_file,\"w\")\n",
    "    for res in results_list:\n",
    "        file.write(res)\n",
    "    file.close()"
   ]
  },
  {
   "cell_type": "code",
   "execution_count": 3,
   "id": "fa112438",
   "metadata": {},
   "outputs": [],
   "source": [
    "def clean_matrix_generation_log(start_gen, results_gen):\n",
    "    fw = open(results_gen,\"w\")\n",
    "    with open(start_gen) as fp:\n",
    "        for line in fp:\n",
    "            if(\">>>> \" in line):\n",
    "                line = line.strip(\">>>> \").replace(\" \",\",\").replace(\".mtx\",\"\")\n",
    "                line_spl = line.split(\",\")\n",
    "                line_spl[0] = line_spl[0].replace(\".0_\",\"_\")\n",
    "                line_spl[0] = line_spl[0].split(\"_\")\n",
    "                del line_spl[0][3]\n",
    "                line_spl[0] = \"_\".join(line_spl[0])\n",
    "                line_new = \",\".join(line_spl)\n",
    "                fw.write(line_new)\n",
    "    fw.close()\n",
    "\n",
    "def clean_results(start_list, results_list):\n",
    "    for t1,t2 in zip(start_list,results_list):\n",
    "        fw = open(t2,\"w\")\n",
    "        with open(t1) as fp:\n",
    "            for line in fp:\n",
    "                if(\"DATA_CSV:,\" in line):\n",
    "                    line_new = line.strip(\"DATA_CSV:,\").replace(\".0_\",\"_\")\n",
    "                    fw.write(line_new)\n",
    "        fw.close()\n",
    "    \n",
    "def read_results_single(result_file):\n",
    "    header = [\"matrix_name\",\"original rows\",\"original cols\",\"original NNZs\",\"padded rows\",\"padded cols\",\"padded NNZs\",\"padding overhead[%]\",\"num of runs\",\"total run time[sec]\",\"time[ms]/run\",\"performance[GFLOPs]\",\"performance (padded)[GFLOPs]\",\"mem_footprint[MB]\"]\n",
    "    df = pd.read_table(result_file, delimiter =\",\", names=header)\n",
    "    return df\n",
    "\n",
    "def read_results(results_list, results_gen, results_csv):\n",
    "    header = [\"matrix_name\",\"mem_range\",\"avg_nnz_per_row\",\"std_nnz_per_row\",\"avg_bw\",\"std_bw\",\"avg_sc\",\"std_sc\"]\n",
    "    df_gen = pd.read_table(results_gen, delimiter =\",\", names=header) \n",
    "    \n",
    "    dataframes = []\n",
    "    for result_file in results_list:\n",
    "        dataframes.append(read_results_single(result_file))\n",
    "    matrices = dataframes[0][\"matrix_name\"].unique()\n",
    "\n",
    "    n_runs = len(results_list)\n",
    "    results_final = []\n",
    "    for matrix in matrices:\n",
    "#         print(matrix)\n",
    "        matrix_list = matrix.split(\"_\")\n",
    "        mtx_name = matrix_list[0]\n",
    "        \n",
    "        nr_rows = int(matrix_list[1])\n",
    "        nr_cols = int(matrix_list[2])\n",
    "        \n",
    "        if(len(matrix_list)==7):#random\n",
    "            placement = \"random\"\n",
    "            diagonal_factor = 1\n",
    "        else: #diagonal\n",
    "            placement = \"diagonal\"\n",
    "            diagonal_factor = matrix_list[6]\n",
    "\n",
    "        seed = matrix_list[-1].strip(\"n\").strip(\"g\")\n",
    "        \n",
    "        distr = list(filter(lambda x: x.isalpha(), matrix_list[-1]))[0]\n",
    "        if(distr==\"g\"):\n",
    "            distribution=\"gamma\"\n",
    "        else:\n",
    "            distribution=\"normal\"\n",
    "\n",
    "        nr_nnz = np.asarray(dataframes[0][dataframes[0][\"matrix_name\"]==matrix][\"original NNZs\"])[0]\n",
    "        density = nr_nnz/(nr_rows*nr_cols)*100\n",
    "                \n",
    "        runtime_iter = np.zeros(shape=(n_runs,1))\n",
    "        perf_padded = np.zeros(shape=(n_runs,1))\n",
    "        mem_footprint = np.zeros(shape=(n_runs,1))\n",
    "\n",
    "        for run in range(0,n_runs):\n",
    "            df = dataframes[run]\n",
    "            runtime_iter[run] = np.asarray(df[df[\"matrix_name\"]==matrix][\"time[ms]/run\"])[0]\n",
    "            perf_padded[run] = np.asarray(df[df[\"matrix_name\"]==matrix][\"performance (padded)[GFLOPs]\"])[0]\n",
    "            mem_footprint[run] = np.asarray(df[df[\"matrix_name\"]==matrix][\"mem_footprint[MB]\"])[0]\n",
    "        if(perf_padded[0][0]<0): # why? nobody knows why\n",
    "            continue\n",
    "\n",
    "        runtime_iter_hm = hmean(runtime_iter,axis=0)[0]\n",
    "        perf_padded_hm = hmean(perf_padded,axis=0)[0]\n",
    "        mem_footprint = hmean(mem_footprint,axis=0)[0]\n",
    "        \n",
    "        selected_gen = df_gen[df_gen[\"matrix_name\"]==matrix]\n",
    "        mem_range = np.asarray(selected_gen[\"mem_range\"])[0]\n",
    "        avg_nnz_per_row = np.asarray(selected_gen[\"avg_nnz_per_row\"])[0]\n",
    "        std_nnz_per_row = np.asarray(selected_gen[\"std_nnz_per_row\"])[0]\n",
    "        avg_bw = np.asarray(selected_gen[\"avg_bw\"])[0]\n",
    "        std_bw = np.asarray(selected_gen[\"std_bw\"])[0]\n",
    "        avg_sc = np.asarray(selected_gen[\"avg_sc\"])[0]\n",
    "        std_sc = np.asarray(selected_gen[\"std_sc\"])[0]/nr_cols\n",
    "\n",
    "        W_avg = 33\n",
    "        J_estimated = W_avg*runtime_iter_hm\n",
    "        \n",
    "        line_list = [mtx_name, distribution, placement, diagonal_factor, seed,\n",
    "                     nr_rows, nr_cols, nr_nnz, density, mem_footprint, mem_range,\n",
    "                     avg_nnz_per_row, std_nnz_per_row, \n",
    "                     avg_bw, std_bw, avg_sc, std_sc,\n",
    "                     \"Xilinx_SpMV\", runtime_iter_hm, perf_padded_hm, W_avg, J_estimated\n",
    "                    ]\n",
    "        line = \",\".join(str(x) for x in line_list) + \"\\n\"\n",
    "        results_final.append(line)\n",
    "        \n",
    "    file = open(results_csv,\"w\")\n",
    "    for line in results_final:\n",
    "        file.write(line)\n",
    "    file.close()\n",
    "    print(\"Results for\",len(results_final),\"matrices for\",results_csv.split(\"/\")[-1])\n",
    "\n",
    "    \n",
    "def extract_results_of_distr_memrange(distr_memrange):\n",
    "    start_gen = \"./generation_stats/\"+distr_memrange+\"_log.txt\"\n",
    "    results_gen = \"./generation_stats/\"+distr_memrange+\"_log_CLEAN.txt\"\n",
    "    clean_matrix_generation_log(start_gen, results_gen)\n",
    "\n",
    "    start_list = [\n",
    "        \"./dirty/\"+distr_memrange+\"_run1.txt\",\n",
    "    ]\n",
    "\n",
    "    results_list = [\n",
    "        \"./clean/\"+distr_memrange+\"_run_CLEAN1.txt\",\n",
    "    ]\n",
    "    clean_results(start_list, results_list)\n",
    "\n",
    "    results_csv = \"./results_\"+distr_memrange+\".csv\"\n",
    "    read_results(results_list, results_gen, results_csv)"
   ]
  },
  {
   "cell_type": "code",
   "execution_count": 4,
   "id": "de350c09",
   "metadata": {
    "scrolled": true
   },
   "outputs": [
    {
     "name": "stdout",
     "output_type": "stream",
     "text": [
      "Results for 764 matrices for results_normal_4-8.csv\n",
      "CPU times: user 1.99 s, sys: 22.9 ms, total: 2.01 s\n",
      "Wall time: 2.42 s\n"
     ]
    }
   ],
   "source": [
    "%%time\n",
    "distr_memrange = \"normal_4-8\"\n",
    "extract_results_of_distr_memrange(distr_memrange)"
   ]
  },
  {
   "cell_type": "code",
   "execution_count": 5,
   "id": "2a841fcf",
   "metadata": {},
   "outputs": [
    {
     "name": "stdout",
     "output_type": "stream",
     "text": [
      "Results for 864 matrices for results_normal_8-16.csv\n",
      "CPU times: user 2.28 s, sys: 23.7 ms, total: 2.3 s\n",
      "Wall time: 2.39 s\n"
     ]
    }
   ],
   "source": [
    "%%time\n",
    "distr_memrange = \"normal_8-16\"\n",
    "extract_results_of_distr_memrange(distr_memrange)"
   ]
  },
  {
   "cell_type": "code",
   "execution_count": 6,
   "id": "9eee7122",
   "metadata": {},
   "outputs": [
    {
     "name": "stdout",
     "output_type": "stream",
     "text": [
      "Results for 844 matrices for results_normal_16-32.csv\n",
      "CPU times: user 2.21 s, sys: 3.88 ms, total: 2.22 s\n",
      "Wall time: 2.34 s\n"
     ]
    }
   ],
   "source": [
    "%%time\n",
    "distr_memrange = \"normal_16-32\"\n",
    "extract_results_of_distr_memrange(distr_memrange)"
   ]
  },
  {
   "cell_type": "code",
   "execution_count": 7,
   "id": "d679805b",
   "metadata": {},
   "outputs": [
    {
     "name": "stdout",
     "output_type": "stream",
     "text": [
      "Results for 1212 matrices for results_normal_32-64.csv\n",
      "CPU times: user 3.47 s, sys: 27.4 ms, total: 3.5 s\n",
      "Wall time: 3.83 s\n"
     ]
    }
   ],
   "source": [
    "%%time\n",
    "distr_memrange = \"normal_32-64\"\n",
    "extract_results_of_distr_memrange(distr_memrange)"
   ]
  },
  {
   "cell_type": "code",
   "execution_count": 8,
   "id": "5d19c01d",
   "metadata": {},
   "outputs": [
    {
     "name": "stdout",
     "output_type": "stream",
     "text": [
      "Results for 1232 matrices for results_normal_64-128.csv\n",
      "CPU times: user 3.28 s, sys: 28.2 ms, total: 3.3 s\n",
      "Wall time: 3.66 s\n"
     ]
    }
   ],
   "source": [
    "%%time\n",
    "distr_memrange = \"normal_64-128\"\n",
    "extract_results_of_distr_memrange(distr_memrange)"
   ]
  },
  {
   "cell_type": "code",
   "execution_count": 4,
   "id": "b838b3f6",
   "metadata": {},
   "outputs": [
    {
     "name": "stdout",
     "output_type": "stream",
     "text": [
      "Results for 1118 matrices for results_normal_128-256.csv\n",
      "CPU times: user 2.96 s, sys: 13.4 ms, total: 2.98 s\n",
      "Wall time: 3.22 s\n"
     ]
    }
   ],
   "source": [
    "%%time\n",
    "distr_memrange = \"normal_128-256\"\n",
    "extract_results_of_distr_memrange(distr_memrange)"
   ]
  },
  {
   "cell_type": "code",
   "execution_count": 10,
   "id": "27719938",
   "metadata": {},
   "outputs": [
    {
     "name": "stdout",
     "output_type": "stream",
     "text": [
      "Results for 868 matrices for results_normal_256-512.csv\n",
      "CPU times: user 2.26 s, sys: 23.9 ms, total: 2.29 s\n",
      "Wall time: 2.67 s\n"
     ]
    }
   ],
   "source": [
    "%%time\n",
    "distr_memrange = \"normal_256-512\"\n",
    "extract_results_of_distr_memrange(distr_memrange)"
   ]
  },
  {
   "cell_type": "code",
   "execution_count": 11,
   "id": "bd10bb65",
   "metadata": {},
   "outputs": [
    {
     "name": "stdout",
     "output_type": "stream",
     "text": [
      "Results for 200 matrices for results_normal_512-1024.csv\n",
      "CPU times: user 513 ms, sys: 131 µs, total: 514 ms\n",
      "Wall time: 950 ms\n"
     ]
    }
   ],
   "source": [
    "%%time\n",
    "distr_memrange = \"normal_512-1024\"\n",
    "extract_results_of_distr_memrange(distr_memrange)"
   ]
  },
  {
   "cell_type": "code",
   "execution_count": 12,
   "id": "3582c52b",
   "metadata": {},
   "outputs": [
    {
     "name": "stdout",
     "output_type": "stream",
     "text": [
      "Results for 0 matrices for results_normal_1024-2048.csv\n",
      "CPU times: user 8.91 ms, sys: 0 ns, total: 8.91 ms\n",
      "Wall time: 65 ms\n"
     ]
    }
   ],
   "source": [
    "%%time\n",
    "distr_memrange = \"normal_1024-2048\"\n",
    "extract_results_of_distr_memrange(distr_memrange)"
   ]
  },
  {
   "cell_type": "code",
   "execution_count": 13,
   "id": "17a71bea",
   "metadata": {},
   "outputs": [
    {
     "name": "stdout",
     "output_type": "stream",
     "text": [
      "CPU times: user 2.75 ms, sys: 15.8 ms, total: 18.6 ms\n",
      "Wall time: 714 ms\n"
     ]
    }
   ],
   "source": [
    "%%time\n",
    "distr_base = \"normal\"\n",
    "mem_ranges = [\"4-8\",\"8-16\",\"16-32\",\"32-64\",\"64-128\",\"128-256\",\"256-512\",\"512-1024\",\"1024-2048\"]\n",
    "\n",
    "filenames = [\"results_\"+distr_base+\"_\"+mr+\".csv\" for mr in mem_ranges]\n",
    "\n",
    "with open('../Benchmarks/xilinx_spmv_4-2048_normal_dataset_dtype-D.csv', 'w') as outfile:\n",
    "    for fname in filenames:\n",
    "        with open(fname) as infile:\n",
    "            outfile.write(infile.read())"
   ]
  },
  {
   "cell_type": "markdown",
   "id": "ad491d8a",
   "metadata": {},
   "source": [
    "# all together"
   ]
  },
  {
   "cell_type": "code",
   "execution_count": 14,
   "id": "7b59a9df",
   "metadata": {},
   "outputs": [
    {
     "name": "stdout",
     "output_type": "stream",
     "text": [
      "Results for 764 matrices for results_normal_4-8.csv\n",
      "Results for 864 matrices for results_normal_8-16.csv\n",
      "Results for 844 matrices for results_normal_16-32.csv\n",
      "Results for 1212 matrices for results_normal_32-64.csv\n",
      "Results for 1232 matrices for results_normal_64-128.csv\n",
      "Results for 885 matrices for results_normal_128-256.csv\n",
      "Results for 868 matrices for results_normal_256-512.csv\n",
      "Results for 200 matrices for results_normal_512-1024.csv\n",
      "Results for 0 matrices for results_normal_1024-2048.csv\n",
      "CPU times: user 19.8 s, sys: 176 ms, total: 20 s\n",
      "Wall time: 21.6 s\n"
     ]
    }
   ],
   "source": [
    "%%time\n",
    "\n",
    "distr_base = \"normal\"\n",
    "mem_ranges = [\"4-8\",\"8-16\",\"16-32\",\"32-64\",\"64-128\",\"128-256\",\"256-512\",\"512-1024\",\"1024-2048\"]\n",
    "\n",
    "for mem_range in mem_ranges:\n",
    "    distr_memrange = distr_base + \"_\" + mem_range\n",
    "    extract_results_of_distr_memrange(distr_memrange)\n",
    "\n",
    "filenames = [\"results_\"+distr_base+\"_\"+mr+\".csv\" for mr in mem_ranges]\n",
    "\n",
    "with open('../Benchmarks/xilinx_spmv_4-2048_normal_dataset_dtype-D.csv', 'w') as outfile:\n",
    "    for fname in filenames:\n",
    "        with open(fname) as infile:\n",
    "            outfile.write(infile.read())"
   ]
  },
  {
   "cell_type": "code",
   "execution_count": 5,
   "id": "24fc9841",
   "metadata": {},
   "outputs": [
    {
     "name": "stdout",
     "output_type": "stream",
     "text": [
      "Results for 764 matrices for results_normal_4-8.csv\n",
      "Results for 864 matrices for results_normal_8-16.csv\n",
      "Results for 844 matrices for results_normal_16-32.csv\n",
      "Results for 1212 matrices for results_normal_32-64.csv\n",
      "Results for 1232 matrices for results_normal_64-128.csv\n",
      "Results for 1118 matrices for results_normal_128-256.csv\n",
      "Results for 908 matrices for results_normal_256-512.csv\n",
      "Results for 200 matrices for results_normal_512-1024.csv\n",
      "Results for 0 matrices for results_normal_1024-2048.csv\n",
      "CPU times: user 18.9 s, sys: 143 ms, total: 19 s\n",
      "Wall time: 22.2 s\n"
     ]
    }
   ],
   "source": [
    "%%time\n",
    "\n",
    "distr_base = \"normal\"\n",
    "mem_ranges = [\"4-8\",\"8-16\",\"16-32\",\"32-64\",\"64-128\",\"128-256\",\"256-512\",\"512-1024\",\"1024-2048\"]\n",
    "\n",
    "for mem_range in mem_ranges:\n",
    "    distr_memrange = distr_base + \"_\" + mem_range\n",
    "    extract_results_of_distr_memrange(distr_memrange)\n",
    "\n",
    "filenames = [\"results_\"+distr_base+\"_\"+mr+\".csv\" for mr in mem_ranges]\n",
    "\n",
    "with open('../Benchmarks/xilinx_spmv_4-2048_normal_dataset_dtype-D.csv', 'w') as outfile:\n",
    "    for fname in filenames:\n",
    "        with open(fname) as infile:\n",
    "            outfile.write(infile.read())"
   ]
  },
  {
   "cell_type": "markdown",
   "id": "6cb48292",
   "metadata": {},
   "source": [
    "---"
   ]
  },
  {
   "cell_type": "markdown",
   "id": "5a554adc",
   "metadata": {},
   "source": [
    "---"
   ]
  },
  {
   "cell_type": "code",
   "execution_count": 15,
   "id": "8ba8f7dc",
   "metadata": {},
   "outputs": [],
   "source": [
    "def read_results2(results_list, results_csv):\n",
    "    dataframes = []\n",
    "    for result_file in results_list:\n",
    "        dataframes.append(read_results_single(result_file))\n",
    "    # get matrices sorted by mem_footprint and then begin processing them (so that I do not have to sort them later...)\n",
    "    matrices = dataframes[0][\"matrix_name\"].unique()\n",
    "    # matrices = dataframes[0].groupby([\"matrix name\",\"mem_footprint[MB]\"]).size().reset_index().sort_values(\"mem_footprint[MB]\").reset_index(drop=True)[\"matrix name\"]\n",
    "    \n",
    "    n_runs = len(results_list)\n",
    "    results_final = []\n",
    "    for matrix in matrices:\n",
    "        nr_rows = np.asarray(dataframes[0][dataframes[0][\"matrix_name\"]==matrix][\"original rows\"])[0]\n",
    "        nr_cols = np.asarray(dataframes[0][dataframes[0][\"matrix_name\"]==matrix][\"original cols\"])[0]        \n",
    "        nr_nnz = np.asarray(dataframes[0][dataframes[0][\"matrix_name\"]==matrix][\"original NNZs\"])[0]\n",
    "        density = nr_nnz/(nr_rows*nr_cols)*100\n",
    "        runtime_iter = np.zeros(shape=(n_runs,1))\n",
    "        perf_padded = np.zeros(shape=(n_runs,1))\n",
    "        mem_footprint = np.zeros(shape=(n_runs,1))\n",
    "\n",
    "        for run in range(0,n_runs):\n",
    "            df = dataframes[run]\n",
    "            runtime_iter[run] = np.asarray(df[df[\"matrix_name\"]==matrix][\"time[ms]/run\"])[0]\n",
    "            perf_padded[run] = np.asarray(df[df[\"matrix_name\"]==matrix][\"performance (padded)[GFLOPs]\"])[0]\n",
    "            mem_footprint[run] = np.asarray(df[df[\"matrix_name\"]==matrix][\"mem_footprint[MB]\"])[0]\n",
    "        if(perf_padded[0][0]<0): # why? nobody knows why\n",
    "            continue\n",
    "\n",
    "        runtime_iter_hm = hmean(runtime_iter,axis=0)[0]\n",
    "        perf_padded_hm = hmean(perf_padded,axis=0)[0]\n",
    "        mem_footprint = hmean(mem_footprint,axis=0)[0]\n",
    "\n",
    "        W_avg = 33\n",
    "        J_estimated = W_avg*runtime_iter_hm\n",
    "        \n",
    "        line_list = [matrix, nr_rows, nr_cols, nr_nnz, density, mem_footprint, \n",
    "                     \"Xilinx_SpMV\", runtime_iter_hm, perf_padded_hm, W_avg, J_estimated\n",
    "                    ]\n",
    "        line = \",\".join(str(x) for x in line_list) + \"\\n\"\n",
    "        results_final.append(line)\n",
    "\n",
    "    file = open(results_csv,\"w\")\n",
    "    for line in results_final:\n",
    "        file.write(line)\n",
    "    file.close()"
   ]
  },
  {
   "cell_type": "code",
   "execution_count": 16,
   "id": "88b4b299",
   "metadata": {},
   "outputs": [],
   "source": [
    "start_list = [\n",
    "    \"./dirty/validation_matrices_run1.txt\",\n",
    "]\n",
    "\n",
    "results_list = [\n",
    "    \"./clean/validation_matrices_run1.txt\",\n",
    "]\n",
    "clean_results(start_list, results_list)\n",
    "\n",
    "results_csv = \"./results_validation_matrices.csv\"\n",
    "read_results2(results_list, results_csv)"
   ]
  },
  {
   "cell_type": "markdown",
   "id": "a1a43585",
   "metadata": {},
   "source": [
    "---"
   ]
  },
  {
   "cell_type": "code",
   "execution_count": 5,
   "id": "151f27fc",
   "metadata": {},
   "outputs": [],
   "source": [
    "def clean_progress_log(start_gen, clean_gen):\n",
    "    fw = open(clean_gen,\"w\")\n",
    "    cnt = 0\n",
    "    with open(start_gen) as fp:\n",
    "        for line in fp:\n",
    "            if(  (\"%|\" not in line) and not(line==\"\\n\") ):\n",
    "                fw.write(line)\n",
    "    fw.close()\n",
    "    \n",
    "prefix = \"../artificial_matrix_generation/pmpakos_impl/matrix_generation_parameters/double/rest/progress_\"\n",
    "distr_memrange = \"128-256\"\n",
    "\n",
    "for ID in range(1,7,1):\n",
    "    start_gen = prefix+distr_memrange+\"_\"+str(ID)\n",
    "    if(os.path.exists(start_gen)):\n",
    "        clean_gen = prefix+distr_memrange+\"_\"+str(ID)+\"_clean\"\n",
    "        print(ID)\n",
    "        clean_progress_log(start_gen, clean_gen)"
   ]
  }
 ],
 "metadata": {
  "kernelspec": {
   "display_name": "Python 3",
   "language": "python",
   "name": "python3"
  },
  "language_info": {
   "codemirror_mode": {
    "name": "ipython",
    "version": 3
   },
   "file_extension": ".py",
   "mimetype": "text/x-python",
   "name": "python",
   "nbconvert_exporter": "python",
   "pygments_lexer": "ipython3",
   "version": "3.6.9"
  }
 },
 "nbformat": 4,
 "nbformat_minor": 5
}
